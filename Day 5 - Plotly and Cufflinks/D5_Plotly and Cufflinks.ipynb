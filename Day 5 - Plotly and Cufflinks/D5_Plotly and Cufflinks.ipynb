{
 "cells": [
  {
   "cell_type": "code",
   "execution_count": 17,
   "metadata": {},
   "outputs": [],
   "source": [
    "import pandas as pd\n",
    "import numpy as np\n",
    "%matplotlib inline"
   ]
  },
  {
   "cell_type": "code",
   "execution_count": 2,
   "metadata": {},
   "outputs": [
    {
     "name": "stdout",
     "output_type": "stream",
     "text": [
      "Collecting pip\n",
      "  Using cached https://files.pythonhosted.org/packages/cd/82/04e9aaf603fdbaecb4323b9e723f13c92c245f6ab2902195c53987848c78/pip-21.1.2-py3-none-any.whl\n",
      "Installing collected packages: pip\n",
      "  Found existing installation: pip 10.0.1\n",
      "    Uninstalling pip-10.0.1:\n",
      "      Successfully uninstalled pip-10.0.1\n",
      "Successfully installed pip-21.1.2\n"
     ]
    },
    {
     "name": "stderr",
     "output_type": "stream",
     "text": [
      "distributed 1.21.8 requires msgpack, which is not installed.\n",
      "keras 2.2.2 has requirement keras-applications==1.0.4, but you'll have keras-applications 1.0.6 which is incompatible.\n"
     ]
    }
   ],
   "source": [
    "import sys\n",
    "!{sys.executable} -m pip install --upgrade pip"
   ]
  },
  {
   "cell_type": "code",
   "execution_count": 3,
   "metadata": {},
   "outputs": [
    {
     "name": "stdout",
     "output_type": "stream",
     "text": [
      "Requirement already satisfied: plotly in c:\\users\\training-server\\anaconda3\\lib\\site-packages (4.14.3)\n",
      "Requirement already satisfied: six in c:\\users\\training-server\\anaconda3\\lib\\site-packages (from plotly) (1.11.0)\n",
      "Requirement already satisfied: retrying>=1.3.3 in c:\\users\\training-server\\anaconda3\\lib\\site-packages (from plotly) (1.3.3)\n"
     ]
    }
   ],
   "source": [
    "import sys\n",
    "!{sys.executable} -m pip install plotly"
   ]
  },
  {
   "cell_type": "code",
   "execution_count": 4,
   "metadata": {},
   "outputs": [
    {
     "name": "stdout",
     "output_type": "stream",
     "text": [
      "Requirement already satisfied: cufflinks in c:\\users\\training-server\\anaconda3\\lib\\site-packages (0.17.3)\n",
      "Requirement already satisfied: ipython>=5.3.0 in c:\\users\\training-server\\anaconda3\\lib\\site-packages (from cufflinks) (6.4.0)\n",
      "Requirement already satisfied: numpy>=1.9.2 in c:\\users\\training-server\\anaconda3\\lib\\site-packages (from cufflinks) (1.14.3)\n",
      "Requirement already satisfied: colorlover>=0.2.1 in c:\\users\\training-server\\anaconda3\\lib\\site-packages (from cufflinks) (0.3.0)\n",
      "Requirement already satisfied: plotly>=4.1.1 in c:\\users\\training-server\\anaconda3\\lib\\site-packages (from cufflinks) (4.14.3)\n",
      "Requirement already satisfied: six>=1.9.0 in c:\\users\\training-server\\anaconda3\\lib\\site-packages (from cufflinks) (1.11.0)\n",
      "Requirement already satisfied: setuptools>=34.4.1 in c:\\users\\training-server\\anaconda3\\lib\\site-packages (from cufflinks) (39.1.0)\n",
      "Requirement already satisfied: ipywidgets>=7.0.0 in c:\\users\\training-server\\anaconda3\\lib\\site-packages (from cufflinks) (7.2.1)\n",
      "Requirement already satisfied: pandas>=0.19.2 in c:\\users\\training-server\\anaconda3\\lib\\site-packages (from cufflinks) (0.23.0)\n",
      "Requirement already satisfied: pygments in c:\\users\\training-server\\anaconda3\\lib\\site-packages (from ipython>=5.3.0->cufflinks) (2.2.0)\n",
      "Requirement already satisfied: pickleshare in c:\\users\\training-server\\anaconda3\\lib\\site-packages (from ipython>=5.3.0->cufflinks) (0.7.4)\n",
      "Requirement already satisfied: colorama in c:\\users\\training-server\\anaconda3\\lib\\site-packages (from ipython>=5.3.0->cufflinks) (0.3.9)\n",
      "Requirement already satisfied: jedi>=0.10 in c:\\users\\training-server\\anaconda3\\lib\\site-packages (from ipython>=5.3.0->cufflinks) (0.12.0)\n",
      "Requirement already satisfied: backcall in c:\\users\\training-server\\anaconda3\\lib\\site-packages (from ipython>=5.3.0->cufflinks) (0.1.0)\n",
      "Requirement already satisfied: traitlets>=4.2 in c:\\users\\training-server\\anaconda3\\lib\\site-packages (from ipython>=5.3.0->cufflinks) (4.3.2)\n",
      "Requirement already satisfied: decorator in c:\\users\\training-server\\appdata\\roaming\\python\\python36\\site-packages (from ipython>=5.3.0->cufflinks) (4.3.0)\n",
      "Requirement already satisfied: prompt-toolkit<2.0.0,>=1.0.15 in c:\\users\\training-server\\anaconda3\\lib\\site-packages (from ipython>=5.3.0->cufflinks) (1.0.15)\n",
      "Requirement already satisfied: simplegeneric>0.8 in c:\\users\\training-server\\anaconda3\\lib\\site-packages (from ipython>=5.3.0->cufflinks) (0.8.1)\n",
      "Requirement already satisfied: ipykernel>=4.5.1 in c:\\users\\training-server\\anaconda3\\lib\\site-packages (from ipywidgets>=7.0.0->cufflinks) (4.8.2)\n",
      "Requirement already satisfied: nbformat>=4.2.0 in c:\\users\\training-server\\anaconda3\\lib\\site-packages (from ipywidgets>=7.0.0->cufflinks) (4.4.0)\n",
      "Requirement already satisfied: widgetsnbextension~=3.2.0 in c:\\users\\training-server\\anaconda3\\lib\\site-packages (from ipywidgets>=7.0.0->cufflinks) (3.2.1)\n",
      "Requirement already satisfied: jupyter_client in c:\\users\\training-server\\anaconda3\\lib\\site-packages (from ipykernel>=4.5.1->ipywidgets>=7.0.0->cufflinks) (5.2.3)\n",
      "Requirement already satisfied: tornado>=4.0 in c:\\users\\training-server\\anaconda3\\lib\\site-packages (from ipykernel>=4.5.1->ipywidgets>=7.0.0->cufflinks) (5.0.2)\n",
      "Requirement already satisfied: parso>=0.2.0 in c:\\users\\training-server\\anaconda3\\lib\\site-packages (from jedi>=0.10->ipython>=5.3.0->cufflinks) (0.2.0)\n",
      "Requirement already satisfied: ipython_genutils in c:\\users\\training-server\\anaconda3\\lib\\site-packages (from nbformat>=4.2.0->ipywidgets>=7.0.0->cufflinks) (0.2.0)\n",
      "Requirement already satisfied: jsonschema!=2.5.0,>=2.4 in c:\\users\\training-server\\anaconda3\\lib\\site-packages (from nbformat>=4.2.0->ipywidgets>=7.0.0->cufflinks) (2.6.0)\n",
      "Requirement already satisfied: jupyter_core in c:\\users\\training-server\\anaconda3\\lib\\site-packages (from nbformat>=4.2.0->ipywidgets>=7.0.0->cufflinks) (4.4.0)\n",
      "Requirement already satisfied: python-dateutil>=2.5.0 in c:\\users\\training-server\\anaconda3\\lib\\site-packages (from pandas>=0.19.2->cufflinks) (2.7.3)\n",
      "Requirement already satisfied: pytz>=2011k in c:\\users\\training-server\\anaconda3\\lib\\site-packages (from pandas>=0.19.2->cufflinks) (2018.4)\n",
      "Requirement already satisfied: retrying>=1.3.3 in c:\\users\\training-server\\anaconda3\\lib\\site-packages (from plotly>=4.1.1->cufflinks) (1.3.3)\n",
      "Requirement already satisfied: wcwidth in c:\\users\\training-server\\anaconda3\\lib\\site-packages (from prompt-toolkit<2.0.0,>=1.0.15->ipython>=5.3.0->cufflinks) (0.1.7)\n",
      "Requirement already satisfied: notebook>=4.4.1 in c:\\users\\training-server\\anaconda3\\lib\\site-packages (from widgetsnbextension~=3.2.0->ipywidgets>=7.0.0->cufflinks) (5.5.0)\n",
      "Requirement already satisfied: jinja2 in c:\\users\\training-server\\anaconda3\\lib\\site-packages (from notebook>=4.4.1->widgetsnbextension~=3.2.0->ipywidgets>=7.0.0->cufflinks) (2.10)\n",
      "Requirement already satisfied: terminado>=0.8.1 in c:\\users\\training-server\\anaconda3\\lib\\site-packages (from notebook>=4.4.1->widgetsnbextension~=3.2.0->ipywidgets>=7.0.0->cufflinks) (0.8.1)\n",
      "Requirement already satisfied: pyzmq>=17 in c:\\users\\training-server\\anaconda3\\lib\\site-packages (from notebook>=4.4.1->widgetsnbextension~=3.2.0->ipywidgets>=7.0.0->cufflinks) (17.0.0)\n",
      "Requirement already satisfied: nbconvert in c:\\users\\training-server\\anaconda3\\lib\\site-packages (from notebook>=4.4.1->widgetsnbextension~=3.2.0->ipywidgets>=7.0.0->cufflinks) (5.3.1)\n",
      "Requirement already satisfied: Send2Trash in c:\\users\\training-server\\anaconda3\\lib\\site-packages (from notebook>=4.4.1->widgetsnbextension~=3.2.0->ipywidgets>=7.0.0->cufflinks) (1.5.0)\n",
      "Requirement already satisfied: MarkupSafe>=0.23 in c:\\users\\training-server\\anaconda3\\lib\\site-packages (from jinja2->notebook>=4.4.1->widgetsnbextension~=3.2.0->ipywidgets>=7.0.0->cufflinks) (1.0)\n",
      "Requirement already satisfied: mistune>=0.7.4 in c:\\users\\training-server\\anaconda3\\lib\\site-packages (from nbconvert->notebook>=4.4.1->widgetsnbextension~=3.2.0->ipywidgets>=7.0.0->cufflinks) (0.8.3)\n",
      "Requirement already satisfied: entrypoints>=0.2.2 in c:\\users\\training-server\\anaconda3\\lib\\site-packages (from nbconvert->notebook>=4.4.1->widgetsnbextension~=3.2.0->ipywidgets>=7.0.0->cufflinks) (0.2.3)\n",
      "Requirement already satisfied: bleach in c:\\users\\training-server\\anaconda3\\lib\\site-packages (from nbconvert->notebook>=4.4.1->widgetsnbextension~=3.2.0->ipywidgets>=7.0.0->cufflinks) (2.1.3)\n",
      "Requirement already satisfied: pandocfilters>=1.4.1 in c:\\users\\training-server\\anaconda3\\lib\\site-packages (from nbconvert->notebook>=4.4.1->widgetsnbextension~=3.2.0->ipywidgets>=7.0.0->cufflinks) (1.4.2)\n",
      "Requirement already satisfied: testpath in c:\\users\\training-server\\anaconda3\\lib\\site-packages (from nbconvert->notebook>=4.4.1->widgetsnbextension~=3.2.0->ipywidgets>=7.0.0->cufflinks) (0.3.1)\n",
      "Requirement already satisfied: html5lib!=1.0b1,!=1.0b2,!=1.0b3,!=1.0b4,!=1.0b5,!=1.0b6,!=1.0b7,!=1.0b8,>=0.99999999pre in c:\\users\\training-server\\anaconda3\\lib\\site-packages (from bleach->nbconvert->notebook>=4.4.1->widgetsnbextension~=3.2.0->ipywidgets>=7.0.0->cufflinks) (1.0.1)\n",
      "Requirement already satisfied: webencodings in c:\\users\\training-server\\anaconda3\\lib\\site-packages (from html5lib!=1.0b1,!=1.0b2,!=1.0b3,!=1.0b4,!=1.0b5,!=1.0b6,!=1.0b7,!=1.0b8,>=0.99999999pre->bleach->nbconvert->notebook>=4.4.1->widgetsnbextension~=3.2.0->ipywidgets>=7.0.0->cufflinks) (0.5.1)\n"
     ]
    }
   ],
   "source": [
    "import sys\n",
    "!{sys.executable} -m pip install cufflinks"
   ]
  },
  {
   "cell_type": "code",
   "execution_count": 5,
   "metadata": {},
   "outputs": [
    {
     "name": "stdout",
     "output_type": "stream",
     "text": [
      "Requirement already satisfied: chart-studio in c:\\users\\training-server\\anaconda3\\lib\\site-packages (1.1.0)\n",
      "Requirement already satisfied: requests in c:\\users\\training-server\\anaconda3\\lib\\site-packages (from chart-studio) (2.18.4)\n",
      "Requirement already satisfied: plotly in c:\\users\\training-server\\anaconda3\\lib\\site-packages (from chart-studio) (4.14.3)\n",
      "Requirement already satisfied: six in c:\\users\\training-server\\anaconda3\\lib\\site-packages (from chart-studio) (1.11.0)\n",
      "Requirement already satisfied: retrying>=1.3.3 in c:\\users\\training-server\\anaconda3\\lib\\site-packages (from chart-studio) (1.3.3)\n",
      "Requirement already satisfied: chardet<3.1.0,>=3.0.2 in c:\\users\\training-server\\anaconda3\\lib\\site-packages (from requests->chart-studio) (3.0.4)\n",
      "Requirement already satisfied: idna<2.7,>=2.5 in c:\\users\\training-server\\anaconda3\\lib\\site-packages (from requests->chart-studio) (2.6)\n",
      "Requirement already satisfied: urllib3<1.23,>=1.21.1 in c:\\users\\training-server\\anaconda3\\lib\\site-packages (from requests->chart-studio) (1.22)\n",
      "Requirement already satisfied: certifi>=2017.4.17 in c:\\users\\training-server\\anaconda3\\lib\\site-packages (from requests->chart-studio) (2018.4.16)\n"
     ]
    }
   ],
   "source": [
    "import sys\n",
    "!{sys.executable} -m pip install chart-studio"
   ]
  },
  {
   "cell_type": "code",
   "execution_count": 6,
   "metadata": {},
   "outputs": [],
   "source": [
    "from plotly import __version__"
   ]
  },
  {
   "cell_type": "code",
   "execution_count": 7,
   "metadata": {},
   "outputs": [
    {
     "name": "stdout",
     "output_type": "stream",
     "text": [
      "4.14.3\n"
     ]
    }
   ],
   "source": [
    "print(__version__)"
   ]
  },
  {
   "cell_type": "code",
   "execution_count": 8,
   "metadata": {},
   "outputs": [],
   "source": [
    "import cufflinks as cf"
   ]
  },
  {
   "cell_type": "code",
   "execution_count": 10,
   "metadata": {},
   "outputs": [],
   "source": [
    "from plotly.offline import download_plotlyjs, init_notebook_mode"
   ]
  },
  {
   "cell_type": "code",
   "execution_count": 11,
   "metadata": {},
   "outputs": [
    {
     "data": {
      "text/html": [
       "        <script type=\"text/javascript\">\n",
       "        window.PlotlyConfig = {MathJaxConfig: 'local'};\n",
       "        if (window.MathJax) {MathJax.Hub.Config({SVG: {font: \"STIX-Web\"}});}\n",
       "        if (typeof require !== 'undefined') {\n",
       "        require.undef(\"plotly\");\n",
       "        requirejs.config({\n",
       "            paths: {\n",
       "                'plotly': ['https://cdn.plot.ly/plotly-latest.min']\n",
       "            }\n",
       "        });\n",
       "        require(['plotly'], function(Plotly) {\n",
       "            window._Plotly = Plotly;\n",
       "        });\n",
       "        }\n",
       "        </script>\n",
       "        "
      ]
     },
     "metadata": {},
     "output_type": "display_data"
    }
   ],
   "source": [
    "init_notebook_mode(connected=True)"
   ]
  },
  {
   "cell_type": "code",
   "execution_count": 12,
   "metadata": {},
   "outputs": [
    {
     "data": {
      "text/html": [
       "        <script type=\"text/javascript\">\n",
       "        window.PlotlyConfig = {MathJaxConfig: 'local'};\n",
       "        if (window.MathJax) {MathJax.Hub.Config({SVG: {font: \"STIX-Web\"}});}\n",
       "        if (typeof require !== 'undefined') {\n",
       "        require.undef(\"plotly\");\n",
       "        requirejs.config({\n",
       "            paths: {\n",
       "                'plotly': ['https://cdn.plot.ly/plotly-latest.min']\n",
       "            }\n",
       "        });\n",
       "        require(['plotly'], function(Plotly) {\n",
       "            window._Plotly = Plotly;\n",
       "        });\n",
       "        }\n",
       "        </script>\n",
       "        "
      ]
     },
     "metadata": {},
     "output_type": "display_data"
    }
   ],
   "source": [
    "cf.go_offline() # Allows you to use cufflinks offline"
   ]
  },
  {
   "cell_type": "code",
   "execution_count": 13,
   "metadata": {},
   "outputs": [],
   "source": [
    "# DATA\n",
    "df = pd.DataFrame(np.random.randn(100,4),columns='A B C D'.split())"
   ]
  },
  {
   "cell_type": "code",
   "execution_count": 14,
   "metadata": {},
   "outputs": [
    {
     "data": {
      "text/html": [
       "<div>\n",
       "<style scoped>\n",
       "    .dataframe tbody tr th:only-of-type {\n",
       "        vertical-align: middle;\n",
       "    }\n",
       "\n",
       "    .dataframe tbody tr th {\n",
       "        vertical-align: top;\n",
       "    }\n",
       "\n",
       "    .dataframe thead th {\n",
       "        text-align: right;\n",
       "    }\n",
       "</style>\n",
       "<table border=\"1\" class=\"dataframe\">\n",
       "  <thead>\n",
       "    <tr style=\"text-align: right;\">\n",
       "      <th></th>\n",
       "      <th>A</th>\n",
       "      <th>B</th>\n",
       "      <th>C</th>\n",
       "      <th>D</th>\n",
       "    </tr>\n",
       "  </thead>\n",
       "  <tbody>\n",
       "    <tr>\n",
       "      <th>0</th>\n",
       "      <td>-1.237653</td>\n",
       "      <td>-0.572998</td>\n",
       "      <td>1.480559</td>\n",
       "      <td>-0.746519</td>\n",
       "    </tr>\n",
       "    <tr>\n",
       "      <th>1</th>\n",
       "      <td>0.521031</td>\n",
       "      <td>0.590956</td>\n",
       "      <td>0.006654</td>\n",
       "      <td>-0.984227</td>\n",
       "    </tr>\n",
       "    <tr>\n",
       "      <th>2</th>\n",
       "      <td>-1.025190</td>\n",
       "      <td>-0.647938</td>\n",
       "      <td>-1.328603</td>\n",
       "      <td>0.648487</td>\n",
       "    </tr>\n",
       "    <tr>\n",
       "      <th>3</th>\n",
       "      <td>0.453818</td>\n",
       "      <td>0.506843</td>\n",
       "      <td>-2.354576</td>\n",
       "      <td>-0.206829</td>\n",
       "    </tr>\n",
       "    <tr>\n",
       "      <th>4</th>\n",
       "      <td>2.557902</td>\n",
       "      <td>0.210226</td>\n",
       "      <td>1.031099</td>\n",
       "      <td>-0.597215</td>\n",
       "    </tr>\n",
       "    <tr>\n",
       "      <th>5</th>\n",
       "      <td>-2.311097</td>\n",
       "      <td>-2.035720</td>\n",
       "      <td>1.032123</td>\n",
       "      <td>-0.422040</td>\n",
       "    </tr>\n",
       "    <tr>\n",
       "      <th>6</th>\n",
       "      <td>1.084852</td>\n",
       "      <td>-0.487289</td>\n",
       "      <td>-0.043810</td>\n",
       "      <td>0.418244</td>\n",
       "    </tr>\n",
       "    <tr>\n",
       "      <th>7</th>\n",
       "      <td>0.144209</td>\n",
       "      <td>-0.510054</td>\n",
       "      <td>0.974426</td>\n",
       "      <td>-0.584489</td>\n",
       "    </tr>\n",
       "    <tr>\n",
       "      <th>8</th>\n",
       "      <td>0.876177</td>\n",
       "      <td>1.074686</td>\n",
       "      <td>0.345670</td>\n",
       "      <td>0.400820</td>\n",
       "    </tr>\n",
       "    <tr>\n",
       "      <th>9</th>\n",
       "      <td>-0.559976</td>\n",
       "      <td>-0.034255</td>\n",
       "      <td>0.842352</td>\n",
       "      <td>-1.229032</td>\n",
       "    </tr>\n",
       "    <tr>\n",
       "      <th>10</th>\n",
       "      <td>0.840401</td>\n",
       "      <td>-1.103409</td>\n",
       "      <td>1.433220</td>\n",
       "      <td>-0.707780</td>\n",
       "    </tr>\n",
       "    <tr>\n",
       "      <th>11</th>\n",
       "      <td>0.936049</td>\n",
       "      <td>-0.942789</td>\n",
       "      <td>-0.898088</td>\n",
       "      <td>1.354670</td>\n",
       "    </tr>\n",
       "    <tr>\n",
       "      <th>12</th>\n",
       "      <td>-1.215946</td>\n",
       "      <td>-0.097982</td>\n",
       "      <td>1.614762</td>\n",
       "      <td>-0.454214</td>\n",
       "    </tr>\n",
       "    <tr>\n",
       "      <th>13</th>\n",
       "      <td>0.432347</td>\n",
       "      <td>-0.754719</td>\n",
       "      <td>0.219195</td>\n",
       "      <td>0.928654</td>\n",
       "    </tr>\n",
       "    <tr>\n",
       "      <th>14</th>\n",
       "      <td>1.487528</td>\n",
       "      <td>0.569585</td>\n",
       "      <td>-1.055930</td>\n",
       "      <td>0.720459</td>\n",
       "    </tr>\n",
       "    <tr>\n",
       "      <th>15</th>\n",
       "      <td>-1.810448</td>\n",
       "      <td>0.181441</td>\n",
       "      <td>0.183546</td>\n",
       "      <td>-0.115131</td>\n",
       "    </tr>\n",
       "    <tr>\n",
       "      <th>16</th>\n",
       "      <td>0.742204</td>\n",
       "      <td>0.675543</td>\n",
       "      <td>0.429960</td>\n",
       "      <td>1.785899</td>\n",
       "    </tr>\n",
       "    <tr>\n",
       "      <th>17</th>\n",
       "      <td>2.229321</td>\n",
       "      <td>1.690811</td>\n",
       "      <td>0.471533</td>\n",
       "      <td>0.533129</td>\n",
       "    </tr>\n",
       "    <tr>\n",
       "      <th>18</th>\n",
       "      <td>0.156325</td>\n",
       "      <td>-0.037085</td>\n",
       "      <td>0.224334</td>\n",
       "      <td>-0.904327</td>\n",
       "    </tr>\n",
       "    <tr>\n",
       "      <th>19</th>\n",
       "      <td>0.408104</td>\n",
       "      <td>0.509324</td>\n",
       "      <td>-0.170193</td>\n",
       "      <td>-0.176646</td>\n",
       "    </tr>\n",
       "    <tr>\n",
       "      <th>20</th>\n",
       "      <td>0.024748</td>\n",
       "      <td>0.430937</td>\n",
       "      <td>0.014446</td>\n",
       "      <td>-0.179255</td>\n",
       "    </tr>\n",
       "    <tr>\n",
       "      <th>21</th>\n",
       "      <td>-0.727628</td>\n",
       "      <td>1.060389</td>\n",
       "      <td>2.330175</td>\n",
       "      <td>-1.659663</td>\n",
       "    </tr>\n",
       "    <tr>\n",
       "      <th>22</th>\n",
       "      <td>-0.313983</td>\n",
       "      <td>0.960085</td>\n",
       "      <td>-0.216095</td>\n",
       "      <td>1.151024</td>\n",
       "    </tr>\n",
       "    <tr>\n",
       "      <th>23</th>\n",
       "      <td>1.741591</td>\n",
       "      <td>0.411389</td>\n",
       "      <td>-0.520425</td>\n",
       "      <td>0.777867</td>\n",
       "    </tr>\n",
       "    <tr>\n",
       "      <th>24</th>\n",
       "      <td>1.113901</td>\n",
       "      <td>0.354299</td>\n",
       "      <td>1.208235</td>\n",
       "      <td>-0.775867</td>\n",
       "    </tr>\n",
       "    <tr>\n",
       "      <th>25</th>\n",
       "      <td>-1.747809</td>\n",
       "      <td>0.379312</td>\n",
       "      <td>-1.919560</td>\n",
       "      <td>0.425535</td>\n",
       "    </tr>\n",
       "    <tr>\n",
       "      <th>26</th>\n",
       "      <td>0.814075</td>\n",
       "      <td>-0.324294</td>\n",
       "      <td>1.394588</td>\n",
       "      <td>1.031283</td>\n",
       "    </tr>\n",
       "    <tr>\n",
       "      <th>27</th>\n",
       "      <td>1.118420</td>\n",
       "      <td>-0.372049</td>\n",
       "      <td>1.308120</td>\n",
       "      <td>0.129351</td>\n",
       "    </tr>\n",
       "    <tr>\n",
       "      <th>28</th>\n",
       "      <td>0.116437</td>\n",
       "      <td>0.287006</td>\n",
       "      <td>1.223411</td>\n",
       "      <td>0.444589</td>\n",
       "    </tr>\n",
       "    <tr>\n",
       "      <th>29</th>\n",
       "      <td>0.241398</td>\n",
       "      <td>-0.481480</td>\n",
       "      <td>-0.683566</td>\n",
       "      <td>0.670611</td>\n",
       "    </tr>\n",
       "    <tr>\n",
       "      <th>...</th>\n",
       "      <td>...</td>\n",
       "      <td>...</td>\n",
       "      <td>...</td>\n",
       "      <td>...</td>\n",
       "    </tr>\n",
       "    <tr>\n",
       "      <th>70</th>\n",
       "      <td>0.500858</td>\n",
       "      <td>-0.664266</td>\n",
       "      <td>1.989564</td>\n",
       "      <td>-0.023654</td>\n",
       "    </tr>\n",
       "    <tr>\n",
       "      <th>71</th>\n",
       "      <td>-0.343855</td>\n",
       "      <td>-0.441641</td>\n",
       "      <td>-0.338073</td>\n",
       "      <td>0.506168</td>\n",
       "    </tr>\n",
       "    <tr>\n",
       "      <th>72</th>\n",
       "      <td>-1.496632</td>\n",
       "      <td>0.637209</td>\n",
       "      <td>-0.560556</td>\n",
       "      <td>1.367505</td>\n",
       "    </tr>\n",
       "    <tr>\n",
       "      <th>73</th>\n",
       "      <td>-1.019653</td>\n",
       "      <td>-0.258930</td>\n",
       "      <td>0.628156</td>\n",
       "      <td>-0.386064</td>\n",
       "    </tr>\n",
       "    <tr>\n",
       "      <th>74</th>\n",
       "      <td>1.788125</td>\n",
       "      <td>1.089435</td>\n",
       "      <td>-0.718498</td>\n",
       "      <td>-1.056853</td>\n",
       "    </tr>\n",
       "    <tr>\n",
       "      <th>75</th>\n",
       "      <td>-1.082247</td>\n",
       "      <td>0.264219</td>\n",
       "      <td>-0.650977</td>\n",
       "      <td>0.954440</td>\n",
       "    </tr>\n",
       "    <tr>\n",
       "      <th>76</th>\n",
       "      <td>0.980559</td>\n",
       "      <td>-1.117973</td>\n",
       "      <td>2.087731</td>\n",
       "      <td>-1.649755</td>\n",
       "    </tr>\n",
       "    <tr>\n",
       "      <th>77</th>\n",
       "      <td>2.237430</td>\n",
       "      <td>0.772942</td>\n",
       "      <td>-0.925971</td>\n",
       "      <td>1.775020</td>\n",
       "    </tr>\n",
       "    <tr>\n",
       "      <th>78</th>\n",
       "      <td>0.212975</td>\n",
       "      <td>-0.619853</td>\n",
       "      <td>0.043337</td>\n",
       "      <td>1.341971</td>\n",
       "    </tr>\n",
       "    <tr>\n",
       "      <th>79</th>\n",
       "      <td>0.687673</td>\n",
       "      <td>-0.170201</td>\n",
       "      <td>0.011996</td>\n",
       "      <td>0.260766</td>\n",
       "    </tr>\n",
       "    <tr>\n",
       "      <th>80</th>\n",
       "      <td>0.734028</td>\n",
       "      <td>0.934108</td>\n",
       "      <td>-1.680750</td>\n",
       "      <td>0.307922</td>\n",
       "    </tr>\n",
       "    <tr>\n",
       "      <th>81</th>\n",
       "      <td>-0.441154</td>\n",
       "      <td>0.241172</td>\n",
       "      <td>-1.246589</td>\n",
       "      <td>0.799497</td>\n",
       "    </tr>\n",
       "    <tr>\n",
       "      <th>82</th>\n",
       "      <td>-0.632210</td>\n",
       "      <td>-0.700563</td>\n",
       "      <td>-0.320074</td>\n",
       "      <td>-0.400584</td>\n",
       "    </tr>\n",
       "    <tr>\n",
       "      <th>83</th>\n",
       "      <td>0.824005</td>\n",
       "      <td>0.658248</td>\n",
       "      <td>0.308979</td>\n",
       "      <td>0.404117</td>\n",
       "    </tr>\n",
       "    <tr>\n",
       "      <th>84</th>\n",
       "      <td>-0.001285</td>\n",
       "      <td>-0.071621</td>\n",
       "      <td>1.017283</td>\n",
       "      <td>1.001714</td>\n",
       "    </tr>\n",
       "    <tr>\n",
       "      <th>85</th>\n",
       "      <td>0.446606</td>\n",
       "      <td>1.570615</td>\n",
       "      <td>1.547211</td>\n",
       "      <td>0.075941</td>\n",
       "    </tr>\n",
       "    <tr>\n",
       "      <th>86</th>\n",
       "      <td>-0.323166</td>\n",
       "      <td>-0.649796</td>\n",
       "      <td>-0.019708</td>\n",
       "      <td>0.283850</td>\n",
       "    </tr>\n",
       "    <tr>\n",
       "      <th>87</th>\n",
       "      <td>-0.334115</td>\n",
       "      <td>0.542350</td>\n",
       "      <td>-0.159259</td>\n",
       "      <td>0.346348</td>\n",
       "    </tr>\n",
       "    <tr>\n",
       "      <th>88</th>\n",
       "      <td>0.353841</td>\n",
       "      <td>0.937029</td>\n",
       "      <td>0.522738</td>\n",
       "      <td>-0.287505</td>\n",
       "    </tr>\n",
       "    <tr>\n",
       "      <th>89</th>\n",
       "      <td>-0.022912</td>\n",
       "      <td>-0.730853</td>\n",
       "      <td>1.170606</td>\n",
       "      <td>-0.994045</td>\n",
       "    </tr>\n",
       "    <tr>\n",
       "      <th>90</th>\n",
       "      <td>0.570481</td>\n",
       "      <td>1.508056</td>\n",
       "      <td>0.958192</td>\n",
       "      <td>0.514886</td>\n",
       "    </tr>\n",
       "    <tr>\n",
       "      <th>91</th>\n",
       "      <td>1.978950</td>\n",
       "      <td>0.993602</td>\n",
       "      <td>-0.752290</td>\n",
       "      <td>0.204689</td>\n",
       "    </tr>\n",
       "    <tr>\n",
       "      <th>92</th>\n",
       "      <td>-1.104323</td>\n",
       "      <td>-1.826054</td>\n",
       "      <td>-0.112084</td>\n",
       "      <td>-0.088176</td>\n",
       "    </tr>\n",
       "    <tr>\n",
       "      <th>93</th>\n",
       "      <td>1.244332</td>\n",
       "      <td>0.489242</td>\n",
       "      <td>-0.964302</td>\n",
       "      <td>0.289647</td>\n",
       "    </tr>\n",
       "    <tr>\n",
       "      <th>94</th>\n",
       "      <td>0.477761</td>\n",
       "      <td>0.904346</td>\n",
       "      <td>-0.718757</td>\n",
       "      <td>0.011509</td>\n",
       "    </tr>\n",
       "    <tr>\n",
       "      <th>95</th>\n",
       "      <td>-0.794434</td>\n",
       "      <td>0.830543</td>\n",
       "      <td>-0.866078</td>\n",
       "      <td>-0.333474</td>\n",
       "    </tr>\n",
       "    <tr>\n",
       "      <th>96</th>\n",
       "      <td>1.353594</td>\n",
       "      <td>-1.258982</td>\n",
       "      <td>0.748671</td>\n",
       "      <td>-1.069055</td>\n",
       "    </tr>\n",
       "    <tr>\n",
       "      <th>97</th>\n",
       "      <td>-0.503173</td>\n",
       "      <td>-0.714953</td>\n",
       "      <td>-0.677076</td>\n",
       "      <td>-0.634899</td>\n",
       "    </tr>\n",
       "    <tr>\n",
       "      <th>98</th>\n",
       "      <td>-0.041697</td>\n",
       "      <td>-1.806426</td>\n",
       "      <td>-0.039845</td>\n",
       "      <td>0.581528</td>\n",
       "    </tr>\n",
       "    <tr>\n",
       "      <th>99</th>\n",
       "      <td>0.961883</td>\n",
       "      <td>-0.244791</td>\n",
       "      <td>1.765883</td>\n",
       "      <td>-0.353846</td>\n",
       "    </tr>\n",
       "  </tbody>\n",
       "</table>\n",
       "<p>100 rows × 4 columns</p>\n",
       "</div>"
      ],
      "text/plain": [
       "           A         B         C         D\n",
       "0  -1.237653 -0.572998  1.480559 -0.746519\n",
       "1   0.521031  0.590956  0.006654 -0.984227\n",
       "2  -1.025190 -0.647938 -1.328603  0.648487\n",
       "3   0.453818  0.506843 -2.354576 -0.206829\n",
       "4   2.557902  0.210226  1.031099 -0.597215\n",
       "5  -2.311097 -2.035720  1.032123 -0.422040\n",
       "6   1.084852 -0.487289 -0.043810  0.418244\n",
       "7   0.144209 -0.510054  0.974426 -0.584489\n",
       "8   0.876177  1.074686  0.345670  0.400820\n",
       "9  -0.559976 -0.034255  0.842352 -1.229032\n",
       "10  0.840401 -1.103409  1.433220 -0.707780\n",
       "11  0.936049 -0.942789 -0.898088  1.354670\n",
       "12 -1.215946 -0.097982  1.614762 -0.454214\n",
       "13  0.432347 -0.754719  0.219195  0.928654\n",
       "14  1.487528  0.569585 -1.055930  0.720459\n",
       "15 -1.810448  0.181441  0.183546 -0.115131\n",
       "16  0.742204  0.675543  0.429960  1.785899\n",
       "17  2.229321  1.690811  0.471533  0.533129\n",
       "18  0.156325 -0.037085  0.224334 -0.904327\n",
       "19  0.408104  0.509324 -0.170193 -0.176646\n",
       "20  0.024748  0.430937  0.014446 -0.179255\n",
       "21 -0.727628  1.060389  2.330175 -1.659663\n",
       "22 -0.313983  0.960085 -0.216095  1.151024\n",
       "23  1.741591  0.411389 -0.520425  0.777867\n",
       "24  1.113901  0.354299  1.208235 -0.775867\n",
       "25 -1.747809  0.379312 -1.919560  0.425535\n",
       "26  0.814075 -0.324294  1.394588  1.031283\n",
       "27  1.118420 -0.372049  1.308120  0.129351\n",
       "28  0.116437  0.287006  1.223411  0.444589\n",
       "29  0.241398 -0.481480 -0.683566  0.670611\n",
       "..       ...       ...       ...       ...\n",
       "70  0.500858 -0.664266  1.989564 -0.023654\n",
       "71 -0.343855 -0.441641 -0.338073  0.506168\n",
       "72 -1.496632  0.637209 -0.560556  1.367505\n",
       "73 -1.019653 -0.258930  0.628156 -0.386064\n",
       "74  1.788125  1.089435 -0.718498 -1.056853\n",
       "75 -1.082247  0.264219 -0.650977  0.954440\n",
       "76  0.980559 -1.117973  2.087731 -1.649755\n",
       "77  2.237430  0.772942 -0.925971  1.775020\n",
       "78  0.212975 -0.619853  0.043337  1.341971\n",
       "79  0.687673 -0.170201  0.011996  0.260766\n",
       "80  0.734028  0.934108 -1.680750  0.307922\n",
       "81 -0.441154  0.241172 -1.246589  0.799497\n",
       "82 -0.632210 -0.700563 -0.320074 -0.400584\n",
       "83  0.824005  0.658248  0.308979  0.404117\n",
       "84 -0.001285 -0.071621  1.017283  1.001714\n",
       "85  0.446606  1.570615  1.547211  0.075941\n",
       "86 -0.323166 -0.649796 -0.019708  0.283850\n",
       "87 -0.334115  0.542350 -0.159259  0.346348\n",
       "88  0.353841  0.937029  0.522738 -0.287505\n",
       "89 -0.022912 -0.730853  1.170606 -0.994045\n",
       "90  0.570481  1.508056  0.958192  0.514886\n",
       "91  1.978950  0.993602 -0.752290  0.204689\n",
       "92 -1.104323 -1.826054 -0.112084 -0.088176\n",
       "93  1.244332  0.489242 -0.964302  0.289647\n",
       "94  0.477761  0.904346 -0.718757  0.011509\n",
       "95 -0.794434  0.830543 -0.866078 -0.333474\n",
       "96  1.353594 -1.258982  0.748671 -1.069055\n",
       "97 -0.503173 -0.714953 -0.677076 -0.634899\n",
       "98 -0.041697 -1.806426 -0.039845  0.581528\n",
       "99  0.961883 -0.244791  1.765883 -0.353846\n",
       "\n",
       "[100 rows x 4 columns]"
      ]
     },
     "execution_count": 14,
     "metadata": {},
     "output_type": "execute_result"
    }
   ],
   "source": [
    "df"
   ]
  },
  {
   "cell_type": "code",
   "execution_count": 15,
   "metadata": {},
   "outputs": [],
   "source": [
    "df2 = pd.DataFrame({'Category':['A','B','C'], 'Values':[32,43,50]})"
   ]
  },
  {
   "cell_type": "code",
   "execution_count": 16,
   "metadata": {},
   "outputs": [
    {
     "data": {
      "text/html": [
       "<div>\n",
       "<style scoped>\n",
       "    .dataframe tbody tr th:only-of-type {\n",
       "        vertical-align: middle;\n",
       "    }\n",
       "\n",
       "    .dataframe tbody tr th {\n",
       "        vertical-align: top;\n",
       "    }\n",
       "\n",
       "    .dataframe thead th {\n",
       "        text-align: right;\n",
       "    }\n",
       "</style>\n",
       "<table border=\"1\" class=\"dataframe\">\n",
       "  <thead>\n",
       "    <tr style=\"text-align: right;\">\n",
       "      <th></th>\n",
       "      <th>Category</th>\n",
       "      <th>Values</th>\n",
       "    </tr>\n",
       "  </thead>\n",
       "  <tbody>\n",
       "    <tr>\n",
       "      <th>0</th>\n",
       "      <td>A</td>\n",
       "      <td>32</td>\n",
       "    </tr>\n",
       "    <tr>\n",
       "      <th>1</th>\n",
       "      <td>B</td>\n",
       "      <td>43</td>\n",
       "    </tr>\n",
       "    <tr>\n",
       "      <th>2</th>\n",
       "      <td>C</td>\n",
       "      <td>50</td>\n",
       "    </tr>\n",
       "  </tbody>\n",
       "</table>\n",
       "</div>"
      ],
      "text/plain": [
       "  Category  Values\n",
       "0        A      32\n",
       "1        B      43\n",
       "2        C      50"
      ]
     },
     "execution_count": 16,
     "metadata": {},
     "output_type": "execute_result"
    }
   ],
   "source": [
    "df2"
   ]
  },
  {
   "cell_type": "code",
   "execution_count": 18,
   "metadata": {},
   "outputs": [
    {
     "data": {
      "text/plain": [
       "<matplotlib.axes._subplots.AxesSubplot at 0x191a2534a58>"
      ]
     },
     "execution_count": 18,
     "metadata": {},
     "output_type": "execute_result"
    },
    {
     "data": {
      "image/png": "[encoded data removed]",
      "text/plain": [
       "<Figure size 432x288 with 1 Axes>"
      ]
     },
     "metadata": {},
     "output_type": "display_data"
    }
   ],
   "source": [
    "df.plot()"
   ]
  },
  {
   "cell_type": "code",
   "execution_count": 19,
   "metadata": {},
   "outputs": [
    {
     "data": {
      "application/vnd.plotly.v1+json": {
       "config": {
        "linkText": "Export to plot.ly",
        "plotlyServerURL": "https://plot.ly",
        "showLink": true
       },
       "data": [
        {
         "line": {
          "color": "rgba(255, 153, 51, 1.0)",
          "dash": "solid",
          "shape": "linear",
          "width": 1.3
         },
         "mode": "lines",
         "name": "A",
         "text": "",
         "type": "scatter",
         "x": [
          0,
          1,
          2,
          3,
          4,
          5,
          6,
          7,
          8,
          9,
          10,
          11,
          12,
          13,
          14,
          15,
          16,
          17,
          18,
          19,
          20,
          21,
          22,
          23,
          24,
          25,
          26,
          27,
          28,
          29,
          30,
          31,
          32,
          33,
          34,
          35,
          36,
          37,
          38,
          39,
          40,
          41,
          42,
          43,
          44,
          45,
          46,
          47,
          48,
          49,
          50,
          51,
          52,
          53,
          54,
          55,
          56,
          57,
          58,
          59,
          60,
          61,
          62,
          63,
          64,
          65,
          66,
          67,
          68,
          69,
          70,
          71,
          72,
          73,
          74,
          75,
          76,
          77,
          78,
          79,
          80,
          81,
          82,
          83,
          84,
          85,
          86,
          87,
          88,
          89,
          90,
          91,
          92,
          93,
          94,
          95,
          96,
          97,
          98,
          99
         ],
         "y": [
          -1.2376533429297487,
          0.5210312381862134,
          -1.0251899876913395,
          0.45381839892015724,
          2.5579020873643423,
          -2.311096877009032,
          1.0848519410157036,
          0.14420890327050329,
          0.8761771802727409,
          -0.5599756647759724,
          0.8404008962563776,
          0.9360487734843175,
          -1.2159463914906068,
          0.4323468127108094,
          1.4875276747986366,
          -1.8104483053725908,
          0.7422040304205689,
          2.2293211252216603,
          0.15632546876214123,
          0.4081041805918467,
          0.024748436909957674,
          -0.727628179660839,
          -0.3139827530211364,
          1.7415908205376824,
          1.113900769384104,
          -1.7478092023943117,
          0.8140754057060445,
          1.1184203301949367,
          0.11643679130544002,
          0.2413981464536677,
          -1.8981945923166192,
          0.7814782558065474,
          0.12346431470248988,
          -0.5888166641853814,
          0.5638242182369565,
          -0.04966892567279881,
          -0.8730779045718278,
          0.9937635926043222,
          -0.3111311960754491,
          -1.2704479991052302,
          0.6145906380641518,
          -2.1080663744544688,
          1.162745468298509,
          -0.40269202904722307,
          0.9816818315776701,
          1.2766727602932417,
          -1.1441699855454301,
          -1.4095882123449281,
          1.3445230473814531,
          0.983685841697918,
          -0.4764813243223706,
          0.34186207479032177,
          -1.3617951618631923,
          -0.5731448087586377,
          1.6229372931953945,
          -1.8760222194164973,
          0.2696419215276941,
          1.4759084603076527,
          1.2932437655688576,
          0.14905939922683087,
          1.1274399726091413,
          1.6653660922881228,
          0.9404296495750097,
          1.1505947887788583,
          -1.7013903166322464,
          -0.3128888538704009,
          -2.143472785599862,
          -0.5117941385029973,
          0.9973449715984799,
          -1.28127634682668,
          0.5008584141197462,
          -0.3438551379470671,
          -1.496632229824434,
          -1.0196525699126524,
          1.788124743162996,
          -1.0822473860519988,
          0.9805588328233438,
          2.23743047144731,
          0.2129752042080661,
          0.6876725100251737,
          0.7340280290562036,
          -0.44115399131713307,
          -0.6322101548325217,
          0.8240049645002243,
          -0.0012853927734924836,
          0.44660590623353075,
          -0.3231659858707658,
          -0.33411455762785336,
          0.353841423946161,
          -0.022911915151177333,
          0.5704806182719827,
          1.9789498254742628,
          -1.1043229788804343,
          1.2443321962668799,
          0.4777611949867243,
          -0.7944342954051479,
          1.3535937388032435,
          -0.5031726594973573,
          -0.041696531493813985,
          0.9618825324128459
         ]
        },
        {
         "line": {
          "color": "rgba(55, 128, 191, 1.0)",
          "dash": "solid",
          "shape": "linear",
          "width": 1.3
         },
         "mode": "lines",
         "name": "B",
         "text": "",
         "type": "scatter",
         "x": [
          0,
          1,
          2,
          3,
          4,
          5,
          6,
          7,
          8,
          9,
          10,
          11,
          12,
          13,
          14,
          15,
          16,
          17,
          18,
          19,
          20,
          21,
          22,
          23,
          24,
          25,
          26,
          27,
          28,
          29,
          30,
          31,
          32,
          33,
          34,
          35,
          36,
          37,
          38,
          39,
          40,
          41,
          42,
          43,
          44,
          45,
          46,
          47,
          48,
          49,
          50,
          51,
          52,
          53,
          54,
          55,
          56,
          57,
          58,
          59,
          60,
          61,
          62,
          63,
          64,
          65,
          66,
          67,
          68,
          69,
          70,
          71,
          72,
          73,
          74,
          75,
          76,
          77,
          78,
          79,
          80,
          81,
          82,
          83,
          84,
          85,
          86,
          87,
          88,
          89,
          90,
          91,
          92,
          93,
          94,
          95,
          96,
          97,
          98,
          99
         ],
         "y": [
          -0.5729984879969171,
          0.5909561009580857,
          -0.6479381979401543,
          0.5068431621784943,
          0.21022581680114724,
          -2.035720176553049,
          -0.48728930433915413,
          -0.5100542298446442,
          1.0746855013944174,
          -0.03425512643487298,
          -1.1034087514016049,
          -0.942789188319332,
          -0.09798209414877965,
          -0.75471906104679,
          0.5695846791296407,
          0.18144063049261203,
          0.6755433055426926,
          1.6908113005091172,
          -0.037085297150455485,
          0.5093238182228775,
          0.4309374328017403,
          1.0603891419114981,
          0.9600849278946542,
          0.41138880181158965,
          0.3542988098231076,
          0.3793117072240972,
          -0.32429385709622316,
          -0.3720488190049271,
          0.28700601889218225,
          -0.4814804689597724,
          0.32292724413314056,
          1.3750481693772498,
          0.375806837908601,
          1.0204153020741686,
          0.5372488436715573,
          0.1630362622470754,
          -0.37128401061293204,
          0.18189386623342524,
          1.5443816284277438,
          -0.5700477904708945,
          1.7413818905636158,
          -1.197416653079403,
          0.25236922063720735,
          -0.8937094378007724,
          2.7781482520757224,
          -0.08022663678328085,
          1.2403860792115906,
          -0.013828930370441302,
          -0.9348967567711488,
          -2.225144487840825,
          -1.2693652149536099,
          1.8614425597359745,
          0.2543178484847704,
          -0.9356797873206968,
          -1.823825627965515,
          -1.1714380378971925,
          -0.480426448575434,
          -0.20624266781744877,
          0.339482324534446,
          1.097677022740831,
          -0.5102593440109845,
          -0.20183972656712482,
          -0.8960494374584044,
          -0.5924532644882401,
          -0.646345965309449,
          1.4286394367280775,
          1.6501845360404976,
          0.511791608963945,
          0.4393596006137443,
          0.5725738313781439,
          -0.664265767438522,
          -0.44164130103306365,
          0.6372090453689565,
          -0.2589300158280436,
          1.0894350623522444,
          0.26421945331926805,
          -1.1179733849258793,
          0.7729424625201243,
          -0.6198532415959194,
          -0.17020060359782097,
          0.9341080928874868,
          0.24117249940352037,
          -0.7005627582569318,
          0.6582479238215062,
          -0.0716208850768693,
          1.5706154364823148,
          -0.6497956569183799,
          0.5423497355086795,
          0.9370286417621064,
          -0.7308532701982378,
          1.508055847158207,
          0.9936015984705164,
          -1.8260543146320227,
          0.4892420488884562,
          0.9043459424350315,
          0.8305425725610729,
          -1.2589823642833216,
          -0.7149533393533173,
          -1.806426117331394,
          -0.2447907667589656
         ]
        },
        {
         "line": {
          "color": "rgba(50, 171, 96, 1.0)",
          "dash": "solid",
          "shape": "linear",
          "width": 1.3
         },
         "mode": "lines",
         "name": "C",
         "text": "",
         "type": "scatter",
         "x": [
          0,
          1,
          2,
          3,
          4,
          5,
          6,
          7,
          8,
          9,
          10,
          11,
          12,
          13,
          14,
          15,
          16,
          17,
          18,
          19,
          20,
          21,
          22,
          23,
          24,
          25,
          26,
          27,
          28,
          29,
          30,
          31,
          32,
          33,
          34,
          35,
          36,
          37,
          38,
          39,
          40,
          41,
          42,
          43,
          44,
          45,
          46,
          47,
          48,
          49,
          50,
          51,
          52,
          53,
          54,
          55,
          56,
          57,
          58,
          59,
          60,
          61,
          62,
          63,
          64,
          65,
          66,
          67,
          68,
          69,
          70,
          71,
          72,
          73,
          74,
          75,
          76,
          77,
          78,
          79,
          80,
          81,
          82,
          83,
          84,
          85,
          86,
          87,
          88,
          89,
          90,
          91,
          92,
          93,
          94,
          95,
          96,
          97,
          98,
          99
         ],
         "y": [
          1.4805592905566027,
          0.0066543752263027965,
          -1.3286028101500782,
          -2.3545755391924437,
          1.0310993600795264,
          1.032122832624549,
          -0.043810011026179915,
          0.9744256797617555,
          0.3456701049094342,
          0.8423521574656975,
          1.433220309184025,
          -0.8980879999871899,
          1.6147623452853943,
          0.21919544300404417,
          -1.0559302345773947,
          0.18354579636522608,
          0.4299599738630787,
          0.4715327089955329,
          0.22433403322092066,
          -0.1701929738564229,
          0.014445856319818946,
          2.330175451886577,
          -0.21609523736867256,
          -0.5204245761177559,
          1.2082347022559903,
          -1.9195601523736994,
          1.3945880077314747,
          1.3081201387075758,
          1.2234110953628672,
          -0.6835661797158156,
          0.0665570043084234,
          1.0391744555533386,
          -0.3358626496463016,
          -2.185520038306416,
          0.9697458944052152,
          -0.8256122474871528,
          -2.4315010329769726,
          1.0364397277397897,
          -1.0601026987022133,
          0.47461708144820974,
          -0.07149729774693611,
          -0.03623067332832536,
          -0.7925689358905943,
          0.05446988307968215,
          -1.1232572898508344,
          0.1025333397910067,
          0.9380580646398775,
          -0.5008529310749313,
          0.22070963370902066,
          -0.17260854167125553,
          0.14513281589032356,
          1.0009115797078916,
          1.0767085963140584,
          1.8619219678301797,
          0.6927059967250869,
          1.5260330868510448,
          -0.7159896247720254,
          -0.05972059734144692,
          -0.034738381460860064,
          0.769509319574557,
          0.09664500047496385,
          0.17691284017859255,
          0.2913380396549778,
          3.2442405594833392,
          0.09229706541266704,
          -0.03546257696022987,
          -0.34938427700628666,
          0.6033569176275102,
          1.2475798627255554,
          0.5001313031532152,
          1.9895642597593513,
          -0.33807292400636046,
          -0.5605564204639819,
          0.6281556155426765,
          -0.7184976978868656,
          -0.650976788040386,
          2.0877308714443354,
          -0.9259708427825195,
          0.04333748186656094,
          0.01199626365732882,
          -1.6807498936986958,
          -1.2465891925629309,
          -0.32007399184732765,
          0.308979007976214,
          1.0172825217514485,
          1.5472109178965658,
          -0.01970792241666245,
          -0.15925885259453754,
          0.5227382852124725,
          1.1706056583762108,
          0.9581916124363626,
          -0.7522895783907171,
          -0.11208433456448406,
          -0.9643018419154822,
          -0.718757066862075,
          -0.8660784391536188,
          0.7486710459601194,
          -0.6770755304839471,
          -0.0398451971157505,
          1.7658834584065866
         ]
        },
        {
         "line": {
          "color": "rgba(128, 0, 128, 1.0)",
          "dash": "solid",
          "shape": "linear",
          "width": 1.3
         },
         "mode": "lines",
         "name": "D",
         "text": "",
         "type": "scatter",
         "x": [
          0,
          1,
          2,
          3,
          4,
          5,
          6,
          7,
          8,
          9,
          10,
          11,
          12,
          13,
          14,
          15,
          16,
          17,
          18,
          19,
          20,
          21,
          22,
          23,
          24,
          25,
          26,
          27,
          28,
          29,
          30,
          31,
          32,
          33,
          34,
          35,
          36,
          37,
          38,
          39,
          40,
          41,
          42,
          43,
          44,
          45,
          46,
          47,
          48,
          49,
          50,
          51,
          52,
          53,
          54,
          55,
          56,
          57,
          58,
          59,
          60,
          61,
          62,
          63,
          64,
          65,
          66,
          67,
          68,
          69,
          70,
          71,
          72,
          73,
          74,
          75,
          76,
          77,
          78,
          79,
          80,
          81,
          82,
          83,
          84,
          85,
          86,
          87,
          88,
          89,
          90,
          91,
          92,
          93,
          94,
          95,
          96,
          97,
          98,
          99
         ],
         "y": [
          -0.7465190246535679,
          -0.9842265335198428,
          0.6484868519849506,
          -0.2068290986541139,
          -0.5972146382065648,
          -0.42203985994775345,
          0.4182438022494924,
          -0.5844893364713745,
          0.4008201391216312,
          -1.2290324740235792,
          -0.7077799251950053,
          1.3546704683077024,
          -0.4542137398712673,
          0.9286537367805837,
          0.7204594214362593,
          -0.11513090931528802,
          1.785898681462176,
          0.5331285314346956,
          -0.9043265619163633,
          -0.1766455542300106,
          -0.17925503814217242,
          -1.6596633547722228,
          1.151024454588053,
          0.7778673687567496,
          -0.7758665090402018,
          0.42553540404672163,
          1.031283160673017,
          0.12935088267708061,
          0.44458929024512833,
          0.670611397231192,
          0.5018091289102423,
          -1.1522671786913117,
          1.2912795022490569,
          -0.3059485059018095,
          -0.26411571159650576,
          0.6636426362009814,
          1.2140670548216517,
          -0.07319754186549282,
          -0.9165789670899518,
          0.20593572269346777,
          -0.3700842824416982,
          -0.4360073333517405,
          1.2759262305516617,
          0.5377141215864761,
          -1.9530019130496559,
          0.6101031778018651,
          -0.352198519118916,
          -0.697576285979983,
          0.26770708925037157,
          1.2409937264220636,
          0.41258996970772266,
          0.13388343725704457,
          2.455249490594848,
          -0.7482717412451291,
          2.494950245753326,
          0.1240787234584336,
          -0.9643620517005349,
          -0.23815168028082584,
          -0.0775435767394758,
          1.0150283212803681,
          0.8206876352623158,
          -1.0894916682681155,
          0.15579283324393012,
          1.904954493351993,
          0.16824797197649377,
          -1.1832948156302867,
          -0.29249838944876794,
          0.8297143690850972,
          0.11096598579727883,
          0.06953128204261044,
          -0.023653735031282968,
          0.50616814038998,
          1.367504719973664,
          -0.38606360951124746,
          -1.0568525447619446,
          0.9544403682877086,
          -1.6497546741891913,
          1.7750201106488424,
          1.341970593068722,
          0.26076573393855995,
          0.30792210881631815,
          0.7994971461282097,
          -0.40058434870564696,
          0.4041167201647333,
          1.0017137870891137,
          0.07594057552376524,
          0.28385027272614305,
          0.3463476939117346,
          -0.2875052370385254,
          -0.9940447548383856,
          0.5148861206683616,
          0.20468896487394017,
          -0.08817635809947569,
          0.2896472737276851,
          0.011509376050969236,
          -0.3334735283356169,
          -1.0690549773155893,
          -0.6348985590538168,
          0.5815282458816182,
          -0.3538459049139967
         ]
        }
       ],
       "layout": {
        "legend": {
         "bgcolor": "#F5F6F9",
         "font": {
          "color": "#4D5663"
         }
        },
        "paper_bgcolor": "#F5F6F9",
        "plot_bgcolor": "#F5F6F9",
        "template": {
         "data": {
          "bar": [
           {
            "error_x": {
             "color": "#2a3f5f"
            },
            "error_y": {
             "color": "#2a3f5f"
            },
            "marker": {
             "line": {
              "color": "#E5ECF6",
              "width": 0.5
             }
            },
            "type": "bar"
           }
          ],
          "barpolar": [
           {
            "marker": {
             "line": {
              "color": "#E5ECF6",
              "width": 0.5
             }
            },
            "type": "barpolar"
           }
          ],
          "carpet": [
           {
            "aaxis": {
             "endlinecolor": "#2a3f5f",
             "gridcolor": "white",
             "linecolor": "white",
             "minorgridcolor": "white",
             "startlinecolor": "#2a3f5f"
            },
            "baxis": {
             "endlinecolor": "#2a3f5f",
             "gridcolor": "white",
             "linecolor": "white",
             "minorgridcolor": "white",
             "startlinecolor": "#2a3f5f"
            },
            "type": "carpet"
           }
          ],
          "choropleth": [
           {
            "colorbar": {
             "outlinewidth": 0,
             "ticks": ""
            },
            "type": "choropleth"
           }
          ],
          "contour": [
           {
            "colorbar": {
             "outlinewidth": 0,
             "ticks": ""
            },
            "colorscale": [
             [
              0,
              "#0d0887"
             ],
             [
              0.1111111111111111,
              "#46039f"
             ],
             [
              0.2222222222222222,
              "#7201a8"
             ],
             [
              0.3333333333333333,
              "#9c179e"
             ],
             [
              0.4444444444444444,
              "#bd3786"
             ],
             [
              0.5555555555555556,
              "#d8576b"
             ],
             [
              0.6666666666666666,
              "#ed7953"
             ],
             [
              0.7777777777777778,
              "#fb9f3a"
             ],
             [
              0.8888888888888888,
              "#fdca26"
             ],
             [
              1,
              "#f0f921"
             ]
            ],
            "type": "contour"
           }
          ],
          "contourcarpet": [
           {
            "colorbar": {
             "outlinewidth": 0,
             "ticks": ""
            },
            "type": "contourcarpet"
           }
          ],
          "heatmap": [
           {
            "colorbar": {
             "outlinewidth": 0,
             "ticks": ""
            },
            "colorscale": [
             [
              0,
              "#0d0887"
             ],
             [
              0.1111111111111111,
              "#46039f"
             ],
             [
              0.2222222222222222,
              "#7201a8"
             ],
             [
              0.3333333333333333,
              "#9c179e"
             ],
             [
              0.4444444444444444,
              "#bd3786"
             ],
             [
              0.5555555555555556,
              "#d8576b"
             ],
             [
              0.6666666666666666,
              "#ed7953"
             ],
             [
              0.7777777777777778,
              "#fb9f3a"
             ],
             [
              0.8888888888888888,
              "#fdca26"
             ],
             [
              1,
              "#f0f921"
             ]
            ],
            "type": "heatmap"
           }
          ],
          "heatmapgl": [
           {
            "colorbar": {
             "outlinewidth": 0,
             "ticks": ""
            },
            "colorscale": [
             [
              0,
              "#0d0887"
             ],
             [
              0.1111111111111111,
              "#46039f"
             ],
             [
              0.2222222222222222,
              "#7201a8"
             ],
             [
              0.3333333333333333,
              "#9c179e"
             ],
             [
              0.4444444444444444,
              "#bd3786"
             ],
             [
              0.5555555555555556,
              "#d8576b"
             ],
             [
              0.6666666666666666,
              "#ed7953"
             ],
             [
              0.7777777777777778,
              "#fb9f3a"
             ],
             [
              0.8888888888888888,
              "#fdca26"
             ],
             [
              1,
              "#f0f921"
             ]
            ],
            "type": "heatmapgl"
           }
          ],
          "histogram": [
           {
            "marker": {
             "colorbar": {
              "outlinewidth": 0,
              "ticks": ""
             }
            },
            "type": "histogram"
           }
          ],
          "histogram2d": [
           {
            "colorbar": {
             "outlinewidth": 0,
             "ticks": ""
            },
            "colorscale": [
             [
              0,
              "#0d0887"
             ],
             [
              0.1111111111111111,
              "#46039f"
             ],
             [
              0.2222222222222222,
              "#7201a8"
             ],
             [
              0.3333333333333333,
              "#9c179e"
             ],
             [
              0.4444444444444444,
              "#bd3786"
             ],
             [
              0.5555555555555556,
              "#d8576b"
             ],
             [
              0.6666666666666666,
              "#ed7953"
             ],
             [
              0.7777777777777778,
              "#fb9f3a"
             ],
             [
              0.8888888888888888,
              "#fdca26"
             ],
             [
              1,
              "#f0f921"
             ]
            ],
            "type": "histogram2d"
           }
          ],
          "histogram2dcontour": [
           {
            "colorbar": {
             "outlinewidth": 0,
             "ticks": ""
            },
            "colorscale": [
             [
              0,
              "#0d0887"
             ],
             [
              0.1111111111111111,
              "#46039f"
             ],
             [
              0.2222222222222222,
              "#7201a8"
             ],
             [
              0.3333333333333333,
              "#9c179e"
             ],
             [
              0.4444444444444444,
              "#bd3786"
             ],
             [
              0.5555555555555556,
              "#d8576b"
             ],
             [
              0.6666666666666666,
              "#ed7953"
             ],
             [
              0.7777777777777778,
              "#fb9f3a"
             ],
             [
              0.8888888888888888,
              "#fdca26"
             ],
             [
              1,
              "#f0f921"
             ]
            ],
            "type": "histogram2dcontour"
           }
          ],
          "mesh3d": [
           {
            "colorbar": {
             "outlinewidth": 0,
             "ticks": ""
            },
            "type": "mesh3d"
           }
          ],
          "parcoords": [
           {
            "line": {
             "colorbar": {
              "outlinewidth": 0,
              "ticks": ""
             }
            },
            "type": "parcoords"
           }
          ],
          "pie": [
           {
            "automargin": true,
            "type": "pie"
           }
          ],
          "scatter": [
           {
            "marker": {
             "colorbar": {
              "outlinewidth": 0,
              "ticks": ""
             }
            },
            "type": "scatter"
           }
          ],
          "scatter3d": [
           {
            "line": {
             "colorbar": {
              "outlinewidth": 0,
              "ticks": ""
             }
            },
            "marker": {
             "colorbar": {
              "outlinewidth": 0,
              "ticks": ""
             }
            },
            "type": "scatter3d"
           }
          ],
          "scattercarpet": [
           {
            "marker": {
             "colorbar": {
              "outlinewidth": 0,
              "ticks": ""
             }
            },
            "type": "scattercarpet"
           }
          ],
          "scattergeo": [
           {
            "marker": {
             "colorbar": {
              "outlinewidth": 0,
              "ticks": ""
             }
            },
            "type": "scattergeo"
           }
          ],
          "scattergl": [
           {
            "marker": {
             "colorbar": {
              "outlinewidth": 0,
              "ticks": ""
             }
            },
            "type": "scattergl"
           }
          ],
          "scattermapbox": [
           {
            "marker": {
             "colorbar": {
              "outlinewidth": 0,
              "ticks": ""
             }
            },
            "type": "scattermapbox"
           }
          ],
          "scatterpolar": [
           {
            "marker": {
             "colorbar": {
              "outlinewidth": 0,
              "ticks": ""
             }
            },
            "type": "scatterpolar"
           }
          ],
          "scatterpolargl": [
           {
            "marker": {
             "colorbar": {
              "outlinewidth": 0,
              "ticks": ""
             }
            },
            "type": "scatterpolargl"
           }
          ],
          "scatterternary": [
           {
            "marker": {
             "colorbar": {
              "outlinewidth": 0,
              "ticks": ""
             }
            },
            "type": "scatterternary"
           }
          ],
          "surface": [
           {
            "colorbar": {
             "outlinewidth": 0,
             "ticks": ""
            },
            "colorscale": [
             [
              0,
              "#0d0887"
             ],
             [
              0.1111111111111111,
              "#46039f"
             ],
             [
              0.2222222222222222,
              "#7201a8"
             ],
             [
              0.3333333333333333,
              "#9c179e"
             ],
             [
              0.4444444444444444,
              "#bd3786"
             ],
             [
              0.5555555555555556,
              "#d8576b"
             ],
             [
              0.6666666666666666,
              "#ed7953"
             ],
             [
              0.7777777777777778,
              "#fb9f3a"
             ],
             [
              0.8888888888888888,
              "#fdca26"
             ],
             [
              1,
              "#f0f921"
             ]
            ],
            "type": "surface"
           }
          ],
          "table": [
           {
            "cells": {
             "fill": {
              "color": "#EBF0F8"
             },
             "line": {
              "color": "white"
             }
            },
            "header": {
             "fill": {
              "color": "#C8D4E3"
             },
             "line": {
              "color": "white"
             }
            },
            "type": "table"
           }
          ]
         },
         "layout": {
          "annotationdefaults": {
           "arrowcolor": "#2a3f5f",
           "arrowhead": 0,
           "arrowwidth": 1
          },
          "autotypenumbers": "strict",
          "coloraxis": {
           "colorbar": {
            "outlinewidth": 0,
            "ticks": ""
           }
          },
          "colorscale": {
           "diverging": [
            [
             0,
             "#8e0152"
            ],
            [
             0.1,
             "#c51b7d"
            ],
            [
             0.2,
             "#de77ae"
            ],
            [
             0.3,
             "#f1b6da"
            ],
            [
             0.4,
             "#fde0ef"
            ],
            [
             0.5,
             "#f7f7f7"
            ],
            [
             0.6,
             "#e6f5d0"
            ],
            [
             0.7,
             "#b8e186"
            ],
            [
             0.8,
             "#7fbc41"
            ],
            [
             0.9,
             "#4d9221"
            ],
            [
             1,
             "#276419"
            ]
           ],
           "sequential": [
            [
             0,
             "#0d0887"
            ],
            [
             0.1111111111111111,
             "#46039f"
            ],
            [
             0.2222222222222222,
             "#7201a8"
            ],
            [
             0.3333333333333333,
             "#9c179e"
            ],
            [
             0.4444444444444444,
             "#bd3786"
            ],
            [
             0.5555555555555556,
             "#d8576b"
            ],
            [
             0.6666666666666666,
             "#ed7953"
            ],
            [
             0.7777777777777778,
             "#fb9f3a"
            ],
            [
             0.8888888888888888,
             "#fdca26"
            ],
            [
             1,
             "#f0f921"
            ]
           ],
           "sequentialminus": [
            [
             0,
             "#0d0887"
            ],
            [
             0.1111111111111111,
             "#46039f"
            ],
            [
             0.2222222222222222,
             "#7201a8"
            ],
            [
             0.3333333333333333,
             "#9c179e"
            ],
            [
             0.4444444444444444,
             "#bd3786"
            ],
            [
             0.5555555555555556,
             "#d8576b"
            ],
            [
             0.6666666666666666,
             "#ed7953"
            ],
            [
             0.7777777777777778,
             "#fb9f3a"
            ],
            [
             0.8888888888888888,
             "#fdca26"
            ],
            [
             1,
             "#f0f921"
            ]
           ]
          },
          "colorway": [
           "#636efa",
           "#EF553B",
           "#00cc96",
           "#ab63fa",
           "#FFA15A",
           "#19d3f3",
           "#FF6692",
           "#B6E880",
           "#FF97FF",
           "#FECB52"
          ],
          "font": {
           "color": "#2a3f5f"
          },
          "geo": {
           "bgcolor": "white",
           "lakecolor": "white",
           "landcolor": "#E5ECF6",
           "showlakes": true,
           "showland": true,
           "subunitcolor": "white"
          },
          "hoverlabel": {
           "align": "left"
          },
          "hovermode": "closest",
          "mapbox": {
           "style": "light"
          },
          "paper_bgcolor": "white",
          "plot_bgcolor": "#E5ECF6",
          "polar": {
           "angularaxis": {
            "gridcolor": "white",
            "linecolor": "white",
            "ticks": ""
           },
           "bgcolor": "#E5ECF6",
           "radialaxis": {
            "gridcolor": "white",
            "linecolor": "white",
            "ticks": ""
           }
          },
          "scene": {
           "xaxis": {
            "backgroundcolor": "#E5ECF6",
            "gridcolor": "white",
            "gridwidth": 2,
            "linecolor": "white",
            "showbackground": true,
            "ticks": "",
            "zerolinecolor": "white"
           },
           "yaxis": {
            "backgroundcolor": "#E5ECF6",
            "gridcolor": "white",
            "gridwidth": 2,
            "linecolor": "white",
            "showbackground": true,
            "ticks": "",
            "zerolinecolor": "white"
           },
           "zaxis": {
            "backgroundcolor": "#E5ECF6",
            "gridcolor": "white",
            "gridwidth": 2,
            "linecolor": "white",
            "showbackground": true,
            "ticks": "",
            "zerolinecolor": "white"
           }
          },
          "shapedefaults": {
           "line": {
            "color": "#2a3f5f"
           }
          },
          "ternary": {
           "aaxis": {
            "gridcolor": "white",
            "linecolor": "white",
            "ticks": ""
           },
           "baxis": {
            "gridcolor": "white",
            "linecolor": "white",
            "ticks": ""
           },
           "bgcolor": "#E5ECF6",
           "caxis": {
            "gridcolor": "white",
            "linecolor": "white",
            "ticks": ""
           }
          },
          "title": {
           "x": 0.05
          },
          "xaxis": {
           "automargin": true,
           "gridcolor": "white",
           "linecolor": "white",
           "ticks": "",
           "title": {
            "standoff": 15
           },
           "zerolinecolor": "white",
           "zerolinewidth": 2
          },
          "yaxis": {
           "automargin": true,
           "gridcolor": "white",
           "linecolor": "white",
           "ticks": "",
           "title": {
            "standoff": 15
           },
           "zerolinecolor": "white",
           "zerolinewidth": 2
          }
         }
        },
        "title": {
         "font": {
          "color": "#4D5663"
         }
        },
        "xaxis": {
         "gridcolor": "#E1E5ED",
         "showgrid": true,
         "tickfont": {
          "color": "#4D5663"
         },
         "title": {
          "font": {
           "color": "#4D5663"
          },
          "text": ""
         },
         "zerolinecolor": "#E1E5ED"
        },
        "yaxis": {
         "gridcolor": "#E1E5ED",
         "showgrid": true,
         "tickfont": {
          "color": "#4D5663"
         },
         "title": {
          "font": {
           "color": "#4D5663"
          },
          "text": ""
         },
         "zerolinecolor": "#E1E5ED"
        }
       }
      },
      "text/html": [
       "<div>                            <div id=\"21ba342c-cb91-4ad2-9709-ce4301813e93\" class=\"plotly-graph-div\" style=\"height:525px; width:100%;\"></div>            <script type=\"text/javascript\">                require([\"plotly\"], function(Plotly) {                    window.PLOTLYENV=window.PLOTLYENV || {};\n",
       "                    window.PLOTLYENV.BASE_URL='https://plot.ly';                                    if (document.getElementById(\"21ba342c-cb91-4ad2-9709-ce4301813e93\")) {                    Plotly.newPlot(                        \"21ba342c-cb91-4ad2-9709-ce4301813e93\",                        [{\"line\": {\"color\": \"rgba(255, 153, 51, 1.0)\", \"dash\": \"solid\", \"shape\": \"linear\", \"width\": 1.3}, \"mode\": \"lines\", \"name\": \"A\", \"text\": \"\", \"type\": \"scatter\", \"x\": [0, 1, 2, 3, 4, 5, 6, 7, 8, 9, 10, 11, 12, 13, 14, 15, 16, 17, 18, 19, 20, 21, 22, 23, 24, 25, 26, 27, 28, 29, 30, 31, 32, 33, 34, 35, 36, 37, 38, 39, 40, 41, 42, 43, 44, 45, 46, 47, 48, 49, 50, 51, 52, 53, 54, 55, 56, 57, 58, 59, 60, 61, 62, 63, 64, 65, 66, 67, 68, 69, 70, 71, 72, 73, 74, 75, 76, 77, 78, 79, 80, 81, 82, 83, 84, 85, 86, 87, 88, 89, 90, 91, 92, 93, 94, 95, 96, 97, 98, 99], \"y\": [-1.2376533429297487, 0.5210312381862134, -1.0251899876913395, 0.45381839892015724, 2.5579020873643423, -2.311096877009032, 1.0848519410157036, 0.14420890327050329, 0.8761771802727409, -0.5599756647759724, 0.8404008962563776, 0.9360487734843175, -1.2159463914906068, 0.4323468127108094, 1.4875276747986366, -1.8104483053725908, 0.7422040304205689, 2.2293211252216603, 0.15632546876214123, 0.4081041805918467, 0.024748436909957674, -0.727628179660839, -0.3139827530211364, 1.7415908205376824, 1.113900769384104, -1.7478092023943117, 0.8140754057060445, 1.1184203301949367, 0.11643679130544002, 0.2413981464536677, -1.8981945923166192, 0.7814782558065474, 0.12346431470248988, -0.5888166641853814, 0.5638242182369565, -0.04966892567279881, -0.8730779045718278, 0.9937635926043222, -0.3111311960754491, -1.2704479991052302, 0.6145906380641518, -2.1080663744544688, 1.162745468298509, -0.40269202904722307, 0.9816818315776701, 1.2766727602932417, -1.1441699855454301, -1.4095882123449281, 1.3445230473814531, 0.983685841697918, -0.4764813243223706, 0.34186207479032177, -1.3617951618631923, -0.5731448087586377, 1.6229372931953945, -1.8760222194164973, 0.2696419215276941, 1.4759084603076527, 1.2932437655688576, 0.14905939922683087, 1.1274399726091413, 1.6653660922881228, 0.9404296495750097, 1.1505947887788583, -1.7013903166322464, -0.3128888538704009, -2.143472785599862, -0.5117941385029973, 0.9973449715984799, -1.28127634682668, 0.5008584141197462, -0.3438551379470671, -1.496632229824434, -1.0196525699126524, 1.788124743162996, -1.0822473860519988, 0.9805588328233438, 2.23743047144731, 0.2129752042080661, 0.6876725100251737, 0.7340280290562036, -0.44115399131713307, -0.6322101548325217, 0.8240049645002243, -0.0012853927734924836, 0.44660590623353075, -0.3231659858707658, -0.33411455762785336, 0.353841423946161, -0.022911915151177333, 0.5704806182719827, 1.9789498254742628, -1.1043229788804343, 1.2443321962668799, 0.4777611949867243, -0.7944342954051479, 1.3535937388032435, -0.5031726594973573, -0.041696531493813985, 0.9618825324128459]}, {\"line\": {\"color\": \"rgba(55, 128, 191, 1.0)\", \"dash\": \"solid\", \"shape\": \"linear\", \"width\": 1.3}, \"mode\": \"lines\", \"name\": \"B\", \"text\": \"\", \"type\": \"scatter\", \"x\": [0, 1, 2, 3, 4, 5, 6, 7, 8, 9, 10, 11, 12, 13, 14, 15, 16, 17, 18, 19, 20, 21, 22, 23, 24, 25, 26, 27, 28, 29, 30, 31, 32, 33, 34, 35, 36, 37, 38, 39, 40, 41, 42, 43, 44, 45, 46, 47, 48, 49, 50, 51, 52, 53, 54, 55, 56, 57, 58, 59, 60, 61, 62, 63, 64, 65, 66, 67, 68, 69, 70, 71, 72, 73, 74, 75, 76, 77, 78, 79, 80, 81, 82, 83, 84, 85, 86, 87, 88, 89, 90, 91, 92, 93, 94, 95, 96, 97, 98, 99], \"y\": [-0.5729984879969171, 0.5909561009580857, -0.6479381979401543, 0.5068431621784943, 0.21022581680114724, -2.035720176553049, -0.48728930433915413, -0.5100542298446442, 1.0746855013944174, -0.03425512643487298, -1.1034087514016049, -0.942789188319332, -0.09798209414877965, -0.75471906104679, 0.5695846791296407, 0.18144063049261203, 0.6755433055426926, 1.6908113005091172, -0.037085297150455485, 0.5093238182228775, 0.4309374328017403, 1.0603891419114981, 0.9600849278946542, 0.41138880181158965, 0.3542988098231076, 0.3793117072240972, -0.32429385709622316, -0.3720488190049271, 0.28700601889218225, -0.4814804689597724, 0.32292724413314056, 1.3750481693772498, 0.375806837908601, 1.0204153020741686, 0.5372488436715573, 0.1630362622470754, -0.37128401061293204, 0.18189386623342524, 1.5443816284277438, -0.5700477904708945, 1.7413818905636158, -1.197416653079403, 0.25236922063720735, -0.8937094378007724, 2.7781482520757224, -0.08022663678328085, 1.2403860792115906, -0.013828930370441302, -0.9348967567711488, -2.225144487840825, -1.2693652149536099, 1.8614425597359745, 0.2543178484847704, -0.9356797873206968, -1.823825627965515, -1.1714380378971925, -0.480426448575434, -0.20624266781744877, 0.339482324534446, 1.097677022740831, -0.5102593440109845, -0.20183972656712482, -0.8960494374584044, -0.5924532644882401, -0.646345965309449, 1.4286394367280775, 1.6501845360404976, 0.511791608963945, 0.4393596006137443, 0.5725738313781439, -0.664265767438522, -0.44164130103306365, 0.6372090453689565, -0.2589300158280436, 1.0894350623522444, 0.26421945331926805, -1.1179733849258793, 0.7729424625201243, -0.6198532415959194, -0.17020060359782097, 0.9341080928874868, 0.24117249940352037, -0.7005627582569318, 0.6582479238215062, -0.0716208850768693, 1.5706154364823148, -0.6497956569183799, 0.5423497355086795, 0.9370286417621064, -0.7308532701982378, 1.508055847158207, 0.9936015984705164, -1.8260543146320227, 0.4892420488884562, 0.9043459424350315, 0.8305425725610729, -1.2589823642833216, -0.7149533393533173, -1.806426117331394, -0.2447907667589656]}, {\"line\": {\"color\": \"rgba(50, 171, 96, 1.0)\", \"dash\": \"solid\", \"shape\": \"linear\", \"width\": 1.3}, \"mode\": \"lines\", \"name\": \"C\", \"text\": \"\", \"type\": \"scatter\", \"x\": [0, 1, 2, 3, 4, 5, 6, 7, 8, 9, 10, 11, 12, 13, 14, 15, 16, 17, 18, 19, 20, 21, 22, 23, 24, 25, 26, 27, 28, 29, 30, 31, 32, 33, 34, 35, 36, 37, 38, 39, 40, 41, 42, 43, 44, 45, 46, 47, 48, 49, 50, 51, 52, 53, 54, 55, 56, 57, 58, 59, 60, 61, 62, 63, 64, 65, 66, 67, 68, 69, 70, 71, 72, 73, 74, 75, 76, 77, 78, 79, 80, 81, 82, 83, 84, 85, 86, 87, 88, 89, 90, 91, 92, 93, 94, 95, 96, 97, 98, 99], \"y\": [1.4805592905566027, 0.0066543752263027965, -1.3286028101500782, -2.3545755391924437, 1.0310993600795264, 1.032122832624549, -0.043810011026179915, 0.9744256797617555, 0.3456701049094342, 0.8423521574656975, 1.433220309184025, -0.8980879999871899, 1.6147623452853943, 0.21919544300404417, -1.0559302345773947, 0.18354579636522608, 0.4299599738630787, 0.4715327089955329, 0.22433403322092066, -0.1701929738564229, 0.014445856319818946, 2.330175451886577, -0.21609523736867256, -0.5204245761177559, 1.2082347022559903, -1.9195601523736994, 1.3945880077314747, 1.3081201387075758, 1.2234110953628672, -0.6835661797158156, 0.0665570043084234, 1.0391744555533386, -0.3358626496463016, -2.185520038306416, 0.9697458944052152, -0.8256122474871528, -2.4315010329769726, 1.0364397277397897, -1.0601026987022133, 0.47461708144820974, -0.07149729774693611, -0.03623067332832536, -0.7925689358905943, 0.05446988307968215, -1.1232572898508344, 0.1025333397910067, 0.9380580646398775, -0.5008529310749313, 0.22070963370902066, -0.17260854167125553, 0.14513281589032356, 1.0009115797078916, 1.0767085963140584, 1.8619219678301797, 0.6927059967250869, 1.5260330868510448, -0.7159896247720254, -0.05972059734144692, -0.034738381460860064, 0.769509319574557, 0.09664500047496385, 0.17691284017859255, 0.2913380396549778, 3.2442405594833392, 0.09229706541266704, -0.03546257696022987, -0.34938427700628666, 0.6033569176275102, 1.2475798627255554, 0.5001313031532152, 1.9895642597593513, -0.33807292400636046, -0.5605564204639819, 0.6281556155426765, -0.7184976978868656, -0.650976788040386, 2.0877308714443354, -0.9259708427825195, 0.04333748186656094, 0.01199626365732882, -1.6807498936986958, -1.2465891925629309, -0.32007399184732765, 0.308979007976214, 1.0172825217514485, 1.5472109178965658, -0.01970792241666245, -0.15925885259453754, 0.5227382852124725, 1.1706056583762108, 0.9581916124363626, -0.7522895783907171, -0.11208433456448406, -0.9643018419154822, -0.718757066862075, -0.8660784391536188, 0.7486710459601194, -0.6770755304839471, -0.0398451971157505, 1.7658834584065866]}, {\"line\": {\"color\": \"rgba(128, 0, 128, 1.0)\", \"dash\": \"solid\", \"shape\": \"linear\", \"width\": 1.3}, \"mode\": \"lines\", \"name\": \"D\", \"text\": \"\", \"type\": \"scatter\", \"x\": [0, 1, 2, 3, 4, 5, 6, 7, 8, 9, 10, 11, 12, 13, 14, 15, 16, 17, 18, 19, 20, 21, 22, 23, 24, 25, 26, 27, 28, 29, 30, 31, 32, 33, 34, 35, 36, 37, 38, 39, 40, 41, 42, 43, 44, 45, 46, 47, 48, 49, 50, 51, 52, 53, 54, 55, 56, 57, 58, 59, 60, 61, 62, 63, 64, 65, 66, 67, 68, 69, 70, 71, 72, 73, 74, 75, 76, 77, 78, 79, 80, 81, 82, 83, 84, 85, 86, 87, 88, 89, 90, 91, 92, 93, 94, 95, 96, 97, 98, 99], \"y\": [-0.7465190246535679, -0.9842265335198428, 0.6484868519849506, -0.2068290986541139, -0.5972146382065648, -0.42203985994775345, 0.4182438022494924, -0.5844893364713745, 0.4008201391216312, -1.2290324740235792, -0.7077799251950053, 1.3546704683077024, -0.4542137398712673, 0.9286537367805837, 0.7204594214362593, -0.11513090931528802, 1.785898681462176, 0.5331285314346956, -0.9043265619163633, -0.1766455542300106, -0.17925503814217242, -1.6596633547722228, 1.151024454588053, 0.7778673687567496, -0.7758665090402018, 0.42553540404672163, 1.031283160673017, 0.12935088267708061, 0.44458929024512833, 0.670611397231192, 0.5018091289102423, -1.1522671786913117, 1.2912795022490569, -0.3059485059018095, -0.26411571159650576, 0.6636426362009814, 1.2140670548216517, -0.07319754186549282, -0.9165789670899518, 0.20593572269346777, -0.3700842824416982, -0.4360073333517405, 1.2759262305516617, 0.5377141215864761, -1.9530019130496559, 0.6101031778018651, -0.352198519118916, -0.697576285979983, 0.26770708925037157, 1.2409937264220636, 0.41258996970772266, 0.13388343725704457, 2.455249490594848, -0.7482717412451291, 2.494950245753326, 0.1240787234584336, -0.9643620517005349, -0.23815168028082584, -0.0775435767394758, 1.0150283212803681, 0.8206876352623158, -1.0894916682681155, 0.15579283324393012, 1.904954493351993, 0.16824797197649377, -1.1832948156302867, -0.29249838944876794, 0.8297143690850972, 0.11096598579727883, 0.06953128204261044, -0.023653735031282968, 0.50616814038998, 1.367504719973664, -0.38606360951124746, -1.0568525447619446, 0.9544403682877086, -1.6497546741891913, 1.7750201106488424, 1.341970593068722, 0.26076573393855995, 0.30792210881631815, 0.7994971461282097, -0.40058434870564696, 0.4041167201647333, 1.0017137870891137, 0.07594057552376524, 0.28385027272614305, 0.3463476939117346, -0.2875052370385254, -0.9940447548383856, 0.5148861206683616, 0.20468896487394017, -0.08817635809947569, 0.2896472737276851, 0.011509376050969236, -0.3334735283356169, -1.0690549773155893, -0.6348985590538168, 0.5815282458816182, -0.3538459049139967]}],                        {\"legend\": {\"bgcolor\": \"#F5F6F9\", \"font\": {\"color\": \"#4D5663\"}}, \"paper_bgcolor\": \"#F5F6F9\", \"plot_bgcolor\": \"#F5F6F9\", \"template\": {\"data\": {\"bar\": [{\"error_x\": {\"color\": \"#2a3f5f\"}, \"error_y\": {\"color\": \"#2a3f5f\"}, \"marker\": {\"line\": {\"color\": \"#E5ECF6\", \"width\": 0.5}}, \"type\": \"bar\"}], \"barpolar\": [{\"marker\": {\"line\": {\"color\": \"#E5ECF6\", \"width\": 0.5}}, \"type\": \"barpolar\"}], \"carpet\": [{\"aaxis\": {\"endlinecolor\": \"#2a3f5f\", \"gridcolor\": \"white\", \"linecolor\": \"white\", \"minorgridcolor\": \"white\", \"startlinecolor\": \"#2a3f5f\"}, \"baxis\": {\"endlinecolor\": \"#2a3f5f\", \"gridcolor\": \"white\", \"linecolor\": \"white\", \"minorgridcolor\": \"white\", \"startlinecolor\": \"#2a3f5f\"}, \"type\": \"carpet\"}], \"choropleth\": [{\"colorbar\": {\"outlinewidth\": 0, \"ticks\": \"\"}, \"type\": \"choropleth\"}], \"contour\": [{\"colorbar\": {\"outlinewidth\": 0, \"ticks\": \"\"}, \"colorscale\": [[0.0, \"#0d0887\"], [0.1111111111111111, \"#46039f\"], [0.2222222222222222, \"#7201a8\"], [0.3333333333333333, \"#9c179e\"], [0.4444444444444444, \"#bd3786\"], [0.5555555555555556, \"#d8576b\"], [0.6666666666666666, \"#ed7953\"], [0.7777777777777778, \"#fb9f3a\"], [0.8888888888888888, \"#fdca26\"], [1.0, \"#f0f921\"]], \"type\": \"contour\"}], \"contourcarpet\": [{\"colorbar\": {\"outlinewidth\": 0, \"ticks\": \"\"}, \"type\": \"contourcarpet\"}], \"heatmap\": [{\"colorbar\": {\"outlinewidth\": 0, \"ticks\": \"\"}, \"colorscale\": [[0.0, \"#0d0887\"], [0.1111111111111111, \"#46039f\"], [0.2222222222222222, \"#7201a8\"], [0.3333333333333333, \"#9c179e\"], [0.4444444444444444, \"#bd3786\"], [0.5555555555555556, \"#d8576b\"], [0.6666666666666666, \"#ed7953\"], [0.7777777777777778, \"#fb9f3a\"], [0.8888888888888888, \"#fdca26\"], [1.0, \"#f0f921\"]], \"type\": \"heatmap\"}], \"heatmapgl\": [{\"colorbar\": {\"outlinewidth\": 0, \"ticks\": \"\"}, \"colorscale\": [[0.0, \"#0d0887\"], [0.1111111111111111, \"#46039f\"], [0.2222222222222222, \"#7201a8\"], [0.3333333333333333, \"#9c179e\"], [0.4444444444444444, \"#bd3786\"], [0.5555555555555556, \"#d8576b\"], [0.6666666666666666, \"#ed7953\"], [0.7777777777777778, \"#fb9f3a\"], [0.8888888888888888, \"#fdca26\"], [1.0, \"#f0f921\"]], \"type\": \"heatmapgl\"}], \"histogram\": [{\"marker\": {\"colorbar\": {\"outlinewidth\": 0, \"ticks\": \"\"}}, \"type\": \"histogram\"}], \"histogram2d\": [{\"colorbar\": {\"outlinewidth\": 0, \"ticks\": \"\"}, \"colorscale\": [[0.0, \"#0d0887\"], [0.1111111111111111, \"#46039f\"], [0.2222222222222222, \"#7201a8\"], [0.3333333333333333, \"#9c179e\"], [0.4444444444444444, \"#bd3786\"], [0.5555555555555556, \"#d8576b\"], [0.6666666666666666, \"#ed7953\"], [0.7777777777777778, \"#fb9f3a\"], [0.8888888888888888, \"#fdca26\"], [1.0, \"#f0f921\"]], \"type\": \"histogram2d\"}], \"histogram2dcontour\": [{\"colorbar\": {\"outlinewidth\": 0, \"ticks\": \"\"}, \"colorscale\": [[0.0, \"#0d0887\"], [0.1111111111111111, \"#46039f\"], [0.2222222222222222, \"#7201a8\"], [0.3333333333333333, \"#9c179e\"], [0.4444444444444444, \"#bd3786\"], [0.5555555555555556, \"#d8576b\"], [0.6666666666666666, \"#ed7953\"], [0.7777777777777778, \"#fb9f3a\"], [0.8888888888888888, \"#fdca26\"], [1.0, \"#f0f921\"]], \"type\": \"histogram2dcontour\"}], \"mesh3d\": [{\"colorbar\": {\"outlinewidth\": 0, \"ticks\": \"\"}, \"type\": \"mesh3d\"}], \"parcoords\": [{\"line\": {\"colorbar\": {\"outlinewidth\": 0, \"ticks\": \"\"}}, \"type\": \"parcoords\"}], \"pie\": [{\"automargin\": true, \"type\": \"pie\"}], \"scatter\": [{\"marker\": {\"colorbar\": {\"outlinewidth\": 0, \"ticks\": \"\"}}, \"type\": \"scatter\"}], \"scatter3d\": [{\"line\": {\"colorbar\": {\"outlinewidth\": 0, \"ticks\": \"\"}}, \"marker\": {\"colorbar\": {\"outlinewidth\": 0, \"ticks\": \"\"}}, \"type\": \"scatter3d\"}], \"scattercarpet\": [{\"marker\": {\"colorbar\": {\"outlinewidth\": 0, \"ticks\": \"\"}}, \"type\": \"scattercarpet\"}], \"scattergeo\": [{\"marker\": {\"colorbar\": {\"outlinewidth\": 0, \"ticks\": \"\"}}, \"type\": \"scattergeo\"}], \"scattergl\": [{\"marker\": {\"colorbar\": {\"outlinewidth\": 0, \"ticks\": \"\"}}, \"type\": \"scattergl\"}], \"scattermapbox\": [{\"marker\": {\"colorbar\": {\"outlinewidth\": 0, \"ticks\": \"\"}}, \"type\": \"scattermapbox\"}], \"scatterpolar\": [{\"marker\": {\"colorbar\": {\"outlinewidth\": 0, \"ticks\": \"\"}}, \"type\": \"scatterpolar\"}], \"scatterpolargl\": [{\"marker\": {\"colorbar\": {\"outlinewidth\": 0, \"ticks\": \"\"}}, \"type\": \"scatterpolargl\"}], \"scatterternary\": [{\"marker\": {\"colorbar\": {\"outlinewidth\": 0, \"ticks\": \"\"}}, \"type\": \"scatterternary\"}], \"surface\": [{\"colorbar\": {\"outlinewidth\": 0, \"ticks\": \"\"}, \"colorscale\": [[0.0, \"#0d0887\"], [0.1111111111111111, \"#46039f\"], [0.2222222222222222, \"#7201a8\"], [0.3333333333333333, \"#9c179e\"], [0.4444444444444444, \"#bd3786\"], [0.5555555555555556, \"#d8576b\"], [0.6666666666666666, \"#ed7953\"], [0.7777777777777778, \"#fb9f3a\"], [0.8888888888888888, \"#fdca26\"], [1.0, \"#f0f921\"]], \"type\": \"surface\"}], \"table\": [{\"cells\": {\"fill\": {\"color\": \"#EBF0F8\"}, \"line\": {\"color\": \"white\"}}, \"header\": {\"fill\": {\"color\": \"#C8D4E3\"}, \"line\": {\"color\": \"white\"}}, \"type\": \"table\"}]}, \"layout\": {\"annotationdefaults\": {\"arrowcolor\": \"#2a3f5f\", \"arrowhead\": 0, \"arrowwidth\": 1}, \"autotypenumbers\": \"strict\", \"coloraxis\": {\"colorbar\": {\"outlinewidth\": 0, \"ticks\": \"\"}}, \"colorscale\": {\"diverging\": [[0, \"#8e0152\"], [0.1, \"#c51b7d\"], [0.2, \"#de77ae\"], [0.3, \"#f1b6da\"], [0.4, \"#fde0ef\"], [0.5, \"#f7f7f7\"], [0.6, \"#e6f5d0\"], [0.7, \"#b8e186\"], [0.8, \"#7fbc41\"], [0.9, \"#4d9221\"], [1, \"#276419\"]], \"sequential\": [[0.0, \"#0d0887\"], [0.1111111111111111, \"#46039f\"], [0.2222222222222222, \"#7201a8\"], [0.3333333333333333, \"#9c179e\"], [0.4444444444444444, \"#bd3786\"], [0.5555555555555556, \"#d8576b\"], [0.6666666666666666, \"#ed7953\"], [0.7777777777777778, \"#fb9f3a\"], [0.8888888888888888, \"#fdca26\"], [1.0, \"#f0f921\"]], \"sequentialminus\": [[0.0, \"#0d0887\"], [0.1111111111111111, \"#46039f\"], [0.2222222222222222, \"#7201a8\"], [0.3333333333333333, \"#9c179e\"], [0.4444444444444444, \"#bd3786\"], [0.5555555555555556, \"#d8576b\"], [0.6666666666666666, \"#ed7953\"], [0.7777777777777778, \"#fb9f3a\"], [0.8888888888888888, \"#fdca26\"], [1.0, \"#f0f921\"]]}, \"colorway\": [\"#636efa\", \"#EF553B\", \"#00cc96\", \"#ab63fa\", \"#FFA15A\", \"#19d3f3\", \"#FF6692\", \"#B6E880\", \"#FF97FF\", \"#FECB52\"], \"font\": {\"color\": \"#2a3f5f\"}, \"geo\": {\"bgcolor\": \"white\", \"lakecolor\": \"white\", \"landcolor\": \"#E5ECF6\", \"showlakes\": true, \"showland\": true, \"subunitcolor\": \"white\"}, \"hoverlabel\": {\"align\": \"left\"}, \"hovermode\": \"closest\", \"mapbox\": {\"style\": \"light\"}, \"paper_bgcolor\": \"white\", \"plot_bgcolor\": \"#E5ECF6\", \"polar\": {\"angularaxis\": {\"gridcolor\": \"white\", \"linecolor\": \"white\", \"ticks\": \"\"}, \"bgcolor\": \"#E5ECF6\", \"radialaxis\": {\"gridcolor\": \"white\", \"linecolor\": \"white\", \"ticks\": \"\"}}, \"scene\": {\"xaxis\": {\"backgroundcolor\": \"#E5ECF6\", \"gridcolor\": \"white\", \"gridwidth\": 2, \"linecolor\": \"white\", \"showbackground\": true, \"ticks\": \"\", \"zerolinecolor\": \"white\"}, \"yaxis\": {\"backgroundcolor\": \"#E5ECF6\", \"gridcolor\": \"white\", \"gridwidth\": 2, \"linecolor\": \"white\", \"showbackground\": true, \"ticks\": \"\", \"zerolinecolor\": \"white\"}, \"zaxis\": {\"backgroundcolor\": \"#E5ECF6\", \"gridcolor\": \"white\", \"gridwidth\": 2, \"linecolor\": \"white\", \"showbackground\": true, \"ticks\": \"\", \"zerolinecolor\": \"white\"}}, \"shapedefaults\": {\"line\": {\"color\": \"#2a3f5f\"}}, \"ternary\": {\"aaxis\": {\"gridcolor\": \"white\", \"linecolor\": \"white\", \"ticks\": \"\"}, \"baxis\": {\"gridcolor\": \"white\", \"linecolor\": \"white\", \"ticks\": \"\"}, \"bgcolor\": \"#E5ECF6\", \"caxis\": {\"gridcolor\": \"white\", \"linecolor\": \"white\", \"ticks\": \"\"}}, \"title\": {\"x\": 0.05}, \"xaxis\": {\"automargin\": true, \"gridcolor\": \"white\", \"linecolor\": \"white\", \"ticks\": \"\", \"title\": {\"standoff\": 15}, \"zerolinecolor\": \"white\", \"zerolinewidth\": 2}, \"yaxis\": {\"automargin\": true, \"gridcolor\": \"white\", \"linecolor\": \"white\", \"ticks\": \"\", \"title\": {\"standoff\": 15}, \"zerolinecolor\": \"white\", \"zerolinewidth\": 2}}}, \"title\": {\"font\": {\"color\": \"#4D5663\"}}, \"xaxis\": {\"gridcolor\": \"#E1E5ED\", \"showgrid\": true, \"tickfont\": {\"color\": \"#4D5663\"}, \"title\": {\"font\": {\"color\": \"#4D5663\"}, \"text\": \"\"}, \"zerolinecolor\": \"#E1E5ED\"}, \"yaxis\": {\"gridcolor\": \"#E1E5ED\", \"showgrid\": true, \"tickfont\": {\"color\": \"#4D5663\"}, \"title\": {\"font\": {\"color\": \"#4D5663\"}, \"text\": \"\"}, \"zerolinecolor\": \"#E1E5ED\"}},                        {\"showLink\": true, \"linkText\": \"Export to plot.ly\", \"plotlyServerURL\": \"https://plot.ly\", \"responsive\": true}                    ).then(function(){\n",
       "                            \n",
       "var gd = document.getElementById('21ba342c-cb91-4ad2-9709-ce4301813e93');\n",
       "var x = new MutationObserver(function (mutations, observer) {{\n",
       "        var display = window.getComputedStyle(gd).display;\n",
       "        if (!display || display === 'none') {{\n",
       "            console.log([gd, 'removed!']);\n",
       "            Plotly.purge(gd);\n",
       "            observer.disconnect();\n",
       "        }}\n",
       "}});\n",
       "\n",
       "// Listen for the removal of the full notebook cells\n",
       "var notebookContainer = gd.closest('#notebook-container');\n",
       "if (notebookContainer) {{\n",
       "    x.observe(notebookContainer, {childList: true});\n",
       "}}\n",
       "\n",
       "// Listen for the clearing of the current output cell\n",
       "var outputEl = gd.closest('.output');\n",
       "if (outputEl) {{\n",
       "    x.observe(outputEl, {childList: true});\n",
       "}}\n",
       "\n",
       "                        })                };                });            </script>        </div>"
      ]
     },
     "metadata": {},
     "output_type": "display_data"
    }
   ],
   "source": [
    "df.iplot() # Interactive plot for more details and interaction"
   ]
  },
  {
   "cell_type": "code",
   "execution_count": 22,
   "metadata": {},
   "outputs": [
    {
     "data": {
      "application/vnd.plotly.v1+json": {
       "config": {
        "linkText": "Export to plot.ly",
        "plotlyServerURL": "https://plot.ly",
        "showLink": true
       },
       "data": [
        {
         "line": {
          "color": "rgba(255, 153, 51, 1.0)",
          "dash": "solid",
          "shape": "linear",
          "width": 1.3
         },
         "marker": {
          "size": 10,
          "symbol": "circle"
         },
         "mode": "markers",
         "name": "B",
         "text": "",
         "type": "scatter",
         "x": [
          -1.2376533429297487,
          0.5210312381862134,
          -1.0251899876913395,
          0.45381839892015724,
          2.5579020873643423,
          -2.311096877009032,
          1.0848519410157036,
          0.14420890327050329,
          0.8761771802727409,
          -0.5599756647759724,
          0.8404008962563776,
          0.9360487734843175,
          -1.2159463914906068,
          0.4323468127108094,
          1.4875276747986366,
          -1.8104483053725908,
          0.7422040304205689,
          2.2293211252216603,
          0.15632546876214123,
          0.4081041805918467,
          0.024748436909957674,
          -0.727628179660839,
          -0.3139827530211364,
          1.7415908205376824,
          1.113900769384104,
          -1.7478092023943117,
          0.8140754057060445,
          1.1184203301949367,
          0.11643679130544002,
          0.2413981464536677,
          -1.8981945923166192,
          0.7814782558065474,
          0.12346431470248988,
          -0.5888166641853814,
          0.5638242182369565,
          -0.04966892567279881,
          -0.8730779045718278,
          0.9937635926043222,
          -0.3111311960754491,
          -1.2704479991052302,
          0.6145906380641518,
          -2.1080663744544688,
          1.162745468298509,
          -0.40269202904722307,
          0.9816818315776701,
          1.2766727602932417,
          -1.1441699855454301,
          -1.4095882123449281,
          1.3445230473814531,
          0.983685841697918,
          -0.4764813243223706,
          0.34186207479032177,
          -1.3617951618631923,
          -0.5731448087586377,
          1.6229372931953945,
          -1.8760222194164973,
          0.2696419215276941,
          1.4759084603076527,
          1.2932437655688576,
          0.14905939922683087,
          1.1274399726091413,
          1.6653660922881228,
          0.9404296495750097,
          1.1505947887788583,
          -1.7013903166322464,
          -0.3128888538704009,
          -2.143472785599862,
          -0.5117941385029973,
          0.9973449715984799,
          -1.28127634682668,
          0.5008584141197462,
          -0.3438551379470671,
          -1.496632229824434,
          -1.0196525699126524,
          1.788124743162996,
          -1.0822473860519988,
          0.9805588328233438,
          2.23743047144731,
          0.2129752042080661,
          0.6876725100251737,
          0.7340280290562036,
          -0.44115399131713307,
          -0.6322101548325217,
          0.8240049645002243,
          -0.0012853927734924836,
          0.44660590623353075,
          -0.3231659858707658,
          -0.33411455762785336,
          0.353841423946161,
          -0.022911915151177333,
          0.5704806182719827,
          1.9789498254742628,
          -1.1043229788804343,
          1.2443321962668799,
          0.4777611949867243,
          -0.7944342954051479,
          1.3535937388032435,
          -0.5031726594973573,
          -0.041696531493813985,
          0.9618825324128459
         ],
         "y": [
          -0.5729984879969171,
          0.5909561009580857,
          -0.6479381979401543,
          0.5068431621784943,
          0.21022581680114724,
          -2.035720176553049,
          -0.48728930433915413,
          -0.5100542298446442,
          1.0746855013944174,
          -0.03425512643487298,
          -1.1034087514016049,
          -0.942789188319332,
          -0.09798209414877965,
          -0.75471906104679,
          0.5695846791296407,
          0.18144063049261203,
          0.6755433055426926,
          1.6908113005091172,
          -0.037085297150455485,
          0.5093238182228775,
          0.4309374328017403,
          1.0603891419114981,
          0.9600849278946542,
          0.41138880181158965,
          0.3542988098231076,
          0.3793117072240972,
          -0.32429385709622316,
          -0.3720488190049271,
          0.28700601889218225,
          -0.4814804689597724,
          0.32292724413314056,
          1.3750481693772498,
          0.375806837908601,
          1.0204153020741686,
          0.5372488436715573,
          0.1630362622470754,
          -0.37128401061293204,
          0.18189386623342524,
          1.5443816284277438,
          -0.5700477904708945,
          1.7413818905636158,
          -1.197416653079403,
          0.25236922063720735,
          -0.8937094378007724,
          2.7781482520757224,
          -0.08022663678328085,
          1.2403860792115906,
          -0.013828930370441302,
          -0.9348967567711488,
          -2.225144487840825,
          -1.2693652149536099,
          1.8614425597359745,
          0.2543178484847704,
          -0.9356797873206968,
          -1.823825627965515,
          -1.1714380378971925,
          -0.480426448575434,
          -0.20624266781744877,
          0.339482324534446,
          1.097677022740831,
          -0.5102593440109845,
          -0.20183972656712482,
          -0.8960494374584044,
          -0.5924532644882401,
          -0.646345965309449,
          1.4286394367280775,
          1.6501845360404976,
          0.511791608963945,
          0.4393596006137443,
          0.5725738313781439,
          -0.664265767438522,
          -0.44164130103306365,
          0.6372090453689565,
          -0.2589300158280436,
          1.0894350623522444,
          0.26421945331926805,
          -1.1179733849258793,
          0.7729424625201243,
          -0.6198532415959194,
          -0.17020060359782097,
          0.9341080928874868,
          0.24117249940352037,
          -0.7005627582569318,
          0.6582479238215062,
          -0.0716208850768693,
          1.5706154364823148,
          -0.6497956569183799,
          0.5423497355086795,
          0.9370286417621064,
          -0.7308532701982378,
          1.508055847158207,
          0.9936015984705164,
          -1.8260543146320227,
          0.4892420488884562,
          0.9043459424350315,
          0.8305425725610729,
          -1.2589823642833216,
          -0.7149533393533173,
          -1.806426117331394,
          -0.2447907667589656
         ]
        }
       ],
       "layout": {
        "legend": {
         "bgcolor": "#F5F6F9",
         "font": {
          "color": "#4D5663"
         }
        },
        "paper_bgcolor": "#F5F6F9",
        "plot_bgcolor": "#F5F6F9",
        "template": {
         "data": {
          "bar": [
           {
            "error_x": {
             "color": "#2a3f5f"
            },
            "error_y": {
             "color": "#2a3f5f"
            },
            "marker": {
             "line": {
              "color": "#E5ECF6",
              "width": 0.5
             }
            },
            "type": "bar"
           }
          ],
          "barpolar": [
           {
            "marker": {
             "line": {
              "color": "#E5ECF6",
              "width": 0.5
             }
            },
            "type": "barpolar"
           }
          ],
          "carpet": [
           {
            "aaxis": {
             "endlinecolor": "#2a3f5f",
             "gridcolor": "white",
             "linecolor": "white",
             "minorgridcolor": "white",
             "startlinecolor": "#2a3f5f"
            },
            "baxis": {
             "endlinecolor": "#2a3f5f",
             "gridcolor": "white",
             "linecolor": "white",
             "minorgridcolor": "white",
             "startlinecolor": "#2a3f5f"
            },
            "type": "carpet"
           }
          ],
          "choropleth": [
           {
            "colorbar": {
             "outlinewidth": 0,
             "ticks": ""
            },
            "type": "choropleth"
           }
          ],
          "contour": [
           {
            "colorbar": {
             "outlinewidth": 0,
             "ticks": ""
            },
            "colorscale": [
             [
              0,
              "#0d0887"
             ],
             [
              0.1111111111111111,
              "#46039f"
             ],
             [
              0.2222222222222222,
              "#7201a8"
             ],
             [
              0.3333333333333333,
              "#9c179e"
             ],
             [
              0.4444444444444444,
              "#bd3786"
             ],
             [
              0.5555555555555556,
              "#d8576b"
             ],
             [
              0.6666666666666666,
              "#ed7953"
             ],
             [
              0.7777777777777778,
              "#fb9f3a"
             ],
             [
              0.8888888888888888,
              "#fdca26"
             ],
             [
              1,
              "#f0f921"
             ]
            ],
            "type": "contour"
           }
          ],
          "contourcarpet": [
           {
            "colorbar": {
             "outlinewidth": 0,
             "ticks": ""
            },
            "type": "contourcarpet"
           }
          ],
          "heatmap": [
           {
            "colorbar": {
             "outlinewidth": 0,
             "ticks": ""
            },
            "colorscale": [
             [
              0,
              "#0d0887"
             ],
             [
              0.1111111111111111,
              "#46039f"
             ],
             [
              0.2222222222222222,
              "#7201a8"
             ],
             [
              0.3333333333333333,
              "#9c179e"
             ],
             [
              0.4444444444444444,
              "#bd3786"
             ],
             [
              0.5555555555555556,
              "#d8576b"
             ],
             [
              0.6666666666666666,
              "#ed7953"
             ],
             [
              0.7777777777777778,
              "#fb9f3a"
             ],
             [
              0.8888888888888888,
              "#fdca26"
             ],
             [
              1,
              "#f0f921"
             ]
            ],
            "type": "heatmap"
           }
          ],
          "heatmapgl": [
           {
            "colorbar": {
             "outlinewidth": 0,
             "ticks": ""
            },
            "colorscale": [
             [
              0,
              "#0d0887"
             ],
             [
              0.1111111111111111,
              "#46039f"
             ],
             [
              0.2222222222222222,
              "#7201a8"
             ],
             [
              0.3333333333333333,
              "#9c179e"
             ],
             [
              0.4444444444444444,
              "#bd3786"
             ],
             [
              0.5555555555555556,
              "#d8576b"
             ],
             [
              0.6666666666666666,
              "#ed7953"
             ],
             [
              0.7777777777777778,
              "#fb9f3a"
             ],
             [
              0.8888888888888888,
              "#fdca26"
             ],
             [
              1,
              "#f0f921"
             ]
            ],
            "type": "heatmapgl"
           }
          ],
          "histogram": [
           {
            "marker": {
             "colorbar": {
              "outlinewidth": 0,
              "ticks": ""
             }
            },
            "type": "histogram"
           }
          ],
          "histogram2d": [
           {
            "colorbar": {
             "outlinewidth": 0,
             "ticks": ""
            },
            "colorscale": [
             [
              0,
              "#0d0887"
             ],
             [
              0.1111111111111111,
              "#46039f"
             ],
             [
              0.2222222222222222,
              "#7201a8"
             ],
             [
              0.3333333333333333,
              "#9c179e"
             ],
             [
              0.4444444444444444,
              "#bd3786"
             ],
             [
              0.5555555555555556,
              "#d8576b"
             ],
             [
              0.6666666666666666,
              "#ed7953"
             ],
             [
              0.7777777777777778,
              "#fb9f3a"
             ],
             [
              0.8888888888888888,
              "#fdca26"
             ],
             [
              1,
              "#f0f921"
             ]
            ],
            "type": "histogram2d"
           }
          ],
          "histogram2dcontour": [
           {
            "colorbar": {
             "outlinewidth": 0,
             "ticks": ""
            },
            "colorscale": [
             [
              0,
              "#0d0887"
             ],
             [
              0.1111111111111111,
              "#46039f"
             ],
             [
              0.2222222222222222,
              "#7201a8"
             ],
             [
              0.3333333333333333,
              "#9c179e"
             ],
             [
              0.4444444444444444,
              "#bd3786"
             ],
             [
              0.5555555555555556,
              "#d8576b"
             ],
             [
              0.6666666666666666,
              "#ed7953"
             ],
             [
              0.7777777777777778,
              "#fb9f3a"
             ],
             [
              0.8888888888888888,
              "#fdca26"
             ],
             [
              1,
              "#f0f921"
             ]
            ],
            "type": "histogram2dcontour"
           }
          ],
          "mesh3d": [
           {
            "colorbar": {
             "outlinewidth": 0,
             "ticks": ""
            },
            "type": "mesh3d"
           }
          ],
          "parcoords": [
           {
            "line": {
             "colorbar": {
              "outlinewidth": 0,
              "ticks": ""
             }
            },
            "type": "parcoords"
           }
          ],
          "pie": [
           {
            "automargin": true,
            "type": "pie"
           }
          ],
          "scatter": [
           {
            "marker": {
             "colorbar": {
              "outlinewidth": 0,
              "ticks": ""
             }
            },
            "type": "scatter"
           }
          ],
          "scatter3d": [
           {
            "line": {
             "colorbar": {
              "outlinewidth": 0,
              "ticks": ""
             }
            },
            "marker": {
             "colorbar": {
              "outlinewidth": 0,
              "ticks": ""
             }
            },
            "type": "scatter3d"
           }
          ],
          "scattercarpet": [
           {
            "marker": {
             "colorbar": {
              "outlinewidth": 0,
              "ticks": ""
             }
            },
            "type": "scattercarpet"
           }
          ],
          "scattergeo": [
           {
            "marker": {
             "colorbar": {
              "outlinewidth": 0,
              "ticks": ""
             }
            },
            "type": "scattergeo"
           }
          ],
          "scattergl": [
           {
            "marker": {
             "colorbar": {
              "outlinewidth": 0,
              "ticks": ""
             }
            },
            "type": "scattergl"
           }
          ],
          "scattermapbox": [
           {
            "marker": {
             "colorbar": {
              "outlinewidth": 0,
              "ticks": ""
             }
            },
            "type": "scattermapbox"
           }
          ],
          "scatterpolar": [
           {
            "marker": {
             "colorbar": {
              "outlinewidth": 0,
              "ticks": ""
             }
            },
            "type": "scatterpolar"
           }
          ],
          "scatterpolargl": [
           {
            "marker": {
             "colorbar": {
              "outlinewidth": 0,
              "ticks": ""
             }
            },
            "type": "scatterpolargl"
           }
          ],
          "scatterternary": [
           {
            "marker": {
             "colorbar": {
              "outlinewidth": 0,
              "ticks": ""
             }
            },
            "type": "scatterternary"
           }
          ],
          "surface": [
           {
            "colorbar": {
             "outlinewidth": 0,
             "ticks": ""
            },
            "colorscale": [
             [
              0,
              "#0d0887"
             ],
             [
              0.1111111111111111,
              "#46039f"
             ],
             [
              0.2222222222222222,
              "#7201a8"
             ],
             [
              0.3333333333333333,
              "#9c179e"
             ],
             [
              0.4444444444444444,
              "#bd3786"
             ],
             [
              0.5555555555555556,
              "#d8576b"
             ],
             [
              0.6666666666666666,
              "#ed7953"
             ],
             [
              0.7777777777777778,
              "#fb9f3a"
             ],
             [
              0.8888888888888888,
              "#fdca26"
             ],
             [
              1,
              "#f0f921"
             ]
            ],
            "type": "surface"
           }
          ],
          "table": [
           {
            "cells": {
             "fill": {
              "color": "#EBF0F8"
             },
             "line": {
              "color": "white"
             }
            },
            "header": {
             "fill": {
              "color": "#C8D4E3"
             },
             "line": {
              "color": "white"
             }
            },
            "type": "table"
           }
          ]
         },
         "layout": {
          "annotationdefaults": {
           "arrowcolor": "#2a3f5f",
           "arrowhead": 0,
           "arrowwidth": 1
          },
          "autotypenumbers": "strict",
          "coloraxis": {
           "colorbar": {
            "outlinewidth": 0,
            "ticks": ""
           }
          },
          "colorscale": {
           "diverging": [
            [
             0,
             "#8e0152"
            ],
            [
             0.1,
             "#c51b7d"
            ],
            [
             0.2,
             "#de77ae"
            ],
            [
             0.3,
             "#f1b6da"
            ],
            [
             0.4,
             "#fde0ef"
            ],
            [
             0.5,
             "#f7f7f7"
            ],
            [
             0.6,
             "#e6f5d0"
            ],
            [
             0.7,
             "#b8e186"
            ],
            [
             0.8,
             "#7fbc41"
            ],
            [
             0.9,
             "#4d9221"
            ],
            [
             1,
             "#276419"
            ]
           ],
           "sequential": [
            [
             0,
             "#0d0887"
            ],
            [
             0.1111111111111111,
             "#46039f"
            ],
            [
             0.2222222222222222,
             "#7201a8"
            ],
            [
             0.3333333333333333,
             "#9c179e"
            ],
            [
             0.4444444444444444,
             "#bd3786"
            ],
            [
             0.5555555555555556,
             "#d8576b"
            ],
            [
             0.6666666666666666,
             "#ed7953"
            ],
            [
             0.7777777777777778,
             "#fb9f3a"
            ],
            [
             0.8888888888888888,
             "#fdca26"
            ],
            [
             1,
             "#f0f921"
            ]
           ],
           "sequentialminus": [
            [
             0,
             "#0d0887"
            ],
            [
             0.1111111111111111,
             "#46039f"
            ],
            [
             0.2222222222222222,
             "#7201a8"
            ],
            [
             0.3333333333333333,
             "#9c179e"
            ],
            [
             0.4444444444444444,
             "#bd3786"
            ],
            [
             0.5555555555555556,
             "#d8576b"
            ],
            [
             0.6666666666666666,
             "#ed7953"
            ],
            [
             0.7777777777777778,
             "#fb9f3a"
            ],
            [
             0.8888888888888888,
             "#fdca26"
            ],
            [
             1,
             "#f0f921"
            ]
           ]
          },
          "colorway": [
           "#636efa",
           "#EF553B",
           "#00cc96",
           "#ab63fa",
           "#FFA15A",
           "#19d3f3",
           "#FF6692",
           "#B6E880",
           "#FF97FF",
           "#FECB52"
          ],
          "font": {
           "color": "#2a3f5f"
          },
          "geo": {
           "bgcolor": "white",
           "lakecolor": "white",
           "landcolor": "#E5ECF6",
           "showlakes": true,
           "showland": true,
           "subunitcolor": "white"
          },
          "hoverlabel": {
           "align": "left"
          },
          "hovermode": "closest",
          "mapbox": {
           "style": "light"
          },
          "paper_bgcolor": "white",
          "plot_bgcolor": "#E5ECF6",
          "polar": {
           "angularaxis": {
            "gridcolor": "white",
            "linecolor": "white",
            "ticks": ""
           },
           "bgcolor": "#E5ECF6",
           "radialaxis": {
            "gridcolor": "white",
            "linecolor": "white",
            "ticks": ""
           }
          },
          "scene": {
           "xaxis": {
            "backgroundcolor": "#E5ECF6",
            "gridcolor": "white",
            "gridwidth": 2,
            "linecolor": "white",
            "showbackground": true,
            "ticks": "",
            "zerolinecolor": "white"
           },
           "yaxis": {
            "backgroundcolor": "#E5ECF6",
            "gridcolor": "white",
            "gridwidth": 2,
            "linecolor": "white",
            "showbackground": true,
            "ticks": "",
            "zerolinecolor": "white"
           },
           "zaxis": {
            "backgroundcolor": "#E5ECF6",
            "gridcolor": "white",
            "gridwidth": 2,
            "linecolor": "white",
            "showbackground": true,
            "ticks": "",
            "zerolinecolor": "white"
           }
          },
          "shapedefaults": {
           "line": {
            "color": "#2a3f5f"
           }
          },
          "ternary": {
           "aaxis": {
            "gridcolor": "white",
            "linecolor": "white",
            "ticks": ""
           },
           "baxis": {
            "gridcolor": "white",
            "linecolor": "white",
            "ticks": ""
           },
           "bgcolor": "#E5ECF6",
           "caxis": {
            "gridcolor": "white",
            "linecolor": "white",
            "ticks": ""
           }
          },
          "title": {
           "x": 0.05
          },
          "xaxis": {
           "automargin": true,
           "gridcolor": "white",
           "linecolor": "white",
           "ticks": "",
           "title": {
            "standoff": 15
           },
           "zerolinecolor": "white",
           "zerolinewidth": 2
          },
          "yaxis": {
           "automargin": true,
           "gridcolor": "white",
           "linecolor": "white",
           "ticks": "",
           "title": {
            "standoff": 15
           },
           "zerolinecolor": "white",
           "zerolinewidth": 2
          }
         }
        },
        "title": {
         "font": {
          "color": "#4D5663"
         }
        },
        "xaxis": {
         "gridcolor": "#E1E5ED",
         "showgrid": true,
         "tickfont": {
          "color": "#4D5663"
         },
         "title": {
          "font": {
           "color": "#4D5663"
          },
          "text": ""
         },
         "zerolinecolor": "#E1E5ED"
        },
        "yaxis": {
         "gridcolor": "#E1E5ED",
         "showgrid": true,
         "tickfont": {
          "color": "#4D5663"
         },
         "title": {
          "font": {
           "color": "#4D5663"
          },
          "text": ""
         },
         "zerolinecolor": "#E1E5ED"
        }
       }
      },
      "text/html": [
       "<div>                            <div id=\"8c1f698e-059d-42b9-a50e-0a2f0035734a\" class=\"plotly-graph-div\" style=\"height:525px; width:100%;\"></div>            <script type=\"text/javascript\">                require([\"plotly\"], function(Plotly) {                    window.PLOTLYENV=window.PLOTLYENV || {};\n",
       "                    window.PLOTLYENV.BASE_URL='https://plot.ly';                                    if (document.getElementById(\"8c1f698e-059d-42b9-a50e-0a2f0035734a\")) {                    Plotly.newPlot(                        \"8c1f698e-059d-42b9-a50e-0a2f0035734a\",                        [{\"line\": {\"color\": \"rgba(255, 153, 51, 1.0)\", \"dash\": \"solid\", \"shape\": \"linear\", \"width\": 1.3}, \"marker\": {\"size\": 10, \"symbol\": \"circle\"}, \"mode\": \"markers\", \"name\": \"B\", \"text\": \"\", \"type\": \"scatter\", \"x\": [-1.2376533429297487, 0.5210312381862134, -1.0251899876913395, 0.45381839892015724, 2.5579020873643423, -2.311096877009032, 1.0848519410157036, 0.14420890327050329, 0.8761771802727409, -0.5599756647759724, 0.8404008962563776, 0.9360487734843175, -1.2159463914906068, 0.4323468127108094, 1.4875276747986366, -1.8104483053725908, 0.7422040304205689, 2.2293211252216603, 0.15632546876214123, 0.4081041805918467, 0.024748436909957674, -0.727628179660839, -0.3139827530211364, 1.7415908205376824, 1.113900769384104, -1.7478092023943117, 0.8140754057060445, 1.1184203301949367, 0.11643679130544002, 0.2413981464536677, -1.8981945923166192, 0.7814782558065474, 0.12346431470248988, -0.5888166641853814, 0.5638242182369565, -0.04966892567279881, -0.8730779045718278, 0.9937635926043222, -0.3111311960754491, -1.2704479991052302, 0.6145906380641518, -2.1080663744544688, 1.162745468298509, -0.40269202904722307, 0.9816818315776701, 1.2766727602932417, -1.1441699855454301, -1.4095882123449281, 1.3445230473814531, 0.983685841697918, -0.4764813243223706, 0.34186207479032177, -1.3617951618631923, -0.5731448087586377, 1.6229372931953945, -1.8760222194164973, 0.2696419215276941, 1.4759084603076527, 1.2932437655688576, 0.14905939922683087, 1.1274399726091413, 1.6653660922881228, 0.9404296495750097, 1.1505947887788583, -1.7013903166322464, -0.3128888538704009, -2.143472785599862, -0.5117941385029973, 0.9973449715984799, -1.28127634682668, 0.5008584141197462, -0.3438551379470671, -1.496632229824434, -1.0196525699126524, 1.788124743162996, -1.0822473860519988, 0.9805588328233438, 2.23743047144731, 0.2129752042080661, 0.6876725100251737, 0.7340280290562036, -0.44115399131713307, -0.6322101548325217, 0.8240049645002243, -0.0012853927734924836, 0.44660590623353075, -0.3231659858707658, -0.33411455762785336, 0.353841423946161, -0.022911915151177333, 0.5704806182719827, 1.9789498254742628, -1.1043229788804343, 1.2443321962668799, 0.4777611949867243, -0.7944342954051479, 1.3535937388032435, -0.5031726594973573, -0.041696531493813985, 0.9618825324128459], \"y\": [-0.5729984879969171, 0.5909561009580857, -0.6479381979401543, 0.5068431621784943, 0.21022581680114724, -2.035720176553049, -0.48728930433915413, -0.5100542298446442, 1.0746855013944174, -0.03425512643487298, -1.1034087514016049, -0.942789188319332, -0.09798209414877965, -0.75471906104679, 0.5695846791296407, 0.18144063049261203, 0.6755433055426926, 1.6908113005091172, -0.037085297150455485, 0.5093238182228775, 0.4309374328017403, 1.0603891419114981, 0.9600849278946542, 0.41138880181158965, 0.3542988098231076, 0.3793117072240972, -0.32429385709622316, -0.3720488190049271, 0.28700601889218225, -0.4814804689597724, 0.32292724413314056, 1.3750481693772498, 0.375806837908601, 1.0204153020741686, 0.5372488436715573, 0.1630362622470754, -0.37128401061293204, 0.18189386623342524, 1.5443816284277438, -0.5700477904708945, 1.7413818905636158, -1.197416653079403, 0.25236922063720735, -0.8937094378007724, 2.7781482520757224, -0.08022663678328085, 1.2403860792115906, -0.013828930370441302, -0.9348967567711488, -2.225144487840825, -1.2693652149536099, 1.8614425597359745, 0.2543178484847704, -0.9356797873206968, -1.823825627965515, -1.1714380378971925, -0.480426448575434, -0.20624266781744877, 0.339482324534446, 1.097677022740831, -0.5102593440109845, -0.20183972656712482, -0.8960494374584044, -0.5924532644882401, -0.646345965309449, 1.4286394367280775, 1.6501845360404976, 0.511791608963945, 0.4393596006137443, 0.5725738313781439, -0.664265767438522, -0.44164130103306365, 0.6372090453689565, -0.2589300158280436, 1.0894350623522444, 0.26421945331926805, -1.1179733849258793, 0.7729424625201243, -0.6198532415959194, -0.17020060359782097, 0.9341080928874868, 0.24117249940352037, -0.7005627582569318, 0.6582479238215062, -0.0716208850768693, 1.5706154364823148, -0.6497956569183799, 0.5423497355086795, 0.9370286417621064, -0.7308532701982378, 1.508055847158207, 0.9936015984705164, -1.8260543146320227, 0.4892420488884562, 0.9043459424350315, 0.8305425725610729, -1.2589823642833216, -0.7149533393533173, -1.806426117331394, -0.2447907667589656]}],                        {\"legend\": {\"bgcolor\": \"#F5F6F9\", \"font\": {\"color\": \"#4D5663\"}}, \"paper_bgcolor\": \"#F5F6F9\", \"plot_bgcolor\": \"#F5F6F9\", \"template\": {\"data\": {\"bar\": [{\"error_x\": {\"color\": \"#2a3f5f\"}, \"error_y\": {\"color\": \"#2a3f5f\"}, \"marker\": {\"line\": {\"color\": \"#E5ECF6\", \"width\": 0.5}}, \"type\": \"bar\"}], \"barpolar\": [{\"marker\": {\"line\": {\"color\": \"#E5ECF6\", \"width\": 0.5}}, \"type\": \"barpolar\"}], \"carpet\": [{\"aaxis\": {\"endlinecolor\": \"#2a3f5f\", \"gridcolor\": \"white\", \"linecolor\": \"white\", \"minorgridcolor\": \"white\", \"startlinecolor\": \"#2a3f5f\"}, \"baxis\": {\"endlinecolor\": \"#2a3f5f\", \"gridcolor\": \"white\", \"linecolor\": \"white\", \"minorgridcolor\": \"white\", \"startlinecolor\": \"#2a3f5f\"}, \"type\": \"carpet\"}], \"choropleth\": [{\"colorbar\": {\"outlinewidth\": 0, \"ticks\": \"\"}, \"type\": \"choropleth\"}], \"contour\": [{\"colorbar\": {\"outlinewidth\": 0, \"ticks\": \"\"}, \"colorscale\": [[0.0, \"#0d0887\"], [0.1111111111111111, \"#46039f\"], [0.2222222222222222, \"#7201a8\"], [0.3333333333333333, \"#9c179e\"], [0.4444444444444444, \"#bd3786\"], [0.5555555555555556, \"#d8576b\"], [0.6666666666666666, \"#ed7953\"], [0.7777777777777778, \"#fb9f3a\"], [0.8888888888888888, \"#fdca26\"], [1.0, \"#f0f921\"]], \"type\": \"contour\"}], \"contourcarpet\": [{\"colorbar\": {\"outlinewidth\": 0, \"ticks\": \"\"}, \"type\": \"contourcarpet\"}], \"heatmap\": [{\"colorbar\": {\"outlinewidth\": 0, \"ticks\": \"\"}, \"colorscale\": [[0.0, \"#0d0887\"], [0.1111111111111111, \"#46039f\"], [0.2222222222222222, \"#7201a8\"], [0.3333333333333333, \"#9c179e\"], [0.4444444444444444, \"#bd3786\"], [0.5555555555555556, \"#d8576b\"], [0.6666666666666666, \"#ed7953\"], [0.7777777777777778, \"#fb9f3a\"], [0.8888888888888888, \"#fdca26\"], [1.0, \"#f0f921\"]], \"type\": \"heatmap\"}], \"heatmapgl\": [{\"colorbar\": {\"outlinewidth\": 0, \"ticks\": \"\"}, \"colorscale\": [[0.0, \"#0d0887\"], [0.1111111111111111, \"#46039f\"], [0.2222222222222222, \"#7201a8\"], [0.3333333333333333, \"#9c179e\"], [0.4444444444444444, \"#bd3786\"], [0.5555555555555556, \"#d8576b\"], [0.6666666666666666, \"#ed7953\"], [0.7777777777777778, \"#fb9f3a\"], [0.8888888888888888, \"#fdca26\"], [1.0, \"#f0f921\"]], \"type\": \"heatmapgl\"}], \"histogram\": [{\"marker\": {\"colorbar\": {\"outlinewidth\": 0, \"ticks\": \"\"}}, \"type\": \"histogram\"}], \"histogram2d\": [{\"colorbar\": {\"outlinewidth\": 0, \"ticks\": \"\"}, \"colorscale\": [[0.0, \"#0d0887\"], [0.1111111111111111, \"#46039f\"], [0.2222222222222222, \"#7201a8\"], [0.3333333333333333, \"#9c179e\"], [0.4444444444444444, \"#bd3786\"], [0.5555555555555556, \"#d8576b\"], [0.6666666666666666, \"#ed7953\"], [0.7777777777777778, \"#fb9f3a\"], [0.8888888888888888, \"#fdca26\"], [1.0, \"#f0f921\"]], \"type\": \"histogram2d\"}], \"histogram2dcontour\": [{\"colorbar\": {\"outlinewidth\": 0, \"ticks\": \"\"}, \"colorscale\": [[0.0, \"#0d0887\"], [0.1111111111111111, \"#46039f\"], [0.2222222222222222, \"#7201a8\"], [0.3333333333333333, \"#9c179e\"], [0.4444444444444444, \"#bd3786\"], [0.5555555555555556, \"#d8576b\"], [0.6666666666666666, \"#ed7953\"], [0.7777777777777778, \"#fb9f3a\"], [0.8888888888888888, \"#fdca26\"], [1.0, \"#f0f921\"]], \"type\": \"histogram2dcontour\"}], \"mesh3d\": [{\"colorbar\": {\"outlinewidth\": 0, \"ticks\": \"\"}, \"type\": \"mesh3d\"}], \"parcoords\": [{\"line\": {\"colorbar\": {\"outlinewidth\": 0, \"ticks\": \"\"}}, \"type\": \"parcoords\"}], \"pie\": [{\"automargin\": true, \"type\": \"pie\"}], \"scatter\": [{\"marker\": {\"colorbar\": {\"outlinewidth\": 0, \"ticks\": \"\"}}, \"type\": \"scatter\"}], \"scatter3d\": [{\"line\": {\"colorbar\": {\"outlinewidth\": 0, \"ticks\": \"\"}}, \"marker\": {\"colorbar\": {\"outlinewidth\": 0, \"ticks\": \"\"}}, \"type\": \"scatter3d\"}], \"scattercarpet\": [{\"marker\": {\"colorbar\": {\"outlinewidth\": 0, \"ticks\": \"\"}}, \"type\": \"scattercarpet\"}], \"scattergeo\": [{\"marker\": {\"colorbar\": {\"outlinewidth\": 0, \"ticks\": \"\"}}, \"type\": \"scattergeo\"}], \"scattergl\": [{\"marker\": {\"colorbar\": {\"outlinewidth\": 0, \"ticks\": \"\"}}, \"type\": \"scattergl\"}], \"scattermapbox\": [{\"marker\": {\"colorbar\": {\"outlinewidth\": 0, \"ticks\": \"\"}}, \"type\": \"scattermapbox\"}], \"scatterpolar\": [{\"marker\": {\"colorbar\": {\"outlinewidth\": 0, \"ticks\": \"\"}}, \"type\": \"scatterpolar\"}], \"scatterpolargl\": [{\"marker\": {\"colorbar\": {\"outlinewidth\": 0, \"ticks\": \"\"}}, \"type\": \"scatterpolargl\"}], \"scatterternary\": [{\"marker\": {\"colorbar\": {\"outlinewidth\": 0, \"ticks\": \"\"}}, \"type\": \"scatterternary\"}], \"surface\": [{\"colorbar\": {\"outlinewidth\": 0, \"ticks\": \"\"}, \"colorscale\": [[0.0, \"#0d0887\"], [0.1111111111111111, \"#46039f\"], [0.2222222222222222, \"#7201a8\"], [0.3333333333333333, \"#9c179e\"], [0.4444444444444444, \"#bd3786\"], [0.5555555555555556, \"#d8576b\"], [0.6666666666666666, \"#ed7953\"], [0.7777777777777778, \"#fb9f3a\"], [0.8888888888888888, \"#fdca26\"], [1.0, \"#f0f921\"]], \"type\": \"surface\"}], \"table\": [{\"cells\": {\"fill\": {\"color\": \"#EBF0F8\"}, \"line\": {\"color\": \"white\"}}, \"header\": {\"fill\": {\"color\": \"#C8D4E3\"}, \"line\": {\"color\": \"white\"}}, \"type\": \"table\"}]}, \"layout\": {\"annotationdefaults\": {\"arrowcolor\": \"#2a3f5f\", \"arrowhead\": 0, \"arrowwidth\": 1}, \"autotypenumbers\": \"strict\", \"coloraxis\": {\"colorbar\": {\"outlinewidth\": 0, \"ticks\": \"\"}}, \"colorscale\": {\"diverging\": [[0, \"#8e0152\"], [0.1, \"#c51b7d\"], [0.2, \"#de77ae\"], [0.3, \"#f1b6da\"], [0.4, \"#fde0ef\"], [0.5, \"#f7f7f7\"], [0.6, \"#e6f5d0\"], [0.7, \"#b8e186\"], [0.8, \"#7fbc41\"], [0.9, \"#4d9221\"], [1, \"#276419\"]], \"sequential\": [[0.0, \"#0d0887\"], [0.1111111111111111, \"#46039f\"], [0.2222222222222222, \"#7201a8\"], [0.3333333333333333, \"#9c179e\"], [0.4444444444444444, \"#bd3786\"], [0.5555555555555556, \"#d8576b\"], [0.6666666666666666, \"#ed7953\"], [0.7777777777777778, \"#fb9f3a\"], [0.8888888888888888, \"#fdca26\"], [1.0, \"#f0f921\"]], \"sequentialminus\": [[0.0, \"#0d0887\"], [0.1111111111111111, \"#46039f\"], [0.2222222222222222, \"#7201a8\"], [0.3333333333333333, \"#9c179e\"], [0.4444444444444444, \"#bd3786\"], [0.5555555555555556, \"#d8576b\"], [0.6666666666666666, \"#ed7953\"], [0.7777777777777778, \"#fb9f3a\"], [0.8888888888888888, \"#fdca26\"], [1.0, \"#f0f921\"]]}, \"colorway\": [\"#636efa\", \"#EF553B\", \"#00cc96\", \"#ab63fa\", \"#FFA15A\", \"#19d3f3\", \"#FF6692\", \"#B6E880\", \"#FF97FF\", \"#FECB52\"], \"font\": {\"color\": \"#2a3f5f\"}, \"geo\": {\"bgcolor\": \"white\", \"lakecolor\": \"white\", \"landcolor\": \"#E5ECF6\", \"showlakes\": true, \"showland\": true, \"subunitcolor\": \"white\"}, \"hoverlabel\": {\"align\": \"left\"}, \"hovermode\": \"closest\", \"mapbox\": {\"style\": \"light\"}, \"paper_bgcolor\": \"white\", \"plot_bgcolor\": \"#E5ECF6\", \"polar\": {\"angularaxis\": {\"gridcolor\": \"white\", \"linecolor\": \"white\", \"ticks\": \"\"}, \"bgcolor\": \"#E5ECF6\", \"radialaxis\": {\"gridcolor\": \"white\", \"linecolor\": \"white\", \"ticks\": \"\"}}, \"scene\": {\"xaxis\": {\"backgroundcolor\": \"#E5ECF6\", \"gridcolor\": \"white\", \"gridwidth\": 2, \"linecolor\": \"white\", \"showbackground\": true, \"ticks\": \"\", \"zerolinecolor\": \"white\"}, \"yaxis\": {\"backgroundcolor\": \"#E5ECF6\", \"gridcolor\": \"white\", \"gridwidth\": 2, \"linecolor\": \"white\", \"showbackground\": true, \"ticks\": \"\", \"zerolinecolor\": \"white\"}, \"zaxis\": {\"backgroundcolor\": \"#E5ECF6\", \"gridcolor\": \"white\", \"gridwidth\": 2, \"linecolor\": \"white\", \"showbackground\": true, \"ticks\": \"\", \"zerolinecolor\": \"white\"}}, \"shapedefaults\": {\"line\": {\"color\": \"#2a3f5f\"}}, \"ternary\": {\"aaxis\": {\"gridcolor\": \"white\", \"linecolor\": \"white\", \"ticks\": \"\"}, \"baxis\": {\"gridcolor\": \"white\", \"linecolor\": \"white\", \"ticks\": \"\"}, \"bgcolor\": \"#E5ECF6\", \"caxis\": {\"gridcolor\": \"white\", \"linecolor\": \"white\", \"ticks\": \"\"}}, \"title\": {\"x\": 0.05}, \"xaxis\": {\"automargin\": true, \"gridcolor\": \"white\", \"linecolor\": \"white\", \"ticks\": \"\", \"title\": {\"standoff\": 15}, \"zerolinecolor\": \"white\", \"zerolinewidth\": 2}, \"yaxis\": {\"automargin\": true, \"gridcolor\": \"white\", \"linecolor\": \"white\", \"ticks\": \"\", \"title\": {\"standoff\": 15}, \"zerolinecolor\": \"white\", \"zerolinewidth\": 2}}}, \"title\": {\"font\": {\"color\": \"#4D5663\"}}, \"xaxis\": {\"gridcolor\": \"#E1E5ED\", \"showgrid\": true, \"tickfont\": {\"color\": \"#4D5663\"}, \"title\": {\"font\": {\"color\": \"#4D5663\"}, \"text\": \"\"}, \"zerolinecolor\": \"#E1E5ED\"}, \"yaxis\": {\"gridcolor\": \"#E1E5ED\", \"showgrid\": true, \"tickfont\": {\"color\": \"#4D5663\"}, \"title\": {\"font\": {\"color\": \"#4D5663\"}, \"text\": \"\"}, \"zerolinecolor\": \"#E1E5ED\"}},                        {\"showLink\": true, \"linkText\": \"Export to plot.ly\", \"plotlyServerURL\": \"https://plot.ly\", \"responsive\": true}                    ).then(function(){\n",
       "                            \n",
       "var gd = document.getElementById('8c1f698e-059d-42b9-a50e-0a2f0035734a');\n",
       "var x = new MutationObserver(function (mutations, observer) {{\n",
       "        var display = window.getComputedStyle(gd).display;\n",
       "        if (!display || display === 'none') {{\n",
       "            console.log([gd, 'removed!']);\n",
       "            Plotly.purge(gd);\n",
       "            observer.disconnect();\n",
       "        }}\n",
       "}});\n",
       "\n",
       "// Listen for the removal of the full notebook cells\n",
       "var notebookContainer = gd.closest('#notebook-container');\n",
       "if (notebookContainer) {{\n",
       "    x.observe(notebookContainer, {childList: true});\n",
       "}}\n",
       "\n",
       "// Listen for the clearing of the current output cell\n",
       "var outputEl = gd.closest('.output');\n",
       "if (outputEl) {{\n",
       "    x.observe(outputEl, {childList: true});\n",
       "}}\n",
       "\n",
       "                        })                };                });            </script>        </div>"
      ]
     },
     "metadata": {},
     "output_type": "display_data"
    }
   ],
   "source": [
    "df.iplot(kind='scatter', x='A',y='B', mode='markers', size=10) #Markers will give the scattered nodes instead of trying to connect the points"
   ]
  },
  {
   "cell_type": "code",
   "execution_count": 25,
   "metadata": {},
   "outputs": [
    {
     "data": {
      "application/vnd.plotly.v1+json": {
       "config": {
        "linkText": "Export to plot.ly",
        "plotlyServerURL": "https://plot.ly",
        "showLink": true
       },
       "data": [
        {
         "marker": {
          "color": "rgba(255, 153, 51, 0.6)",
          "line": {
           "color": "rgba(255, 153, 51, 1.0)",
           "width": 1
          }
         },
         "name": "Values",
         "orientation": "v",
         "text": "",
         "type": "bar",
         "x": [
          "A",
          "B",
          "C"
         ],
         "y": [
          32,
          43,
          50
         ]
        }
       ],
       "layout": {
        "legend": {
         "bgcolor": "#F5F6F9",
         "font": {
          "color": "#4D5663"
         }
        },
        "paper_bgcolor": "#F5F6F9",
        "plot_bgcolor": "#F5F6F9",
        "template": {
         "data": {
          "bar": [
           {
            "error_x": {
             "color": "#2a3f5f"
            },
            "error_y": {
             "color": "#2a3f5f"
            },
            "marker": {
             "line": {
              "color": "#E5ECF6",
              "width": 0.5
             }
            },
            "type": "bar"
           }
          ],
          "barpolar": [
           {
            "marker": {
             "line": {
              "color": "#E5ECF6",
              "width": 0.5
             }
            },
            "type": "barpolar"
           }
          ],
          "carpet": [
           {
            "aaxis": {
             "endlinecolor": "#2a3f5f",
             "gridcolor": "white",
             "linecolor": "white",
             "minorgridcolor": "white",
             "startlinecolor": "#2a3f5f"
            },
            "baxis": {
             "endlinecolor": "#2a3f5f",
             "gridcolor": "white",
             "linecolor": "white",
             "minorgridcolor": "white",
             "startlinecolor": "#2a3f5f"
            },
            "type": "carpet"
           }
          ],
          "choropleth": [
           {
            "colorbar": {
             "outlinewidth": 0,
             "ticks": ""
            },
            "type": "choropleth"
           }
          ],
          "contour": [
           {
            "colorbar": {
             "outlinewidth": 0,
             "ticks": ""
            },
            "colorscale": [
             [
              0,
              "#0d0887"
             ],
             [
              0.1111111111111111,
              "#46039f"
             ],
             [
              0.2222222222222222,
              "#7201a8"
             ],
             [
              0.3333333333333333,
              "#9c179e"
             ],
             [
              0.4444444444444444,
              "#bd3786"
             ],
             [
              0.5555555555555556,
              "#d8576b"
             ],
             [
              0.6666666666666666,
              "#ed7953"
             ],
             [
              0.7777777777777778,
              "#fb9f3a"
             ],
             [
              0.8888888888888888,
              "#fdca26"
             ],
             [
              1,
              "#f0f921"
             ]
            ],
            "type": "contour"
           }
          ],
          "contourcarpet": [
           {
            "colorbar": {
             "outlinewidth": 0,
             "ticks": ""
            },
            "type": "contourcarpet"
           }
          ],
          "heatmap": [
           {
            "colorbar": {
             "outlinewidth": 0,
             "ticks": ""
            },
            "colorscale": [
             [
              0,
              "#0d0887"
             ],
             [
              0.1111111111111111,
              "#46039f"
             ],
             [
              0.2222222222222222,
              "#7201a8"
             ],
             [
              0.3333333333333333,
              "#9c179e"
             ],
             [
              0.4444444444444444,
              "#bd3786"
             ],
             [
              0.5555555555555556,
              "#d8576b"
             ],
             [
              0.6666666666666666,
              "#ed7953"
             ],
             [
              0.7777777777777778,
              "#fb9f3a"
             ],
             [
              0.8888888888888888,
              "#fdca26"
             ],
             [
              1,
              "#f0f921"
             ]
            ],
            "type": "heatmap"
           }
          ],
          "heatmapgl": [
           {
            "colorbar": {
             "outlinewidth": 0,
             "ticks": ""
            },
            "colorscale": [
             [
              0,
              "#0d0887"
             ],
             [
              0.1111111111111111,
              "#46039f"
             ],
             [
              0.2222222222222222,
              "#7201a8"
             ],
             [
              0.3333333333333333,
              "#9c179e"
             ],
             [
              0.4444444444444444,
              "#bd3786"
             ],
             [
              0.5555555555555556,
              "#d8576b"
             ],
             [
              0.6666666666666666,
              "#ed7953"
             ],
             [
              0.7777777777777778,
              "#fb9f3a"
             ],
             [
              0.8888888888888888,
              "#fdca26"
             ],
             [
              1,
              "#f0f921"
             ]
            ],
            "type": "heatmapgl"
           }
          ],
          "histogram": [
           {
            "marker": {
             "colorbar": {
              "outlinewidth": 0,
              "ticks": ""
             }
            },
            "type": "histogram"
           }
          ],
          "histogram2d": [
           {
            "colorbar": {
             "outlinewidth": 0,
             "ticks": ""
            },
            "colorscale": [
             [
              0,
              "#0d0887"
             ],
             [
              0.1111111111111111,
              "#46039f"
             ],
             [
              0.2222222222222222,
              "#7201a8"
             ],
             [
              0.3333333333333333,
              "#9c179e"
             ],
             [
              0.4444444444444444,
              "#bd3786"
             ],
             [
              0.5555555555555556,
              "#d8576b"
             ],
             [
              0.6666666666666666,
              "#ed7953"
             ],
             [
              0.7777777777777778,
              "#fb9f3a"
             ],
             [
              0.8888888888888888,
              "#fdca26"
             ],
             [
              1,
              "#f0f921"
             ]
            ],
            "type": "histogram2d"
           }
          ],
          "histogram2dcontour": [
           {
            "colorbar": {
             "outlinewidth": 0,
             "ticks": ""
            },
            "colorscale": [
             [
              0,
              "#0d0887"
             ],
             [
              0.1111111111111111,
              "#46039f"
             ],
             [
              0.2222222222222222,
              "#7201a8"
             ],
             [
              0.3333333333333333,
              "#9c179e"
             ],
             [
              0.4444444444444444,
              "#bd3786"
             ],
             [
              0.5555555555555556,
              "#d8576b"
             ],
             [
              0.6666666666666666,
              "#ed7953"
             ],
             [
              0.7777777777777778,
              "#fb9f3a"
             ],
             [
              0.8888888888888888,
              "#fdca26"
             ],
             [
              1,
              "#f0f921"
             ]
            ],
            "type": "histogram2dcontour"
           }
          ],
          "mesh3d": [
           {
            "colorbar": {
             "outlinewidth": 0,
             "ticks": ""
            },
            "type": "mesh3d"
           }
          ],
          "parcoords": [
           {
            "line": {
             "colorbar": {
              "outlinewidth": 0,
              "ticks": ""
             }
            },
            "type": "parcoords"
           }
          ],
          "pie": [
           {
            "automargin": true,
            "type": "pie"
           }
          ],
          "scatter": [
           {
            "marker": {
             "colorbar": {
              "outlinewidth": 0,
              "ticks": ""
             }
            },
            "type": "scatter"
           }
          ],
          "scatter3d": [
           {
            "line": {
             "colorbar": {
              "outlinewidth": 0,
              "ticks": ""
             }
            },
            "marker": {
             "colorbar": {
              "outlinewidth": 0,
              "ticks": ""
             }
            },
            "type": "scatter3d"
           }
          ],
          "scattercarpet": [
           {
            "marker": {
             "colorbar": {
              "outlinewidth": 0,
              "ticks": ""
             }
            },
            "type": "scattercarpet"
           }
          ],
          "scattergeo": [
           {
            "marker": {
             "colorbar": {
              "outlinewidth": 0,
              "ticks": ""
             }
            },
            "type": "scattergeo"
           }
          ],
          "scattergl": [
           {
            "marker": {
             "colorbar": {
              "outlinewidth": 0,
              "ticks": ""
             }
            },
            "type": "scattergl"
           }
          ],
          "scattermapbox": [
           {
            "marker": {
             "colorbar": {
              "outlinewidth": 0,
              "ticks": ""
             }
            },
            "type": "scattermapbox"
           }
          ],
          "scatterpolar": [
           {
            "marker": {
             "colorbar": {
              "outlinewidth": 0,
              "ticks": ""
             }
            },
            "type": "scatterpolar"
           }
          ],
          "scatterpolargl": [
           {
            "marker": {
             "colorbar": {
              "outlinewidth": 0,
              "ticks": ""
             }
            },
            "type": "scatterpolargl"
           }
          ],
          "scatterternary": [
           {
            "marker": {
             "colorbar": {
              "outlinewidth": 0,
              "ticks": ""
             }
            },
            "type": "scatterternary"
           }
          ],
          "surface": [
           {
            "colorbar": {
             "outlinewidth": 0,
             "ticks": ""
            },
            "colorscale": [
             [
              0,
              "#0d0887"
             ],
             [
              0.1111111111111111,
              "#46039f"
             ],
             [
              0.2222222222222222,
              "#7201a8"
             ],
             [
              0.3333333333333333,
              "#9c179e"
             ],
             [
              0.4444444444444444,
              "#bd3786"
             ],
             [
              0.5555555555555556,
              "#d8576b"
             ],
             [
              0.6666666666666666,
              "#ed7953"
             ],
             [
              0.7777777777777778,
              "#fb9f3a"
             ],
             [
              0.8888888888888888,
              "#fdca26"
             ],
             [
              1,
              "#f0f921"
             ]
            ],
            "type": "surface"
           }
          ],
          "table": [
           {
            "cells": {
             "fill": {
              "color": "#EBF0F8"
             },
             "line": {
              "color": "white"
             }
            },
            "header": {
             "fill": {
              "color": "#C8D4E3"
             },
             "line": {
              "color": "white"
             }
            },
            "type": "table"
           }
          ]
         },
         "layout": {
          "annotationdefaults": {
           "arrowcolor": "#2a3f5f",
           "arrowhead": 0,
           "arrowwidth": 1
          },
          "autotypenumbers": "strict",
          "coloraxis": {
           "colorbar": {
            "outlinewidth": 0,
            "ticks": ""
           }
          },
          "colorscale": {
           "diverging": [
            [
             0,
             "#8e0152"
            ],
            [
             0.1,
             "#c51b7d"
            ],
            [
             0.2,
             "#de77ae"
            ],
            [
             0.3,
             "#f1b6da"
            ],
            [
             0.4,
             "#fde0ef"
            ],
            [
             0.5,
             "#f7f7f7"
            ],
            [
             0.6,
             "#e6f5d0"
            ],
            [
             0.7,
             "#b8e186"
            ],
            [
             0.8,
             "#7fbc41"
            ],
            [
             0.9,
             "#4d9221"
            ],
            [
             1,
             "#276419"
            ]
           ],
           "sequential": [
            [
             0,
             "#0d0887"
            ],
            [
             0.1111111111111111,
             "#46039f"
            ],
            [
             0.2222222222222222,
             "#7201a8"
            ],
            [
             0.3333333333333333,
             "#9c179e"
            ],
            [
             0.4444444444444444,
             "#bd3786"
            ],
            [
             0.5555555555555556,
             "#d8576b"
            ],
            [
             0.6666666666666666,
             "#ed7953"
            ],
            [
             0.7777777777777778,
             "#fb9f3a"
            ],
            [
             0.8888888888888888,
             "#fdca26"
            ],
            [
             1,
             "#f0f921"
            ]
           ],
           "sequentialminus": [
            [
             0,
             "#0d0887"
            ],
            [
             0.1111111111111111,
             "#46039f"
            ],
            [
             0.2222222222222222,
             "#7201a8"
            ],
            [
             0.3333333333333333,
             "#9c179e"
            ],
            [
             0.4444444444444444,
             "#bd3786"
            ],
            [
             0.5555555555555556,
             "#d8576b"
            ],
            [
             0.6666666666666666,
             "#ed7953"
            ],
            [
             0.7777777777777778,
             "#fb9f3a"
            ],
            [
             0.8888888888888888,
             "#fdca26"
            ],
            [
             1,
             "#f0f921"
            ]
           ]
          },
          "colorway": [
           "#636efa",
           "#EF553B",
           "#00cc96",
           "#ab63fa",
           "#FFA15A",
           "#19d3f3",
           "#FF6692",
           "#B6E880",
           "#FF97FF",
           "#FECB52"
          ],
          "font": {
           "color": "#2a3f5f"
          },
          "geo": {
           "bgcolor": "white",
           "lakecolor": "white",
           "landcolor": "#E5ECF6",
           "showlakes": true,
           "showland": true,
           "subunitcolor": "white"
          },
          "hoverlabel": {
           "align": "left"
          },
          "hovermode": "closest",
          "mapbox": {
           "style": "light"
          },
          "paper_bgcolor": "white",
          "plot_bgcolor": "#E5ECF6",
          "polar": {
           "angularaxis": {
            "gridcolor": "white",
            "linecolor": "white",
            "ticks": ""
           },
           "bgcolor": "#E5ECF6",
           "radialaxis": {
            "gridcolor": "white",
            "linecolor": "white",
            "ticks": ""
           }
          },
          "scene": {
           "xaxis": {
            "backgroundcolor": "#E5ECF6",
            "gridcolor": "white",
            "gridwidth": 2,
            "linecolor": "white",
            "showbackground": true,
            "ticks": "",
            "zerolinecolor": "white"
           },
           "yaxis": {
            "backgroundcolor": "#E5ECF6",
            "gridcolor": "white",
            "gridwidth": 2,
            "linecolor": "white",
            "showbackground": true,
            "ticks": "",
            "zerolinecolor": "white"
           },
           "zaxis": {
            "backgroundcolor": "#E5ECF6",
            "gridcolor": "white",
            "gridwidth": 2,
            "linecolor": "white",
            "showbackground": true,
            "ticks": "",
            "zerolinecolor": "white"
           }
          },
          "shapedefaults": {
           "line": {
            "color": "#2a3f5f"
           }
          },
          "ternary": {
           "aaxis": {
            "gridcolor": "white",
            "linecolor": "white",
            "ticks": ""
           },
           "baxis": {
            "gridcolor": "white",
            "linecolor": "white",
            "ticks": ""
           },
           "bgcolor": "#E5ECF6",
           "caxis": {
            "gridcolor": "white",
            "linecolor": "white",
            "ticks": ""
           }
          },
          "title": {
           "x": 0.05
          },
          "xaxis": {
           "automargin": true,
           "gridcolor": "white",
           "linecolor": "white",
           "ticks": "",
           "title": {
            "standoff": 15
           },
           "zerolinecolor": "white",
           "zerolinewidth": 2
          },
          "yaxis": {
           "automargin": true,
           "gridcolor": "white",
           "linecolor": "white",
           "ticks": "",
           "title": {
            "standoff": 15
           },
           "zerolinecolor": "white",
           "zerolinewidth": 2
          }
         }
        },
        "title": {
         "font": {
          "color": "#4D5663"
         }
        },
        "xaxis": {
         "gridcolor": "#E1E5ED",
         "showgrid": true,
         "tickfont": {
          "color": "#4D5663"
         },
         "title": {
          "font": {
           "color": "#4D5663"
          },
          "text": ""
         },
         "zerolinecolor": "#E1E5ED"
        },
        "yaxis": {
         "gridcolor": "#E1E5ED",
         "showgrid": true,
         "tickfont": {
          "color": "#4D5663"
         },
         "title": {
          "font": {
           "color": "#4D5663"
          },
          "text": ""
         },
         "zerolinecolor": "#E1E5ED"
        }
       }
      },
      "text/html": [
       "<div>                            <div id=\"5e965d56-bfb7-48c6-a1d0-e64580d58f5b\" class=\"plotly-graph-div\" style=\"height:525px; width:100%;\"></div>            <script type=\"text/javascript\">                require([\"plotly\"], function(Plotly) {                    window.PLOTLYENV=window.PLOTLYENV || {};\n",
       "                    window.PLOTLYENV.BASE_URL='https://plot.ly';                                    if (document.getElementById(\"5e965d56-bfb7-48c6-a1d0-e64580d58f5b\")) {                    Plotly.newPlot(                        \"5e965d56-bfb7-48c6-a1d0-e64580d58f5b\",                        [{\"marker\": {\"color\": \"rgba(255, 153, 51, 0.6)\", \"line\": {\"color\": \"rgba(255, 153, 51, 1.0)\", \"width\": 1}}, \"name\": \"Values\", \"orientation\": \"v\", \"text\": \"\", \"type\": \"bar\", \"x\": [\"A\", \"B\", \"C\"], \"y\": [32, 43, 50]}],                        {\"legend\": {\"bgcolor\": \"#F5F6F9\", \"font\": {\"color\": \"#4D5663\"}}, \"paper_bgcolor\": \"#F5F6F9\", \"plot_bgcolor\": \"#F5F6F9\", \"template\": {\"data\": {\"bar\": [{\"error_x\": {\"color\": \"#2a3f5f\"}, \"error_y\": {\"color\": \"#2a3f5f\"}, \"marker\": {\"line\": {\"color\": \"#E5ECF6\", \"width\": 0.5}}, \"type\": \"bar\"}], \"barpolar\": [{\"marker\": {\"line\": {\"color\": \"#E5ECF6\", \"width\": 0.5}}, \"type\": \"barpolar\"}], \"carpet\": [{\"aaxis\": {\"endlinecolor\": \"#2a3f5f\", \"gridcolor\": \"white\", \"linecolor\": \"white\", \"minorgridcolor\": \"white\", \"startlinecolor\": \"#2a3f5f\"}, \"baxis\": {\"endlinecolor\": \"#2a3f5f\", \"gridcolor\": \"white\", \"linecolor\": \"white\", \"minorgridcolor\": \"white\", \"startlinecolor\": \"#2a3f5f\"}, \"type\": \"carpet\"}], \"choropleth\": [{\"colorbar\": {\"outlinewidth\": 0, \"ticks\": \"\"}, \"type\": \"choropleth\"}], \"contour\": [{\"colorbar\": {\"outlinewidth\": 0, \"ticks\": \"\"}, \"colorscale\": [[0.0, \"#0d0887\"], [0.1111111111111111, \"#46039f\"], [0.2222222222222222, \"#7201a8\"], [0.3333333333333333, \"#9c179e\"], [0.4444444444444444, \"#bd3786\"], [0.5555555555555556, \"#d8576b\"], [0.6666666666666666, \"#ed7953\"], [0.7777777777777778, \"#fb9f3a\"], [0.8888888888888888, \"#fdca26\"], [1.0, \"#f0f921\"]], \"type\": \"contour\"}], \"contourcarpet\": [{\"colorbar\": {\"outlinewidth\": 0, \"ticks\": \"\"}, \"type\": \"contourcarpet\"}], \"heatmap\": [{\"colorbar\": {\"outlinewidth\": 0, \"ticks\": \"\"}, \"colorscale\": [[0.0, \"#0d0887\"], [0.1111111111111111, \"#46039f\"], [0.2222222222222222, \"#7201a8\"], [0.3333333333333333, \"#9c179e\"], [0.4444444444444444, \"#bd3786\"], [0.5555555555555556, \"#d8576b\"], [0.6666666666666666, \"#ed7953\"], [0.7777777777777778, \"#fb9f3a\"], [0.8888888888888888, \"#fdca26\"], [1.0, \"#f0f921\"]], \"type\": \"heatmap\"}], \"heatmapgl\": [{\"colorbar\": {\"outlinewidth\": 0, \"ticks\": \"\"}, \"colorscale\": [[0.0, \"#0d0887\"], [0.1111111111111111, \"#46039f\"], [0.2222222222222222, \"#7201a8\"], [0.3333333333333333, \"#9c179e\"], [0.4444444444444444, \"#bd3786\"], [0.5555555555555556, \"#d8576b\"], [0.6666666666666666, \"#ed7953\"], [0.7777777777777778, \"#fb9f3a\"], [0.8888888888888888, \"#fdca26\"], [1.0, \"#f0f921\"]], \"type\": \"heatmapgl\"}], \"histogram\": [{\"marker\": {\"colorbar\": {\"outlinewidth\": 0, \"ticks\": \"\"}}, \"type\": \"histogram\"}], \"histogram2d\": [{\"colorbar\": {\"outlinewidth\": 0, \"ticks\": \"\"}, \"colorscale\": [[0.0, \"#0d0887\"], [0.1111111111111111, \"#46039f\"], [0.2222222222222222, \"#7201a8\"], [0.3333333333333333, \"#9c179e\"], [0.4444444444444444, \"#bd3786\"], [0.5555555555555556, \"#d8576b\"], [0.6666666666666666, \"#ed7953\"], [0.7777777777777778, \"#fb9f3a\"], [0.8888888888888888, \"#fdca26\"], [1.0, \"#f0f921\"]], \"type\": \"histogram2d\"}], \"histogram2dcontour\": [{\"colorbar\": {\"outlinewidth\": 0, \"ticks\": \"\"}, \"colorscale\": [[0.0, \"#0d0887\"], [0.1111111111111111, \"#46039f\"], [0.2222222222222222, \"#7201a8\"], [0.3333333333333333, \"#9c179e\"], [0.4444444444444444, \"#bd3786\"], [0.5555555555555556, \"#d8576b\"], [0.6666666666666666, \"#ed7953\"], [0.7777777777777778, \"#fb9f3a\"], [0.8888888888888888, \"#fdca26\"], [1.0, \"#f0f921\"]], \"type\": \"histogram2dcontour\"}], \"mesh3d\": [{\"colorbar\": {\"outlinewidth\": 0, \"ticks\": \"\"}, \"type\": \"mesh3d\"}], \"parcoords\": [{\"line\": {\"colorbar\": {\"outlinewidth\": 0, \"ticks\": \"\"}}, \"type\": \"parcoords\"}], \"pie\": [{\"automargin\": true, \"type\": \"pie\"}], \"scatter\": [{\"marker\": {\"colorbar\": {\"outlinewidth\": 0, \"ticks\": \"\"}}, \"type\": \"scatter\"}], \"scatter3d\": [{\"line\": {\"colorbar\": {\"outlinewidth\": 0, \"ticks\": \"\"}}, \"marker\": {\"colorbar\": {\"outlinewidth\": 0, \"ticks\": \"\"}}, \"type\": \"scatter3d\"}], \"scattercarpet\": [{\"marker\": {\"colorbar\": {\"outlinewidth\": 0, \"ticks\": \"\"}}, \"type\": \"scattercarpet\"}], \"scattergeo\": [{\"marker\": {\"colorbar\": {\"outlinewidth\": 0, \"ticks\": \"\"}}, \"type\": \"scattergeo\"}], \"scattergl\": [{\"marker\": {\"colorbar\": {\"outlinewidth\": 0, \"ticks\": \"\"}}, \"type\": \"scattergl\"}], \"scattermapbox\": [{\"marker\": {\"colorbar\": {\"outlinewidth\": 0, \"ticks\": \"\"}}, \"type\": \"scattermapbox\"}], \"scatterpolar\": [{\"marker\": {\"colorbar\": {\"outlinewidth\": 0, \"ticks\": \"\"}}, \"type\": \"scatterpolar\"}], \"scatterpolargl\": [{\"marker\": {\"colorbar\": {\"outlinewidth\": 0, \"ticks\": \"\"}}, \"type\": \"scatterpolargl\"}], \"scatterternary\": [{\"marker\": {\"colorbar\": {\"outlinewidth\": 0, \"ticks\": \"\"}}, \"type\": \"scatterternary\"}], \"surface\": [{\"colorbar\": {\"outlinewidth\": 0, \"ticks\": \"\"}, \"colorscale\": [[0.0, \"#0d0887\"], [0.1111111111111111, \"#46039f\"], [0.2222222222222222, \"#7201a8\"], [0.3333333333333333, \"#9c179e\"], [0.4444444444444444, \"#bd3786\"], [0.5555555555555556, \"#d8576b\"], [0.6666666666666666, \"#ed7953\"], [0.7777777777777778, \"#fb9f3a\"], [0.8888888888888888, \"#fdca26\"], [1.0, \"#f0f921\"]], \"type\": \"surface\"}], \"table\": [{\"cells\": {\"fill\": {\"color\": \"#EBF0F8\"}, \"line\": {\"color\": \"white\"}}, \"header\": {\"fill\": {\"color\": \"#C8D4E3\"}, \"line\": {\"color\": \"white\"}}, \"type\": \"table\"}]}, \"layout\": {\"annotationdefaults\": {\"arrowcolor\": \"#2a3f5f\", \"arrowhead\": 0, \"arrowwidth\": 1}, \"autotypenumbers\": \"strict\", \"coloraxis\": {\"colorbar\": {\"outlinewidth\": 0, \"ticks\": \"\"}}, \"colorscale\": {\"diverging\": [[0, \"#8e0152\"], [0.1, \"#c51b7d\"], [0.2, \"#de77ae\"], [0.3, \"#f1b6da\"], [0.4, \"#fde0ef\"], [0.5, \"#f7f7f7\"], [0.6, \"#e6f5d0\"], [0.7, \"#b8e186\"], [0.8, \"#7fbc41\"], [0.9, \"#4d9221\"], [1, \"#276419\"]], \"sequential\": [[0.0, \"#0d0887\"], [0.1111111111111111, \"#46039f\"], [0.2222222222222222, \"#7201a8\"], [0.3333333333333333, \"#9c179e\"], [0.4444444444444444, \"#bd3786\"], [0.5555555555555556, \"#d8576b\"], [0.6666666666666666, \"#ed7953\"], [0.7777777777777778, \"#fb9f3a\"], [0.8888888888888888, \"#fdca26\"], [1.0, \"#f0f921\"]], \"sequentialminus\": [[0.0, \"#0d0887\"], [0.1111111111111111, \"#46039f\"], [0.2222222222222222, \"#7201a8\"], [0.3333333333333333, \"#9c179e\"], [0.4444444444444444, \"#bd3786\"], [0.5555555555555556, \"#d8576b\"], [0.6666666666666666, \"#ed7953\"], [0.7777777777777778, \"#fb9f3a\"], [0.8888888888888888, \"#fdca26\"], [1.0, \"#f0f921\"]]}, \"colorway\": [\"#636efa\", \"#EF553B\", \"#00cc96\", \"#ab63fa\", \"#FFA15A\", \"#19d3f3\", \"#FF6692\", \"#B6E880\", \"#FF97FF\", \"#FECB52\"], \"font\": {\"color\": \"#2a3f5f\"}, \"geo\": {\"bgcolor\": \"white\", \"lakecolor\": \"white\", \"landcolor\": \"#E5ECF6\", \"showlakes\": true, \"showland\": true, \"subunitcolor\": \"white\"}, \"hoverlabel\": {\"align\": \"left\"}, \"hovermode\": \"closest\", \"mapbox\": {\"style\": \"light\"}, \"paper_bgcolor\": \"white\", \"plot_bgcolor\": \"#E5ECF6\", \"polar\": {\"angularaxis\": {\"gridcolor\": \"white\", \"linecolor\": \"white\", \"ticks\": \"\"}, \"bgcolor\": \"#E5ECF6\", \"radialaxis\": {\"gridcolor\": \"white\", \"linecolor\": \"white\", \"ticks\": \"\"}}, \"scene\": {\"xaxis\": {\"backgroundcolor\": \"#E5ECF6\", \"gridcolor\": \"white\", \"gridwidth\": 2, \"linecolor\": \"white\", \"showbackground\": true, \"ticks\": \"\", \"zerolinecolor\": \"white\"}, \"yaxis\": {\"backgroundcolor\": \"#E5ECF6\", \"gridcolor\": \"white\", \"gridwidth\": 2, \"linecolor\": \"white\", \"showbackground\": true, \"ticks\": \"\", \"zerolinecolor\": \"white\"}, \"zaxis\": {\"backgroundcolor\": \"#E5ECF6\", \"gridcolor\": \"white\", \"gridwidth\": 2, \"linecolor\": \"white\", \"showbackground\": true, \"ticks\": \"\", \"zerolinecolor\": \"white\"}}, \"shapedefaults\": {\"line\": {\"color\": \"#2a3f5f\"}}, \"ternary\": {\"aaxis\": {\"gridcolor\": \"white\", \"linecolor\": \"white\", \"ticks\": \"\"}, \"baxis\": {\"gridcolor\": \"white\", \"linecolor\": \"white\", \"ticks\": \"\"}, \"bgcolor\": \"#E5ECF6\", \"caxis\": {\"gridcolor\": \"white\", \"linecolor\": \"white\", \"ticks\": \"\"}}, \"title\": {\"x\": 0.05}, \"xaxis\": {\"automargin\": true, \"gridcolor\": \"white\", \"linecolor\": \"white\", \"ticks\": \"\", \"title\": {\"standoff\": 15}, \"zerolinecolor\": \"white\", \"zerolinewidth\": 2}, \"yaxis\": {\"automargin\": true, \"gridcolor\": \"white\", \"linecolor\": \"white\", \"ticks\": \"\", \"title\": {\"standoff\": 15}, \"zerolinecolor\": \"white\", \"zerolinewidth\": 2}}}, \"title\": {\"font\": {\"color\": \"#4D5663\"}}, \"xaxis\": {\"gridcolor\": \"#E1E5ED\", \"showgrid\": true, \"tickfont\": {\"color\": \"#4D5663\"}, \"title\": {\"font\": {\"color\": \"#4D5663\"}, \"text\": \"\"}, \"zerolinecolor\": \"#E1E5ED\"}, \"yaxis\": {\"gridcolor\": \"#E1E5ED\", \"showgrid\": true, \"tickfont\": {\"color\": \"#4D5663\"}, \"title\": {\"font\": {\"color\": \"#4D5663\"}, \"text\": \"\"}, \"zerolinecolor\": \"#E1E5ED\"}},                        {\"showLink\": true, \"linkText\": \"Export to plot.ly\", \"plotlyServerURL\": \"https://plot.ly\", \"responsive\": true}                    ).then(function(){\n",
       "                            \n",
       "var gd = document.getElementById('5e965d56-bfb7-48c6-a1d0-e64580d58f5b');\n",
       "var x = new MutationObserver(function (mutations, observer) {{\n",
       "        var display = window.getComputedStyle(gd).display;\n",
       "        if (!display || display === 'none') {{\n",
       "            console.log([gd, 'removed!']);\n",
       "            Plotly.purge(gd);\n",
       "            observer.disconnect();\n",
       "        }}\n",
       "}});\n",
       "\n",
       "// Listen for the removal of the full notebook cells\n",
       "var notebookContainer = gd.closest('#notebook-container');\n",
       "if (notebookContainer) {{\n",
       "    x.observe(notebookContainer, {childList: true});\n",
       "}}\n",
       "\n",
       "// Listen for the clearing of the current output cell\n",
       "var outputEl = gd.closest('.output');\n",
       "if (outputEl) {{\n",
       "    x.observe(outputEl, {childList: true});\n",
       "}}\n",
       "\n",
       "                        })                };                });            </script>        </div>"
      ]
     },
     "metadata": {},
     "output_type": "display_data"
    }
   ],
   "source": [
    "df2.iplot(kind='bar',x='Category', y='Values')"
   ]
  },
  {
   "cell_type": "code",
   "execution_count": 28,
   "metadata": {},
   "outputs": [
    {
     "data": {
      "application/vnd.plotly.v1+json": {
       "config": {
        "linkText": "Export to plot.ly",
        "plotlyServerURL": "https://plot.ly",
        "showLink": true
       },
       "data": [
        {
         "marker": {
          "color": "rgba(255, 153, 51, 0.6)",
          "line": {
           "color": "rgba(255, 153, 51, 1.0)",
           "width": 1
          }
         },
         "name": "None",
         "orientation": "v",
         "text": "",
         "type": "bar",
         "x": [
          "A",
          "B",
          "C",
          "D"
         ],
         "y": [
          13.869492045592503,
          7.255012810749811,
          18.12384467599639,
          12.81726374001055
         ]
        }
       ],
       "layout": {
        "legend": {
         "bgcolor": "#F5F6F9",
         "font": {
          "color": "#4D5663"
         }
        },
        "paper_bgcolor": "#F5F6F9",
        "plot_bgcolor": "#F5F6F9",
        "template": {
         "data": {
          "bar": [
           {
            "error_x": {
             "color": "#2a3f5f"
            },
            "error_y": {
             "color": "#2a3f5f"
            },
            "marker": {
             "line": {
              "color": "#E5ECF6",
              "width": 0.5
             }
            },
            "type": "bar"
           }
          ],
          "barpolar": [
           {
            "marker": {
             "line": {
              "color": "#E5ECF6",
              "width": 0.5
             }
            },
            "type": "barpolar"
           }
          ],
          "carpet": [
           {
            "aaxis": {
             "endlinecolor": "#2a3f5f",
             "gridcolor": "white",
             "linecolor": "white",
             "minorgridcolor": "white",
             "startlinecolor": "#2a3f5f"
            },
            "baxis": {
             "endlinecolor": "#2a3f5f",
             "gridcolor": "white",
             "linecolor": "white",
             "minorgridcolor": "white",
             "startlinecolor": "#2a3f5f"
            },
            "type": "carpet"
           }
          ],
          "choropleth": [
           {
            "colorbar": {
             "outlinewidth": 0,
             "ticks": ""
            },
            "type": "choropleth"
           }
          ],
          "contour": [
           {
            "colorbar": {
             "outlinewidth": 0,
             "ticks": ""
            },
            "colorscale": [
             [
              0,
              "#0d0887"
             ],
             [
              0.1111111111111111,
              "#46039f"
             ],
             [
              0.2222222222222222,
              "#7201a8"
             ],
             [
              0.3333333333333333,
              "#9c179e"
             ],
             [
              0.4444444444444444,
              "#bd3786"
             ],
             [
              0.5555555555555556,
              "#d8576b"
             ],
             [
              0.6666666666666666,
              "#ed7953"
             ],
             [
              0.7777777777777778,
              "#fb9f3a"
             ],
             [
              0.8888888888888888,
              "#fdca26"
             ],
             [
              1,
              "#f0f921"
             ]
            ],
            "type": "contour"
           }
          ],
          "contourcarpet": [
           {
            "colorbar": {
             "outlinewidth": 0,
             "ticks": ""
            },
            "type": "contourcarpet"
           }
          ],
          "heatmap": [
           {
            "colorbar": {
             "outlinewidth": 0,
             "ticks": ""
            },
            "colorscale": [
             [
              0,
              "#0d0887"
             ],
             [
              0.1111111111111111,
              "#46039f"
             ],
             [
              0.2222222222222222,
              "#7201a8"
             ],
             [
              0.3333333333333333,
              "#9c179e"
             ],
             [
              0.4444444444444444,
              "#bd3786"
             ],
             [
              0.5555555555555556,
              "#d8576b"
             ],
             [
              0.6666666666666666,
              "#ed7953"
             ],
             [
              0.7777777777777778,
              "#fb9f3a"
             ],
             [
              0.8888888888888888,
              "#fdca26"
             ],
             [
              1,
              "#f0f921"
             ]
            ],
            "type": "heatmap"
           }
          ],
          "heatmapgl": [
           {
            "colorbar": {
             "outlinewidth": 0,
             "ticks": ""
            },
            "colorscale": [
             [
              0,
              "#0d0887"
             ],
             [
              0.1111111111111111,
              "#46039f"
             ],
             [
              0.2222222222222222,
              "#7201a8"
             ],
             [
              0.3333333333333333,
              "#9c179e"
             ],
             [
              0.4444444444444444,
              "#bd3786"
             ],
             [
              0.5555555555555556,
              "#d8576b"
             ],
             [
              0.6666666666666666,
              "#ed7953"
             ],
             [
              0.7777777777777778,
              "#fb9f3a"
             ],
             [
              0.8888888888888888,
              "#fdca26"
             ],
             [
              1,
              "#f0f921"
             ]
            ],
            "type": "heatmapgl"
           }
          ],
          "histogram": [
           {
            "marker": {
             "colorbar": {
              "outlinewidth": 0,
              "ticks": ""
             }
            },
            "type": "histogram"
           }
          ],
          "histogram2d": [
           {
            "colorbar": {
             "outlinewidth": 0,
             "ticks": ""
            },
            "colorscale": [
             [
              0,
              "#0d0887"
             ],
             [
              0.1111111111111111,
              "#46039f"
             ],
             [
              0.2222222222222222,
              "#7201a8"
             ],
             [
              0.3333333333333333,
              "#9c179e"
             ],
             [
              0.4444444444444444,
              "#bd3786"
             ],
             [
              0.5555555555555556,
              "#d8576b"
             ],
             [
              0.6666666666666666,
              "#ed7953"
             ],
             [
              0.7777777777777778,
              "#fb9f3a"
             ],
             [
              0.8888888888888888,
              "#fdca26"
             ],
             [
              1,
              "#f0f921"
             ]
            ],
            "type": "histogram2d"
           }
          ],
          "histogram2dcontour": [
           {
            "colorbar": {
             "outlinewidth": 0,
             "ticks": ""
            },
            "colorscale": [
             [
              0,
              "#0d0887"
             ],
             [
              0.1111111111111111,
              "#46039f"
             ],
             [
              0.2222222222222222,
              "#7201a8"
             ],
             [
              0.3333333333333333,
              "#9c179e"
             ],
             [
              0.4444444444444444,
              "#bd3786"
             ],
             [
              0.5555555555555556,
              "#d8576b"
             ],
             [
              0.6666666666666666,
              "#ed7953"
             ],
             [
              0.7777777777777778,
              "#fb9f3a"
             ],
             [
              0.8888888888888888,
              "#fdca26"
             ],
             [
              1,
              "#f0f921"
             ]
            ],
            "type": "histogram2dcontour"
           }
          ],
          "mesh3d": [
           {
            "colorbar": {
             "outlinewidth": 0,
             "ticks": ""
            },
            "type": "mesh3d"
           }
          ],
          "parcoords": [
           {
            "line": {
             "colorbar": {
              "outlinewidth": 0,
              "ticks": ""
             }
            },
            "type": "parcoords"
           }
          ],
          "pie": [
           {
            "automargin": true,
            "type": "pie"
           }
          ],
          "scatter": [
           {
            "marker": {
             "colorbar": {
              "outlinewidth": 0,
              "ticks": ""
             }
            },
            "type": "scatter"
           }
          ],
          "scatter3d": [
           {
            "line": {
             "colorbar": {
              "outlinewidth": 0,
              "ticks": ""
             }
            },
            "marker": {
             "colorbar": {
              "outlinewidth": 0,
              "ticks": ""
             }
            },
            "type": "scatter3d"
           }
          ],
          "scattercarpet": [
           {
            "marker": {
             "colorbar": {
              "outlinewidth": 0,
              "ticks": ""
             }
            },
            "type": "scattercarpet"
           }
          ],
          "scattergeo": [
           {
            "marker": {
             "colorbar": {
              "outlinewidth": 0,
              "ticks": ""
             }
            },
            "type": "scattergeo"
           }
          ],
          "scattergl": [
           {
            "marker": {
             "colorbar": {
              "outlinewidth": 0,
              "ticks": ""
             }
            },
            "type": "scattergl"
           }
          ],
          "scattermapbox": [
           {
            "marker": {
             "colorbar": {
              "outlinewidth": 0,
              "ticks": ""
             }
            },
            "type": "scattermapbox"
           }
          ],
          "scatterpolar": [
           {
            "marker": {
             "colorbar": {
              "outlinewidth": 0,
              "ticks": ""
             }
            },
            "type": "scatterpolar"
           }
          ],
          "scatterpolargl": [
           {
            "marker": {
             "colorbar": {
              "outlinewidth": 0,
              "ticks": ""
             }
            },
            "type": "scatterpolargl"
           }
          ],
          "scatterternary": [
           {
            "marker": {
             "colorbar": {
              "outlinewidth": 0,
              "ticks": ""
             }
            },
            "type": "scatterternary"
           }
          ],
          "surface": [
           {
            "colorbar": {
             "outlinewidth": 0,
             "ticks": ""
            },
            "colorscale": [
             [
              0,
              "#0d0887"
             ],
             [
              0.1111111111111111,
              "#46039f"
             ],
             [
              0.2222222222222222,
              "#7201a8"
             ],
             [
              0.3333333333333333,
              "#9c179e"
             ],
             [
              0.4444444444444444,
              "#bd3786"
             ],
             [
              0.5555555555555556,
              "#d8576b"
             ],
             [
              0.6666666666666666,
              "#ed7953"
             ],
             [
              0.7777777777777778,
              "#fb9f3a"
             ],
             [
              0.8888888888888888,
              "#fdca26"
             ],
             [
              1,
              "#f0f921"
             ]
            ],
            "type": "surface"
           }
          ],
          "table": [
           {
            "cells": {
             "fill": {
              "color": "#EBF0F8"
             },
             "line": {
              "color": "white"
             }
            },
            "header": {
             "fill": {
              "color": "#C8D4E3"
             },
             "line": {
              "color": "white"
             }
            },
            "type": "table"
           }
          ]
         },
         "layout": {
          "annotationdefaults": {
           "arrowcolor": "#2a3f5f",
           "arrowhead": 0,
           "arrowwidth": 1
          },
          "autotypenumbers": "strict",
          "coloraxis": {
           "colorbar": {
            "outlinewidth": 0,
            "ticks": ""
           }
          },
          "colorscale": {
           "diverging": [
            [
             0,
             "#8e0152"
            ],
            [
             0.1,
             "#c51b7d"
            ],
            [
             0.2,
             "#de77ae"
            ],
            [
             0.3,
             "#f1b6da"
            ],
            [
             0.4,
             "#fde0ef"
            ],
            [
             0.5,
             "#f7f7f7"
            ],
            [
             0.6,
             "#e6f5d0"
            ],
            [
             0.7,
             "#b8e186"
            ],
            [
             0.8,
             "#7fbc41"
            ],
            [
             0.9,
             "#4d9221"
            ],
            [
             1,
             "#276419"
            ]
           ],
           "sequential": [
            [
             0,
             "#0d0887"
            ],
            [
             0.1111111111111111,
             "#46039f"
            ],
            [
             0.2222222222222222,
             "#7201a8"
            ],
            [
             0.3333333333333333,
             "#9c179e"
            ],
            [
             0.4444444444444444,
             "#bd3786"
            ],
            [
             0.5555555555555556,
             "#d8576b"
            ],
            [
             0.6666666666666666,
             "#ed7953"
            ],
            [
             0.7777777777777778,
             "#fb9f3a"
            ],
            [
             0.8888888888888888,
             "#fdca26"
            ],
            [
             1,
             "#f0f921"
            ]
           ],
           "sequentialminus": [
            [
             0,
             "#0d0887"
            ],
            [
             0.1111111111111111,
             "#46039f"
            ],
            [
             0.2222222222222222,
             "#7201a8"
            ],
            [
             0.3333333333333333,
             "#9c179e"
            ],
            [
             0.4444444444444444,
             "#bd3786"
            ],
            [
             0.5555555555555556,
             "#d8576b"
            ],
            [
             0.6666666666666666,
             "#ed7953"
            ],
            [
             0.7777777777777778,
             "#fb9f3a"
            ],
            [
             0.8888888888888888,
             "#fdca26"
            ],
            [
             1,
             "#f0f921"
            ]
           ]
          },
          "colorway": [
           "#636efa",
           "#EF553B",
           "#00cc96",
           "#ab63fa",
           "#FFA15A",
           "#19d3f3",
           "#FF6692",
           "#B6E880",
           "#FF97FF",
           "#FECB52"
          ],
          "font": {
           "color": "#2a3f5f"
          },
          "geo": {
           "bgcolor": "white",
           "lakecolor": "white",
           "landcolor": "#E5ECF6",
           "showlakes": true,
           "showland": true,
           "subunitcolor": "white"
          },
          "hoverlabel": {
           "align": "left"
          },
          "hovermode": "closest",
          "mapbox": {
           "style": "light"
          },
          "paper_bgcolor": "white",
          "plot_bgcolor": "#E5ECF6",
          "polar": {
           "angularaxis": {
            "gridcolor": "white",
            "linecolor": "white",
            "ticks": ""
           },
           "bgcolor": "#E5ECF6",
           "radialaxis": {
            "gridcolor": "white",
            "linecolor": "white",
            "ticks": ""
           }
          },
          "scene": {
           "xaxis": {
            "backgroundcolor": "#E5ECF6",
            "gridcolor": "white",
            "gridwidth": 2,
            "linecolor": "white",
            "showbackground": true,
            "ticks": "",
            "zerolinecolor": "white"
           },
           "yaxis": {
            "backgroundcolor": "#E5ECF6",
            "gridcolor": "white",
            "gridwidth": 2,
            "linecolor": "white",
            "showbackground": true,
            "ticks": "",
            "zerolinecolor": "white"
           },
           "zaxis": {
            "backgroundcolor": "#E5ECF6",
            "gridcolor": "white",
            "gridwidth": 2,
            "linecolor": "white",
            "showbackground": true,
            "ticks": "",
            "zerolinecolor": "white"
           }
          },
          "shapedefaults": {
           "line": {
            "color": "#2a3f5f"
           }
          },
          "ternary": {
           "aaxis": {
            "gridcolor": "white",
            "linecolor": "white",
            "ticks": ""
           },
           "baxis": {
            "gridcolor": "white",
            "linecolor": "white",
            "ticks": ""
           },
           "bgcolor": "#E5ECF6",
           "caxis": {
            "gridcolor": "white",
            "linecolor": "white",
            "ticks": ""
           }
          },
          "title": {
           "x": 0.05
          },
          "xaxis": {
           "automargin": true,
           "gridcolor": "white",
           "linecolor": "white",
           "ticks": "",
           "title": {
            "standoff": 15
           },
           "zerolinecolor": "white",
           "zerolinewidth": 2
          },
          "yaxis": {
           "automargin": true,
           "gridcolor": "white",
           "linecolor": "white",
           "ticks": "",
           "title": {
            "standoff": 15
           },
           "zerolinecolor": "white",
           "zerolinewidth": 2
          }
         }
        },
        "title": {
         "font": {
          "color": "#4D5663"
         }
        },
        "xaxis": {
         "gridcolor": "#E1E5ED",
         "showgrid": true,
         "tickfont": {
          "color": "#4D5663"
         },
         "title": {
          "font": {
           "color": "#4D5663"
          },
          "text": ""
         },
         "zerolinecolor": "#E1E5ED"
        },
        "yaxis": {
         "gridcolor": "#E1E5ED",
         "showgrid": true,
         "tickfont": {
          "color": "#4D5663"
         },
         "title": {
          "font": {
           "color": "#4D5663"
          },
          "text": ""
         },
         "zerolinecolor": "#E1E5ED"
        }
       }
      },
      "text/html": [
       "<div>                            <div id=\"3e577feb-a814-4894-91ae-fda4778dfc4e\" class=\"plotly-graph-div\" style=\"height:525px; width:100%;\"></div>            <script type=\"text/javascript\">                require([\"plotly\"], function(Plotly) {                    window.PLOTLYENV=window.PLOTLYENV || {};\n",
       "                    window.PLOTLYENV.BASE_URL='https://plot.ly';                                    if (document.getElementById(\"3e577feb-a814-4894-91ae-fda4778dfc4e\")) {                    Plotly.newPlot(                        \"3e577feb-a814-4894-91ae-fda4778dfc4e\",                        [{\"marker\": {\"color\": \"rgba(255, 153, 51, 0.6)\", \"line\": {\"color\": \"rgba(255, 153, 51, 1.0)\", \"width\": 1}}, \"name\": \"None\", \"orientation\": \"v\", \"text\": \"\", \"type\": \"bar\", \"x\": [\"A\", \"B\", \"C\", \"D\"], \"y\": [13.869492045592503, 7.255012810749811, 18.12384467599639, 12.81726374001055]}],                        {\"legend\": {\"bgcolor\": \"#F5F6F9\", \"font\": {\"color\": \"#4D5663\"}}, \"paper_bgcolor\": \"#F5F6F9\", \"plot_bgcolor\": \"#F5F6F9\", \"template\": {\"data\": {\"bar\": [{\"error_x\": {\"color\": \"#2a3f5f\"}, \"error_y\": {\"color\": \"#2a3f5f\"}, \"marker\": {\"line\": {\"color\": \"#E5ECF6\", \"width\": 0.5}}, \"type\": \"bar\"}], \"barpolar\": [{\"marker\": {\"line\": {\"color\": \"#E5ECF6\", \"width\": 0.5}}, \"type\": \"barpolar\"}], \"carpet\": [{\"aaxis\": {\"endlinecolor\": \"#2a3f5f\", \"gridcolor\": \"white\", \"linecolor\": \"white\", \"minorgridcolor\": \"white\", \"startlinecolor\": \"#2a3f5f\"}, \"baxis\": {\"endlinecolor\": \"#2a3f5f\", \"gridcolor\": \"white\", \"linecolor\": \"white\", \"minorgridcolor\": \"white\", \"startlinecolor\": \"#2a3f5f\"}, \"type\": \"carpet\"}], \"choropleth\": [{\"colorbar\": {\"outlinewidth\": 0, \"ticks\": \"\"}, \"type\": \"choropleth\"}], \"contour\": [{\"colorbar\": {\"outlinewidth\": 0, \"ticks\": \"\"}, \"colorscale\": [[0.0, \"#0d0887\"], [0.1111111111111111, \"#46039f\"], [0.2222222222222222, \"#7201a8\"], [0.3333333333333333, \"#9c179e\"], [0.4444444444444444, \"#bd3786\"], [0.5555555555555556, \"#d8576b\"], [0.6666666666666666, \"#ed7953\"], [0.7777777777777778, \"#fb9f3a\"], [0.8888888888888888, \"#fdca26\"], [1.0, \"#f0f921\"]], \"type\": \"contour\"}], \"contourcarpet\": [{\"colorbar\": {\"outlinewidth\": 0, \"ticks\": \"\"}, \"type\": \"contourcarpet\"}], \"heatmap\": [{\"colorbar\": {\"outlinewidth\": 0, \"ticks\": \"\"}, \"colorscale\": [[0.0, \"#0d0887\"], [0.1111111111111111, \"#46039f\"], [0.2222222222222222, \"#7201a8\"], [0.3333333333333333, \"#9c179e\"], [0.4444444444444444, \"#bd3786\"], [0.5555555555555556, \"#d8576b\"], [0.6666666666666666, \"#ed7953\"], [0.7777777777777778, \"#fb9f3a\"], [0.8888888888888888, \"#fdca26\"], [1.0, \"#f0f921\"]], \"type\": \"heatmap\"}], \"heatmapgl\": [{\"colorbar\": {\"outlinewidth\": 0, \"ticks\": \"\"}, \"colorscale\": [[0.0, \"#0d0887\"], [0.1111111111111111, \"#46039f\"], [0.2222222222222222, \"#7201a8\"], [0.3333333333333333, \"#9c179e\"], [0.4444444444444444, \"#bd3786\"], [0.5555555555555556, \"#d8576b\"], [0.6666666666666666, \"#ed7953\"], [0.7777777777777778, \"#fb9f3a\"], [0.8888888888888888, \"#fdca26\"], [1.0, \"#f0f921\"]], \"type\": \"heatmapgl\"}], \"histogram\": [{\"marker\": {\"colorbar\": {\"outlinewidth\": 0, \"ticks\": \"\"}}, \"type\": \"histogram\"}], \"histogram2d\": [{\"colorbar\": {\"outlinewidth\": 0, \"ticks\": \"\"}, \"colorscale\": [[0.0, \"#0d0887\"], [0.1111111111111111, \"#46039f\"], [0.2222222222222222, \"#7201a8\"], [0.3333333333333333, \"#9c179e\"], [0.4444444444444444, \"#bd3786\"], [0.5555555555555556, \"#d8576b\"], [0.6666666666666666, \"#ed7953\"], [0.7777777777777778, \"#fb9f3a\"], [0.8888888888888888, \"#fdca26\"], [1.0, \"#f0f921\"]], \"type\": \"histogram2d\"}], \"histogram2dcontour\": [{\"colorbar\": {\"outlinewidth\": 0, \"ticks\": \"\"}, \"colorscale\": [[0.0, \"#0d0887\"], [0.1111111111111111, \"#46039f\"], [0.2222222222222222, \"#7201a8\"], [0.3333333333333333, \"#9c179e\"], [0.4444444444444444, \"#bd3786\"], [0.5555555555555556, \"#d8576b\"], [0.6666666666666666, \"#ed7953\"], [0.7777777777777778, \"#fb9f3a\"], [0.8888888888888888, \"#fdca26\"], [1.0, \"#f0f921\"]], \"type\": \"histogram2dcontour\"}], \"mesh3d\": [{\"colorbar\": {\"outlinewidth\": 0, \"ticks\": \"\"}, \"type\": \"mesh3d\"}], \"parcoords\": [{\"line\": {\"colorbar\": {\"outlinewidth\": 0, \"ticks\": \"\"}}, \"type\": \"parcoords\"}], \"pie\": [{\"automargin\": true, \"type\": \"pie\"}], \"scatter\": [{\"marker\": {\"colorbar\": {\"outlinewidth\": 0, \"ticks\": \"\"}}, \"type\": \"scatter\"}], \"scatter3d\": [{\"line\": {\"colorbar\": {\"outlinewidth\": 0, \"ticks\": \"\"}}, \"marker\": {\"colorbar\": {\"outlinewidth\": 0, \"ticks\": \"\"}}, \"type\": \"scatter3d\"}], \"scattercarpet\": [{\"marker\": {\"colorbar\": {\"outlinewidth\": 0, \"ticks\": \"\"}}, \"type\": \"scattercarpet\"}], \"scattergeo\": [{\"marker\": {\"colorbar\": {\"outlinewidth\": 0, \"ticks\": \"\"}}, \"type\": \"scattergeo\"}], \"scattergl\": [{\"marker\": {\"colorbar\": {\"outlinewidth\": 0, \"ticks\": \"\"}}, \"type\": \"scattergl\"}], \"scattermapbox\": [{\"marker\": {\"colorbar\": {\"outlinewidth\": 0, \"ticks\": \"\"}}, \"type\": \"scattermapbox\"}], \"scatterpolar\": [{\"marker\": {\"colorbar\": {\"outlinewidth\": 0, \"ticks\": \"\"}}, \"type\": \"scatterpolar\"}], \"scatterpolargl\": [{\"marker\": {\"colorbar\": {\"outlinewidth\": 0, \"ticks\": \"\"}}, \"type\": \"scatterpolargl\"}], \"scatterternary\": [{\"marker\": {\"colorbar\": {\"outlinewidth\": 0, \"ticks\": \"\"}}, \"type\": \"scatterternary\"}], \"surface\": [{\"colorbar\": {\"outlinewidth\": 0, \"ticks\": \"\"}, \"colorscale\": [[0.0, \"#0d0887\"], [0.1111111111111111, \"#46039f\"], [0.2222222222222222, \"#7201a8\"], [0.3333333333333333, \"#9c179e\"], [0.4444444444444444, \"#bd3786\"], [0.5555555555555556, \"#d8576b\"], [0.6666666666666666, \"#ed7953\"], [0.7777777777777778, \"#fb9f3a\"], [0.8888888888888888, \"#fdca26\"], [1.0, \"#f0f921\"]], \"type\": \"surface\"}], \"table\": [{\"cells\": {\"fill\": {\"color\": \"#EBF0F8\"}, \"line\": {\"color\": \"white\"}}, \"header\": {\"fill\": {\"color\": \"#C8D4E3\"}, \"line\": {\"color\": \"white\"}}, \"type\": \"table\"}]}, \"layout\": {\"annotationdefaults\": {\"arrowcolor\": \"#2a3f5f\", \"arrowhead\": 0, \"arrowwidth\": 1}, \"autotypenumbers\": \"strict\", \"coloraxis\": {\"colorbar\": {\"outlinewidth\": 0, \"ticks\": \"\"}}, \"colorscale\": {\"diverging\": [[0, \"#8e0152\"], [0.1, \"#c51b7d\"], [0.2, \"#de77ae\"], [0.3, \"#f1b6da\"], [0.4, \"#fde0ef\"], [0.5, \"#f7f7f7\"], [0.6, \"#e6f5d0\"], [0.7, \"#b8e186\"], [0.8, \"#7fbc41\"], [0.9, \"#4d9221\"], [1, \"#276419\"]], \"sequential\": [[0.0, \"#0d0887\"], [0.1111111111111111, \"#46039f\"], [0.2222222222222222, \"#7201a8\"], [0.3333333333333333, \"#9c179e\"], [0.4444444444444444, \"#bd3786\"], [0.5555555555555556, \"#d8576b\"], [0.6666666666666666, \"#ed7953\"], [0.7777777777777778, \"#fb9f3a\"], [0.8888888888888888, \"#fdca26\"], [1.0, \"#f0f921\"]], \"sequentialminus\": [[0.0, \"#0d0887\"], [0.1111111111111111, \"#46039f\"], [0.2222222222222222, \"#7201a8\"], [0.3333333333333333, \"#9c179e\"], [0.4444444444444444, \"#bd3786\"], [0.5555555555555556, \"#d8576b\"], [0.6666666666666666, \"#ed7953\"], [0.7777777777777778, \"#fb9f3a\"], [0.8888888888888888, \"#fdca26\"], [1.0, \"#f0f921\"]]}, \"colorway\": [\"#636efa\", \"#EF553B\", \"#00cc96\", \"#ab63fa\", \"#FFA15A\", \"#19d3f3\", \"#FF6692\", \"#B6E880\", \"#FF97FF\", \"#FECB52\"], \"font\": {\"color\": \"#2a3f5f\"}, \"geo\": {\"bgcolor\": \"white\", \"lakecolor\": \"white\", \"landcolor\": \"#E5ECF6\", \"showlakes\": true, \"showland\": true, \"subunitcolor\": \"white\"}, \"hoverlabel\": {\"align\": \"left\"}, \"hovermode\": \"closest\", \"mapbox\": {\"style\": \"light\"}, \"paper_bgcolor\": \"white\", \"plot_bgcolor\": \"#E5ECF6\", \"polar\": {\"angularaxis\": {\"gridcolor\": \"white\", \"linecolor\": \"white\", \"ticks\": \"\"}, \"bgcolor\": \"#E5ECF6\", \"radialaxis\": {\"gridcolor\": \"white\", \"linecolor\": \"white\", \"ticks\": \"\"}}, \"scene\": {\"xaxis\": {\"backgroundcolor\": \"#E5ECF6\", \"gridcolor\": \"white\", \"gridwidth\": 2, \"linecolor\": \"white\", \"showbackground\": true, \"ticks\": \"\", \"zerolinecolor\": \"white\"}, \"yaxis\": {\"backgroundcolor\": \"#E5ECF6\", \"gridcolor\": \"white\", \"gridwidth\": 2, \"linecolor\": \"white\", \"showbackground\": true, \"ticks\": \"\", \"zerolinecolor\": \"white\"}, \"zaxis\": {\"backgroundcolor\": \"#E5ECF6\", \"gridcolor\": \"white\", \"gridwidth\": 2, \"linecolor\": \"white\", \"showbackground\": true, \"ticks\": \"\", \"zerolinecolor\": \"white\"}}, \"shapedefaults\": {\"line\": {\"color\": \"#2a3f5f\"}}, \"ternary\": {\"aaxis\": {\"gridcolor\": \"white\", \"linecolor\": \"white\", \"ticks\": \"\"}, \"baxis\": {\"gridcolor\": \"white\", \"linecolor\": \"white\", \"ticks\": \"\"}, \"bgcolor\": \"#E5ECF6\", \"caxis\": {\"gridcolor\": \"white\", \"linecolor\": \"white\", \"ticks\": \"\"}}, \"title\": {\"x\": 0.05}, \"xaxis\": {\"automargin\": true, \"gridcolor\": \"white\", \"linecolor\": \"white\", \"ticks\": \"\", \"title\": {\"standoff\": 15}, \"zerolinecolor\": \"white\", \"zerolinewidth\": 2}, \"yaxis\": {\"automargin\": true, \"gridcolor\": \"white\", \"linecolor\": \"white\", \"ticks\": \"\", \"title\": {\"standoff\": 15}, \"zerolinecolor\": \"white\", \"zerolinewidth\": 2}}}, \"title\": {\"font\": {\"color\": \"#4D5663\"}}, \"xaxis\": {\"gridcolor\": \"#E1E5ED\", \"showgrid\": true, \"tickfont\": {\"color\": \"#4D5663\"}, \"title\": {\"font\": {\"color\": \"#4D5663\"}, \"text\": \"\"}, \"zerolinecolor\": \"#E1E5ED\"}, \"yaxis\": {\"gridcolor\": \"#E1E5ED\", \"showgrid\": true, \"tickfont\": {\"color\": \"#4D5663\"}, \"title\": {\"font\": {\"color\": \"#4D5663\"}, \"text\": \"\"}, \"zerolinecolor\": \"#E1E5ED\"}},                        {\"showLink\": true, \"linkText\": \"Export to plot.ly\", \"plotlyServerURL\": \"https://plot.ly\", \"responsive\": true}                    ).then(function(){\n",
       "                            \n",
       "var gd = document.getElementById('3e577feb-a814-4894-91ae-fda4778dfc4e');\n",
       "var x = new MutationObserver(function (mutations, observer) {{\n",
       "        var display = window.getComputedStyle(gd).display;\n",
       "        if (!display || display === 'none') {{\n",
       "            console.log([gd, 'removed!']);\n",
       "            Plotly.purge(gd);\n",
       "            observer.disconnect();\n",
       "        }}\n",
       "}});\n",
       "\n",
       "// Listen for the removal of the full notebook cells\n",
       "var notebookContainer = gd.closest('#notebook-container');\n",
       "if (notebookContainer) {{\n",
       "    x.observe(notebookContainer, {childList: true});\n",
       "}}\n",
       "\n",
       "// Listen for the clearing of the current output cell\n",
       "var outputEl = gd.closest('.output');\n",
       "if (outputEl) {{\n",
       "    x.observe(outputEl, {childList: true});\n",
       "}}\n",
       "\n",
       "                        })                };                });            </script>        </div>"
      ]
     },
     "metadata": {},
     "output_type": "display_data"
    }
   ],
   "source": [
    "df.sum().iplot(kind='bar')"
   ]
  },
  {
   "cell_type": "code",
   "execution_count": 29,
   "metadata": {},
   "outputs": [
    {
     "data": {
      "application/vnd.plotly.v1+json": {
       "config": {
        "linkText": "Export to plot.ly",
        "plotlyServerURL": "https://plot.ly",
        "showLink": true
       },
       "data": [
        {
         "boxpoints": false,
         "line": {
          "width": 1.3
         },
         "marker": {
          "color": "rgba(255, 153, 51, 1.0)"
         },
         "name": "A",
         "orientation": "v",
         "type": "box",
         "y": [
          -1.2376533429297487,
          0.5210312381862134,
          -1.0251899876913395,
          0.45381839892015724,
          2.5579020873643423,
          -2.311096877009032,
          1.0848519410157036,
          0.14420890327050329,
          0.8761771802727409,
          -0.5599756647759724,
          0.8404008962563776,
          0.9360487734843175,
          -1.2159463914906068,
          0.4323468127108094,
          1.4875276747986366,
          -1.8104483053725908,
          0.7422040304205689,
          2.2293211252216603,
          0.15632546876214123,
          0.4081041805918467,
          0.024748436909957674,
          -0.727628179660839,
          -0.3139827530211364,
          1.7415908205376824,
          1.113900769384104,
          -1.7478092023943117,
          0.8140754057060445,
          1.1184203301949367,
          0.11643679130544002,
          0.2413981464536677,
          -1.8981945923166192,
          0.7814782558065474,
          0.12346431470248988,
          -0.5888166641853814,
          0.5638242182369565,
          -0.04966892567279881,
          -0.8730779045718278,
          0.9937635926043222,
          -0.3111311960754491,
          -1.2704479991052302,
          0.6145906380641518,
          -2.1080663744544688,
          1.162745468298509,
          -0.40269202904722307,
          0.9816818315776701,
          1.2766727602932417,
          -1.1441699855454301,
          -1.4095882123449281,
          1.3445230473814531,
          0.983685841697918,
          -0.4764813243223706,
          0.34186207479032177,
          -1.3617951618631923,
          -0.5731448087586377,
          1.6229372931953945,
          -1.8760222194164973,
          0.2696419215276941,
          1.4759084603076527,
          1.2932437655688576,
          0.14905939922683087,
          1.1274399726091413,
          1.6653660922881228,
          0.9404296495750097,
          1.1505947887788583,
          -1.7013903166322464,
          -0.3128888538704009,
          -2.143472785599862,
          -0.5117941385029973,
          0.9973449715984799,
          -1.28127634682668,
          0.5008584141197462,
          -0.3438551379470671,
          -1.496632229824434,
          -1.0196525699126524,
          1.788124743162996,
          -1.0822473860519988,
          0.9805588328233438,
          2.23743047144731,
          0.2129752042080661,
          0.6876725100251737,
          0.7340280290562036,
          -0.44115399131713307,
          -0.6322101548325217,
          0.8240049645002243,
          -0.0012853927734924836,
          0.44660590623353075,
          -0.3231659858707658,
          -0.33411455762785336,
          0.353841423946161,
          -0.022911915151177333,
          0.5704806182719827,
          1.9789498254742628,
          -1.1043229788804343,
          1.2443321962668799,
          0.4777611949867243,
          -0.7944342954051479,
          1.3535937388032435,
          -0.5031726594973573,
          -0.041696531493813985,
          0.9618825324128459
         ]
        },
        {
         "boxpoints": false,
         "line": {
          "width": 1.3
         },
         "marker": {
          "color": "rgba(55, 128, 191, 1.0)"
         },
         "name": "B",
         "orientation": "v",
         "type": "box",
         "y": [
          -0.5729984879969171,
          0.5909561009580857,
          -0.6479381979401543,
          0.5068431621784943,
          0.21022581680114724,
          -2.035720176553049,
          -0.48728930433915413,
          -0.5100542298446442,
          1.0746855013944174,
          -0.03425512643487298,
          -1.1034087514016049,
          -0.942789188319332,
          -0.09798209414877965,
          -0.75471906104679,
          0.5695846791296407,
          0.18144063049261203,
          0.6755433055426926,
          1.6908113005091172,
          -0.037085297150455485,
          0.5093238182228775,
          0.4309374328017403,
          1.0603891419114981,
          0.9600849278946542,
          0.41138880181158965,
          0.3542988098231076,
          0.3793117072240972,
          -0.32429385709622316,
          -0.3720488190049271,
          0.28700601889218225,
          -0.4814804689597724,
          0.32292724413314056,
          1.3750481693772498,
          0.375806837908601,
          1.0204153020741686,
          0.5372488436715573,
          0.1630362622470754,
          -0.37128401061293204,
          0.18189386623342524,
          1.5443816284277438,
          -0.5700477904708945,
          1.7413818905636158,
          -1.197416653079403,
          0.25236922063720735,
          -0.8937094378007724,
          2.7781482520757224,
          -0.08022663678328085,
          1.2403860792115906,
          -0.013828930370441302,
          -0.9348967567711488,
          -2.225144487840825,
          -1.2693652149536099,
          1.8614425597359745,
          0.2543178484847704,
          -0.9356797873206968,
          -1.823825627965515,
          -1.1714380378971925,
          -0.480426448575434,
          -0.20624266781744877,
          0.339482324534446,
          1.097677022740831,
          -0.5102593440109845,
          -0.20183972656712482,
          -0.8960494374584044,
          -0.5924532644882401,
          -0.646345965309449,
          1.4286394367280775,
          1.6501845360404976,
          0.511791608963945,
          0.4393596006137443,
          0.5725738313781439,
          -0.664265767438522,
          -0.44164130103306365,
          0.6372090453689565,
          -0.2589300158280436,
          1.0894350623522444,
          0.26421945331926805,
          -1.1179733849258793,
          0.7729424625201243,
          -0.6198532415959194,
          -0.17020060359782097,
          0.9341080928874868,
          0.24117249940352037,
          -0.7005627582569318,
          0.6582479238215062,
          -0.0716208850768693,
          1.5706154364823148,
          -0.6497956569183799,
          0.5423497355086795,
          0.9370286417621064,
          -0.7308532701982378,
          1.508055847158207,
          0.9936015984705164,
          -1.8260543146320227,
          0.4892420488884562,
          0.9043459424350315,
          0.8305425725610729,
          -1.2589823642833216,
          -0.7149533393533173,
          -1.806426117331394,
          -0.2447907667589656
         ]
        },
        {
         "boxpoints": false,
         "line": {
          "width": 1.3
         },
         "marker": {
          "color": "rgba(50, 171, 96, 1.0)"
         },
         "name": "C",
         "orientation": "v",
         "type": "box",
         "y": [
          1.4805592905566027,
          0.0066543752263027965,
          -1.3286028101500782,
          -2.3545755391924437,
          1.0310993600795264,
          1.032122832624549,
          -0.043810011026179915,
          0.9744256797617555,
          0.3456701049094342,
          0.8423521574656975,
          1.433220309184025,
          -0.8980879999871899,
          1.6147623452853943,
          0.21919544300404417,
          -1.0559302345773947,
          0.18354579636522608,
          0.4299599738630787,
          0.4715327089955329,
          0.22433403322092066,
          -0.1701929738564229,
          0.014445856319818946,
          2.330175451886577,
          -0.21609523736867256,
          -0.5204245761177559,
          1.2082347022559903,
          -1.9195601523736994,
          1.3945880077314747,
          1.3081201387075758,
          1.2234110953628672,
          -0.6835661797158156,
          0.0665570043084234,
          1.0391744555533386,
          -0.3358626496463016,
          -2.185520038306416,
          0.9697458944052152,
          -0.8256122474871528,
          -2.4315010329769726,
          1.0364397277397897,
          -1.0601026987022133,
          0.47461708144820974,
          -0.07149729774693611,
          -0.03623067332832536,
          -0.7925689358905943,
          0.05446988307968215,
          -1.1232572898508344,
          0.1025333397910067,
          0.9380580646398775,
          -0.5008529310749313,
          0.22070963370902066,
          -0.17260854167125553,
          0.14513281589032356,
          1.0009115797078916,
          1.0767085963140584,
          1.8619219678301797,
          0.6927059967250869,
          1.5260330868510448,
          -0.7159896247720254,
          -0.05972059734144692,
          -0.034738381460860064,
          0.769509319574557,
          0.09664500047496385,
          0.17691284017859255,
          0.2913380396549778,
          3.2442405594833392,
          0.09229706541266704,
          -0.03546257696022987,
          -0.34938427700628666,
          0.6033569176275102,
          1.2475798627255554,
          0.5001313031532152,
          1.9895642597593513,
          -0.33807292400636046,
          -0.5605564204639819,
          0.6281556155426765,
          -0.7184976978868656,
          -0.650976788040386,
          2.0877308714443354,
          -0.9259708427825195,
          0.04333748186656094,
          0.01199626365732882,
          -1.6807498936986958,
          -1.2465891925629309,
          -0.32007399184732765,
          0.308979007976214,
          1.0172825217514485,
          1.5472109178965658,
          -0.01970792241666245,
          -0.15925885259453754,
          0.5227382852124725,
          1.1706056583762108,
          0.9581916124363626,
          -0.7522895783907171,
          -0.11208433456448406,
          -0.9643018419154822,
          -0.718757066862075,
          -0.8660784391536188,
          0.7486710459601194,
          -0.6770755304839471,
          -0.0398451971157505,
          1.7658834584065866
         ]
        },
        {
         "boxpoints": false,
         "line": {
          "width": 1.3
         },
         "marker": {
          "color": "rgba(128, 0, 128, 1.0)"
         },
         "name": "D",
         "orientation": "v",
         "type": "box",
         "y": [
          -0.7465190246535679,
          -0.9842265335198428,
          0.6484868519849506,
          -0.2068290986541139,
          -0.5972146382065648,
          -0.42203985994775345,
          0.4182438022494924,
          -0.5844893364713745,
          0.4008201391216312,
          -1.2290324740235792,
          -0.7077799251950053,
          1.3546704683077024,
          -0.4542137398712673,
          0.9286537367805837,
          0.7204594214362593,
          -0.11513090931528802,
          1.785898681462176,
          0.5331285314346956,
          -0.9043265619163633,
          -0.1766455542300106,
          -0.17925503814217242,
          -1.6596633547722228,
          1.151024454588053,
          0.7778673687567496,
          -0.7758665090402018,
          0.42553540404672163,
          1.031283160673017,
          0.12935088267708061,
          0.44458929024512833,
          0.670611397231192,
          0.5018091289102423,
          -1.1522671786913117,
          1.2912795022490569,
          -0.3059485059018095,
          -0.26411571159650576,
          0.6636426362009814,
          1.2140670548216517,
          -0.07319754186549282,
          -0.9165789670899518,
          0.20593572269346777,
          -0.3700842824416982,
          -0.4360073333517405,
          1.2759262305516617,
          0.5377141215864761,
          -1.9530019130496559,
          0.6101031778018651,
          -0.352198519118916,
          -0.697576285979983,
          0.26770708925037157,
          1.2409937264220636,
          0.41258996970772266,
          0.13388343725704457,
          2.455249490594848,
          -0.7482717412451291,
          2.494950245753326,
          0.1240787234584336,
          -0.9643620517005349,
          -0.23815168028082584,
          -0.0775435767394758,
          1.0150283212803681,
          0.8206876352623158,
          -1.0894916682681155,
          0.15579283324393012,
          1.904954493351993,
          0.16824797197649377,
          -1.1832948156302867,
          -0.29249838944876794,
          0.8297143690850972,
          0.11096598579727883,
          0.06953128204261044,
          -0.023653735031282968,
          0.50616814038998,
          1.367504719973664,
          -0.38606360951124746,
          -1.0568525447619446,
          0.9544403682877086,
          -1.6497546741891913,
          1.7750201106488424,
          1.341970593068722,
          0.26076573393855995,
          0.30792210881631815,
          0.7994971461282097,
          -0.40058434870564696,
          0.4041167201647333,
          1.0017137870891137,
          0.07594057552376524,
          0.28385027272614305,
          0.3463476939117346,
          -0.2875052370385254,
          -0.9940447548383856,
          0.5148861206683616,
          0.20468896487394017,
          -0.08817635809947569,
          0.2896472737276851,
          0.011509376050969236,
          -0.3334735283356169,
          -1.0690549773155893,
          -0.6348985590538168,
          0.5815282458816182,
          -0.3538459049139967
         ]
        }
       ],
       "layout": {
        "legend": {
         "bgcolor": "#F5F6F9",
         "font": {
          "color": "#4D5663"
         }
        },
        "paper_bgcolor": "#F5F6F9",
        "plot_bgcolor": "#F5F6F9",
        "template": {
         "data": {
          "bar": [
           {
            "error_x": {
             "color": "#2a3f5f"
            },
            "error_y": {
             "color": "#2a3f5f"
            },
            "marker": {
             "line": {
              "color": "#E5ECF6",
              "width": 0.5
             }
            },
            "type": "bar"
           }
          ],
          "barpolar": [
           {
            "marker": {
             "line": {
              "color": "#E5ECF6",
              "width": 0.5
             }
            },
            "type": "barpolar"
           }
          ],
          "carpet": [
           {
            "aaxis": {
             "endlinecolor": "#2a3f5f",
             "gridcolor": "white",
             "linecolor": "white",
             "minorgridcolor": "white",
             "startlinecolor": "#2a3f5f"
            },
            "baxis": {
             "endlinecolor": "#2a3f5f",
             "gridcolor": "white",
             "linecolor": "white",
             "minorgridcolor": "white",
             "startlinecolor": "#2a3f5f"
            },
            "type": "carpet"
           }
          ],
          "choropleth": [
           {
            "colorbar": {
             "outlinewidth": 0,
             "ticks": ""
            },
            "type": "choropleth"
           }
          ],
          "contour": [
           {
            "colorbar": {
             "outlinewidth": 0,
             "ticks": ""
            },
            "colorscale": [
             [
              0,
              "#0d0887"
             ],
             [
              0.1111111111111111,
              "#46039f"
             ],
             [
              0.2222222222222222,
              "#7201a8"
             ],
             [
              0.3333333333333333,
              "#9c179e"
             ],
             [
              0.4444444444444444,
              "#bd3786"
             ],
             [
              0.5555555555555556,
              "#d8576b"
             ],
             [
              0.6666666666666666,
              "#ed7953"
             ],
             [
              0.7777777777777778,
              "#fb9f3a"
             ],
             [
              0.8888888888888888,
              "#fdca26"
             ],
             [
              1,
              "#f0f921"
             ]
            ],
            "type": "contour"
           }
          ],
          "contourcarpet": [
           {
            "colorbar": {
             "outlinewidth": 0,
             "ticks": ""
            },
            "type": "contourcarpet"
           }
          ],
          "heatmap": [
           {
            "colorbar": {
             "outlinewidth": 0,
             "ticks": ""
            },
            "colorscale": [
             [
              0,
              "#0d0887"
             ],
             [
              0.1111111111111111,
              "#46039f"
             ],
             [
              0.2222222222222222,
              "#7201a8"
             ],
             [
              0.3333333333333333,
              "#9c179e"
             ],
             [
              0.4444444444444444,
              "#bd3786"
             ],
             [
              0.5555555555555556,
              "#d8576b"
             ],
             [
              0.6666666666666666,
              "#ed7953"
             ],
             [
              0.7777777777777778,
              "#fb9f3a"
             ],
             [
              0.8888888888888888,
              "#fdca26"
             ],
             [
              1,
              "#f0f921"
             ]
            ],
            "type": "heatmap"
           }
          ],
          "heatmapgl": [
           {
            "colorbar": {
             "outlinewidth": 0,
             "ticks": ""
            },
            "colorscale": [
             [
              0,
              "#0d0887"
             ],
             [
              0.1111111111111111,
              "#46039f"
             ],
             [
              0.2222222222222222,
              "#7201a8"
             ],
             [
              0.3333333333333333,
              "#9c179e"
             ],
             [
              0.4444444444444444,
              "#bd3786"
             ],
             [
              0.5555555555555556,
              "#d8576b"
             ],
             [
              0.6666666666666666,
              "#ed7953"
             ],
             [
              0.7777777777777778,
              "#fb9f3a"
             ],
             [
              0.8888888888888888,
              "#fdca26"
             ],
             [
              1,
              "#f0f921"
             ]
            ],
            "type": "heatmapgl"
           }
          ],
          "histogram": [
           {
            "marker": {
             "colorbar": {
              "outlinewidth": 0,
              "ticks": ""
             }
            },
            "type": "histogram"
           }
          ],
          "histogram2d": [
           {
            "colorbar": {
             "outlinewidth": 0,
             "ticks": ""
            },
            "colorscale": [
             [
              0,
              "#0d0887"
             ],
             [
              0.1111111111111111,
              "#46039f"
             ],
             [
              0.2222222222222222,
              "#7201a8"
             ],
             [
              0.3333333333333333,
              "#9c179e"
             ],
             [
              0.4444444444444444,
              "#bd3786"
             ],
             [
              0.5555555555555556,
              "#d8576b"
             ],
             [
              0.6666666666666666,
              "#ed7953"
             ],
             [
              0.7777777777777778,
              "#fb9f3a"
             ],
             [
              0.8888888888888888,
              "#fdca26"
             ],
             [
              1,
              "#f0f921"
             ]
            ],
            "type": "histogram2d"
           }
          ],
          "histogram2dcontour": [
           {
            "colorbar": {
             "outlinewidth": 0,
             "ticks": ""
            },
            "colorscale": [
             [
              0,
              "#0d0887"
             ],
             [
              0.1111111111111111,
              "#46039f"
             ],
             [
              0.2222222222222222,
              "#7201a8"
             ],
             [
              0.3333333333333333,
              "#9c179e"
             ],
             [
              0.4444444444444444,
              "#bd3786"
             ],
             [
              0.5555555555555556,
              "#d8576b"
             ],
             [
              0.6666666666666666,
              "#ed7953"
             ],
             [
              0.7777777777777778,
              "#fb9f3a"
             ],
             [
              0.8888888888888888,
              "#fdca26"
             ],
             [
              1,
              "#f0f921"
             ]
            ],
            "type": "histogram2dcontour"
           }
          ],
          "mesh3d": [
           {
            "colorbar": {
             "outlinewidth": 0,
             "ticks": ""
            },
            "type": "mesh3d"
           }
          ],
          "parcoords": [
           {
            "line": {
             "colorbar": {
              "outlinewidth": 0,
              "ticks": ""
             }
            },
            "type": "parcoords"
           }
          ],
          "pie": [
           {
            "automargin": true,
            "type": "pie"
           }
          ],
          "scatter": [
           {
            "marker": {
             "colorbar": {
              "outlinewidth": 0,
              "ticks": ""
             }
            },
            "type": "scatter"
           }
          ],
          "scatter3d": [
           {
            "line": {
             "colorbar": {
              "outlinewidth": 0,
              "ticks": ""
             }
            },
            "marker": {
             "colorbar": {
              "outlinewidth": 0,
              "ticks": ""
             }
            },
            "type": "scatter3d"
           }
          ],
          "scattercarpet": [
           {
            "marker": {
             "colorbar": {
              "outlinewidth": 0,
              "ticks": ""
             }
            },
            "type": "scattercarpet"
           }
          ],
          "scattergeo": [
           {
            "marker": {
             "colorbar": {
              "outlinewidth": 0,
              "ticks": ""
             }
            },
            "type": "scattergeo"
           }
          ],
          "scattergl": [
           {
            "marker": {
             "colorbar": {
              "outlinewidth": 0,
              "ticks": ""
             }
            },
            "type": "scattergl"
           }
          ],
          "scattermapbox": [
           {
            "marker": {
             "colorbar": {
              "outlinewidth": 0,
              "ticks": ""
             }
            },
            "type": "scattermapbox"
           }
          ],
          "scatterpolar": [
           {
            "marker": {
             "colorbar": {
              "outlinewidth": 0,
              "ticks": ""
             }
            },
            "type": "scatterpolar"
           }
          ],
          "scatterpolargl": [
           {
            "marker": {
             "colorbar": {
              "outlinewidth": 0,
              "ticks": ""
             }
            },
            "type": "scatterpolargl"
           }
          ],
          "scatterternary": [
           {
            "marker": {
             "colorbar": {
              "outlinewidth": 0,
              "ticks": ""
             }
            },
            "type": "scatterternary"
           }
          ],
          "surface": [
           {
            "colorbar": {
             "outlinewidth": 0,
             "ticks": ""
            },
            "colorscale": [
             [
              0,
              "#0d0887"
             ],
             [
              0.1111111111111111,
              "#46039f"
             ],
             [
              0.2222222222222222,
              "#7201a8"
             ],
             [
              0.3333333333333333,
              "#9c179e"
             ],
             [
              0.4444444444444444,
              "#bd3786"
             ],
             [
              0.5555555555555556,
              "#d8576b"
             ],
             [
              0.6666666666666666,
              "#ed7953"
             ],
             [
              0.7777777777777778,
              "#fb9f3a"
             ],
             [
              0.8888888888888888,
              "#fdca26"
             ],
             [
              1,
              "#f0f921"
             ]
            ],
            "type": "surface"
           }
          ],
          "table": [
           {
            "cells": {
             "fill": {
              "color": "#EBF0F8"
             },
             "line": {
              "color": "white"
             }
            },
            "header": {
             "fill": {
              "color": "#C8D4E3"
             },
             "line": {
              "color": "white"
             }
            },
            "type": "table"
           }
          ]
         },
         "layout": {
          "annotationdefaults": {
           "arrowcolor": "#2a3f5f",
           "arrowhead": 0,
           "arrowwidth": 1
          },
          "autotypenumbers": "strict",
          "coloraxis": {
           "colorbar": {
            "outlinewidth": 0,
            "ticks": ""
           }
          },
          "colorscale": {
           "diverging": [
            [
             0,
             "#8e0152"
            ],
            [
             0.1,
             "#c51b7d"
            ],
            [
             0.2,
             "#de77ae"
            ],
            [
             0.3,
             "#f1b6da"
            ],
            [
             0.4,
             "#fde0ef"
            ],
            [
             0.5,
             "#f7f7f7"
            ],
            [
             0.6,
             "#e6f5d0"
            ],
            [
             0.7,
             "#b8e186"
            ],
            [
             0.8,
             "#7fbc41"
            ],
            [
             0.9,
             "#4d9221"
            ],
            [
             1,
             "#276419"
            ]
           ],
           "sequential": [
            [
             0,
             "#0d0887"
            ],
            [
             0.1111111111111111,
             "#46039f"
            ],
            [
             0.2222222222222222,
             "#7201a8"
            ],
            [
             0.3333333333333333,
             "#9c179e"
            ],
            [
             0.4444444444444444,
             "#bd3786"
            ],
            [
             0.5555555555555556,
             "#d8576b"
            ],
            [
             0.6666666666666666,
             "#ed7953"
            ],
            [
             0.7777777777777778,
             "#fb9f3a"
            ],
            [
             0.8888888888888888,
             "#fdca26"
            ],
            [
             1,
             "#f0f921"
            ]
           ],
           "sequentialminus": [
            [
             0,
             "#0d0887"
            ],
            [
             0.1111111111111111,
             "#46039f"
            ],
            [
             0.2222222222222222,
             "#7201a8"
            ],
            [
             0.3333333333333333,
             "#9c179e"
            ],
            [
             0.4444444444444444,
             "#bd3786"
            ],
            [
             0.5555555555555556,
             "#d8576b"
            ],
            [
             0.6666666666666666,
             "#ed7953"
            ],
            [
             0.7777777777777778,
             "#fb9f3a"
            ],
            [
             0.8888888888888888,
             "#fdca26"
            ],
            [
             1,
             "#f0f921"
            ]
           ]
          },
          "colorway": [
           "#636efa",
           "#EF553B",
           "#00cc96",
           "#ab63fa",
           "#FFA15A",
           "#19d3f3",
           "#FF6692",
           "#B6E880",
           "#FF97FF",
           "#FECB52"
          ],
          "font": {
           "color": "#2a3f5f"
          },
          "geo": {
           "bgcolor": "white",
           "lakecolor": "white",
           "landcolor": "#E5ECF6",
           "showlakes": true,
           "showland": true,
           "subunitcolor": "white"
          },
          "hoverlabel": {
           "align": "left"
          },
          "hovermode": "closest",
          "mapbox": {
           "style": "light"
          },
          "paper_bgcolor": "white",
          "plot_bgcolor": "#E5ECF6",
          "polar": {
           "angularaxis": {
            "gridcolor": "white",
            "linecolor": "white",
            "ticks": ""
           },
           "bgcolor": "#E5ECF6",
           "radialaxis": {
            "gridcolor": "white",
            "linecolor": "white",
            "ticks": ""
           }
          },
          "scene": {
           "xaxis": {
            "backgroundcolor": "#E5ECF6",
            "gridcolor": "white",
            "gridwidth": 2,
            "linecolor": "white",
            "showbackground": true,
            "ticks": "",
            "zerolinecolor": "white"
           },
           "yaxis": {
            "backgroundcolor": "#E5ECF6",
            "gridcolor": "white",
            "gridwidth": 2,
            "linecolor": "white",
            "showbackground": true,
            "ticks": "",
            "zerolinecolor": "white"
           },
           "zaxis": {
            "backgroundcolor": "#E5ECF6",
            "gridcolor": "white",
            "gridwidth": 2,
            "linecolor": "white",
            "showbackground": true,
            "ticks": "",
            "zerolinecolor": "white"
           }
          },
          "shapedefaults": {
           "line": {
            "color": "#2a3f5f"
           }
          },
          "ternary": {
           "aaxis": {
            "gridcolor": "white",
            "linecolor": "white",
            "ticks": ""
           },
           "baxis": {
            "gridcolor": "white",
            "linecolor": "white",
            "ticks": ""
           },
           "bgcolor": "#E5ECF6",
           "caxis": {
            "gridcolor": "white",
            "linecolor": "white",
            "ticks": ""
           }
          },
          "title": {
           "x": 0.05
          },
          "xaxis": {
           "automargin": true,
           "gridcolor": "white",
           "linecolor": "white",
           "ticks": "",
           "title": {
            "standoff": 15
           },
           "zerolinecolor": "white",
           "zerolinewidth": 2
          },
          "yaxis": {
           "automargin": true,
           "gridcolor": "white",
           "linecolor": "white",
           "ticks": "",
           "title": {
            "standoff": 15
           },
           "zerolinecolor": "white",
           "zerolinewidth": 2
          }
         }
        },
        "title": {
         "font": {
          "color": "#4D5663"
         }
        },
        "xaxis": {
         "gridcolor": "#E1E5ED",
         "showgrid": true,
         "tickfont": {
          "color": "#4D5663"
         },
         "title": {
          "font": {
           "color": "#4D5663"
          },
          "text": ""
         },
         "zerolinecolor": "#E1E5ED"
        },
        "yaxis": {
         "gridcolor": "#E1E5ED",
         "showgrid": true,
         "tickfont": {
          "color": "#4D5663"
         },
         "title": {
          "font": {
           "color": "#4D5663"
          },
          "text": ""
         },
         "zerolinecolor": "#E1E5ED"
        }
       }
      },
      "text/html": [
       "<div>                            <div id=\"66561523-9bd5-4201-a890-da491c7f678d\" class=\"plotly-graph-div\" style=\"height:525px; width:100%;\"></div>            <script type=\"text/javascript\">                require([\"plotly\"], function(Plotly) {                    window.PLOTLYENV=window.PLOTLYENV || {};\n",
       "                    window.PLOTLYENV.BASE_URL='https://plot.ly';                                    if (document.getElementById(\"66561523-9bd5-4201-a890-da491c7f678d\")) {                    Plotly.newPlot(                        \"66561523-9bd5-4201-a890-da491c7f678d\",                        [{\"boxpoints\": false, \"line\": {\"width\": 1.3}, \"marker\": {\"color\": \"rgba(255, 153, 51, 1.0)\"}, \"name\": \"A\", \"orientation\": \"v\", \"type\": \"box\", \"y\": [-1.2376533429297487, 0.5210312381862134, -1.0251899876913395, 0.45381839892015724, 2.5579020873643423, -2.311096877009032, 1.0848519410157036, 0.14420890327050329, 0.8761771802727409, -0.5599756647759724, 0.8404008962563776, 0.9360487734843175, -1.2159463914906068, 0.4323468127108094, 1.4875276747986366, -1.8104483053725908, 0.7422040304205689, 2.2293211252216603, 0.15632546876214123, 0.4081041805918467, 0.024748436909957674, -0.727628179660839, -0.3139827530211364, 1.7415908205376824, 1.113900769384104, -1.7478092023943117, 0.8140754057060445, 1.1184203301949367, 0.11643679130544002, 0.2413981464536677, -1.8981945923166192, 0.7814782558065474, 0.12346431470248988, -0.5888166641853814, 0.5638242182369565, -0.04966892567279881, -0.8730779045718278, 0.9937635926043222, -0.3111311960754491, -1.2704479991052302, 0.6145906380641518, -2.1080663744544688, 1.162745468298509, -0.40269202904722307, 0.9816818315776701, 1.2766727602932417, -1.1441699855454301, -1.4095882123449281, 1.3445230473814531, 0.983685841697918, -0.4764813243223706, 0.34186207479032177, -1.3617951618631923, -0.5731448087586377, 1.6229372931953945, -1.8760222194164973, 0.2696419215276941, 1.4759084603076527, 1.2932437655688576, 0.14905939922683087, 1.1274399726091413, 1.6653660922881228, 0.9404296495750097, 1.1505947887788583, -1.7013903166322464, -0.3128888538704009, -2.143472785599862, -0.5117941385029973, 0.9973449715984799, -1.28127634682668, 0.5008584141197462, -0.3438551379470671, -1.496632229824434, -1.0196525699126524, 1.788124743162996, -1.0822473860519988, 0.9805588328233438, 2.23743047144731, 0.2129752042080661, 0.6876725100251737, 0.7340280290562036, -0.44115399131713307, -0.6322101548325217, 0.8240049645002243, -0.0012853927734924836, 0.44660590623353075, -0.3231659858707658, -0.33411455762785336, 0.353841423946161, -0.022911915151177333, 0.5704806182719827, 1.9789498254742628, -1.1043229788804343, 1.2443321962668799, 0.4777611949867243, -0.7944342954051479, 1.3535937388032435, -0.5031726594973573, -0.041696531493813985, 0.9618825324128459]}, {\"boxpoints\": false, \"line\": {\"width\": 1.3}, \"marker\": {\"color\": \"rgba(55, 128, 191, 1.0)\"}, \"name\": \"B\", \"orientation\": \"v\", \"type\": \"box\", \"y\": [-0.5729984879969171, 0.5909561009580857, -0.6479381979401543, 0.5068431621784943, 0.21022581680114724, -2.035720176553049, -0.48728930433915413, -0.5100542298446442, 1.0746855013944174, -0.03425512643487298, -1.1034087514016049, -0.942789188319332, -0.09798209414877965, -0.75471906104679, 0.5695846791296407, 0.18144063049261203, 0.6755433055426926, 1.6908113005091172, -0.037085297150455485, 0.5093238182228775, 0.4309374328017403, 1.0603891419114981, 0.9600849278946542, 0.41138880181158965, 0.3542988098231076, 0.3793117072240972, -0.32429385709622316, -0.3720488190049271, 0.28700601889218225, -0.4814804689597724, 0.32292724413314056, 1.3750481693772498, 0.375806837908601, 1.0204153020741686, 0.5372488436715573, 0.1630362622470754, -0.37128401061293204, 0.18189386623342524, 1.5443816284277438, -0.5700477904708945, 1.7413818905636158, -1.197416653079403, 0.25236922063720735, -0.8937094378007724, 2.7781482520757224, -0.08022663678328085, 1.2403860792115906, -0.013828930370441302, -0.9348967567711488, -2.225144487840825, -1.2693652149536099, 1.8614425597359745, 0.2543178484847704, -0.9356797873206968, -1.823825627965515, -1.1714380378971925, -0.480426448575434, -0.20624266781744877, 0.339482324534446, 1.097677022740831, -0.5102593440109845, -0.20183972656712482, -0.8960494374584044, -0.5924532644882401, -0.646345965309449, 1.4286394367280775, 1.6501845360404976, 0.511791608963945, 0.4393596006137443, 0.5725738313781439, -0.664265767438522, -0.44164130103306365, 0.6372090453689565, -0.2589300158280436, 1.0894350623522444, 0.26421945331926805, -1.1179733849258793, 0.7729424625201243, -0.6198532415959194, -0.17020060359782097, 0.9341080928874868, 0.24117249940352037, -0.7005627582569318, 0.6582479238215062, -0.0716208850768693, 1.5706154364823148, -0.6497956569183799, 0.5423497355086795, 0.9370286417621064, -0.7308532701982378, 1.508055847158207, 0.9936015984705164, -1.8260543146320227, 0.4892420488884562, 0.9043459424350315, 0.8305425725610729, -1.2589823642833216, -0.7149533393533173, -1.806426117331394, -0.2447907667589656]}, {\"boxpoints\": false, \"line\": {\"width\": 1.3}, \"marker\": {\"color\": \"rgba(50, 171, 96, 1.0)\"}, \"name\": \"C\", \"orientation\": \"v\", \"type\": \"box\", \"y\": [1.4805592905566027, 0.0066543752263027965, -1.3286028101500782, -2.3545755391924437, 1.0310993600795264, 1.032122832624549, -0.043810011026179915, 0.9744256797617555, 0.3456701049094342, 0.8423521574656975, 1.433220309184025, -0.8980879999871899, 1.6147623452853943, 0.21919544300404417, -1.0559302345773947, 0.18354579636522608, 0.4299599738630787, 0.4715327089955329, 0.22433403322092066, -0.1701929738564229, 0.014445856319818946, 2.330175451886577, -0.21609523736867256, -0.5204245761177559, 1.2082347022559903, -1.9195601523736994, 1.3945880077314747, 1.3081201387075758, 1.2234110953628672, -0.6835661797158156, 0.0665570043084234, 1.0391744555533386, -0.3358626496463016, -2.185520038306416, 0.9697458944052152, -0.8256122474871528, -2.4315010329769726, 1.0364397277397897, -1.0601026987022133, 0.47461708144820974, -0.07149729774693611, -0.03623067332832536, -0.7925689358905943, 0.05446988307968215, -1.1232572898508344, 0.1025333397910067, 0.9380580646398775, -0.5008529310749313, 0.22070963370902066, -0.17260854167125553, 0.14513281589032356, 1.0009115797078916, 1.0767085963140584, 1.8619219678301797, 0.6927059967250869, 1.5260330868510448, -0.7159896247720254, -0.05972059734144692, -0.034738381460860064, 0.769509319574557, 0.09664500047496385, 0.17691284017859255, 0.2913380396549778, 3.2442405594833392, 0.09229706541266704, -0.03546257696022987, -0.34938427700628666, 0.6033569176275102, 1.2475798627255554, 0.5001313031532152, 1.9895642597593513, -0.33807292400636046, -0.5605564204639819, 0.6281556155426765, -0.7184976978868656, -0.650976788040386, 2.0877308714443354, -0.9259708427825195, 0.04333748186656094, 0.01199626365732882, -1.6807498936986958, -1.2465891925629309, -0.32007399184732765, 0.308979007976214, 1.0172825217514485, 1.5472109178965658, -0.01970792241666245, -0.15925885259453754, 0.5227382852124725, 1.1706056583762108, 0.9581916124363626, -0.7522895783907171, -0.11208433456448406, -0.9643018419154822, -0.718757066862075, -0.8660784391536188, 0.7486710459601194, -0.6770755304839471, -0.0398451971157505, 1.7658834584065866]}, {\"boxpoints\": false, \"line\": {\"width\": 1.3}, \"marker\": {\"color\": \"rgba(128, 0, 128, 1.0)\"}, \"name\": \"D\", \"orientation\": \"v\", \"type\": \"box\", \"y\": [-0.7465190246535679, -0.9842265335198428, 0.6484868519849506, -0.2068290986541139, -0.5972146382065648, -0.42203985994775345, 0.4182438022494924, -0.5844893364713745, 0.4008201391216312, -1.2290324740235792, -0.7077799251950053, 1.3546704683077024, -0.4542137398712673, 0.9286537367805837, 0.7204594214362593, -0.11513090931528802, 1.785898681462176, 0.5331285314346956, -0.9043265619163633, -0.1766455542300106, -0.17925503814217242, -1.6596633547722228, 1.151024454588053, 0.7778673687567496, -0.7758665090402018, 0.42553540404672163, 1.031283160673017, 0.12935088267708061, 0.44458929024512833, 0.670611397231192, 0.5018091289102423, -1.1522671786913117, 1.2912795022490569, -0.3059485059018095, -0.26411571159650576, 0.6636426362009814, 1.2140670548216517, -0.07319754186549282, -0.9165789670899518, 0.20593572269346777, -0.3700842824416982, -0.4360073333517405, 1.2759262305516617, 0.5377141215864761, -1.9530019130496559, 0.6101031778018651, -0.352198519118916, -0.697576285979983, 0.26770708925037157, 1.2409937264220636, 0.41258996970772266, 0.13388343725704457, 2.455249490594848, -0.7482717412451291, 2.494950245753326, 0.1240787234584336, -0.9643620517005349, -0.23815168028082584, -0.0775435767394758, 1.0150283212803681, 0.8206876352623158, -1.0894916682681155, 0.15579283324393012, 1.904954493351993, 0.16824797197649377, -1.1832948156302867, -0.29249838944876794, 0.8297143690850972, 0.11096598579727883, 0.06953128204261044, -0.023653735031282968, 0.50616814038998, 1.367504719973664, -0.38606360951124746, -1.0568525447619446, 0.9544403682877086, -1.6497546741891913, 1.7750201106488424, 1.341970593068722, 0.26076573393855995, 0.30792210881631815, 0.7994971461282097, -0.40058434870564696, 0.4041167201647333, 1.0017137870891137, 0.07594057552376524, 0.28385027272614305, 0.3463476939117346, -0.2875052370385254, -0.9940447548383856, 0.5148861206683616, 0.20468896487394017, -0.08817635809947569, 0.2896472737276851, 0.011509376050969236, -0.3334735283356169, -1.0690549773155893, -0.6348985590538168, 0.5815282458816182, -0.3538459049139967]}],                        {\"legend\": {\"bgcolor\": \"#F5F6F9\", \"font\": {\"color\": \"#4D5663\"}}, \"paper_bgcolor\": \"#F5F6F9\", \"plot_bgcolor\": \"#F5F6F9\", \"template\": {\"data\": {\"bar\": [{\"error_x\": {\"color\": \"#2a3f5f\"}, \"error_y\": {\"color\": \"#2a3f5f\"}, \"marker\": {\"line\": {\"color\": \"#E5ECF6\", \"width\": 0.5}}, \"type\": \"bar\"}], \"barpolar\": [{\"marker\": {\"line\": {\"color\": \"#E5ECF6\", \"width\": 0.5}}, \"type\": \"barpolar\"}], \"carpet\": [{\"aaxis\": {\"endlinecolor\": \"#2a3f5f\", \"gridcolor\": \"white\", \"linecolor\": \"white\", \"minorgridcolor\": \"white\", \"startlinecolor\": \"#2a3f5f\"}, \"baxis\": {\"endlinecolor\": \"#2a3f5f\", \"gridcolor\": \"white\", \"linecolor\": \"white\", \"minorgridcolor\": \"white\", \"startlinecolor\": \"#2a3f5f\"}, \"type\": \"carpet\"}], \"choropleth\": [{\"colorbar\": {\"outlinewidth\": 0, \"ticks\": \"\"}, \"type\": \"choropleth\"}], \"contour\": [{\"colorbar\": {\"outlinewidth\": 0, \"ticks\": \"\"}, \"colorscale\": [[0.0, \"#0d0887\"], [0.1111111111111111, \"#46039f\"], [0.2222222222222222, \"#7201a8\"], [0.3333333333333333, \"#9c179e\"], [0.4444444444444444, \"#bd3786\"], [0.5555555555555556, \"#d8576b\"], [0.6666666666666666, \"#ed7953\"], [0.7777777777777778, \"#fb9f3a\"], [0.8888888888888888, \"#fdca26\"], [1.0, \"#f0f921\"]], \"type\": \"contour\"}], \"contourcarpet\": [{\"colorbar\": {\"outlinewidth\": 0, \"ticks\": \"\"}, \"type\": \"contourcarpet\"}], \"heatmap\": [{\"colorbar\": {\"outlinewidth\": 0, \"ticks\": \"\"}, \"colorscale\": [[0.0, \"#0d0887\"], [0.1111111111111111, \"#46039f\"], [0.2222222222222222, \"#7201a8\"], [0.3333333333333333, \"#9c179e\"], [0.4444444444444444, \"#bd3786\"], [0.5555555555555556, \"#d8576b\"], [0.6666666666666666, \"#ed7953\"], [0.7777777777777778, \"#fb9f3a\"], [0.8888888888888888, \"#fdca26\"], [1.0, \"#f0f921\"]], \"type\": \"heatmap\"}], \"heatmapgl\": [{\"colorbar\": {\"outlinewidth\": 0, \"ticks\": \"\"}, \"colorscale\": [[0.0, \"#0d0887\"], [0.1111111111111111, \"#46039f\"], [0.2222222222222222, \"#7201a8\"], [0.3333333333333333, \"#9c179e\"], [0.4444444444444444, \"#bd3786\"], [0.5555555555555556, \"#d8576b\"], [0.6666666666666666, \"#ed7953\"], [0.7777777777777778, \"#fb9f3a\"], [0.8888888888888888, \"#fdca26\"], [1.0, \"#f0f921\"]], \"type\": \"heatmapgl\"}], \"histogram\": [{\"marker\": {\"colorbar\": {\"outlinewidth\": 0, \"ticks\": \"\"}}, \"type\": \"histogram\"}], \"histogram2d\": [{\"colorbar\": {\"outlinewidth\": 0, \"ticks\": \"\"}, \"colorscale\": [[0.0, \"#0d0887\"], [0.1111111111111111, \"#46039f\"], [0.2222222222222222, \"#7201a8\"], [0.3333333333333333, \"#9c179e\"], [0.4444444444444444, \"#bd3786\"], [0.5555555555555556, \"#d8576b\"], [0.6666666666666666, \"#ed7953\"], [0.7777777777777778, \"#fb9f3a\"], [0.8888888888888888, \"#fdca26\"], [1.0, \"#f0f921\"]], \"type\": \"histogram2d\"}], \"histogram2dcontour\": [{\"colorbar\": {\"outlinewidth\": 0, \"ticks\": \"\"}, \"colorscale\": [[0.0, \"#0d0887\"], [0.1111111111111111, \"#46039f\"], [0.2222222222222222, \"#7201a8\"], [0.3333333333333333, \"#9c179e\"], [0.4444444444444444, \"#bd3786\"], [0.5555555555555556, \"#d8576b\"], [0.6666666666666666, \"#ed7953\"], [0.7777777777777778, \"#fb9f3a\"], [0.8888888888888888, \"#fdca26\"], [1.0, \"#f0f921\"]], \"type\": \"histogram2dcontour\"}], \"mesh3d\": [{\"colorbar\": {\"outlinewidth\": 0, \"ticks\": \"\"}, \"type\": \"mesh3d\"}], \"parcoords\": [{\"line\": {\"colorbar\": {\"outlinewidth\": 0, \"ticks\": \"\"}}, \"type\": \"parcoords\"}], \"pie\": [{\"automargin\": true, \"type\": \"pie\"}], \"scatter\": [{\"marker\": {\"colorbar\": {\"outlinewidth\": 0, \"ticks\": \"\"}}, \"type\": \"scatter\"}], \"scatter3d\": [{\"line\": {\"colorbar\": {\"outlinewidth\": 0, \"ticks\": \"\"}}, \"marker\": {\"colorbar\": {\"outlinewidth\": 0, \"ticks\": \"\"}}, \"type\": \"scatter3d\"}], \"scattercarpet\": [{\"marker\": {\"colorbar\": {\"outlinewidth\": 0, \"ticks\": \"\"}}, \"type\": \"scattercarpet\"}], \"scattergeo\": [{\"marker\": {\"colorbar\": {\"outlinewidth\": 0, \"ticks\": \"\"}}, \"type\": \"scattergeo\"}], \"scattergl\": [{\"marker\": {\"colorbar\": {\"outlinewidth\": 0, \"ticks\": \"\"}}, \"type\": \"scattergl\"}], \"scattermapbox\": [{\"marker\": {\"colorbar\": {\"outlinewidth\": 0, \"ticks\": \"\"}}, \"type\": \"scattermapbox\"}], \"scatterpolar\": [{\"marker\": {\"colorbar\": {\"outlinewidth\": 0, \"ticks\": \"\"}}, \"type\": \"scatterpolar\"}], \"scatterpolargl\": [{\"marker\": {\"colorbar\": {\"outlinewidth\": 0, \"ticks\": \"\"}}, \"type\": \"scatterpolargl\"}], \"scatterternary\": [{\"marker\": {\"colorbar\": {\"outlinewidth\": 0, \"ticks\": \"\"}}, \"type\": \"scatterternary\"}], \"surface\": [{\"colorbar\": {\"outlinewidth\": 0, \"ticks\": \"\"}, \"colorscale\": [[0.0, \"#0d0887\"], [0.1111111111111111, \"#46039f\"], [0.2222222222222222, \"#7201a8\"], [0.3333333333333333, \"#9c179e\"], [0.4444444444444444, \"#bd3786\"], [0.5555555555555556, \"#d8576b\"], [0.6666666666666666, \"#ed7953\"], [0.7777777777777778, \"#fb9f3a\"], [0.8888888888888888, \"#fdca26\"], [1.0, \"#f0f921\"]], \"type\": \"surface\"}], \"table\": [{\"cells\": {\"fill\": {\"color\": \"#EBF0F8\"}, \"line\": {\"color\": \"white\"}}, \"header\": {\"fill\": {\"color\": \"#C8D4E3\"}, \"line\": {\"color\": \"white\"}}, \"type\": \"table\"}]}, \"layout\": {\"annotationdefaults\": {\"arrowcolor\": \"#2a3f5f\", \"arrowhead\": 0, \"arrowwidth\": 1}, \"autotypenumbers\": \"strict\", \"coloraxis\": {\"colorbar\": {\"outlinewidth\": 0, \"ticks\": \"\"}}, \"colorscale\": {\"diverging\": [[0, \"#8e0152\"], [0.1, \"#c51b7d\"], [0.2, \"#de77ae\"], [0.3, \"#f1b6da\"], [0.4, \"#fde0ef\"], [0.5, \"#f7f7f7\"], [0.6, \"#e6f5d0\"], [0.7, \"#b8e186\"], [0.8, \"#7fbc41\"], [0.9, \"#4d9221\"], [1, \"#276419\"]], \"sequential\": [[0.0, \"#0d0887\"], [0.1111111111111111, \"#46039f\"], [0.2222222222222222, \"#7201a8\"], [0.3333333333333333, \"#9c179e\"], [0.4444444444444444, \"#bd3786\"], [0.5555555555555556, \"#d8576b\"], [0.6666666666666666, \"#ed7953\"], [0.7777777777777778, \"#fb9f3a\"], [0.8888888888888888, \"#fdca26\"], [1.0, \"#f0f921\"]], \"sequentialminus\": [[0.0, \"#0d0887\"], [0.1111111111111111, \"#46039f\"], [0.2222222222222222, \"#7201a8\"], [0.3333333333333333, \"#9c179e\"], [0.4444444444444444, \"#bd3786\"], [0.5555555555555556, \"#d8576b\"], [0.6666666666666666, \"#ed7953\"], [0.7777777777777778, \"#fb9f3a\"], [0.8888888888888888, \"#fdca26\"], [1.0, \"#f0f921\"]]}, \"colorway\": [\"#636efa\", \"#EF553B\", \"#00cc96\", \"#ab63fa\", \"#FFA15A\", \"#19d3f3\", \"#FF6692\", \"#B6E880\", \"#FF97FF\", \"#FECB52\"], \"font\": {\"color\": \"#2a3f5f\"}, \"geo\": {\"bgcolor\": \"white\", \"lakecolor\": \"white\", \"landcolor\": \"#E5ECF6\", \"showlakes\": true, \"showland\": true, \"subunitcolor\": \"white\"}, \"hoverlabel\": {\"align\": \"left\"}, \"hovermode\": \"closest\", \"mapbox\": {\"style\": \"light\"}, \"paper_bgcolor\": \"white\", \"plot_bgcolor\": \"#E5ECF6\", \"polar\": {\"angularaxis\": {\"gridcolor\": \"white\", \"linecolor\": \"white\", \"ticks\": \"\"}, \"bgcolor\": \"#E5ECF6\", \"radialaxis\": {\"gridcolor\": \"white\", \"linecolor\": \"white\", \"ticks\": \"\"}}, \"scene\": {\"xaxis\": {\"backgroundcolor\": \"#E5ECF6\", \"gridcolor\": \"white\", \"gridwidth\": 2, \"linecolor\": \"white\", \"showbackground\": true, \"ticks\": \"\", \"zerolinecolor\": \"white\"}, \"yaxis\": {\"backgroundcolor\": \"#E5ECF6\", \"gridcolor\": \"white\", \"gridwidth\": 2, \"linecolor\": \"white\", \"showbackground\": true, \"ticks\": \"\", \"zerolinecolor\": \"white\"}, \"zaxis\": {\"backgroundcolor\": \"#E5ECF6\", \"gridcolor\": \"white\", \"gridwidth\": 2, \"linecolor\": \"white\", \"showbackground\": true, \"ticks\": \"\", \"zerolinecolor\": \"white\"}}, \"shapedefaults\": {\"line\": {\"color\": \"#2a3f5f\"}}, \"ternary\": {\"aaxis\": {\"gridcolor\": \"white\", \"linecolor\": \"white\", \"ticks\": \"\"}, \"baxis\": {\"gridcolor\": \"white\", \"linecolor\": \"white\", \"ticks\": \"\"}, \"bgcolor\": \"#E5ECF6\", \"caxis\": {\"gridcolor\": \"white\", \"linecolor\": \"white\", \"ticks\": \"\"}}, \"title\": {\"x\": 0.05}, \"xaxis\": {\"automargin\": true, \"gridcolor\": \"white\", \"linecolor\": \"white\", \"ticks\": \"\", \"title\": {\"standoff\": 15}, \"zerolinecolor\": \"white\", \"zerolinewidth\": 2}, \"yaxis\": {\"automargin\": true, \"gridcolor\": \"white\", \"linecolor\": \"white\", \"ticks\": \"\", \"title\": {\"standoff\": 15}, \"zerolinecolor\": \"white\", \"zerolinewidth\": 2}}}, \"title\": {\"font\": {\"color\": \"#4D5663\"}}, \"xaxis\": {\"gridcolor\": \"#E1E5ED\", \"showgrid\": true, \"tickfont\": {\"color\": \"#4D5663\"}, \"title\": {\"font\": {\"color\": \"#4D5663\"}, \"text\": \"\"}, \"zerolinecolor\": \"#E1E5ED\"}, \"yaxis\": {\"gridcolor\": \"#E1E5ED\", \"showgrid\": true, \"tickfont\": {\"color\": \"#4D5663\"}, \"title\": {\"font\": {\"color\": \"#4D5663\"}, \"text\": \"\"}, \"zerolinecolor\": \"#E1E5ED\"}},                        {\"showLink\": true, \"linkText\": \"Export to plot.ly\", \"plotlyServerURL\": \"https://plot.ly\", \"responsive\": true}                    ).then(function(){\n",
       "                            \n",
       "var gd = document.getElementById('66561523-9bd5-4201-a890-da491c7f678d');\n",
       "var x = new MutationObserver(function (mutations, observer) {{\n",
       "        var display = window.getComputedStyle(gd).display;\n",
       "        if (!display || display === 'none') {{\n",
       "            console.log([gd, 'removed!']);\n",
       "            Plotly.purge(gd);\n",
       "            observer.disconnect();\n",
       "        }}\n",
       "}});\n",
       "\n",
       "// Listen for the removal of the full notebook cells\n",
       "var notebookContainer = gd.closest('#notebook-container');\n",
       "if (notebookContainer) {{\n",
       "    x.observe(notebookContainer, {childList: true});\n",
       "}}\n",
       "\n",
       "// Listen for the clearing of the current output cell\n",
       "var outputEl = gd.closest('.output');\n",
       "if (outputEl) {{\n",
       "    x.observe(outputEl, {childList: true});\n",
       "}}\n",
       "\n",
       "                        })                };                });            </script>        </div>"
      ]
     },
     "metadata": {},
     "output_type": "display_data"
    }
   ],
   "source": [
    "df.iplot(kind='box')"
   ]
  },
  {
   "cell_type": "code",
   "execution_count": 38,
   "metadata": {},
   "outputs": [],
   "source": [
    "df3 = pd.DataFrame({'x':[1,2,3,4,5],'y':[10,20,30,40,50],'z':[5,4,3,2,1]})"
   ]
  },
  {
   "cell_type": "code",
   "execution_count": 39,
   "metadata": {},
   "outputs": [
    {
     "data": {
      "application/vnd.plotly.v1+json": {
       "config": {
        "linkText": "Export to plot.ly",
        "plotlyServerURL": "https://plot.ly",
        "showLink": true
       },
       "data": [
        {
         "colorscale": [
          [
           0,
           "rgb(165,0,38)"
          ],
          [
           0.1,
           "rgb(215,48,39)"
          ],
          [
           0.2,
           "rgb(244,109,67)"
          ],
          [
           0.3,
           "rgb(253,174,97)"
          ],
          [
           0.4,
           "rgb(254,224,144)"
          ],
          [
           0.5,
           "rgb(255,255,191)"
          ],
          [
           0.6,
           "rgb(224,243,248)"
          ],
          [
           0.7,
           "rgb(171,217,233)"
          ],
          [
           0.8,
           "rgb(116,173,209)"
          ],
          [
           0.9,
           "rgb(69,117,180)"
          ],
          [
           1,
           "rgb(49,54,149)"
          ]
         ],
         "type": "surface",
         "x": [
          0,
          1,
          2,
          3,
          4
         ],
         "y": [
          "x",
          "y",
          "z"
         ],
         "z": [
          [
           1,
           2,
           3,
           4,
           5
          ],
          [
           10,
           20,
           30,
           40,
           50
          ],
          [
           5,
           4,
           3,
           2,
           1
          ]
         ]
        }
       ],
       "layout": {
        "legend": {
         "bgcolor": "#F5F6F9",
         "font": {
          "color": "#4D5663"
         }
        },
        "paper_bgcolor": "#F5F6F9",
        "plot_bgcolor": "#F5F6F9",
        "template": {
         "data": {
          "bar": [
           {
            "error_x": {
             "color": "#2a3f5f"
            },
            "error_y": {
             "color": "#2a3f5f"
            },
            "marker": {
             "line": {
              "color": "#E5ECF6",
              "width": 0.5
             }
            },
            "type": "bar"
           }
          ],
          "barpolar": [
           {
            "marker": {
             "line": {
              "color": "#E5ECF6",
              "width": 0.5
             }
            },
            "type": "barpolar"
           }
          ],
          "carpet": [
           {
            "aaxis": {
             "endlinecolor": "#2a3f5f",
             "gridcolor": "white",
             "linecolor": "white",
             "minorgridcolor": "white",
             "startlinecolor": "#2a3f5f"
            },
            "baxis": {
             "endlinecolor": "#2a3f5f",
             "gridcolor": "white",
             "linecolor": "white",
             "minorgridcolor": "white",
             "startlinecolor": "#2a3f5f"
            },
            "type": "carpet"
           }
          ],
          "choropleth": [
           {
            "colorbar": {
             "outlinewidth": 0,
             "ticks": ""
            },
            "type": "choropleth"
           }
          ],
          "contour": [
           {
            "colorbar": {
             "outlinewidth": 0,
             "ticks": ""
            },
            "colorscale": [
             [
              0,
              "#0d0887"
             ],
             [
              0.1111111111111111,
              "#46039f"
             ],
             [
              0.2222222222222222,
              "#7201a8"
             ],
             [
              0.3333333333333333,
              "#9c179e"
             ],
             [
              0.4444444444444444,
              "#bd3786"
             ],
             [
              0.5555555555555556,
              "#d8576b"
             ],
             [
              0.6666666666666666,
              "#ed7953"
             ],
             [
              0.7777777777777778,
              "#fb9f3a"
             ],
             [
              0.8888888888888888,
              "#fdca26"
             ],
             [
              1,
              "#f0f921"
             ]
            ],
            "type": "contour"
           }
          ],
          "contourcarpet": [
           {
            "colorbar": {
             "outlinewidth": 0,
             "ticks": ""
            },
            "type": "contourcarpet"
           }
          ],
          "heatmap": [
           {
            "colorbar": {
             "outlinewidth": 0,
             "ticks": ""
            },
            "colorscale": [
             [
              0,
              "#0d0887"
             ],
             [
              0.1111111111111111,
              "#46039f"
             ],
             [
              0.2222222222222222,
              "#7201a8"
             ],
             [
              0.3333333333333333,
              "#9c179e"
             ],
             [
              0.4444444444444444,
              "#bd3786"
             ],
             [
              0.5555555555555556,
              "#d8576b"
             ],
             [
              0.6666666666666666,
              "#ed7953"
             ],
             [
              0.7777777777777778,
              "#fb9f3a"
             ],
             [
              0.8888888888888888,
              "#fdca26"
             ],
             [
              1,
              "#f0f921"
             ]
            ],
            "type": "heatmap"
           }
          ],
          "heatmapgl": [
           {
            "colorbar": {
             "outlinewidth": 0,
             "ticks": ""
            },
            "colorscale": [
             [
              0,
              "#0d0887"
             ],
             [
              0.1111111111111111,
              "#46039f"
             ],
             [
              0.2222222222222222,
              "#7201a8"
             ],
             [
              0.3333333333333333,
              "#9c179e"
             ],
             [
              0.4444444444444444,
              "#bd3786"
             ],
             [
              0.5555555555555556,
              "#d8576b"
             ],
             [
              0.6666666666666666,
              "#ed7953"
             ],
             [
              0.7777777777777778,
              "#fb9f3a"
             ],
             [
              0.8888888888888888,
              "#fdca26"
             ],
             [
              1,
              "#f0f921"
             ]
            ],
            "type": "heatmapgl"
           }
          ],
          "histogram": [
           {
            "marker": {
             "colorbar": {
              "outlinewidth": 0,
              "ticks": ""
             }
            },
            "type": "histogram"
           }
          ],
          "histogram2d": [
           {
            "colorbar": {
             "outlinewidth": 0,
             "ticks": ""
            },
            "colorscale": [
             [
              0,
              "#0d0887"
             ],
             [
              0.1111111111111111,
              "#46039f"
             ],
             [
              0.2222222222222222,
              "#7201a8"
             ],
             [
              0.3333333333333333,
              "#9c179e"
             ],
             [
              0.4444444444444444,
              "#bd3786"
             ],
             [
              0.5555555555555556,
              "#d8576b"
             ],
             [
              0.6666666666666666,
              "#ed7953"
             ],
             [
              0.7777777777777778,
              "#fb9f3a"
             ],
             [
              0.8888888888888888,
              "#fdca26"
             ],
             [
              1,
              "#f0f921"
             ]
            ],
            "type": "histogram2d"
           }
          ],
          "histogram2dcontour": [
           {
            "colorbar": {
             "outlinewidth": 0,
             "ticks": ""
            },
            "colorscale": [
             [
              0,
              "#0d0887"
             ],
             [
              0.1111111111111111,
              "#46039f"
             ],
             [
              0.2222222222222222,
              "#7201a8"
             ],
             [
              0.3333333333333333,
              "#9c179e"
             ],
             [
              0.4444444444444444,
              "#bd3786"
             ],
             [
              0.5555555555555556,
              "#d8576b"
             ],
             [
              0.6666666666666666,
              "#ed7953"
             ],
             [
              0.7777777777777778,
              "#fb9f3a"
             ],
             [
              0.8888888888888888,
              "#fdca26"
             ],
             [
              1,
              "#f0f921"
             ]
            ],
            "type": "histogram2dcontour"
           }
          ],
          "mesh3d": [
           {
            "colorbar": {
             "outlinewidth": 0,
             "ticks": ""
            },
            "type": "mesh3d"
           }
          ],
          "parcoords": [
           {
            "line": {
             "colorbar": {
              "outlinewidth": 0,
              "ticks": ""
             }
            },
            "type": "parcoords"
           }
          ],
          "pie": [
           {
            "automargin": true,
            "type": "pie"
           }
          ],
          "scatter": [
           {
            "marker": {
             "colorbar": {
              "outlinewidth": 0,
              "ticks": ""
             }
            },
            "type": "scatter"
           }
          ],
          "scatter3d": [
           {
            "line": {
             "colorbar": {
              "outlinewidth": 0,
              "ticks": ""
             }
            },
            "marker": {
             "colorbar": {
              "outlinewidth": 0,
              "ticks": ""
             }
            },
            "type": "scatter3d"
           }
          ],
          "scattercarpet": [
           {
            "marker": {
             "colorbar": {
              "outlinewidth": 0,
              "ticks": ""
             }
            },
            "type": "scattercarpet"
           }
          ],
          "scattergeo": [
           {
            "marker": {
             "colorbar": {
              "outlinewidth": 0,
              "ticks": ""
             }
            },
            "type": "scattergeo"
           }
          ],
          "scattergl": [
           {
            "marker": {
             "colorbar": {
              "outlinewidth": 0,
              "ticks": ""
             }
            },
            "type": "scattergl"
           }
          ],
          "scattermapbox": [
           {
            "marker": {
             "colorbar": {
              "outlinewidth": 0,
              "ticks": ""
             }
            },
            "type": "scattermapbox"
           }
          ],
          "scatterpolar": [
           {
            "marker": {
             "colorbar": {
              "outlinewidth": 0,
              "ticks": ""
             }
            },
            "type": "scatterpolar"
           }
          ],
          "scatterpolargl": [
           {
            "marker": {
             "colorbar": {
              "outlinewidth": 0,
              "ticks": ""
             }
            },
            "type": "scatterpolargl"
           }
          ],
          "scatterternary": [
           {
            "marker": {
             "colorbar": {
              "outlinewidth": 0,
              "ticks": ""
             }
            },
            "type": "scatterternary"
           }
          ],
          "surface": [
           {
            "colorbar": {
             "outlinewidth": 0,
             "ticks": ""
            },
            "colorscale": [
             [
              0,
              "#0d0887"
             ],
             [
              0.1111111111111111,
              "#46039f"
             ],
             [
              0.2222222222222222,
              "#7201a8"
             ],
             [
              0.3333333333333333,
              "#9c179e"
             ],
             [
              0.4444444444444444,
              "#bd3786"
             ],
             [
              0.5555555555555556,
              "#d8576b"
             ],
             [
              0.6666666666666666,
              "#ed7953"
             ],
             [
              0.7777777777777778,
              "#fb9f3a"
             ],
             [
              0.8888888888888888,
              "#fdca26"
             ],
             [
              1,
              "#f0f921"
             ]
            ],
            "type": "surface"
           }
          ],
          "table": [
           {
            "cells": {
             "fill": {
              "color": "#EBF0F8"
             },
             "line": {
              "color": "white"
             }
            },
            "header": {
             "fill": {
              "color": "#C8D4E3"
             },
             "line": {
              "color": "white"
             }
            },
            "type": "table"
           }
          ]
         },
         "layout": {
          "annotationdefaults": {
           "arrowcolor": "#2a3f5f",
           "arrowhead": 0,
           "arrowwidth": 1
          },
          "autotypenumbers": "strict",
          "coloraxis": {
           "colorbar": {
            "outlinewidth": 0,
            "ticks": ""
           }
          },
          "colorscale": {
           "diverging": [
            [
             0,
             "#8e0152"
            ],
            [
             0.1,
             "#c51b7d"
            ],
            [
             0.2,
             "#de77ae"
            ],
            [
             0.3,
             "#f1b6da"
            ],
            [
             0.4,
             "#fde0ef"
            ],
            [
             0.5,
             "#f7f7f7"
            ],
            [
             0.6,
             "#e6f5d0"
            ],
            [
             0.7,
             "#b8e186"
            ],
            [
             0.8,
             "#7fbc41"
            ],
            [
             0.9,
             "#4d9221"
            ],
            [
             1,
             "#276419"
            ]
           ],
           "sequential": [
            [
             0,
             "#0d0887"
            ],
            [
             0.1111111111111111,
             "#46039f"
            ],
            [
             0.2222222222222222,
             "#7201a8"
            ],
            [
             0.3333333333333333,
             "#9c179e"
            ],
            [
             0.4444444444444444,
             "#bd3786"
            ],
            [
             0.5555555555555556,
             "#d8576b"
            ],
            [
             0.6666666666666666,
             "#ed7953"
            ],
            [
             0.7777777777777778,
             "#fb9f3a"
            ],
            [
             0.8888888888888888,
             "#fdca26"
            ],
            [
             1,
             "#f0f921"
            ]
           ],
           "sequentialminus": [
            [
             0,
             "#0d0887"
            ],
            [
             0.1111111111111111,
             "#46039f"
            ],
            [
             0.2222222222222222,
             "#7201a8"
            ],
            [
             0.3333333333333333,
             "#9c179e"
            ],
            [
             0.4444444444444444,
             "#bd3786"
            ],
            [
             0.5555555555555556,
             "#d8576b"
            ],
            [
             0.6666666666666666,
             "#ed7953"
            ],
            [
             0.7777777777777778,
             "#fb9f3a"
            ],
            [
             0.8888888888888888,
             "#fdca26"
            ],
            [
             1,
             "#f0f921"
            ]
           ]
          },
          "colorway": [
           "#636efa",
           "#EF553B",
           "#00cc96",
           "#ab63fa",
           "#FFA15A",
           "#19d3f3",
           "#FF6692",
           "#B6E880",
           "#FF97FF",
           "#FECB52"
          ],
          "font": {
           "color": "#2a3f5f"
          },
          "geo": {
           "bgcolor": "white",
           "lakecolor": "white",
           "landcolor": "#E5ECF6",
           "showlakes": true,
           "showland": true,
           "subunitcolor": "white"
          },
          "hoverlabel": {
           "align": "left"
          },
          "hovermode": "closest",
          "mapbox": {
           "style": "light"
          },
          "paper_bgcolor": "white",
          "plot_bgcolor": "#E5ECF6",
          "polar": {
           "angularaxis": {
            "gridcolor": "white",
            "linecolor": "white",
            "ticks": ""
           },
           "bgcolor": "#E5ECF6",
           "radialaxis": {
            "gridcolor": "white",
            "linecolor": "white",
            "ticks": ""
           }
          },
          "scene": {
           "xaxis": {
            "backgroundcolor": "#E5ECF6",
            "gridcolor": "white",
            "gridwidth": 2,
            "linecolor": "white",
            "showbackground": true,
            "ticks": "",
            "zerolinecolor": "white"
           },
           "yaxis": {
            "backgroundcolor": "#E5ECF6",
            "gridcolor": "white",
            "gridwidth": 2,
            "linecolor": "white",
            "showbackground": true,
            "ticks": "",
            "zerolinecolor": "white"
           },
           "zaxis": {
            "backgroundcolor": "#E5ECF6",
            "gridcolor": "white",
            "gridwidth": 2,
            "linecolor": "white",
            "showbackground": true,
            "ticks": "",
            "zerolinecolor": "white"
           }
          },
          "shapedefaults": {
           "line": {
            "color": "#2a3f5f"
           }
          },
          "ternary": {
           "aaxis": {
            "gridcolor": "white",
            "linecolor": "white",
            "ticks": ""
           },
           "baxis": {
            "gridcolor": "white",
            "linecolor": "white",
            "ticks": ""
           },
           "bgcolor": "#E5ECF6",
           "caxis": {
            "gridcolor": "white",
            "linecolor": "white",
            "ticks": ""
           }
          },
          "title": {
           "x": 0.05
          },
          "xaxis": {
           "automargin": true,
           "gridcolor": "white",
           "linecolor": "white",
           "ticks": "",
           "title": {
            "standoff": 15
           },
           "zerolinecolor": "white",
           "zerolinewidth": 2
          },
          "yaxis": {
           "automargin": true,
           "gridcolor": "white",
           "linecolor": "white",
           "ticks": "",
           "title": {
            "standoff": 15
           },
           "zerolinecolor": "white",
           "zerolinewidth": 2
          }
         }
        },
        "title": {
         "font": {
          "color": "#4D5663"
         }
        },
        "xaxis": {
         "gridcolor": "#E1E5ED",
         "showgrid": true,
         "tickfont": {
          "color": "#4D5663"
         },
         "title": {
          "font": {
           "color": "#4D5663"
          },
          "text": ""
         },
         "zerolinecolor": "#E1E5ED"
        },
        "yaxis": {
         "gridcolor": "#E1E5ED",
         "showgrid": true,
         "tickfont": {
          "color": "#4D5663"
         },
         "title": {
          "font": {
           "color": "#4D5663"
          },
          "text": ""
         },
         "zerolinecolor": "#E1E5ED"
        }
       }
      },
      "text/html": [
       "<div>                            <div id=\"58f982d5-81a3-42a2-865e-bc44ccd1008f\" class=\"plotly-graph-div\" style=\"height:525px; width:100%;\"></div>            <script type=\"text/javascript\">                require([\"plotly\"], function(Plotly) {                    window.PLOTLYENV=window.PLOTLYENV || {};\n",
       "                    window.PLOTLYENV.BASE_URL='https://plot.ly';                                    if (document.getElementById(\"58f982d5-81a3-42a2-865e-bc44ccd1008f\")) {                    Plotly.newPlot(                        \"58f982d5-81a3-42a2-865e-bc44ccd1008f\",                        [{\"colorscale\": [[0.0, \"rgb(165,0,38)\"], [0.1, \"rgb(215,48,39)\"], [0.2, \"rgb(244,109,67)\"], [0.3, \"rgb(253,174,97)\"], [0.4, \"rgb(254,224,144)\"], [0.5, \"rgb(255,255,191)\"], [0.6, \"rgb(224,243,248)\"], [0.7, \"rgb(171,217,233)\"], [0.8, \"rgb(116,173,209)\"], [0.9, \"rgb(69,117,180)\"], [1.0, \"rgb(49,54,149)\"]], \"type\": \"surface\", \"x\": [0, 1, 2, 3, 4], \"y\": [\"x\", \"y\", \"z\"], \"z\": [[1, 2, 3, 4, 5], [10, 20, 30, 40, 50], [5, 4, 3, 2, 1]]}],                        {\"legend\": {\"bgcolor\": \"#F5F6F9\", \"font\": {\"color\": \"#4D5663\"}}, \"paper_bgcolor\": \"#F5F6F9\", \"plot_bgcolor\": \"#F5F6F9\", \"template\": {\"data\": {\"bar\": [{\"error_x\": {\"color\": \"#2a3f5f\"}, \"error_y\": {\"color\": \"#2a3f5f\"}, \"marker\": {\"line\": {\"color\": \"#E5ECF6\", \"width\": 0.5}}, \"type\": \"bar\"}], \"barpolar\": [{\"marker\": {\"line\": {\"color\": \"#E5ECF6\", \"width\": 0.5}}, \"type\": \"barpolar\"}], \"carpet\": [{\"aaxis\": {\"endlinecolor\": \"#2a3f5f\", \"gridcolor\": \"white\", \"linecolor\": \"white\", \"minorgridcolor\": \"white\", \"startlinecolor\": \"#2a3f5f\"}, \"baxis\": {\"endlinecolor\": \"#2a3f5f\", \"gridcolor\": \"white\", \"linecolor\": \"white\", \"minorgridcolor\": \"white\", \"startlinecolor\": \"#2a3f5f\"}, \"type\": \"carpet\"}], \"choropleth\": [{\"colorbar\": {\"outlinewidth\": 0, \"ticks\": \"\"}, \"type\": \"choropleth\"}], \"contour\": [{\"colorbar\": {\"outlinewidth\": 0, \"ticks\": \"\"}, \"colorscale\": [[0.0, \"#0d0887\"], [0.1111111111111111, \"#46039f\"], [0.2222222222222222, \"#7201a8\"], [0.3333333333333333, \"#9c179e\"], [0.4444444444444444, \"#bd3786\"], [0.5555555555555556, \"#d8576b\"], [0.6666666666666666, \"#ed7953\"], [0.7777777777777778, \"#fb9f3a\"], [0.8888888888888888, \"#fdca26\"], [1.0, \"#f0f921\"]], \"type\": \"contour\"}], \"contourcarpet\": [{\"colorbar\": {\"outlinewidth\": 0, \"ticks\": \"\"}, \"type\": \"contourcarpet\"}], \"heatmap\": [{\"colorbar\": {\"outlinewidth\": 0, \"ticks\": \"\"}, \"colorscale\": [[0.0, \"#0d0887\"], [0.1111111111111111, \"#46039f\"], [0.2222222222222222, \"#7201a8\"], [0.3333333333333333, \"#9c179e\"], [0.4444444444444444, \"#bd3786\"], [0.5555555555555556, \"#d8576b\"], [0.6666666666666666, \"#ed7953\"], [0.7777777777777778, \"#fb9f3a\"], [0.8888888888888888, \"#fdca26\"], [1.0, \"#f0f921\"]], \"type\": \"heatmap\"}], \"heatmapgl\": [{\"colorbar\": {\"outlinewidth\": 0, \"ticks\": \"\"}, \"colorscale\": [[0.0, \"#0d0887\"], [0.1111111111111111, \"#46039f\"], [0.2222222222222222, \"#7201a8\"], [0.3333333333333333, \"#9c179e\"], [0.4444444444444444, \"#bd3786\"], [0.5555555555555556, \"#d8576b\"], [0.6666666666666666, \"#ed7953\"], [0.7777777777777778, \"#fb9f3a\"], [0.8888888888888888, \"#fdca26\"], [1.0, \"#f0f921\"]], \"type\": \"heatmapgl\"}], \"histogram\": [{\"marker\": {\"colorbar\": {\"outlinewidth\": 0, \"ticks\": \"\"}}, \"type\": \"histogram\"}], \"histogram2d\": [{\"colorbar\": {\"outlinewidth\": 0, \"ticks\": \"\"}, \"colorscale\": [[0.0, \"#0d0887\"], [0.1111111111111111, \"#46039f\"], [0.2222222222222222, \"#7201a8\"], [0.3333333333333333, \"#9c179e\"], [0.4444444444444444, \"#bd3786\"], [0.5555555555555556, \"#d8576b\"], [0.6666666666666666, \"#ed7953\"], [0.7777777777777778, \"#fb9f3a\"], [0.8888888888888888, \"#fdca26\"], [1.0, \"#f0f921\"]], \"type\": \"histogram2d\"}], \"histogram2dcontour\": [{\"colorbar\": {\"outlinewidth\": 0, \"ticks\": \"\"}, \"colorscale\": [[0.0, \"#0d0887\"], [0.1111111111111111, \"#46039f\"], [0.2222222222222222, \"#7201a8\"], [0.3333333333333333, \"#9c179e\"], [0.4444444444444444, \"#bd3786\"], [0.5555555555555556, \"#d8576b\"], [0.6666666666666666, \"#ed7953\"], [0.7777777777777778, \"#fb9f3a\"], [0.8888888888888888, \"#fdca26\"], [1.0, \"#f0f921\"]], \"type\": \"histogram2dcontour\"}], \"mesh3d\": [{\"colorbar\": {\"outlinewidth\": 0, \"ticks\": \"\"}, \"type\": \"mesh3d\"}], \"parcoords\": [{\"line\": {\"colorbar\": {\"outlinewidth\": 0, \"ticks\": \"\"}}, \"type\": \"parcoords\"}], \"pie\": [{\"automargin\": true, \"type\": \"pie\"}], \"scatter\": [{\"marker\": {\"colorbar\": {\"outlinewidth\": 0, \"ticks\": \"\"}}, \"type\": \"scatter\"}], \"scatter3d\": [{\"line\": {\"colorbar\": {\"outlinewidth\": 0, \"ticks\": \"\"}}, \"marker\": {\"colorbar\": {\"outlinewidth\": 0, \"ticks\": \"\"}}, \"type\": \"scatter3d\"}], \"scattercarpet\": [{\"marker\": {\"colorbar\": {\"outlinewidth\": 0, \"ticks\": \"\"}}, \"type\": \"scattercarpet\"}], \"scattergeo\": [{\"marker\": {\"colorbar\": {\"outlinewidth\": 0, \"ticks\": \"\"}}, \"type\": \"scattergeo\"}], \"scattergl\": [{\"marker\": {\"colorbar\": {\"outlinewidth\": 0, \"ticks\": \"\"}}, \"type\": \"scattergl\"}], \"scattermapbox\": [{\"marker\": {\"colorbar\": {\"outlinewidth\": 0, \"ticks\": \"\"}}, \"type\": \"scattermapbox\"}], \"scatterpolar\": [{\"marker\": {\"colorbar\": {\"outlinewidth\": 0, \"ticks\": \"\"}}, \"type\": \"scatterpolar\"}], \"scatterpolargl\": [{\"marker\": {\"colorbar\": {\"outlinewidth\": 0, \"ticks\": \"\"}}, \"type\": \"scatterpolargl\"}], \"scatterternary\": [{\"marker\": {\"colorbar\": {\"outlinewidth\": 0, \"ticks\": \"\"}}, \"type\": \"scatterternary\"}], \"surface\": [{\"colorbar\": {\"outlinewidth\": 0, \"ticks\": \"\"}, \"colorscale\": [[0.0, \"#0d0887\"], [0.1111111111111111, \"#46039f\"], [0.2222222222222222, \"#7201a8\"], [0.3333333333333333, \"#9c179e\"], [0.4444444444444444, \"#bd3786\"], [0.5555555555555556, \"#d8576b\"], [0.6666666666666666, \"#ed7953\"], [0.7777777777777778, \"#fb9f3a\"], [0.8888888888888888, \"#fdca26\"], [1.0, \"#f0f921\"]], \"type\": \"surface\"}], \"table\": [{\"cells\": {\"fill\": {\"color\": \"#EBF0F8\"}, \"line\": {\"color\": \"white\"}}, \"header\": {\"fill\": {\"color\": \"#C8D4E3\"}, \"line\": {\"color\": \"white\"}}, \"type\": \"table\"}]}, \"layout\": {\"annotationdefaults\": {\"arrowcolor\": \"#2a3f5f\", \"arrowhead\": 0, \"arrowwidth\": 1}, \"autotypenumbers\": \"strict\", \"coloraxis\": {\"colorbar\": {\"outlinewidth\": 0, \"ticks\": \"\"}}, \"colorscale\": {\"diverging\": [[0, \"#8e0152\"], [0.1, \"#c51b7d\"], [0.2, \"#de77ae\"], [0.3, \"#f1b6da\"], [0.4, \"#fde0ef\"], [0.5, \"#f7f7f7\"], [0.6, \"#e6f5d0\"], [0.7, \"#b8e186\"], [0.8, \"#7fbc41\"], [0.9, \"#4d9221\"], [1, \"#276419\"]], \"sequential\": [[0.0, \"#0d0887\"], [0.1111111111111111, \"#46039f\"], [0.2222222222222222, \"#7201a8\"], [0.3333333333333333, \"#9c179e\"], [0.4444444444444444, \"#bd3786\"], [0.5555555555555556, \"#d8576b\"], [0.6666666666666666, \"#ed7953\"], [0.7777777777777778, \"#fb9f3a\"], [0.8888888888888888, \"#fdca26\"], [1.0, \"#f0f921\"]], \"sequentialminus\": [[0.0, \"#0d0887\"], [0.1111111111111111, \"#46039f\"], [0.2222222222222222, \"#7201a8\"], [0.3333333333333333, \"#9c179e\"], [0.4444444444444444, \"#bd3786\"], [0.5555555555555556, \"#d8576b\"], [0.6666666666666666, \"#ed7953\"], [0.7777777777777778, \"#fb9f3a\"], [0.8888888888888888, \"#fdca26\"], [1.0, \"#f0f921\"]]}, \"colorway\": [\"#636efa\", \"#EF553B\", \"#00cc96\", \"#ab63fa\", \"#FFA15A\", \"#19d3f3\", \"#FF6692\", \"#B6E880\", \"#FF97FF\", \"#FECB52\"], \"font\": {\"color\": \"#2a3f5f\"}, \"geo\": {\"bgcolor\": \"white\", \"lakecolor\": \"white\", \"landcolor\": \"#E5ECF6\", \"showlakes\": true, \"showland\": true, \"subunitcolor\": \"white\"}, \"hoverlabel\": {\"align\": \"left\"}, \"hovermode\": \"closest\", \"mapbox\": {\"style\": \"light\"}, \"paper_bgcolor\": \"white\", \"plot_bgcolor\": \"#E5ECF6\", \"polar\": {\"angularaxis\": {\"gridcolor\": \"white\", \"linecolor\": \"white\", \"ticks\": \"\"}, \"bgcolor\": \"#E5ECF6\", \"radialaxis\": {\"gridcolor\": \"white\", \"linecolor\": \"white\", \"ticks\": \"\"}}, \"scene\": {\"xaxis\": {\"backgroundcolor\": \"#E5ECF6\", \"gridcolor\": \"white\", \"gridwidth\": 2, \"linecolor\": \"white\", \"showbackground\": true, \"ticks\": \"\", \"zerolinecolor\": \"white\"}, \"yaxis\": {\"backgroundcolor\": \"#E5ECF6\", \"gridcolor\": \"white\", \"gridwidth\": 2, \"linecolor\": \"white\", \"showbackground\": true, \"ticks\": \"\", \"zerolinecolor\": \"white\"}, \"zaxis\": {\"backgroundcolor\": \"#E5ECF6\", \"gridcolor\": \"white\", \"gridwidth\": 2, \"linecolor\": \"white\", \"showbackground\": true, \"ticks\": \"\", \"zerolinecolor\": \"white\"}}, \"shapedefaults\": {\"line\": {\"color\": \"#2a3f5f\"}}, \"ternary\": {\"aaxis\": {\"gridcolor\": \"white\", \"linecolor\": \"white\", \"ticks\": \"\"}, \"baxis\": {\"gridcolor\": \"white\", \"linecolor\": \"white\", \"ticks\": \"\"}, \"bgcolor\": \"#E5ECF6\", \"caxis\": {\"gridcolor\": \"white\", \"linecolor\": \"white\", \"ticks\": \"\"}}, \"title\": {\"x\": 0.05}, \"xaxis\": {\"automargin\": true, \"gridcolor\": \"white\", \"linecolor\": \"white\", \"ticks\": \"\", \"title\": {\"standoff\": 15}, \"zerolinecolor\": \"white\", \"zerolinewidth\": 2}, \"yaxis\": {\"automargin\": true, \"gridcolor\": \"white\", \"linecolor\": \"white\", \"ticks\": \"\", \"title\": {\"standoff\": 15}, \"zerolinecolor\": \"white\", \"zerolinewidth\": 2}}}, \"title\": {\"font\": {\"color\": \"#4D5663\"}}, \"xaxis\": {\"gridcolor\": \"#E1E5ED\", \"showgrid\": true, \"tickfont\": {\"color\": \"#4D5663\"}, \"title\": {\"font\": {\"color\": \"#4D5663\"}, \"text\": \"\"}, \"zerolinecolor\": \"#E1E5ED\"}, \"yaxis\": {\"gridcolor\": \"#E1E5ED\", \"showgrid\": true, \"tickfont\": {\"color\": \"#4D5663\"}, \"title\": {\"font\": {\"color\": \"#4D5663\"}, \"text\": \"\"}, \"zerolinecolor\": \"#E1E5ED\"}},                        {\"showLink\": true, \"linkText\": \"Export to plot.ly\", \"plotlyServerURL\": \"https://plot.ly\", \"responsive\": true}                    ).then(function(){\n",
       "                            \n",
       "var gd = document.getElementById('58f982d5-81a3-42a2-865e-bc44ccd1008f');\n",
       "var x = new MutationObserver(function (mutations, observer) {{\n",
       "        var display = window.getComputedStyle(gd).display;\n",
       "        if (!display || display === 'none') {{\n",
       "            console.log([gd, 'removed!']);\n",
       "            Plotly.purge(gd);\n",
       "            observer.disconnect();\n",
       "        }}\n",
       "}});\n",
       "\n",
       "// Listen for the removal of the full notebook cells\n",
       "var notebookContainer = gd.closest('#notebook-container');\n",
       "if (notebookContainer) {{\n",
       "    x.observe(notebookContainer, {childList: true});\n",
       "}}\n",
       "\n",
       "// Listen for the clearing of the current output cell\n",
       "var outputEl = gd.closest('.output');\n",
       "if (outputEl) {{\n",
       "    x.observe(outputEl, {childList: true});\n",
       "}}\n",
       "\n",
       "                        })                };                });            </script>        </div>"
      ]
     },
     "metadata": {},
     "output_type": "display_data"
    }
   ],
   "source": [
    "df3.iplot(kind='surface',colorscale='rdylbu')"
   ]
  },
  {
   "cell_type": "code",
   "execution_count": 40,
   "metadata": {},
   "outputs": [
    {
     "data": {
      "application/vnd.plotly.v1+json": {
       "config": {
        "linkText": "Export to plot.ly",
        "plotlyServerURL": "https://plot.ly",
        "showLink": true
       },
       "data": [
        {
         "histfunc": "count",
         "histnorm": "",
         "marker": {
          "color": "rgba(255, 153, 51, 1.0)",
          "line": {
           "color": "#4D5663",
           "width": 1.3
          }
         },
         "name": "A",
         "nbinsx": 50,
         "opacity": 0.8,
         "orientation": "v",
         "type": "histogram",
         "x": [
          -1.2376533429297487,
          0.5210312381862134,
          -1.0251899876913395,
          0.45381839892015724,
          2.5579020873643423,
          -2.311096877009032,
          1.0848519410157036,
          0.14420890327050329,
          0.8761771802727409,
          -0.5599756647759724,
          0.8404008962563776,
          0.9360487734843175,
          -1.2159463914906068,
          0.4323468127108094,
          1.4875276747986366,
          -1.8104483053725908,
          0.7422040304205689,
          2.2293211252216603,
          0.15632546876214123,
          0.4081041805918467,
          0.024748436909957674,
          -0.727628179660839,
          -0.3139827530211364,
          1.7415908205376824,
          1.113900769384104,
          -1.7478092023943117,
          0.8140754057060445,
          1.1184203301949367,
          0.11643679130544002,
          0.2413981464536677,
          -1.8981945923166192,
          0.7814782558065474,
          0.12346431470248988,
          -0.5888166641853814,
          0.5638242182369565,
          -0.04966892567279881,
          -0.8730779045718278,
          0.9937635926043222,
          -0.3111311960754491,
          -1.2704479991052302,
          0.6145906380641518,
          -2.1080663744544688,
          1.162745468298509,
          -0.40269202904722307,
          0.9816818315776701,
          1.2766727602932417,
          -1.1441699855454301,
          -1.4095882123449281,
          1.3445230473814531,
          0.983685841697918,
          -0.4764813243223706,
          0.34186207479032177,
          -1.3617951618631923,
          -0.5731448087586377,
          1.6229372931953945,
          -1.8760222194164973,
          0.2696419215276941,
          1.4759084603076527,
          1.2932437655688576,
          0.14905939922683087,
          1.1274399726091413,
          1.6653660922881228,
          0.9404296495750097,
          1.1505947887788583,
          -1.7013903166322464,
          -0.3128888538704009,
          -2.143472785599862,
          -0.5117941385029973,
          0.9973449715984799,
          -1.28127634682668,
          0.5008584141197462,
          -0.3438551379470671,
          -1.496632229824434,
          -1.0196525699126524,
          1.788124743162996,
          -1.0822473860519988,
          0.9805588328233438,
          2.23743047144731,
          0.2129752042080661,
          0.6876725100251737,
          0.7340280290562036,
          -0.44115399131713307,
          -0.6322101548325217,
          0.8240049645002243,
          -0.0012853927734924836,
          0.44660590623353075,
          -0.3231659858707658,
          -0.33411455762785336,
          0.353841423946161,
          -0.022911915151177333,
          0.5704806182719827,
          1.9789498254742628,
          -1.1043229788804343,
          1.2443321962668799,
          0.4777611949867243,
          -0.7944342954051479,
          1.3535937388032435,
          -0.5031726594973573,
          -0.041696531493813985,
          0.9618825324128459
         ]
        }
       ],
       "layout": {
        "barmode": "overlay",
        "legend": {
         "bgcolor": "#F5F6F9",
         "font": {
          "color": "#4D5663"
         }
        },
        "paper_bgcolor": "#F5F6F9",
        "plot_bgcolor": "#F5F6F9",
        "template": {
         "data": {
          "bar": [
           {
            "error_x": {
             "color": "#2a3f5f"
            },
            "error_y": {
             "color": "#2a3f5f"
            },
            "marker": {
             "line": {
              "color": "#E5ECF6",
              "width": 0.5
             }
            },
            "type": "bar"
           }
          ],
          "barpolar": [
           {
            "marker": {
             "line": {
              "color": "#E5ECF6",
              "width": 0.5
             }
            },
            "type": "barpolar"
           }
          ],
          "carpet": [
           {
            "aaxis": {
             "endlinecolor": "#2a3f5f",
             "gridcolor": "white",
             "linecolor": "white",
             "minorgridcolor": "white",
             "startlinecolor": "#2a3f5f"
            },
            "baxis": {
             "endlinecolor": "#2a3f5f",
             "gridcolor": "white",
             "linecolor": "white",
             "minorgridcolor": "white",
             "startlinecolor": "#2a3f5f"
            },
            "type": "carpet"
           }
          ],
          "choropleth": [
           {
            "colorbar": {
             "outlinewidth": 0,
             "ticks": ""
            },
            "type": "choropleth"
           }
          ],
          "contour": [
           {
            "colorbar": {
             "outlinewidth": 0,
             "ticks": ""
            },
            "colorscale": [
             [
              0,
              "#0d0887"
             ],
             [
              0.1111111111111111,
              "#46039f"
             ],
             [
              0.2222222222222222,
              "#7201a8"
             ],
             [
              0.3333333333333333,
              "#9c179e"
             ],
             [
              0.4444444444444444,
              "#bd3786"
             ],
             [
              0.5555555555555556,
              "#d8576b"
             ],
             [
              0.6666666666666666,
              "#ed7953"
             ],
             [
              0.7777777777777778,
              "#fb9f3a"
             ],
             [
              0.8888888888888888,
              "#fdca26"
             ],
             [
              1,
              "#f0f921"
             ]
            ],
            "type": "contour"
           }
          ],
          "contourcarpet": [
           {
            "colorbar": {
             "outlinewidth": 0,
             "ticks": ""
            },
            "type": "contourcarpet"
           }
          ],
          "heatmap": [
           {
            "colorbar": {
             "outlinewidth": 0,
             "ticks": ""
            },
            "colorscale": [
             [
              0,
              "#0d0887"
             ],
             [
              0.1111111111111111,
              "#46039f"
             ],
             [
              0.2222222222222222,
              "#7201a8"
             ],
             [
              0.3333333333333333,
              "#9c179e"
             ],
             [
              0.4444444444444444,
              "#bd3786"
             ],
             [
              0.5555555555555556,
              "#d8576b"
             ],
             [
              0.6666666666666666,
              "#ed7953"
             ],
             [
              0.7777777777777778,
              "#fb9f3a"
             ],
             [
              0.8888888888888888,
              "#fdca26"
             ],
             [
              1,
              "#f0f921"
             ]
            ],
            "type": "heatmap"
           }
          ],
          "heatmapgl": [
           {
            "colorbar": {
             "outlinewidth": 0,
             "ticks": ""
            },
            "colorscale": [
             [
              0,
              "#0d0887"
             ],
             [
              0.1111111111111111,
              "#46039f"
             ],
             [
              0.2222222222222222,
              "#7201a8"
             ],
             [
              0.3333333333333333,
              "#9c179e"
             ],
             [
              0.4444444444444444,
              "#bd3786"
             ],
             [
              0.5555555555555556,
              "#d8576b"
             ],
             [
              0.6666666666666666,
              "#ed7953"
             ],
             [
              0.7777777777777778,
              "#fb9f3a"
             ],
             [
              0.8888888888888888,
              "#fdca26"
             ],
             [
              1,
              "#f0f921"
             ]
            ],
            "type": "heatmapgl"
           }
          ],
          "histogram": [
           {
            "marker": {
             "colorbar": {
              "outlinewidth": 0,
              "ticks": ""
             }
            },
            "type": "histogram"
           }
          ],
          "histogram2d": [
           {
            "colorbar": {
             "outlinewidth": 0,
             "ticks": ""
            },
            "colorscale": [
             [
              0,
              "#0d0887"
             ],
             [
              0.1111111111111111,
              "#46039f"
             ],
             [
              0.2222222222222222,
              "#7201a8"
             ],
             [
              0.3333333333333333,
              "#9c179e"
             ],
             [
              0.4444444444444444,
              "#bd3786"
             ],
             [
              0.5555555555555556,
              "#d8576b"
             ],
             [
              0.6666666666666666,
              "#ed7953"
             ],
             [
              0.7777777777777778,
              "#fb9f3a"
             ],
             [
              0.8888888888888888,
              "#fdca26"
             ],
             [
              1,
              "#f0f921"
             ]
            ],
            "type": "histogram2d"
           }
          ],
          "histogram2dcontour": [
           {
            "colorbar": {
             "outlinewidth": 0,
             "ticks": ""
            },
            "colorscale": [
             [
              0,
              "#0d0887"
             ],
             [
              0.1111111111111111,
              "#46039f"
             ],
             [
              0.2222222222222222,
              "#7201a8"
             ],
             [
              0.3333333333333333,
              "#9c179e"
             ],
             [
              0.4444444444444444,
              "#bd3786"
             ],
             [
              0.5555555555555556,
              "#d8576b"
             ],
             [
              0.6666666666666666,
              "#ed7953"
             ],
             [
              0.7777777777777778,
              "#fb9f3a"
             ],
             [
              0.8888888888888888,
              "#fdca26"
             ],
             [
              1,
              "#f0f921"
             ]
            ],
            "type": "histogram2dcontour"
           }
          ],
          "mesh3d": [
           {
            "colorbar": {
             "outlinewidth": 0,
             "ticks": ""
            },
            "type": "mesh3d"
           }
          ],
          "parcoords": [
           {
            "line": {
             "colorbar": {
              "outlinewidth": 0,
              "ticks": ""
             }
            },
            "type": "parcoords"
           }
          ],
          "pie": [
           {
            "automargin": true,
            "type": "pie"
           }
          ],
          "scatter": [
           {
            "marker": {
             "colorbar": {
              "outlinewidth": 0,
              "ticks": ""
             }
            },
            "type": "scatter"
           }
          ],
          "scatter3d": [
           {
            "line": {
             "colorbar": {
              "outlinewidth": 0,
              "ticks": ""
             }
            },
            "marker": {
             "colorbar": {
              "outlinewidth": 0,
              "ticks": ""
             }
            },
            "type": "scatter3d"
           }
          ],
          "scattercarpet": [
           {
            "marker": {
             "colorbar": {
              "outlinewidth": 0,
              "ticks": ""
             }
            },
            "type": "scattercarpet"
           }
          ],
          "scattergeo": [
           {
            "marker": {
             "colorbar": {
              "outlinewidth": 0,
              "ticks": ""
             }
            },
            "type": "scattergeo"
           }
          ],
          "scattergl": [
           {
            "marker": {
             "colorbar": {
              "outlinewidth": 0,
              "ticks": ""
             }
            },
            "type": "scattergl"
           }
          ],
          "scattermapbox": [
           {
            "marker": {
             "colorbar": {
              "outlinewidth": 0,
              "ticks": ""
             }
            },
            "type": "scattermapbox"
           }
          ],
          "scatterpolar": [
           {
            "marker": {
             "colorbar": {
              "outlinewidth": 0,
              "ticks": ""
             }
            },
            "type": "scatterpolar"
           }
          ],
          "scatterpolargl": [
           {
            "marker": {
             "colorbar": {
              "outlinewidth": 0,
              "ticks": ""
             }
            },
            "type": "scatterpolargl"
           }
          ],
          "scatterternary": [
           {
            "marker": {
             "colorbar": {
              "outlinewidth": 0,
              "ticks": ""
             }
            },
            "type": "scatterternary"
           }
          ],
          "surface": [
           {
            "colorbar": {
             "outlinewidth": 0,
             "ticks": ""
            },
            "colorscale": [
             [
              0,
              "#0d0887"
             ],
             [
              0.1111111111111111,
              "#46039f"
             ],
             [
              0.2222222222222222,
              "#7201a8"
             ],
             [
              0.3333333333333333,
              "#9c179e"
             ],
             [
              0.4444444444444444,
              "#bd3786"
             ],
             [
              0.5555555555555556,
              "#d8576b"
             ],
             [
              0.6666666666666666,
              "#ed7953"
             ],
             [
              0.7777777777777778,
              "#fb9f3a"
             ],
             [
              0.8888888888888888,
              "#fdca26"
             ],
             [
              1,
              "#f0f921"
             ]
            ],
            "type": "surface"
           }
          ],
          "table": [
           {
            "cells": {
             "fill": {
              "color": "#EBF0F8"
             },
             "line": {
              "color": "white"
             }
            },
            "header": {
             "fill": {
              "color": "#C8D4E3"
             },
             "line": {
              "color": "white"
             }
            },
            "type": "table"
           }
          ]
         },
         "layout": {
          "annotationdefaults": {
           "arrowcolor": "#2a3f5f",
           "arrowhead": 0,
           "arrowwidth": 1
          },
          "autotypenumbers": "strict",
          "coloraxis": {
           "colorbar": {
            "outlinewidth": 0,
            "ticks": ""
           }
          },
          "colorscale": {
           "diverging": [
            [
             0,
             "#8e0152"
            ],
            [
             0.1,
             "#c51b7d"
            ],
            [
             0.2,
             "#de77ae"
            ],
            [
             0.3,
             "#f1b6da"
            ],
            [
             0.4,
             "#fde0ef"
            ],
            [
             0.5,
             "#f7f7f7"
            ],
            [
             0.6,
             "#e6f5d0"
            ],
            [
             0.7,
             "#b8e186"
            ],
            [
             0.8,
             "#7fbc41"
            ],
            [
             0.9,
             "#4d9221"
            ],
            [
             1,
             "#276419"
            ]
           ],
           "sequential": [
            [
             0,
             "#0d0887"
            ],
            [
             0.1111111111111111,
             "#46039f"
            ],
            [
             0.2222222222222222,
             "#7201a8"
            ],
            [
             0.3333333333333333,
             "#9c179e"
            ],
            [
             0.4444444444444444,
             "#bd3786"
            ],
            [
             0.5555555555555556,
             "#d8576b"
            ],
            [
             0.6666666666666666,
             "#ed7953"
            ],
            [
             0.7777777777777778,
             "#fb9f3a"
            ],
            [
             0.8888888888888888,
             "#fdca26"
            ],
            [
             1,
             "#f0f921"
            ]
           ],
           "sequentialminus": [
            [
             0,
             "#0d0887"
            ],
            [
             0.1111111111111111,
             "#46039f"
            ],
            [
             0.2222222222222222,
             "#7201a8"
            ],
            [
             0.3333333333333333,
             "#9c179e"
            ],
            [
             0.4444444444444444,
             "#bd3786"
            ],
            [
             0.5555555555555556,
             "#d8576b"
            ],
            [
             0.6666666666666666,
             "#ed7953"
            ],
            [
             0.7777777777777778,
             "#fb9f3a"
            ],
            [
             0.8888888888888888,
             "#fdca26"
            ],
            [
             1,
             "#f0f921"
            ]
           ]
          },
          "colorway": [
           "#636efa",
           "#EF553B",
           "#00cc96",
           "#ab63fa",
           "#FFA15A",
           "#19d3f3",
           "#FF6692",
           "#B6E880",
           "#FF97FF",
           "#FECB52"
          ],
          "font": {
           "color": "#2a3f5f"
          },
          "geo": {
           "bgcolor": "white",
           "lakecolor": "white",
           "landcolor": "#E5ECF6",
           "showlakes": true,
           "showland": true,
           "subunitcolor": "white"
          },
          "hoverlabel": {
           "align": "left"
          },
          "hovermode": "closest",
          "mapbox": {
           "style": "light"
          },
          "paper_bgcolor": "white",
          "plot_bgcolor": "#E5ECF6",
          "polar": {
           "angularaxis": {
            "gridcolor": "white",
            "linecolor": "white",
            "ticks": ""
           },
           "bgcolor": "#E5ECF6",
           "radialaxis": {
            "gridcolor": "white",
            "linecolor": "white",
            "ticks": ""
           }
          },
          "scene": {
           "xaxis": {
            "backgroundcolor": "#E5ECF6",
            "gridcolor": "white",
            "gridwidth": 2,
            "linecolor": "white",
            "showbackground": true,
            "ticks": "",
            "zerolinecolor": "white"
           },
           "yaxis": {
            "backgroundcolor": "#E5ECF6",
            "gridcolor": "white",
            "gridwidth": 2,
            "linecolor": "white",
            "showbackground": true,
            "ticks": "",
            "zerolinecolor": "white"
           },
           "zaxis": {
            "backgroundcolor": "#E5ECF6",
            "gridcolor": "white",
            "gridwidth": 2,
            "linecolor": "white",
            "showbackground": true,
            "ticks": "",
            "zerolinecolor": "white"
           }
          },
          "shapedefaults": {
           "line": {
            "color": "#2a3f5f"
           }
          },
          "ternary": {
           "aaxis": {
            "gridcolor": "white",
            "linecolor": "white",
            "ticks": ""
           },
           "baxis": {
            "gridcolor": "white",
            "linecolor": "white",
            "ticks": ""
           },
           "bgcolor": "#E5ECF6",
           "caxis": {
            "gridcolor": "white",
            "linecolor": "white",
            "ticks": ""
           }
          },
          "title": {
           "x": 0.05
          },
          "xaxis": {
           "automargin": true,
           "gridcolor": "white",
           "linecolor": "white",
           "ticks": "",
           "title": {
            "standoff": 15
           },
           "zerolinecolor": "white",
           "zerolinewidth": 2
          },
          "yaxis": {
           "automargin": true,
           "gridcolor": "white",
           "linecolor": "white",
           "ticks": "",
           "title": {
            "standoff": 15
           },
           "zerolinecolor": "white",
           "zerolinewidth": 2
          }
         }
        },
        "title": {
         "font": {
          "color": "#4D5663"
         }
        },
        "xaxis": {
         "gridcolor": "#E1E5ED",
         "showgrid": true,
         "tickfont": {
          "color": "#4D5663"
         },
         "title": {
          "font": {
           "color": "#4D5663"
          },
          "text": ""
         },
         "zerolinecolor": "#E1E5ED"
        },
        "yaxis": {
         "gridcolor": "#E1E5ED",
         "showgrid": true,
         "tickfont": {
          "color": "#4D5663"
         },
         "title": {
          "font": {
           "color": "#4D5663"
          },
          "text": ""
         },
         "zerolinecolor": "#E1E5ED"
        }
       }
      },
      "text/html": [
       "<div>                            <div id=\"341131b4-9d4d-442e-b185-23b4d099e38b\" class=\"plotly-graph-div\" style=\"height:525px; width:100%;\"></div>            <script type=\"text/javascript\">                require([\"plotly\"], function(Plotly) {                    window.PLOTLYENV=window.PLOTLYENV || {};\n",
       "                    window.PLOTLYENV.BASE_URL='https://plot.ly';                                    if (document.getElementById(\"341131b4-9d4d-442e-b185-23b4d099e38b\")) {                    Plotly.newPlot(                        \"341131b4-9d4d-442e-b185-23b4d099e38b\",                        [{\"histfunc\": \"count\", \"histnorm\": \"\", \"marker\": {\"color\": \"rgba(255, 153, 51, 1.0)\", \"line\": {\"color\": \"#4D5663\", \"width\": 1.3}}, \"name\": \"A\", \"nbinsx\": 50, \"opacity\": 0.8, \"orientation\": \"v\", \"type\": \"histogram\", \"x\": [-1.2376533429297487, 0.5210312381862134, -1.0251899876913395, 0.45381839892015724, 2.5579020873643423, -2.311096877009032, 1.0848519410157036, 0.14420890327050329, 0.8761771802727409, -0.5599756647759724, 0.8404008962563776, 0.9360487734843175, -1.2159463914906068, 0.4323468127108094, 1.4875276747986366, -1.8104483053725908, 0.7422040304205689, 2.2293211252216603, 0.15632546876214123, 0.4081041805918467, 0.024748436909957674, -0.727628179660839, -0.3139827530211364, 1.7415908205376824, 1.113900769384104, -1.7478092023943117, 0.8140754057060445, 1.1184203301949367, 0.11643679130544002, 0.2413981464536677, -1.8981945923166192, 0.7814782558065474, 0.12346431470248988, -0.5888166641853814, 0.5638242182369565, -0.04966892567279881, -0.8730779045718278, 0.9937635926043222, -0.3111311960754491, -1.2704479991052302, 0.6145906380641518, -2.1080663744544688, 1.162745468298509, -0.40269202904722307, 0.9816818315776701, 1.2766727602932417, -1.1441699855454301, -1.4095882123449281, 1.3445230473814531, 0.983685841697918, -0.4764813243223706, 0.34186207479032177, -1.3617951618631923, -0.5731448087586377, 1.6229372931953945, -1.8760222194164973, 0.2696419215276941, 1.4759084603076527, 1.2932437655688576, 0.14905939922683087, 1.1274399726091413, 1.6653660922881228, 0.9404296495750097, 1.1505947887788583, -1.7013903166322464, -0.3128888538704009, -2.143472785599862, -0.5117941385029973, 0.9973449715984799, -1.28127634682668, 0.5008584141197462, -0.3438551379470671, -1.496632229824434, -1.0196525699126524, 1.788124743162996, -1.0822473860519988, 0.9805588328233438, 2.23743047144731, 0.2129752042080661, 0.6876725100251737, 0.7340280290562036, -0.44115399131713307, -0.6322101548325217, 0.8240049645002243, -0.0012853927734924836, 0.44660590623353075, -0.3231659858707658, -0.33411455762785336, 0.353841423946161, -0.022911915151177333, 0.5704806182719827, 1.9789498254742628, -1.1043229788804343, 1.2443321962668799, 0.4777611949867243, -0.7944342954051479, 1.3535937388032435, -0.5031726594973573, -0.041696531493813985, 0.9618825324128459]}],                        {\"barmode\": \"overlay\", \"legend\": {\"bgcolor\": \"#F5F6F9\", \"font\": {\"color\": \"#4D5663\"}}, \"paper_bgcolor\": \"#F5F6F9\", \"plot_bgcolor\": \"#F5F6F9\", \"template\": {\"data\": {\"bar\": [{\"error_x\": {\"color\": \"#2a3f5f\"}, \"error_y\": {\"color\": \"#2a3f5f\"}, \"marker\": {\"line\": {\"color\": \"#E5ECF6\", \"width\": 0.5}}, \"type\": \"bar\"}], \"barpolar\": [{\"marker\": {\"line\": {\"color\": \"#E5ECF6\", \"width\": 0.5}}, \"type\": \"barpolar\"}], \"carpet\": [{\"aaxis\": {\"endlinecolor\": \"#2a3f5f\", \"gridcolor\": \"white\", \"linecolor\": \"white\", \"minorgridcolor\": \"white\", \"startlinecolor\": \"#2a3f5f\"}, \"baxis\": {\"endlinecolor\": \"#2a3f5f\", \"gridcolor\": \"white\", \"linecolor\": \"white\", \"minorgridcolor\": \"white\", \"startlinecolor\": \"#2a3f5f\"}, \"type\": \"carpet\"}], \"choropleth\": [{\"colorbar\": {\"outlinewidth\": 0, \"ticks\": \"\"}, \"type\": \"choropleth\"}], \"contour\": [{\"colorbar\": {\"outlinewidth\": 0, \"ticks\": \"\"}, \"colorscale\": [[0.0, \"#0d0887\"], [0.1111111111111111, \"#46039f\"], [0.2222222222222222, \"#7201a8\"], [0.3333333333333333, \"#9c179e\"], [0.4444444444444444, \"#bd3786\"], [0.5555555555555556, \"#d8576b\"], [0.6666666666666666, \"#ed7953\"], [0.7777777777777778, \"#fb9f3a\"], [0.8888888888888888, \"#fdca26\"], [1.0, \"#f0f921\"]], \"type\": \"contour\"}], \"contourcarpet\": [{\"colorbar\": {\"outlinewidth\": 0, \"ticks\": \"\"}, \"type\": \"contourcarpet\"}], \"heatmap\": [{\"colorbar\": {\"outlinewidth\": 0, \"ticks\": \"\"}, \"colorscale\": [[0.0, \"#0d0887\"], [0.1111111111111111, \"#46039f\"], [0.2222222222222222, \"#7201a8\"], [0.3333333333333333, \"#9c179e\"], [0.4444444444444444, \"#bd3786\"], [0.5555555555555556, \"#d8576b\"], [0.6666666666666666, \"#ed7953\"], [0.7777777777777778, \"#fb9f3a\"], [0.8888888888888888, \"#fdca26\"], [1.0, \"#f0f921\"]], \"type\": \"heatmap\"}], \"heatmapgl\": [{\"colorbar\": {\"outlinewidth\": 0, \"ticks\": \"\"}, \"colorscale\": [[0.0, \"#0d0887\"], [0.1111111111111111, \"#46039f\"], [0.2222222222222222, \"#7201a8\"], [0.3333333333333333, \"#9c179e\"], [0.4444444444444444, \"#bd3786\"], [0.5555555555555556, \"#d8576b\"], [0.6666666666666666, \"#ed7953\"], [0.7777777777777778, \"#fb9f3a\"], [0.8888888888888888, \"#fdca26\"], [1.0, \"#f0f921\"]], \"type\": \"heatmapgl\"}], \"histogram\": [{\"marker\": {\"colorbar\": {\"outlinewidth\": 0, \"ticks\": \"\"}}, \"type\": \"histogram\"}], \"histogram2d\": [{\"colorbar\": {\"outlinewidth\": 0, \"ticks\": \"\"}, \"colorscale\": [[0.0, \"#0d0887\"], [0.1111111111111111, \"#46039f\"], [0.2222222222222222, \"#7201a8\"], [0.3333333333333333, \"#9c179e\"], [0.4444444444444444, \"#bd3786\"], [0.5555555555555556, \"#d8576b\"], [0.6666666666666666, \"#ed7953\"], [0.7777777777777778, \"#fb9f3a\"], [0.8888888888888888, \"#fdca26\"], [1.0, \"#f0f921\"]], \"type\": \"histogram2d\"}], \"histogram2dcontour\": [{\"colorbar\": {\"outlinewidth\": 0, \"ticks\": \"\"}, \"colorscale\": [[0.0, \"#0d0887\"], [0.1111111111111111, \"#46039f\"], [0.2222222222222222, \"#7201a8\"], [0.3333333333333333, \"#9c179e\"], [0.4444444444444444, \"#bd3786\"], [0.5555555555555556, \"#d8576b\"], [0.6666666666666666, \"#ed7953\"], [0.7777777777777778, \"#fb9f3a\"], [0.8888888888888888, \"#fdca26\"], [1.0, \"#f0f921\"]], \"type\": \"histogram2dcontour\"}], \"mesh3d\": [{\"colorbar\": {\"outlinewidth\": 0, \"ticks\": \"\"}, \"type\": \"mesh3d\"}], \"parcoords\": [{\"line\": {\"colorbar\": {\"outlinewidth\": 0, \"ticks\": \"\"}}, \"type\": \"parcoords\"}], \"pie\": [{\"automargin\": true, \"type\": \"pie\"}], \"scatter\": [{\"marker\": {\"colorbar\": {\"outlinewidth\": 0, \"ticks\": \"\"}}, \"type\": \"scatter\"}], \"scatter3d\": [{\"line\": {\"colorbar\": {\"outlinewidth\": 0, \"ticks\": \"\"}}, \"marker\": {\"colorbar\": {\"outlinewidth\": 0, \"ticks\": \"\"}}, \"type\": \"scatter3d\"}], \"scattercarpet\": [{\"marker\": {\"colorbar\": {\"outlinewidth\": 0, \"ticks\": \"\"}}, \"type\": \"scattercarpet\"}], \"scattergeo\": [{\"marker\": {\"colorbar\": {\"outlinewidth\": 0, \"ticks\": \"\"}}, \"type\": \"scattergeo\"}], \"scattergl\": [{\"marker\": {\"colorbar\": {\"outlinewidth\": 0, \"ticks\": \"\"}}, \"type\": \"scattergl\"}], \"scattermapbox\": [{\"marker\": {\"colorbar\": {\"outlinewidth\": 0, \"ticks\": \"\"}}, \"type\": \"scattermapbox\"}], \"scatterpolar\": [{\"marker\": {\"colorbar\": {\"outlinewidth\": 0, \"ticks\": \"\"}}, \"type\": \"scatterpolar\"}], \"scatterpolargl\": [{\"marker\": {\"colorbar\": {\"outlinewidth\": 0, \"ticks\": \"\"}}, \"type\": \"scatterpolargl\"}], \"scatterternary\": [{\"marker\": {\"colorbar\": {\"outlinewidth\": 0, \"ticks\": \"\"}}, \"type\": \"scatterternary\"}], \"surface\": [{\"colorbar\": {\"outlinewidth\": 0, \"ticks\": \"\"}, \"colorscale\": [[0.0, \"#0d0887\"], [0.1111111111111111, \"#46039f\"], [0.2222222222222222, \"#7201a8\"], [0.3333333333333333, \"#9c179e\"], [0.4444444444444444, \"#bd3786\"], [0.5555555555555556, \"#d8576b\"], [0.6666666666666666, \"#ed7953\"], [0.7777777777777778, \"#fb9f3a\"], [0.8888888888888888, \"#fdca26\"], [1.0, \"#f0f921\"]], \"type\": \"surface\"}], \"table\": [{\"cells\": {\"fill\": {\"color\": \"#EBF0F8\"}, \"line\": {\"color\": \"white\"}}, \"header\": {\"fill\": {\"color\": \"#C8D4E3\"}, \"line\": {\"color\": \"white\"}}, \"type\": \"table\"}]}, \"layout\": {\"annotationdefaults\": {\"arrowcolor\": \"#2a3f5f\", \"arrowhead\": 0, \"arrowwidth\": 1}, \"autotypenumbers\": \"strict\", \"coloraxis\": {\"colorbar\": {\"outlinewidth\": 0, \"ticks\": \"\"}}, \"colorscale\": {\"diverging\": [[0, \"#8e0152\"], [0.1, \"#c51b7d\"], [0.2, \"#de77ae\"], [0.3, \"#f1b6da\"], [0.4, \"#fde0ef\"], [0.5, \"#f7f7f7\"], [0.6, \"#e6f5d0\"], [0.7, \"#b8e186\"], [0.8, \"#7fbc41\"], [0.9, \"#4d9221\"], [1, \"#276419\"]], \"sequential\": [[0.0, \"#0d0887\"], [0.1111111111111111, \"#46039f\"], [0.2222222222222222, \"#7201a8\"], [0.3333333333333333, \"#9c179e\"], [0.4444444444444444, \"#bd3786\"], [0.5555555555555556, \"#d8576b\"], [0.6666666666666666, \"#ed7953\"], [0.7777777777777778, \"#fb9f3a\"], [0.8888888888888888, \"#fdca26\"], [1.0, \"#f0f921\"]], \"sequentialminus\": [[0.0, \"#0d0887\"], [0.1111111111111111, \"#46039f\"], [0.2222222222222222, \"#7201a8\"], [0.3333333333333333, \"#9c179e\"], [0.4444444444444444, \"#bd3786\"], [0.5555555555555556, \"#d8576b\"], [0.6666666666666666, \"#ed7953\"], [0.7777777777777778, \"#fb9f3a\"], [0.8888888888888888, \"#fdca26\"], [1.0, \"#f0f921\"]]}, \"colorway\": [\"#636efa\", \"#EF553B\", \"#00cc96\", \"#ab63fa\", \"#FFA15A\", \"#19d3f3\", \"#FF6692\", \"#B6E880\", \"#FF97FF\", \"#FECB52\"], \"font\": {\"color\": \"#2a3f5f\"}, \"geo\": {\"bgcolor\": \"white\", \"lakecolor\": \"white\", \"landcolor\": \"#E5ECF6\", \"showlakes\": true, \"showland\": true, \"subunitcolor\": \"white\"}, \"hoverlabel\": {\"align\": \"left\"}, \"hovermode\": \"closest\", \"mapbox\": {\"style\": \"light\"}, \"paper_bgcolor\": \"white\", \"plot_bgcolor\": \"#E5ECF6\", \"polar\": {\"angularaxis\": {\"gridcolor\": \"white\", \"linecolor\": \"white\", \"ticks\": \"\"}, \"bgcolor\": \"#E5ECF6\", \"radialaxis\": {\"gridcolor\": \"white\", \"linecolor\": \"white\", \"ticks\": \"\"}}, \"scene\": {\"xaxis\": {\"backgroundcolor\": \"#E5ECF6\", \"gridcolor\": \"white\", \"gridwidth\": 2, \"linecolor\": \"white\", \"showbackground\": true, \"ticks\": \"\", \"zerolinecolor\": \"white\"}, \"yaxis\": {\"backgroundcolor\": \"#E5ECF6\", \"gridcolor\": \"white\", \"gridwidth\": 2, \"linecolor\": \"white\", \"showbackground\": true, \"ticks\": \"\", \"zerolinecolor\": \"white\"}, \"zaxis\": {\"backgroundcolor\": \"#E5ECF6\", \"gridcolor\": \"white\", \"gridwidth\": 2, \"linecolor\": \"white\", \"showbackground\": true, \"ticks\": \"\", \"zerolinecolor\": \"white\"}}, \"shapedefaults\": {\"line\": {\"color\": \"#2a3f5f\"}}, \"ternary\": {\"aaxis\": {\"gridcolor\": \"white\", \"linecolor\": \"white\", \"ticks\": \"\"}, \"baxis\": {\"gridcolor\": \"white\", \"linecolor\": \"white\", \"ticks\": \"\"}, \"bgcolor\": \"#E5ECF6\", \"caxis\": {\"gridcolor\": \"white\", \"linecolor\": \"white\", \"ticks\": \"\"}}, \"title\": {\"x\": 0.05}, \"xaxis\": {\"automargin\": true, \"gridcolor\": \"white\", \"linecolor\": \"white\", \"ticks\": \"\", \"title\": {\"standoff\": 15}, \"zerolinecolor\": \"white\", \"zerolinewidth\": 2}, \"yaxis\": {\"automargin\": true, \"gridcolor\": \"white\", \"linecolor\": \"white\", \"ticks\": \"\", \"title\": {\"standoff\": 15}, \"zerolinecolor\": \"white\", \"zerolinewidth\": 2}}}, \"title\": {\"font\": {\"color\": \"#4D5663\"}}, \"xaxis\": {\"gridcolor\": \"#E1E5ED\", \"showgrid\": true, \"tickfont\": {\"color\": \"#4D5663\"}, \"title\": {\"font\": {\"color\": \"#4D5663\"}, \"text\": \"\"}, \"zerolinecolor\": \"#E1E5ED\"}, \"yaxis\": {\"gridcolor\": \"#E1E5ED\", \"showgrid\": true, \"tickfont\": {\"color\": \"#4D5663\"}, \"title\": {\"font\": {\"color\": \"#4D5663\"}, \"text\": \"\"}, \"zerolinecolor\": \"#E1E5ED\"}},                        {\"showLink\": true, \"linkText\": \"Export to plot.ly\", \"plotlyServerURL\": \"https://plot.ly\", \"responsive\": true}                    ).then(function(){\n",
       "                            \n",
       "var gd = document.getElementById('341131b4-9d4d-442e-b185-23b4d099e38b');\n",
       "var x = new MutationObserver(function (mutations, observer) {{\n",
       "        var display = window.getComputedStyle(gd).display;\n",
       "        if (!display || display === 'none') {{\n",
       "            console.log([gd, 'removed!']);\n",
       "            Plotly.purge(gd);\n",
       "            observer.disconnect();\n",
       "        }}\n",
       "}});\n",
       "\n",
       "// Listen for the removal of the full notebook cells\n",
       "var notebookContainer = gd.closest('#notebook-container');\n",
       "if (notebookContainer) {{\n",
       "    x.observe(notebookContainer, {childList: true});\n",
       "}}\n",
       "\n",
       "// Listen for the clearing of the current output cell\n",
       "var outputEl = gd.closest('.output');\n",
       "if (outputEl) {{\n",
       "    x.observe(outputEl, {childList: true});\n",
       "}}\n",
       "\n",
       "                        })                };                });            </script>        </div>"
      ]
     },
     "metadata": {},
     "output_type": "display_data"
    }
   ],
   "source": [
    "df['A'].iplot(kind='hist',bins=50)"
   ]
  },
  {
   "cell_type": "code",
   "execution_count": 41,
   "metadata": {},
   "outputs": [
    {
     "data": {
      "application/vnd.plotly.v1+json": {
       "config": {
        "linkText": "Export to plot.ly",
        "plotlyServerURL": "https://plot.ly",
        "showLink": true
       },
       "data": [
        {
         "line": {
          "color": "rgba(255, 153, 51, 1.0)",
          "dash": "solid",
          "shape": "linear",
          "width": 1.3
         },
         "mode": "lines",
         "name": "A",
         "text": "",
         "type": "scatter",
         "x": [
          0,
          1,
          2,
          3,
          4,
          5,
          6,
          7,
          8,
          9,
          10,
          11,
          12,
          13,
          14,
          15,
          16,
          17,
          18,
          19,
          20,
          21,
          22,
          23,
          24,
          25,
          26,
          27,
          28,
          29,
          30,
          31,
          32,
          33,
          34,
          35,
          36,
          37,
          38,
          39,
          40,
          41,
          42,
          43,
          44,
          45,
          46,
          47,
          48,
          49,
          50,
          51,
          52,
          53,
          54,
          55,
          56,
          57,
          58,
          59,
          60,
          61,
          62,
          63,
          64,
          65,
          66,
          67,
          68,
          69,
          70,
          71,
          72,
          73,
          74,
          75,
          76,
          77,
          78,
          79,
          80,
          81,
          82,
          83,
          84,
          85,
          86,
          87,
          88,
          89,
          90,
          91,
          92,
          93,
          94,
          95,
          96,
          97,
          98,
          99
         ],
         "y": [
          -1.2376533429297487,
          0.5210312381862134,
          -1.0251899876913395,
          0.45381839892015724,
          2.5579020873643423,
          -2.311096877009032,
          1.0848519410157036,
          0.14420890327050329,
          0.8761771802727409,
          -0.5599756647759724,
          0.8404008962563776,
          0.9360487734843175,
          -1.2159463914906068,
          0.4323468127108094,
          1.4875276747986366,
          -1.8104483053725908,
          0.7422040304205689,
          2.2293211252216603,
          0.15632546876214123,
          0.4081041805918467,
          0.024748436909957674,
          -0.727628179660839,
          -0.3139827530211364,
          1.7415908205376824,
          1.113900769384104,
          -1.7478092023943117,
          0.8140754057060445,
          1.1184203301949367,
          0.11643679130544002,
          0.2413981464536677,
          -1.8981945923166192,
          0.7814782558065474,
          0.12346431470248988,
          -0.5888166641853814,
          0.5638242182369565,
          -0.04966892567279881,
          -0.8730779045718278,
          0.9937635926043222,
          -0.3111311960754491,
          -1.2704479991052302,
          0.6145906380641518,
          -2.1080663744544688,
          1.162745468298509,
          -0.40269202904722307,
          0.9816818315776701,
          1.2766727602932417,
          -1.1441699855454301,
          -1.4095882123449281,
          1.3445230473814531,
          0.983685841697918,
          -0.4764813243223706,
          0.34186207479032177,
          -1.3617951618631923,
          -0.5731448087586377,
          1.6229372931953945,
          -1.8760222194164973,
          0.2696419215276941,
          1.4759084603076527,
          1.2932437655688576,
          0.14905939922683087,
          1.1274399726091413,
          1.6653660922881228,
          0.9404296495750097,
          1.1505947887788583,
          -1.7013903166322464,
          -0.3128888538704009,
          -2.143472785599862,
          -0.5117941385029973,
          0.9973449715984799,
          -1.28127634682668,
          0.5008584141197462,
          -0.3438551379470671,
          -1.496632229824434,
          -1.0196525699126524,
          1.788124743162996,
          -1.0822473860519988,
          0.9805588328233438,
          2.23743047144731,
          0.2129752042080661,
          0.6876725100251737,
          0.7340280290562036,
          -0.44115399131713307,
          -0.6322101548325217,
          0.8240049645002243,
          -0.0012853927734924836,
          0.44660590623353075,
          -0.3231659858707658,
          -0.33411455762785336,
          0.353841423946161,
          -0.022911915151177333,
          0.5704806182719827,
          1.9789498254742628,
          -1.1043229788804343,
          1.2443321962668799,
          0.4777611949867243,
          -0.7944342954051479,
          1.3535937388032435,
          -0.5031726594973573,
          -0.041696531493813985,
          0.9618825324128459
         ]
        },
        {
         "line": {
          "color": "rgba(55, 128, 191, 1.0)",
          "dash": "solid",
          "shape": "linear",
          "width": 1.3
         },
         "mode": "lines",
         "name": "B",
         "text": "",
         "type": "scatter",
         "x": [
          0,
          1,
          2,
          3,
          4,
          5,
          6,
          7,
          8,
          9,
          10,
          11,
          12,
          13,
          14,
          15,
          16,
          17,
          18,
          19,
          20,
          21,
          22,
          23,
          24,
          25,
          26,
          27,
          28,
          29,
          30,
          31,
          32,
          33,
          34,
          35,
          36,
          37,
          38,
          39,
          40,
          41,
          42,
          43,
          44,
          45,
          46,
          47,
          48,
          49,
          50,
          51,
          52,
          53,
          54,
          55,
          56,
          57,
          58,
          59,
          60,
          61,
          62,
          63,
          64,
          65,
          66,
          67,
          68,
          69,
          70,
          71,
          72,
          73,
          74,
          75,
          76,
          77,
          78,
          79,
          80,
          81,
          82,
          83,
          84,
          85,
          86,
          87,
          88,
          89,
          90,
          91,
          92,
          93,
          94,
          95,
          96,
          97,
          98,
          99
         ],
         "y": [
          -0.5729984879969171,
          0.5909561009580857,
          -0.6479381979401543,
          0.5068431621784943,
          0.21022581680114724,
          -2.035720176553049,
          -0.48728930433915413,
          -0.5100542298446442,
          1.0746855013944174,
          -0.03425512643487298,
          -1.1034087514016049,
          -0.942789188319332,
          -0.09798209414877965,
          -0.75471906104679,
          0.5695846791296407,
          0.18144063049261203,
          0.6755433055426926,
          1.6908113005091172,
          -0.037085297150455485,
          0.5093238182228775,
          0.4309374328017403,
          1.0603891419114981,
          0.9600849278946542,
          0.41138880181158965,
          0.3542988098231076,
          0.3793117072240972,
          -0.32429385709622316,
          -0.3720488190049271,
          0.28700601889218225,
          -0.4814804689597724,
          0.32292724413314056,
          1.3750481693772498,
          0.375806837908601,
          1.0204153020741686,
          0.5372488436715573,
          0.1630362622470754,
          -0.37128401061293204,
          0.18189386623342524,
          1.5443816284277438,
          -0.5700477904708945,
          1.7413818905636158,
          -1.197416653079403,
          0.25236922063720735,
          -0.8937094378007724,
          2.7781482520757224,
          -0.08022663678328085,
          1.2403860792115906,
          -0.013828930370441302,
          -0.9348967567711488,
          -2.225144487840825,
          -1.2693652149536099,
          1.8614425597359745,
          0.2543178484847704,
          -0.9356797873206968,
          -1.823825627965515,
          -1.1714380378971925,
          -0.480426448575434,
          -0.20624266781744877,
          0.339482324534446,
          1.097677022740831,
          -0.5102593440109845,
          -0.20183972656712482,
          -0.8960494374584044,
          -0.5924532644882401,
          -0.646345965309449,
          1.4286394367280775,
          1.6501845360404976,
          0.511791608963945,
          0.4393596006137443,
          0.5725738313781439,
          -0.664265767438522,
          -0.44164130103306365,
          0.6372090453689565,
          -0.2589300158280436,
          1.0894350623522444,
          0.26421945331926805,
          -1.1179733849258793,
          0.7729424625201243,
          -0.6198532415959194,
          -0.17020060359782097,
          0.9341080928874868,
          0.24117249940352037,
          -0.7005627582569318,
          0.6582479238215062,
          -0.0716208850768693,
          1.5706154364823148,
          -0.6497956569183799,
          0.5423497355086795,
          0.9370286417621064,
          -0.7308532701982378,
          1.508055847158207,
          0.9936015984705164,
          -1.8260543146320227,
          0.4892420488884562,
          0.9043459424350315,
          0.8305425725610729,
          -1.2589823642833216,
          -0.7149533393533173,
          -1.806426117331394,
          -0.2447907667589656
         ]
        },
        {
         "connectgaps": false,
         "fill": "tozeroy",
         "line": {
          "color": "green",
          "dash": "solid",
          "shape": "linear",
          "width": 0.5
         },
         "mode": "lines",
         "name": "Spread",
         "showlegend": false,
         "type": "scatter",
         "x": [
          0,
          1,
          2,
          3,
          4,
          5,
          6,
          7,
          8,
          9,
          10,
          11,
          12,
          13,
          14,
          15,
          16,
          17,
          18,
          19,
          20,
          21,
          22,
          23,
          24,
          25,
          26,
          27,
          28,
          29,
          30,
          31,
          32,
          33,
          34,
          35,
          36,
          37,
          38,
          39,
          40,
          41,
          42,
          43,
          44,
          45,
          46,
          47,
          48,
          49,
          50,
          51,
          52,
          53,
          54,
          55,
          56,
          57,
          58,
          59,
          60,
          61,
          62,
          63,
          64,
          65,
          66,
          67,
          68,
          69,
          70,
          71,
          72,
          73,
          74,
          75,
          76,
          77,
          78,
          79,
          80,
          81,
          82,
          83,
          84,
          85,
          86,
          87,
          88,
          89,
          90,
          91,
          92,
          93,
          94,
          95,
          96,
          97,
          98,
          99
         ],
         "xaxis": "x2",
         "y": [
          "",
          "",
          "",
          "",
          2.3476762705631953,
          "",
          1.5721412453548578,
          0.6542631331151475,
          "",
          "",
          1.9438096476579825,
          1.8788379618036495,
          "",
          1.1870658737575994,
          0.9179429956689958,
          "",
          0.06666072487787633,
          0.538509824712543,
          0.1934107659125967,
          "",
          "",
          "",
          "",
          1.3302020187260928,
          0.7596019595609965,
          "",
          1.1383692628022677,
          1.4904691491998638,
          "",
          0.7228786154134401,
          "",
          "",
          "",
          "",
          0.026575374565399157,
          "",
          "",
          0.8118697263708969,
          "",
          "",
          "",
          "",
          0.9103762476613017,
          0.4910174087535493,
          "",
          1.3568993970765226,
          "",
          "",
          2.279419804152602,
          3.208830329538743,
          0.7928838906312392,
          "",
          "",
          0.3625349785620591,
          3.4467629211609094,
          "",
          0.7500683701031281,
          1.6821511281251014,
          0.9537614410344115,
          "",
          1.6376993166201257,
          1.8672058188552476,
          1.836479087033414,
          1.7430480532670984,
          "",
          "",
          "",
          "",
          0.5579853709847356,
          "",
          1.165124181558268,
          0.09778616308599652,
          "",
          "",
          0.6986896808107517,
          "",
          2.098532217749223,
          1.4644880089271854,
          0.8328284458039854,
          0.8578731136229947,
          "",
          "",
          0.06835260342441007,
          0.1657570406787181,
          0.07033549230337681,
          "",
          0.32662967104761415,
          "",
          "",
          0.7079413550470605,
          "",
          0.9853482270037464,
          0.7217313357515884,
          0.7550901473784237,
          "",
          "",
          2.612576103086565,
          0.21178067985595994,
          1.76472958583758,
          1.2066732991718117
         ],
         "yaxis": "y2"
        },
        {
         "connectgaps": false,
         "fill": "tozeroy",
         "line": {
          "color": "red",
          "dash": "solid",
          "shape": "linear",
          "width": 0.5
         },
         "mode": "lines",
         "name": "Spread",
         "showlegend": false,
         "type": "scatter",
         "x": [
          0,
          1,
          2,
          3,
          4,
          5,
          6,
          7,
          8,
          9,
          10,
          11,
          12,
          13,
          14,
          15,
          16,
          17,
          18,
          19,
          20,
          21,
          22,
          23,
          24,
          25,
          26,
          27,
          28,
          29,
          30,
          31,
          32,
          33,
          34,
          35,
          36,
          37,
          38,
          39,
          40,
          41,
          42,
          43,
          44,
          45,
          46,
          47,
          48,
          49,
          50,
          51,
          52,
          53,
          54,
          55,
          56,
          57,
          58,
          59,
          60,
          61,
          62,
          63,
          64,
          65,
          66,
          67,
          68,
          69,
          70,
          71,
          72,
          73,
          74,
          75,
          76,
          77,
          78,
          79,
          80,
          81,
          82,
          83,
          84,
          85,
          86,
          87,
          88,
          89,
          90,
          91,
          92,
          93,
          94,
          95,
          96,
          97,
          98,
          99
         ],
         "xaxis": "x2",
         "y": [
          -0.6646548549328316,
          -0.06992486277187226,
          -0.37725178975118523,
          -0.053024763258337104,
          "",
          -0.27537670045598306,
          "",
          "",
          -0.1985083211216765,
          -0.5257205383410994,
          "",
          "",
          -1.1179642973418271,
          "",
          "",
          -1.9918889358652028,
          "",
          "",
          "",
          -0.10121963763103081,
          -0.40618899589178264,
          -1.7880173215723372,
          -1.2740676809157905,
          "",
          "",
          -2.1271209096184087,
          "",
          "",
          -0.17056922758674223,
          "",
          -2.22112183644976,
          -0.5935699135707024,
          -0.2523425232061111,
          -1.60923196625955,
          "",
          -0.21270518791987422,
          -0.5017938939588957,
          "",
          -1.8555128245031929,
          -0.7004002086343357,
          -1.1267912524994639,
          -0.9106497213750657,
          "",
          "",
          -1.7964664204980523,
          "",
          -2.384556064757021,
          -1.3957592819744868,
          "",
          "",
          "",
          -1.5195804849456527,
          -1.6161130103479626,
          "",
          "",
          -0.7045841815193048,
          "",
          "",
          "",
          -0.9486176235140001,
          "",
          "",
          "",
          "",
          -1.0550443513227974,
          -1.7415282905984784,
          -3.7936573216403597,
          -1.0235857474669423,
          "",
          -1.8538501782048238,
          "",
          "",
          -2.13384127519339,
          -0.7607225540846088,
          "",
          -1.3464668393712669,
          "",
          "",
          "",
          "",
          -0.20008006383128318,
          -0.6823264907206534,
          "",
          "",
          "",
          -1.124009530248784,
          "",
          -0.8764642931365328,
          -0.5831872178159454,
          "",
          -0.9375752288862244,
          "",
          "",
          "",
          -0.4265847474483072,
          -1.6249768679662209,
          "",
          "",
          "",
          ""
         ],
         "yaxis": "y2"
        }
       ],
       "layout": {
        "hovermode": "x",
        "legend": {
         "bgcolor": "#F5F6F9",
         "font": {
          "color": "#4D5663"
         }
        },
        "paper_bgcolor": "#F5F6F9",
        "plot_bgcolor": "#F5F6F9",
        "template": {
         "data": {
          "bar": [
           {
            "error_x": {
             "color": "#2a3f5f"
            },
            "error_y": {
             "color": "#2a3f5f"
            },
            "marker": {
             "line": {
              "color": "#E5ECF6",
              "width": 0.5
             }
            },
            "type": "bar"
           }
          ],
          "barpolar": [
           {
            "marker": {
             "line": {
              "color": "#E5ECF6",
              "width": 0.5
             }
            },
            "type": "barpolar"
           }
          ],
          "carpet": [
           {
            "aaxis": {
             "endlinecolor": "#2a3f5f",
             "gridcolor": "white",
             "linecolor": "white",
             "minorgridcolor": "white",
             "startlinecolor": "#2a3f5f"
            },
            "baxis": {
             "endlinecolor": "#2a3f5f",
             "gridcolor": "white",
             "linecolor": "white",
             "minorgridcolor": "white",
             "startlinecolor": "#2a3f5f"
            },
            "type": "carpet"
           }
          ],
          "choropleth": [
           {
            "colorbar": {
             "outlinewidth": 0,
             "ticks": ""
            },
            "type": "choropleth"
           }
          ],
          "contour": [
           {
            "colorbar": {
             "outlinewidth": 0,
             "ticks": ""
            },
            "colorscale": [
             [
              0,
              "#0d0887"
             ],
             [
              0.1111111111111111,
              "#46039f"
             ],
             [
              0.2222222222222222,
              "#7201a8"
             ],
             [
              0.3333333333333333,
              "#9c179e"
             ],
             [
              0.4444444444444444,
              "#bd3786"
             ],
             [
              0.5555555555555556,
              "#d8576b"
             ],
             [
              0.6666666666666666,
              "#ed7953"
             ],
             [
              0.7777777777777778,
              "#fb9f3a"
             ],
             [
              0.8888888888888888,
              "#fdca26"
             ],
             [
              1,
              "#f0f921"
             ]
            ],
            "type": "contour"
           }
          ],
          "contourcarpet": [
           {
            "colorbar": {
             "outlinewidth": 0,
             "ticks": ""
            },
            "type": "contourcarpet"
           }
          ],
          "heatmap": [
           {
            "colorbar": {
             "outlinewidth": 0,
             "ticks": ""
            },
            "colorscale": [
             [
              0,
              "#0d0887"
             ],
             [
              0.1111111111111111,
              "#46039f"
             ],
             [
              0.2222222222222222,
              "#7201a8"
             ],
             [
              0.3333333333333333,
              "#9c179e"
             ],
             [
              0.4444444444444444,
              "#bd3786"
             ],
             [
              0.5555555555555556,
              "#d8576b"
             ],
             [
              0.6666666666666666,
              "#ed7953"
             ],
             [
              0.7777777777777778,
              "#fb9f3a"
             ],
             [
              0.8888888888888888,
              "#fdca26"
             ],
             [
              1,
              "#f0f921"
             ]
            ],
            "type": "heatmap"
           }
          ],
          "heatmapgl": [
           {
            "colorbar": {
             "outlinewidth": 0,
             "ticks": ""
            },
            "colorscale": [
             [
              0,
              "#0d0887"
             ],
             [
              0.1111111111111111,
              "#46039f"
             ],
             [
              0.2222222222222222,
              "#7201a8"
             ],
             [
              0.3333333333333333,
              "#9c179e"
             ],
             [
              0.4444444444444444,
              "#bd3786"
             ],
             [
              0.5555555555555556,
              "#d8576b"
             ],
             [
              0.6666666666666666,
              "#ed7953"
             ],
             [
              0.7777777777777778,
              "#fb9f3a"
             ],
             [
              0.8888888888888888,
              "#fdca26"
             ],
             [
              1,
              "#f0f921"
             ]
            ],
            "type": "heatmapgl"
           }
          ],
          "histogram": [
           {
            "marker": {
             "colorbar": {
              "outlinewidth": 0,
              "ticks": ""
             }
            },
            "type": "histogram"
           }
          ],
          "histogram2d": [
           {
            "colorbar": {
             "outlinewidth": 0,
             "ticks": ""
            },
            "colorscale": [
             [
              0,
              "#0d0887"
             ],
             [
              0.1111111111111111,
              "#46039f"
             ],
             [
              0.2222222222222222,
              "#7201a8"
             ],
             [
              0.3333333333333333,
              "#9c179e"
             ],
             [
              0.4444444444444444,
              "#bd3786"
             ],
             [
              0.5555555555555556,
              "#d8576b"
             ],
             [
              0.6666666666666666,
              "#ed7953"
             ],
             [
              0.7777777777777778,
              "#fb9f3a"
             ],
             [
              0.8888888888888888,
              "#fdca26"
             ],
             [
              1,
              "#f0f921"
             ]
            ],
            "type": "histogram2d"
           }
          ],
          "histogram2dcontour": [
           {
            "colorbar": {
             "outlinewidth": 0,
             "ticks": ""
            },
            "colorscale": [
             [
              0,
              "#0d0887"
             ],
             [
              0.1111111111111111,
              "#46039f"
             ],
             [
              0.2222222222222222,
              "#7201a8"
             ],
             [
              0.3333333333333333,
              "#9c179e"
             ],
             [
              0.4444444444444444,
              "#bd3786"
             ],
             [
              0.5555555555555556,
              "#d8576b"
             ],
             [
              0.6666666666666666,
              "#ed7953"
             ],
             [
              0.7777777777777778,
              "#fb9f3a"
             ],
             [
              0.8888888888888888,
              "#fdca26"
             ],
             [
              1,
              "#f0f921"
             ]
            ],
            "type": "histogram2dcontour"
           }
          ],
          "mesh3d": [
           {
            "colorbar": {
             "outlinewidth": 0,
             "ticks": ""
            },
            "type": "mesh3d"
           }
          ],
          "parcoords": [
           {
            "line": {
             "colorbar": {
              "outlinewidth": 0,
              "ticks": ""
             }
            },
            "type": "parcoords"
           }
          ],
          "pie": [
           {
            "automargin": true,
            "type": "pie"
           }
          ],
          "scatter": [
           {
            "marker": {
             "colorbar": {
              "outlinewidth": 0,
              "ticks": ""
             }
            },
            "type": "scatter"
           }
          ],
          "scatter3d": [
           {
            "line": {
             "colorbar": {
              "outlinewidth": 0,
              "ticks": ""
             }
            },
            "marker": {
             "colorbar": {
              "outlinewidth": 0,
              "ticks": ""
             }
            },
            "type": "scatter3d"
           }
          ],
          "scattercarpet": [
           {
            "marker": {
             "colorbar": {
              "outlinewidth": 0,
              "ticks": ""
             }
            },
            "type": "scattercarpet"
           }
          ],
          "scattergeo": [
           {
            "marker": {
             "colorbar": {
              "outlinewidth": 0,
              "ticks": ""
             }
            },
            "type": "scattergeo"
           }
          ],
          "scattergl": [
           {
            "marker": {
             "colorbar": {
              "outlinewidth": 0,
              "ticks": ""
             }
            },
            "type": "scattergl"
           }
          ],
          "scattermapbox": [
           {
            "marker": {
             "colorbar": {
              "outlinewidth": 0,
              "ticks": ""
             }
            },
            "type": "scattermapbox"
           }
          ],
          "scatterpolar": [
           {
            "marker": {
             "colorbar": {
              "outlinewidth": 0,
              "ticks": ""
             }
            },
            "type": "scatterpolar"
           }
          ],
          "scatterpolargl": [
           {
            "marker": {
             "colorbar": {
              "outlinewidth": 0,
              "ticks": ""
             }
            },
            "type": "scatterpolargl"
           }
          ],
          "scatterternary": [
           {
            "marker": {
             "colorbar": {
              "outlinewidth": 0,
              "ticks": ""
             }
            },
            "type": "scatterternary"
           }
          ],
          "surface": [
           {
            "colorbar": {
             "outlinewidth": 0,
             "ticks": ""
            },
            "colorscale": [
             [
              0,
              "#0d0887"
             ],
             [
              0.1111111111111111,
              "#46039f"
             ],
             [
              0.2222222222222222,
              "#7201a8"
             ],
             [
              0.3333333333333333,
              "#9c179e"
             ],
             [
              0.4444444444444444,
              "#bd3786"
             ],
             [
              0.5555555555555556,
              "#d8576b"
             ],
             [
              0.6666666666666666,
              "#ed7953"
             ],
             [
              0.7777777777777778,
              "#fb9f3a"
             ],
             [
              0.8888888888888888,
              "#fdca26"
             ],
             [
              1,
              "#f0f921"
             ]
            ],
            "type": "surface"
           }
          ],
          "table": [
           {
            "cells": {
             "fill": {
              "color": "#EBF0F8"
             },
             "line": {
              "color": "white"
             }
            },
            "header": {
             "fill": {
              "color": "#C8D4E3"
             },
             "line": {
              "color": "white"
             }
            },
            "type": "table"
           }
          ]
         },
         "layout": {
          "annotationdefaults": {
           "arrowcolor": "#2a3f5f",
           "arrowhead": 0,
           "arrowwidth": 1
          },
          "autotypenumbers": "strict",
          "coloraxis": {
           "colorbar": {
            "outlinewidth": 0,
            "ticks": ""
           }
          },
          "colorscale": {
           "diverging": [
            [
             0,
             "#8e0152"
            ],
            [
             0.1,
             "#c51b7d"
            ],
            [
             0.2,
             "#de77ae"
            ],
            [
             0.3,
             "#f1b6da"
            ],
            [
             0.4,
             "#fde0ef"
            ],
            [
             0.5,
             "#f7f7f7"
            ],
            [
             0.6,
             "#e6f5d0"
            ],
            [
             0.7,
             "#b8e186"
            ],
            [
             0.8,
             "#7fbc41"
            ],
            [
             0.9,
             "#4d9221"
            ],
            [
             1,
             "#276419"
            ]
           ],
           "sequential": [
            [
             0,
             "#0d0887"
            ],
            [
             0.1111111111111111,
             "#46039f"
            ],
            [
             0.2222222222222222,
             "#7201a8"
            ],
            [
             0.3333333333333333,
             "#9c179e"
            ],
            [
             0.4444444444444444,
             "#bd3786"
            ],
            [
             0.5555555555555556,
             "#d8576b"
            ],
            [
             0.6666666666666666,
             "#ed7953"
            ],
            [
             0.7777777777777778,
             "#fb9f3a"
            ],
            [
             0.8888888888888888,
             "#fdca26"
            ],
            [
             1,
             "#f0f921"
            ]
           ],
           "sequentialminus": [
            [
             0,
             "#0d0887"
            ],
            [
             0.1111111111111111,
             "#46039f"
            ],
            [
             0.2222222222222222,
             "#7201a8"
            ],
            [
             0.3333333333333333,
             "#9c179e"
            ],
            [
             0.4444444444444444,
             "#bd3786"
            ],
            [
             0.5555555555555556,
             "#d8576b"
            ],
            [
             0.6666666666666666,
             "#ed7953"
            ],
            [
             0.7777777777777778,
             "#fb9f3a"
            ],
            [
             0.8888888888888888,
             "#fdca26"
            ],
            [
             1,
             "#f0f921"
            ]
           ]
          },
          "colorway": [
           "#636efa",
           "#EF553B",
           "#00cc96",
           "#ab63fa",
           "#FFA15A",
           "#19d3f3",
           "#FF6692",
           "#B6E880",
           "#FF97FF",
           "#FECB52"
          ],
          "font": {
           "color": "#2a3f5f"
          },
          "geo": {
           "bgcolor": "white",
           "lakecolor": "white",
           "landcolor": "#E5ECF6",
           "showlakes": true,
           "showland": true,
           "subunitcolor": "white"
          },
          "hoverlabel": {
           "align": "left"
          },
          "hovermode": "closest",
          "mapbox": {
           "style": "light"
          },
          "paper_bgcolor": "white",
          "plot_bgcolor": "#E5ECF6",
          "polar": {
           "angularaxis": {
            "gridcolor": "white",
            "linecolor": "white",
            "ticks": ""
           },
           "bgcolor": "#E5ECF6",
           "radialaxis": {
            "gridcolor": "white",
            "linecolor": "white",
            "ticks": ""
           }
          },
          "scene": {
           "xaxis": {
            "backgroundcolor": "#E5ECF6",
            "gridcolor": "white",
            "gridwidth": 2,
            "linecolor": "white",
            "showbackground": true,
            "ticks": "",
            "zerolinecolor": "white"
           },
           "yaxis": {
            "backgroundcolor": "#E5ECF6",
            "gridcolor": "white",
            "gridwidth": 2,
            "linecolor": "white",
            "showbackground": true,
            "ticks": "",
            "zerolinecolor": "white"
           },
           "zaxis": {
            "backgroundcolor": "#E5ECF6",
            "gridcolor": "white",
            "gridwidth": 2,
            "linecolor": "white",
            "showbackground": true,
            "ticks": "",
            "zerolinecolor": "white"
           }
          },
          "shapedefaults": {
           "line": {
            "color": "#2a3f5f"
           }
          },
          "ternary": {
           "aaxis": {
            "gridcolor": "white",
            "linecolor": "white",
            "ticks": ""
           },
           "baxis": {
            "gridcolor": "white",
            "linecolor": "white",
            "ticks": ""
           },
           "bgcolor": "#E5ECF6",
           "caxis": {
            "gridcolor": "white",
            "linecolor": "white",
            "ticks": ""
           }
          },
          "title": {
           "x": 0.05
          },
          "xaxis": {
           "automargin": true,
           "gridcolor": "white",
           "linecolor": "white",
           "ticks": "",
           "title": {
            "standoff": 15
           },
           "zerolinecolor": "white",
           "zerolinewidth": 2
          },
          "yaxis": {
           "automargin": true,
           "gridcolor": "white",
           "linecolor": "white",
           "ticks": "",
           "title": {
            "standoff": 15
           },
           "zerolinecolor": "white",
           "zerolinewidth": 2
          }
         }
        },
        "title": {
         "font": {
          "color": "#4D5663"
         }
        },
        "xaxis": {
         "gridcolor": "#E1E5ED",
         "showgrid": true,
         "tickfont": {
          "color": "#4D5663"
         },
         "title": {
          "font": {
           "color": "#4D5663"
          },
          "text": ""
         },
         "zerolinecolor": "#E1E5ED"
        },
        "xaxis2": {
         "anchor": "y2",
         "gridcolor": "#E1E5ED",
         "showgrid": true,
         "showticklabels": false,
         "tickfont": {
          "color": "#4D5663"
         },
         "title": {
          "font": {
           "color": "#4D5663"
          },
          "text": ""
         },
         "zerolinecolor": "#E1E5ED"
        },
        "yaxis": {
         "domain": [
          0.3,
          1
         ],
         "gridcolor": "#E1E5ED",
         "showgrid": true,
         "tickfont": {
          "color": "#4D5663"
         },
         "title": {
          "font": {
           "color": "#4D5663"
          },
          "text": ""
         },
         "zerolinecolor": "#E1E5ED"
        },
        "yaxis2": {
         "domain": [
          0,
          0.25
         ],
         "gridcolor": "#E1E5ED",
         "showgrid": true,
         "tickfont": {
          "color": "#4D5663"
         },
         "title": {
          "font": {
           "color": "#4D5663"
          },
          "text": "Spread"
         },
         "zerolinecolor": "#E1E5ED"
        }
       }
      },
      "text/html": [
       "<div>                            <div id=\"72f1c698-2fe5-49fb-8ee1-19cb86057d12\" class=\"plotly-graph-div\" style=\"height:525px; width:100%;\"></div>            <script type=\"text/javascript\">                require([\"plotly\"], function(Plotly) {                    window.PLOTLYENV=window.PLOTLYENV || {};\n",
       "                    window.PLOTLYENV.BASE_URL='https://plot.ly';                                    if (document.getElementById(\"72f1c698-2fe5-49fb-8ee1-19cb86057d12\")) {                    Plotly.newPlot(                        \"72f1c698-2fe5-49fb-8ee1-19cb86057d12\",                        [{\"line\": {\"color\": \"rgba(255, 153, 51, 1.0)\", \"dash\": \"solid\", \"shape\": \"linear\", \"width\": 1.3}, \"mode\": \"lines\", \"name\": \"A\", \"text\": \"\", \"type\": \"scatter\", \"x\": [0, 1, 2, 3, 4, 5, 6, 7, 8, 9, 10, 11, 12, 13, 14, 15, 16, 17, 18, 19, 20, 21, 22, 23, 24, 25, 26, 27, 28, 29, 30, 31, 32, 33, 34, 35, 36, 37, 38, 39, 40, 41, 42, 43, 44, 45, 46, 47, 48, 49, 50, 51, 52, 53, 54, 55, 56, 57, 58, 59, 60, 61, 62, 63, 64, 65, 66, 67, 68, 69, 70, 71, 72, 73, 74, 75, 76, 77, 78, 79, 80, 81, 82, 83, 84, 85, 86, 87, 88, 89, 90, 91, 92, 93, 94, 95, 96, 97, 98, 99], \"y\": [-1.2376533429297487, 0.5210312381862134, -1.0251899876913395, 0.45381839892015724, 2.5579020873643423, -2.311096877009032, 1.0848519410157036, 0.14420890327050329, 0.8761771802727409, -0.5599756647759724, 0.8404008962563776, 0.9360487734843175, -1.2159463914906068, 0.4323468127108094, 1.4875276747986366, -1.8104483053725908, 0.7422040304205689, 2.2293211252216603, 0.15632546876214123, 0.4081041805918467, 0.024748436909957674, -0.727628179660839, -0.3139827530211364, 1.7415908205376824, 1.113900769384104, -1.7478092023943117, 0.8140754057060445, 1.1184203301949367, 0.11643679130544002, 0.2413981464536677, -1.8981945923166192, 0.7814782558065474, 0.12346431470248988, -0.5888166641853814, 0.5638242182369565, -0.04966892567279881, -0.8730779045718278, 0.9937635926043222, -0.3111311960754491, -1.2704479991052302, 0.6145906380641518, -2.1080663744544688, 1.162745468298509, -0.40269202904722307, 0.9816818315776701, 1.2766727602932417, -1.1441699855454301, -1.4095882123449281, 1.3445230473814531, 0.983685841697918, -0.4764813243223706, 0.34186207479032177, -1.3617951618631923, -0.5731448087586377, 1.6229372931953945, -1.8760222194164973, 0.2696419215276941, 1.4759084603076527, 1.2932437655688576, 0.14905939922683087, 1.1274399726091413, 1.6653660922881228, 0.9404296495750097, 1.1505947887788583, -1.7013903166322464, -0.3128888538704009, -2.143472785599862, -0.5117941385029973, 0.9973449715984799, -1.28127634682668, 0.5008584141197462, -0.3438551379470671, -1.496632229824434, -1.0196525699126524, 1.788124743162996, -1.0822473860519988, 0.9805588328233438, 2.23743047144731, 0.2129752042080661, 0.6876725100251737, 0.7340280290562036, -0.44115399131713307, -0.6322101548325217, 0.8240049645002243, -0.0012853927734924836, 0.44660590623353075, -0.3231659858707658, -0.33411455762785336, 0.353841423946161, -0.022911915151177333, 0.5704806182719827, 1.9789498254742628, -1.1043229788804343, 1.2443321962668799, 0.4777611949867243, -0.7944342954051479, 1.3535937388032435, -0.5031726594973573, -0.041696531493813985, 0.9618825324128459]}, {\"line\": {\"color\": \"rgba(55, 128, 191, 1.0)\", \"dash\": \"solid\", \"shape\": \"linear\", \"width\": 1.3}, \"mode\": \"lines\", \"name\": \"B\", \"text\": \"\", \"type\": \"scatter\", \"x\": [0, 1, 2, 3, 4, 5, 6, 7, 8, 9, 10, 11, 12, 13, 14, 15, 16, 17, 18, 19, 20, 21, 22, 23, 24, 25, 26, 27, 28, 29, 30, 31, 32, 33, 34, 35, 36, 37, 38, 39, 40, 41, 42, 43, 44, 45, 46, 47, 48, 49, 50, 51, 52, 53, 54, 55, 56, 57, 58, 59, 60, 61, 62, 63, 64, 65, 66, 67, 68, 69, 70, 71, 72, 73, 74, 75, 76, 77, 78, 79, 80, 81, 82, 83, 84, 85, 86, 87, 88, 89, 90, 91, 92, 93, 94, 95, 96, 97, 98, 99], \"y\": [-0.5729984879969171, 0.5909561009580857, -0.6479381979401543, 0.5068431621784943, 0.21022581680114724, -2.035720176553049, -0.48728930433915413, -0.5100542298446442, 1.0746855013944174, -0.03425512643487298, -1.1034087514016049, -0.942789188319332, -0.09798209414877965, -0.75471906104679, 0.5695846791296407, 0.18144063049261203, 0.6755433055426926, 1.6908113005091172, -0.037085297150455485, 0.5093238182228775, 0.4309374328017403, 1.0603891419114981, 0.9600849278946542, 0.41138880181158965, 0.3542988098231076, 0.3793117072240972, -0.32429385709622316, -0.3720488190049271, 0.28700601889218225, -0.4814804689597724, 0.32292724413314056, 1.3750481693772498, 0.375806837908601, 1.0204153020741686, 0.5372488436715573, 0.1630362622470754, -0.37128401061293204, 0.18189386623342524, 1.5443816284277438, -0.5700477904708945, 1.7413818905636158, -1.197416653079403, 0.25236922063720735, -0.8937094378007724, 2.7781482520757224, -0.08022663678328085, 1.2403860792115906, -0.013828930370441302, -0.9348967567711488, -2.225144487840825, -1.2693652149536099, 1.8614425597359745, 0.2543178484847704, -0.9356797873206968, -1.823825627965515, -1.1714380378971925, -0.480426448575434, -0.20624266781744877, 0.339482324534446, 1.097677022740831, -0.5102593440109845, -0.20183972656712482, -0.8960494374584044, -0.5924532644882401, -0.646345965309449, 1.4286394367280775, 1.6501845360404976, 0.511791608963945, 0.4393596006137443, 0.5725738313781439, -0.664265767438522, -0.44164130103306365, 0.6372090453689565, -0.2589300158280436, 1.0894350623522444, 0.26421945331926805, -1.1179733849258793, 0.7729424625201243, -0.6198532415959194, -0.17020060359782097, 0.9341080928874868, 0.24117249940352037, -0.7005627582569318, 0.6582479238215062, -0.0716208850768693, 1.5706154364823148, -0.6497956569183799, 0.5423497355086795, 0.9370286417621064, -0.7308532701982378, 1.508055847158207, 0.9936015984705164, -1.8260543146320227, 0.4892420488884562, 0.9043459424350315, 0.8305425725610729, -1.2589823642833216, -0.7149533393533173, -1.806426117331394, -0.2447907667589656]}, {\"connectgaps\": false, \"fill\": \"tozeroy\", \"line\": {\"color\": \"green\", \"dash\": \"solid\", \"shape\": \"linear\", \"width\": 0.5}, \"mode\": \"lines\", \"name\": \"Spread\", \"showlegend\": false, \"type\": \"scatter\", \"x\": [0, 1, 2, 3, 4, 5, 6, 7, 8, 9, 10, 11, 12, 13, 14, 15, 16, 17, 18, 19, 20, 21, 22, 23, 24, 25, 26, 27, 28, 29, 30, 31, 32, 33, 34, 35, 36, 37, 38, 39, 40, 41, 42, 43, 44, 45, 46, 47, 48, 49, 50, 51, 52, 53, 54, 55, 56, 57, 58, 59, 60, 61, 62, 63, 64, 65, 66, 67, 68, 69, 70, 71, 72, 73, 74, 75, 76, 77, 78, 79, 80, 81, 82, 83, 84, 85, 86, 87, 88, 89, 90, 91, 92, 93, 94, 95, 96, 97, 98, 99], \"xaxis\": \"x2\", \"y\": [\"\", \"\", \"\", \"\", 2.3476762705631953, \"\", 1.5721412453548578, 0.6542631331151475, \"\", \"\", 1.9438096476579825, 1.8788379618036495, \"\", 1.1870658737575994, 0.9179429956689958, \"\", 0.06666072487787633, 0.538509824712543, 0.1934107659125967, \"\", \"\", \"\", \"\", 1.3302020187260928, 0.7596019595609965, \"\", 1.1383692628022677, 1.4904691491998638, \"\", 0.7228786154134401, \"\", \"\", \"\", \"\", 0.026575374565399157, \"\", \"\", 0.8118697263708969, \"\", \"\", \"\", \"\", 0.9103762476613017, 0.4910174087535493, \"\", 1.3568993970765226, \"\", \"\", 2.279419804152602, 3.208830329538743, 0.7928838906312392, \"\", \"\", 0.3625349785620591, 3.4467629211609094, \"\", 0.7500683701031281, 1.6821511281251014, 0.9537614410344115, \"\", 1.6376993166201257, 1.8672058188552476, 1.836479087033414, 1.7430480532670984, \"\", \"\", \"\", \"\", 0.5579853709847356, \"\", 1.165124181558268, 0.09778616308599652, \"\", \"\", 0.6986896808107517, \"\", 2.098532217749223, 1.4644880089271854, 0.8328284458039854, 0.8578731136229947, \"\", \"\", 0.06835260342441007, 0.1657570406787181, 0.07033549230337681, \"\", 0.32662967104761415, \"\", \"\", 0.7079413550470605, \"\", 0.9853482270037464, 0.7217313357515884, 0.7550901473784237, \"\", \"\", 2.612576103086565, 0.21178067985595994, 1.76472958583758, 1.2066732991718117], \"yaxis\": \"y2\"}, {\"connectgaps\": false, \"fill\": \"tozeroy\", \"line\": {\"color\": \"red\", \"dash\": \"solid\", \"shape\": \"linear\", \"width\": 0.5}, \"mode\": \"lines\", \"name\": \"Spread\", \"showlegend\": false, \"type\": \"scatter\", \"x\": [0, 1, 2, 3, 4, 5, 6, 7, 8, 9, 10, 11, 12, 13, 14, 15, 16, 17, 18, 19, 20, 21, 22, 23, 24, 25, 26, 27, 28, 29, 30, 31, 32, 33, 34, 35, 36, 37, 38, 39, 40, 41, 42, 43, 44, 45, 46, 47, 48, 49, 50, 51, 52, 53, 54, 55, 56, 57, 58, 59, 60, 61, 62, 63, 64, 65, 66, 67, 68, 69, 70, 71, 72, 73, 74, 75, 76, 77, 78, 79, 80, 81, 82, 83, 84, 85, 86, 87, 88, 89, 90, 91, 92, 93, 94, 95, 96, 97, 98, 99], \"xaxis\": \"x2\", \"y\": [-0.6646548549328316, -0.06992486277187226, -0.37725178975118523, -0.053024763258337104, \"\", -0.27537670045598306, \"\", \"\", -0.1985083211216765, -0.5257205383410994, \"\", \"\", -1.1179642973418271, \"\", \"\", -1.9918889358652028, \"\", \"\", \"\", -0.10121963763103081, -0.40618899589178264, -1.7880173215723372, -1.2740676809157905, \"\", \"\", -2.1271209096184087, \"\", \"\", -0.17056922758674223, \"\", -2.22112183644976, -0.5935699135707024, -0.2523425232061111, -1.60923196625955, \"\", -0.21270518791987422, -0.5017938939588957, \"\", -1.8555128245031929, -0.7004002086343357, -1.1267912524994639, -0.9106497213750657, \"\", \"\", -1.7964664204980523, \"\", -2.384556064757021, -1.3957592819744868, \"\", \"\", \"\", -1.5195804849456527, -1.6161130103479626, \"\", \"\", -0.7045841815193048, \"\", \"\", \"\", -0.9486176235140001, \"\", \"\", \"\", \"\", -1.0550443513227974, -1.7415282905984784, -3.7936573216403597, -1.0235857474669423, \"\", -1.8538501782048238, \"\", \"\", -2.13384127519339, -0.7607225540846088, \"\", -1.3464668393712669, \"\", \"\", \"\", \"\", -0.20008006383128318, -0.6823264907206534, \"\", \"\", \"\", -1.124009530248784, \"\", -0.8764642931365328, -0.5831872178159454, \"\", -0.9375752288862244, \"\", \"\", \"\", -0.4265847474483072, -1.6249768679662209, \"\", \"\", \"\", \"\"], \"yaxis\": \"y2\"}],                        {\"hovermode\": \"x\", \"legend\": {\"bgcolor\": \"#F5F6F9\", \"font\": {\"color\": \"#4D5663\"}}, \"paper_bgcolor\": \"#F5F6F9\", \"plot_bgcolor\": \"#F5F6F9\", \"template\": {\"data\": {\"bar\": [{\"error_x\": {\"color\": \"#2a3f5f\"}, \"error_y\": {\"color\": \"#2a3f5f\"}, \"marker\": {\"line\": {\"color\": \"#E5ECF6\", \"width\": 0.5}}, \"type\": \"bar\"}], \"barpolar\": [{\"marker\": {\"line\": {\"color\": \"#E5ECF6\", \"width\": 0.5}}, \"type\": \"barpolar\"}], \"carpet\": [{\"aaxis\": {\"endlinecolor\": \"#2a3f5f\", \"gridcolor\": \"white\", \"linecolor\": \"white\", \"minorgridcolor\": \"white\", \"startlinecolor\": \"#2a3f5f\"}, \"baxis\": {\"endlinecolor\": \"#2a3f5f\", \"gridcolor\": \"white\", \"linecolor\": \"white\", \"minorgridcolor\": \"white\", \"startlinecolor\": \"#2a3f5f\"}, \"type\": \"carpet\"}], \"choropleth\": [{\"colorbar\": {\"outlinewidth\": 0, \"ticks\": \"\"}, \"type\": \"choropleth\"}], \"contour\": [{\"colorbar\": {\"outlinewidth\": 0, \"ticks\": \"\"}, \"colorscale\": [[0.0, \"#0d0887\"], [0.1111111111111111, \"#46039f\"], [0.2222222222222222, \"#7201a8\"], [0.3333333333333333, \"#9c179e\"], [0.4444444444444444, \"#bd3786\"], [0.5555555555555556, \"#d8576b\"], [0.6666666666666666, \"#ed7953\"], [0.7777777777777778, \"#fb9f3a\"], [0.8888888888888888, \"#fdca26\"], [1.0, \"#f0f921\"]], \"type\": \"contour\"}], \"contourcarpet\": [{\"colorbar\": {\"outlinewidth\": 0, \"ticks\": \"\"}, \"type\": \"contourcarpet\"}], \"heatmap\": [{\"colorbar\": {\"outlinewidth\": 0, \"ticks\": \"\"}, \"colorscale\": [[0.0, \"#0d0887\"], [0.1111111111111111, \"#46039f\"], [0.2222222222222222, \"#7201a8\"], [0.3333333333333333, \"#9c179e\"], [0.4444444444444444, \"#bd3786\"], [0.5555555555555556, \"#d8576b\"], [0.6666666666666666, \"#ed7953\"], [0.7777777777777778, \"#fb9f3a\"], [0.8888888888888888, \"#fdca26\"], [1.0, \"#f0f921\"]], \"type\": \"heatmap\"}], \"heatmapgl\": [{\"colorbar\": {\"outlinewidth\": 0, \"ticks\": \"\"}, \"colorscale\": [[0.0, \"#0d0887\"], [0.1111111111111111, \"#46039f\"], [0.2222222222222222, \"#7201a8\"], [0.3333333333333333, \"#9c179e\"], [0.4444444444444444, \"#bd3786\"], [0.5555555555555556, \"#d8576b\"], [0.6666666666666666, \"#ed7953\"], [0.7777777777777778, \"#fb9f3a\"], [0.8888888888888888, \"#fdca26\"], [1.0, \"#f0f921\"]], \"type\": \"heatmapgl\"}], \"histogram\": [{\"marker\": {\"colorbar\": {\"outlinewidth\": 0, \"ticks\": \"\"}}, \"type\": \"histogram\"}], \"histogram2d\": [{\"colorbar\": {\"outlinewidth\": 0, \"ticks\": \"\"}, \"colorscale\": [[0.0, \"#0d0887\"], [0.1111111111111111, \"#46039f\"], [0.2222222222222222, \"#7201a8\"], [0.3333333333333333, \"#9c179e\"], [0.4444444444444444, \"#bd3786\"], [0.5555555555555556, \"#d8576b\"], [0.6666666666666666, \"#ed7953\"], [0.7777777777777778, \"#fb9f3a\"], [0.8888888888888888, \"#fdca26\"], [1.0, \"#f0f921\"]], \"type\": \"histogram2d\"}], \"histogram2dcontour\": [{\"colorbar\": {\"outlinewidth\": 0, \"ticks\": \"\"}, \"colorscale\": [[0.0, \"#0d0887\"], [0.1111111111111111, \"#46039f\"], [0.2222222222222222, \"#7201a8\"], [0.3333333333333333, \"#9c179e\"], [0.4444444444444444, \"#bd3786\"], [0.5555555555555556, \"#d8576b\"], [0.6666666666666666, \"#ed7953\"], [0.7777777777777778, \"#fb9f3a\"], [0.8888888888888888, \"#fdca26\"], [1.0, \"#f0f921\"]], \"type\": \"histogram2dcontour\"}], \"mesh3d\": [{\"colorbar\": {\"outlinewidth\": 0, \"ticks\": \"\"}, \"type\": \"mesh3d\"}], \"parcoords\": [{\"line\": {\"colorbar\": {\"outlinewidth\": 0, \"ticks\": \"\"}}, \"type\": \"parcoords\"}], \"pie\": [{\"automargin\": true, \"type\": \"pie\"}], \"scatter\": [{\"marker\": {\"colorbar\": {\"outlinewidth\": 0, \"ticks\": \"\"}}, \"type\": \"scatter\"}], \"scatter3d\": [{\"line\": {\"colorbar\": {\"outlinewidth\": 0, \"ticks\": \"\"}}, \"marker\": {\"colorbar\": {\"outlinewidth\": 0, \"ticks\": \"\"}}, \"type\": \"scatter3d\"}], \"scattercarpet\": [{\"marker\": {\"colorbar\": {\"outlinewidth\": 0, \"ticks\": \"\"}}, \"type\": \"scattercarpet\"}], \"scattergeo\": [{\"marker\": {\"colorbar\": {\"outlinewidth\": 0, \"ticks\": \"\"}}, \"type\": \"scattergeo\"}], \"scattergl\": [{\"marker\": {\"colorbar\": {\"outlinewidth\": 0, \"ticks\": \"\"}}, \"type\": \"scattergl\"}], \"scattermapbox\": [{\"marker\": {\"colorbar\": {\"outlinewidth\": 0, \"ticks\": \"\"}}, \"type\": \"scattermapbox\"}], \"scatterpolar\": [{\"marker\": {\"colorbar\": {\"outlinewidth\": 0, \"ticks\": \"\"}}, \"type\": \"scatterpolar\"}], \"scatterpolargl\": [{\"marker\": {\"colorbar\": {\"outlinewidth\": 0, \"ticks\": \"\"}}, \"type\": \"scatterpolargl\"}], \"scatterternary\": [{\"marker\": {\"colorbar\": {\"outlinewidth\": 0, \"ticks\": \"\"}}, \"type\": \"scatterternary\"}], \"surface\": [{\"colorbar\": {\"outlinewidth\": 0, \"ticks\": \"\"}, \"colorscale\": [[0.0, \"#0d0887\"], [0.1111111111111111, \"#46039f\"], [0.2222222222222222, \"#7201a8\"], [0.3333333333333333, \"#9c179e\"], [0.4444444444444444, \"#bd3786\"], [0.5555555555555556, \"#d8576b\"], [0.6666666666666666, \"#ed7953\"], [0.7777777777777778, \"#fb9f3a\"], [0.8888888888888888, \"#fdca26\"], [1.0, \"#f0f921\"]], \"type\": \"surface\"}], \"table\": [{\"cells\": {\"fill\": {\"color\": \"#EBF0F8\"}, \"line\": {\"color\": \"white\"}}, \"header\": {\"fill\": {\"color\": \"#C8D4E3\"}, \"line\": {\"color\": \"white\"}}, \"type\": \"table\"}]}, \"layout\": {\"annotationdefaults\": {\"arrowcolor\": \"#2a3f5f\", \"arrowhead\": 0, \"arrowwidth\": 1}, \"autotypenumbers\": \"strict\", \"coloraxis\": {\"colorbar\": {\"outlinewidth\": 0, \"ticks\": \"\"}}, \"colorscale\": {\"diverging\": [[0, \"#8e0152\"], [0.1, \"#c51b7d\"], [0.2, \"#de77ae\"], [0.3, \"#f1b6da\"], [0.4, \"#fde0ef\"], [0.5, \"#f7f7f7\"], [0.6, \"#e6f5d0\"], [0.7, \"#b8e186\"], [0.8, \"#7fbc41\"], [0.9, \"#4d9221\"], [1, \"#276419\"]], \"sequential\": [[0.0, \"#0d0887\"], [0.1111111111111111, \"#46039f\"], [0.2222222222222222, \"#7201a8\"], [0.3333333333333333, \"#9c179e\"], [0.4444444444444444, \"#bd3786\"], [0.5555555555555556, \"#d8576b\"], [0.6666666666666666, \"#ed7953\"], [0.7777777777777778, \"#fb9f3a\"], [0.8888888888888888, \"#fdca26\"], [1.0, \"#f0f921\"]], \"sequentialminus\": [[0.0, \"#0d0887\"], [0.1111111111111111, \"#46039f\"], [0.2222222222222222, \"#7201a8\"], [0.3333333333333333, \"#9c179e\"], [0.4444444444444444, \"#bd3786\"], [0.5555555555555556, \"#d8576b\"], [0.6666666666666666, \"#ed7953\"], [0.7777777777777778, \"#fb9f3a\"], [0.8888888888888888, \"#fdca26\"], [1.0, \"#f0f921\"]]}, \"colorway\": [\"#636efa\", \"#EF553B\", \"#00cc96\", \"#ab63fa\", \"#FFA15A\", \"#19d3f3\", \"#FF6692\", \"#B6E880\", \"#FF97FF\", \"#FECB52\"], \"font\": {\"color\": \"#2a3f5f\"}, \"geo\": {\"bgcolor\": \"white\", \"lakecolor\": \"white\", \"landcolor\": \"#E5ECF6\", \"showlakes\": true, \"showland\": true, \"subunitcolor\": \"white\"}, \"hoverlabel\": {\"align\": \"left\"}, \"hovermode\": \"closest\", \"mapbox\": {\"style\": \"light\"}, \"paper_bgcolor\": \"white\", \"plot_bgcolor\": \"#E5ECF6\", \"polar\": {\"angularaxis\": {\"gridcolor\": \"white\", \"linecolor\": \"white\", \"ticks\": \"\"}, \"bgcolor\": \"#E5ECF6\", \"radialaxis\": {\"gridcolor\": \"white\", \"linecolor\": \"white\", \"ticks\": \"\"}}, \"scene\": {\"xaxis\": {\"backgroundcolor\": \"#E5ECF6\", \"gridcolor\": \"white\", \"gridwidth\": 2, \"linecolor\": \"white\", \"showbackground\": true, \"ticks\": \"\", \"zerolinecolor\": \"white\"}, \"yaxis\": {\"backgroundcolor\": \"#E5ECF6\", \"gridcolor\": \"white\", \"gridwidth\": 2, \"linecolor\": \"white\", \"showbackground\": true, \"ticks\": \"\", \"zerolinecolor\": \"white\"}, \"zaxis\": {\"backgroundcolor\": \"#E5ECF6\", \"gridcolor\": \"white\", \"gridwidth\": 2, \"linecolor\": \"white\", \"showbackground\": true, \"ticks\": \"\", \"zerolinecolor\": \"white\"}}, \"shapedefaults\": {\"line\": {\"color\": \"#2a3f5f\"}}, \"ternary\": {\"aaxis\": {\"gridcolor\": \"white\", \"linecolor\": \"white\", \"ticks\": \"\"}, \"baxis\": {\"gridcolor\": \"white\", \"linecolor\": \"white\", \"ticks\": \"\"}, \"bgcolor\": \"#E5ECF6\", \"caxis\": {\"gridcolor\": \"white\", \"linecolor\": \"white\", \"ticks\": \"\"}}, \"title\": {\"x\": 0.05}, \"xaxis\": {\"automargin\": true, \"gridcolor\": \"white\", \"linecolor\": \"white\", \"ticks\": \"\", \"title\": {\"standoff\": 15}, \"zerolinecolor\": \"white\", \"zerolinewidth\": 2}, \"yaxis\": {\"automargin\": true, \"gridcolor\": \"white\", \"linecolor\": \"white\", \"ticks\": \"\", \"title\": {\"standoff\": 15}, \"zerolinecolor\": \"white\", \"zerolinewidth\": 2}}}, \"title\": {\"font\": {\"color\": \"#4D5663\"}}, \"xaxis\": {\"gridcolor\": \"#E1E5ED\", \"showgrid\": true, \"tickfont\": {\"color\": \"#4D5663\"}, \"title\": {\"font\": {\"color\": \"#4D5663\"}, \"text\": \"\"}, \"zerolinecolor\": \"#E1E5ED\"}, \"xaxis2\": {\"anchor\": \"y2\", \"gridcolor\": \"#E1E5ED\", \"showgrid\": true, \"showticklabels\": false, \"tickfont\": {\"color\": \"#4D5663\"}, \"title\": {\"font\": {\"color\": \"#4D5663\"}, \"text\": \"\"}, \"zerolinecolor\": \"#E1E5ED\"}, \"yaxis\": {\"domain\": [0.3, 1], \"gridcolor\": \"#E1E5ED\", \"showgrid\": true, \"tickfont\": {\"color\": \"#4D5663\"}, \"title\": {\"font\": {\"color\": \"#4D5663\"}, \"text\": \"\"}, \"zerolinecolor\": \"#E1E5ED\"}, \"yaxis2\": {\"domain\": [0, 0.25], \"gridcolor\": \"#E1E5ED\", \"showgrid\": true, \"tickfont\": {\"color\": \"#4D5663\"}, \"title\": {\"font\": {\"color\": \"#4D5663\"}, \"text\": \"Spread\"}, \"zerolinecolor\": \"#E1E5ED\"}},                        {\"showLink\": true, \"linkText\": \"Export to plot.ly\", \"plotlyServerURL\": \"https://plot.ly\", \"responsive\": true}                    ).then(function(){\n",
       "                            \n",
       "var gd = document.getElementById('72f1c698-2fe5-49fb-8ee1-19cb86057d12');\n",
       "var x = new MutationObserver(function (mutations, observer) {{\n",
       "        var display = window.getComputedStyle(gd).display;\n",
       "        if (!display || display === 'none') {{\n",
       "            console.log([gd, 'removed!']);\n",
       "            Plotly.purge(gd);\n",
       "            observer.disconnect();\n",
       "        }}\n",
       "}});\n",
       "\n",
       "// Listen for the removal of the full notebook cells\n",
       "var notebookContainer = gd.closest('#notebook-container');\n",
       "if (notebookContainer) {{\n",
       "    x.observe(notebookContainer, {childList: true});\n",
       "}}\n",
       "\n",
       "// Listen for the clearing of the current output cell\n",
       "var outputEl = gd.closest('.output');\n",
       "if (outputEl) {{\n",
       "    x.observe(outputEl, {childList: true});\n",
       "}}\n",
       "\n",
       "                        })                };                });            </script>        </div>"
      ]
     },
     "metadata": {},
     "output_type": "display_data"
    }
   ],
   "source": [
    "df[['A','B']].iplot(kind='spread')"
   ]
  },
  {
   "cell_type": "code",
   "execution_count": 43,
   "metadata": {},
   "outputs": [
    {
     "data": {
      "application/vnd.plotly.v1+json": {
       "config": {
        "linkText": "Export to plot.ly",
        "plotlyServerURL": "https://plot.ly",
        "showLink": true
       },
       "data": [
        {
         "marker": {
          "color": [
           "rgb(255, 153, 51)",
           "rgb(55, 128, 191)",
           "rgb(50, 171, 96)",
           "rgb(128, 0, 128)",
           "rgb(219, 64, 82)",
           "rgb(0, 128, 128)",
           "rgb(255, 255, 51)",
           "rgb(128, 128, 0)",
           "rgb(251, 128, 114)",
           "rgb(128, 177, 211)"
          ],
          "line": {
           "width": 1.3
          },
          "size": [
           80,
           54,
           31,
           13,
           73,
           73,
           54,
           72,
           60,
           69,
           80,
           39,
           83,
           58,
           36,
           58,
           62,
           63,
           58,
           51,
           55,
           95,
           51,
           45,
           76,
           21,
           79,
           77,
           76,
           42,
           56,
           73,
           48,
           16,
           71,
           40,
           12,
           73,
           36,
           63,
           53,
           54,
           40,
           55,
           35,
           56,
           71,
           46,
           58,
           51,
           57,
           72,
           73,
           87,
           67,
           81,
           42,
           53,
           54,
           68,
           56,
           57,
           59,
           112,
           56,
           54,
           48,
           65,
           76,
           63,
           89,
           48,
           44,
           65,
           42,
           43,
           91,
           38,
           55,
           55,
           25,
           32,
           49,
           60,
           72,
           82,
           54,
           52,
           64,
           75,
           71,
           41,
           52,
           37,
           42,
           39,
           68,
           42,
           54,
           85
          ],
          "symbol": "circle"
         },
         "mode": "markers",
         "text": "",
         "type": "scatter",
         "x": [
          -1.2376533429297487,
          0.5210312381862134,
          -1.0251899876913395,
          0.45381839892015724,
          2.5579020873643423,
          -2.311096877009032,
          1.0848519410157036,
          0.14420890327050329,
          0.8761771802727409,
          -0.5599756647759724,
          0.8404008962563776,
          0.9360487734843175,
          -1.2159463914906068,
          0.4323468127108094,
          1.4875276747986366,
          -1.8104483053725908,
          0.7422040304205689,
          2.2293211252216603,
          0.15632546876214123,
          0.4081041805918467,
          0.024748436909957674,
          -0.727628179660839,
          -0.3139827530211364,
          1.7415908205376824,
          1.113900769384104,
          -1.7478092023943117,
          0.8140754057060445,
          1.1184203301949367,
          0.11643679130544002,
          0.2413981464536677,
          -1.8981945923166192,
          0.7814782558065474,
          0.12346431470248988,
          -0.5888166641853814,
          0.5638242182369565,
          -0.04966892567279881,
          -0.8730779045718278,
          0.9937635926043222,
          -0.3111311960754491,
          -1.2704479991052302,
          0.6145906380641518,
          -2.1080663744544688,
          1.162745468298509,
          -0.40269202904722307,
          0.9816818315776701,
          1.2766727602932417,
          -1.1441699855454301,
          -1.4095882123449281,
          1.3445230473814531,
          0.983685841697918,
          -0.4764813243223706,
          0.34186207479032177,
          -1.3617951618631923,
          -0.5731448087586377,
          1.6229372931953945,
          -1.8760222194164973,
          0.2696419215276941,
          1.4759084603076527,
          1.2932437655688576,
          0.14905939922683087,
          1.1274399726091413,
          1.6653660922881228,
          0.9404296495750097,
          1.1505947887788583,
          -1.7013903166322464,
          -0.3128888538704009,
          -2.143472785599862,
          -0.5117941385029973,
          0.9973449715984799,
          -1.28127634682668,
          0.5008584141197462,
          -0.3438551379470671,
          -1.496632229824434,
          -1.0196525699126524,
          1.788124743162996,
          -1.0822473860519988,
          0.9805588328233438,
          2.23743047144731,
          0.2129752042080661,
          0.6876725100251737,
          0.7340280290562036,
          -0.44115399131713307,
          -0.6322101548325217,
          0.8240049645002243,
          -0.0012853927734924836,
          0.44660590623353075,
          -0.3231659858707658,
          -0.33411455762785336,
          0.353841423946161,
          -0.022911915151177333,
          0.5704806182719827,
          1.9789498254742628,
          -1.1043229788804343,
          1.2443321962668799,
          0.4777611949867243,
          -0.7944342954051479,
          1.3535937388032435,
          -0.5031726594973573,
          -0.041696531493813985,
          0.9618825324128459
         ],
         "y": [
          -0.5729984879969171,
          0.5909561009580857,
          -0.6479381979401543,
          0.5068431621784943,
          0.21022581680114724,
          -2.035720176553049,
          -0.48728930433915413,
          -0.5100542298446442,
          1.0746855013944174,
          -0.03425512643487298,
          -1.1034087514016049,
          -0.942789188319332,
          -0.09798209414877965,
          -0.75471906104679,
          0.5695846791296407,
          0.18144063049261203,
          0.6755433055426926,
          1.6908113005091172,
          -0.037085297150455485,
          0.5093238182228775,
          0.4309374328017403,
          1.0603891419114981,
          0.9600849278946542,
          0.41138880181158965,
          0.3542988098231076,
          0.3793117072240972,
          -0.32429385709622316,
          -0.3720488190049271,
          0.28700601889218225,
          -0.4814804689597724,
          0.32292724413314056,
          1.3750481693772498,
          0.375806837908601,
          1.0204153020741686,
          0.5372488436715573,
          0.1630362622470754,
          -0.37128401061293204,
          0.18189386623342524,
          1.5443816284277438,
          -0.5700477904708945,
          1.7413818905636158,
          -1.197416653079403,
          0.25236922063720735,
          -0.8937094378007724,
          2.7781482520757224,
          -0.08022663678328085,
          1.2403860792115906,
          -0.013828930370441302,
          -0.9348967567711488,
          -2.225144487840825,
          -1.2693652149536099,
          1.8614425597359745,
          0.2543178484847704,
          -0.9356797873206968,
          -1.823825627965515,
          -1.1714380378971925,
          -0.480426448575434,
          -0.20624266781744877,
          0.339482324534446,
          1.097677022740831,
          -0.5102593440109845,
          -0.20183972656712482,
          -0.8960494374584044,
          -0.5924532644882401,
          -0.646345965309449,
          1.4286394367280775,
          1.6501845360404976,
          0.511791608963945,
          0.4393596006137443,
          0.5725738313781439,
          -0.664265767438522,
          -0.44164130103306365,
          0.6372090453689565,
          -0.2589300158280436,
          1.0894350623522444,
          0.26421945331926805,
          -1.1179733849258793,
          0.7729424625201243,
          -0.6198532415959194,
          -0.17020060359782097,
          0.9341080928874868,
          0.24117249940352037,
          -0.7005627582569318,
          0.6582479238215062,
          -0.0716208850768693,
          1.5706154364823148,
          -0.6497956569183799,
          0.5423497355086795,
          0.9370286417621064,
          -0.7308532701982378,
          1.508055847158207,
          0.9936015984705164,
          -1.8260543146320227,
          0.4892420488884562,
          0.9043459424350315,
          0.8305425725610729,
          -1.2589823642833216,
          -0.7149533393533173,
          -1.806426117331394,
          -0.2447907667589656
         ]
        }
       ],
       "layout": {
        "legend": {
         "bgcolor": "#F5F6F9",
         "font": {
          "color": "#4D5663"
         }
        },
        "paper_bgcolor": "#F5F6F9",
        "plot_bgcolor": "#F5F6F9",
        "template": {
         "data": {
          "bar": [
           {
            "error_x": {
             "color": "#2a3f5f"
            },
            "error_y": {
             "color": "#2a3f5f"
            },
            "marker": {
             "line": {
              "color": "#E5ECF6",
              "width": 0.5
             }
            },
            "type": "bar"
           }
          ],
          "barpolar": [
           {
            "marker": {
             "line": {
              "color": "#E5ECF6",
              "width": 0.5
             }
            },
            "type": "barpolar"
           }
          ],
          "carpet": [
           {
            "aaxis": {
             "endlinecolor": "#2a3f5f",
             "gridcolor": "white",
             "linecolor": "white",
             "minorgridcolor": "white",
             "startlinecolor": "#2a3f5f"
            },
            "baxis": {
             "endlinecolor": "#2a3f5f",
             "gridcolor": "white",
             "linecolor": "white",
             "minorgridcolor": "white",
             "startlinecolor": "#2a3f5f"
            },
            "type": "carpet"
           }
          ],
          "choropleth": [
           {
            "colorbar": {
             "outlinewidth": 0,
             "ticks": ""
            },
            "type": "choropleth"
           }
          ],
          "contour": [
           {
            "colorbar": {
             "outlinewidth": 0,
             "ticks": ""
            },
            "colorscale": [
             [
              0,
              "#0d0887"
             ],
             [
              0.1111111111111111,
              "#46039f"
             ],
             [
              0.2222222222222222,
              "#7201a8"
             ],
             [
              0.3333333333333333,
              "#9c179e"
             ],
             [
              0.4444444444444444,
              "#bd3786"
             ],
             [
              0.5555555555555556,
              "#d8576b"
             ],
             [
              0.6666666666666666,
              "#ed7953"
             ],
             [
              0.7777777777777778,
              "#fb9f3a"
             ],
             [
              0.8888888888888888,
              "#fdca26"
             ],
             [
              1,
              "#f0f921"
             ]
            ],
            "type": "contour"
           }
          ],
          "contourcarpet": [
           {
            "colorbar": {
             "outlinewidth": 0,
             "ticks": ""
            },
            "type": "contourcarpet"
           }
          ],
          "heatmap": [
           {
            "colorbar": {
             "outlinewidth": 0,
             "ticks": ""
            },
            "colorscale": [
             [
              0,
              "#0d0887"
             ],
             [
              0.1111111111111111,
              "#46039f"
             ],
             [
              0.2222222222222222,
              "#7201a8"
             ],
             [
              0.3333333333333333,
              "#9c179e"
             ],
             [
              0.4444444444444444,
              "#bd3786"
             ],
             [
              0.5555555555555556,
              "#d8576b"
             ],
             [
              0.6666666666666666,
              "#ed7953"
             ],
             [
              0.7777777777777778,
              "#fb9f3a"
             ],
             [
              0.8888888888888888,
              "#fdca26"
             ],
             [
              1,
              "#f0f921"
             ]
            ],
            "type": "heatmap"
           }
          ],
          "heatmapgl": [
           {
            "colorbar": {
             "outlinewidth": 0,
             "ticks": ""
            },
            "colorscale": [
             [
              0,
              "#0d0887"
             ],
             [
              0.1111111111111111,
              "#46039f"
             ],
             [
              0.2222222222222222,
              "#7201a8"
             ],
             [
              0.3333333333333333,
              "#9c179e"
             ],
             [
              0.4444444444444444,
              "#bd3786"
             ],
             [
              0.5555555555555556,
              "#d8576b"
             ],
             [
              0.6666666666666666,
              "#ed7953"
             ],
             [
              0.7777777777777778,
              "#fb9f3a"
             ],
             [
              0.8888888888888888,
              "#fdca26"
             ],
             [
              1,
              "#f0f921"
             ]
            ],
            "type": "heatmapgl"
           }
          ],
          "histogram": [
           {
            "marker": {
             "colorbar": {
              "outlinewidth": 0,
              "ticks": ""
             }
            },
            "type": "histogram"
           }
          ],
          "histogram2d": [
           {
            "colorbar": {
             "outlinewidth": 0,
             "ticks": ""
            },
            "colorscale": [
             [
              0,
              "#0d0887"
             ],
             [
              0.1111111111111111,
              "#46039f"
             ],
             [
              0.2222222222222222,
              "#7201a8"
             ],
             [
              0.3333333333333333,
              "#9c179e"
             ],
             [
              0.4444444444444444,
              "#bd3786"
             ],
             [
              0.5555555555555556,
              "#d8576b"
             ],
             [
              0.6666666666666666,
              "#ed7953"
             ],
             [
              0.7777777777777778,
              "#fb9f3a"
             ],
             [
              0.8888888888888888,
              "#fdca26"
             ],
             [
              1,
              "#f0f921"
             ]
            ],
            "type": "histogram2d"
           }
          ],
          "histogram2dcontour": [
           {
            "colorbar": {
             "outlinewidth": 0,
             "ticks": ""
            },
            "colorscale": [
             [
              0,
              "#0d0887"
             ],
             [
              0.1111111111111111,
              "#46039f"
             ],
             [
              0.2222222222222222,
              "#7201a8"
             ],
             [
              0.3333333333333333,
              "#9c179e"
             ],
             [
              0.4444444444444444,
              "#bd3786"
             ],
             [
              0.5555555555555556,
              "#d8576b"
             ],
             [
              0.6666666666666666,
              "#ed7953"
             ],
             [
              0.7777777777777778,
              "#fb9f3a"
             ],
             [
              0.8888888888888888,
              "#fdca26"
             ],
             [
              1,
              "#f0f921"
             ]
            ],
            "type": "histogram2dcontour"
           }
          ],
          "mesh3d": [
           {
            "colorbar": {
             "outlinewidth": 0,
             "ticks": ""
            },
            "type": "mesh3d"
           }
          ],
          "parcoords": [
           {
            "line": {
             "colorbar": {
              "outlinewidth": 0,
              "ticks": ""
             }
            },
            "type": "parcoords"
           }
          ],
          "pie": [
           {
            "automargin": true,
            "type": "pie"
           }
          ],
          "scatter": [
           {
            "marker": {
             "colorbar": {
              "outlinewidth": 0,
              "ticks": ""
             }
            },
            "type": "scatter"
           }
          ],
          "scatter3d": [
           {
            "line": {
             "colorbar": {
              "outlinewidth": 0,
              "ticks": ""
             }
            },
            "marker": {
             "colorbar": {
              "outlinewidth": 0,
              "ticks": ""
             }
            },
            "type": "scatter3d"
           }
          ],
          "scattercarpet": [
           {
            "marker": {
             "colorbar": {
              "outlinewidth": 0,
              "ticks": ""
             }
            },
            "type": "scattercarpet"
           }
          ],
          "scattergeo": [
           {
            "marker": {
             "colorbar": {
              "outlinewidth": 0,
              "ticks": ""
             }
            },
            "type": "scattergeo"
           }
          ],
          "scattergl": [
           {
            "marker": {
             "colorbar": {
              "outlinewidth": 0,
              "ticks": ""
             }
            },
            "type": "scattergl"
           }
          ],
          "scattermapbox": [
           {
            "marker": {
             "colorbar": {
              "outlinewidth": 0,
              "ticks": ""
             }
            },
            "type": "scattermapbox"
           }
          ],
          "scatterpolar": [
           {
            "marker": {
             "colorbar": {
              "outlinewidth": 0,
              "ticks": ""
             }
            },
            "type": "scatterpolar"
           }
          ],
          "scatterpolargl": [
           {
            "marker": {
             "colorbar": {
              "outlinewidth": 0,
              "ticks": ""
             }
            },
            "type": "scatterpolargl"
           }
          ],
          "scatterternary": [
           {
            "marker": {
             "colorbar": {
              "outlinewidth": 0,
              "ticks": ""
             }
            },
            "type": "scatterternary"
           }
          ],
          "surface": [
           {
            "colorbar": {
             "outlinewidth": 0,
             "ticks": ""
            },
            "colorscale": [
             [
              0,
              "#0d0887"
             ],
             [
              0.1111111111111111,
              "#46039f"
             ],
             [
              0.2222222222222222,
              "#7201a8"
             ],
             [
              0.3333333333333333,
              "#9c179e"
             ],
             [
              0.4444444444444444,
              "#bd3786"
             ],
             [
              0.5555555555555556,
              "#d8576b"
             ],
             [
              0.6666666666666666,
              "#ed7953"
             ],
             [
              0.7777777777777778,
              "#fb9f3a"
             ],
             [
              0.8888888888888888,
              "#fdca26"
             ],
             [
              1,
              "#f0f921"
             ]
            ],
            "type": "surface"
           }
          ],
          "table": [
           {
            "cells": {
             "fill": {
              "color": "#EBF0F8"
             },
             "line": {
              "color": "white"
             }
            },
            "header": {
             "fill": {
              "color": "#C8D4E3"
             },
             "line": {
              "color": "white"
             }
            },
            "type": "table"
           }
          ]
         },
         "layout": {
          "annotationdefaults": {
           "arrowcolor": "#2a3f5f",
           "arrowhead": 0,
           "arrowwidth": 1
          },
          "autotypenumbers": "strict",
          "coloraxis": {
           "colorbar": {
            "outlinewidth": 0,
            "ticks": ""
           }
          },
          "colorscale": {
           "diverging": [
            [
             0,
             "#8e0152"
            ],
            [
             0.1,
             "#c51b7d"
            ],
            [
             0.2,
             "#de77ae"
            ],
            [
             0.3,
             "#f1b6da"
            ],
            [
             0.4,
             "#fde0ef"
            ],
            [
             0.5,
             "#f7f7f7"
            ],
            [
             0.6,
             "#e6f5d0"
            ],
            [
             0.7,
             "#b8e186"
            ],
            [
             0.8,
             "#7fbc41"
            ],
            [
             0.9,
             "#4d9221"
            ],
            [
             1,
             "#276419"
            ]
           ],
           "sequential": [
            [
             0,
             "#0d0887"
            ],
            [
             0.1111111111111111,
             "#46039f"
            ],
            [
             0.2222222222222222,
             "#7201a8"
            ],
            [
             0.3333333333333333,
             "#9c179e"
            ],
            [
             0.4444444444444444,
             "#bd3786"
            ],
            [
             0.5555555555555556,
             "#d8576b"
            ],
            [
             0.6666666666666666,
             "#ed7953"
            ],
            [
             0.7777777777777778,
             "#fb9f3a"
            ],
            [
             0.8888888888888888,
             "#fdca26"
            ],
            [
             1,
             "#f0f921"
            ]
           ],
           "sequentialminus": [
            [
             0,
             "#0d0887"
            ],
            [
             0.1111111111111111,
             "#46039f"
            ],
            [
             0.2222222222222222,
             "#7201a8"
            ],
            [
             0.3333333333333333,
             "#9c179e"
            ],
            [
             0.4444444444444444,
             "#bd3786"
            ],
            [
             0.5555555555555556,
             "#d8576b"
            ],
            [
             0.6666666666666666,
             "#ed7953"
            ],
            [
             0.7777777777777778,
             "#fb9f3a"
            ],
            [
             0.8888888888888888,
             "#fdca26"
            ],
            [
             1,
             "#f0f921"
            ]
           ]
          },
          "colorway": [
           "#636efa",
           "#EF553B",
           "#00cc96",
           "#ab63fa",
           "#FFA15A",
           "#19d3f3",
           "#FF6692",
           "#B6E880",
           "#FF97FF",
           "#FECB52"
          ],
          "font": {
           "color": "#2a3f5f"
          },
          "geo": {
           "bgcolor": "white",
           "lakecolor": "white",
           "landcolor": "#E5ECF6",
           "showlakes": true,
           "showland": true,
           "subunitcolor": "white"
          },
          "hoverlabel": {
           "align": "left"
          },
          "hovermode": "closest",
          "mapbox": {
           "style": "light"
          },
          "paper_bgcolor": "white",
          "plot_bgcolor": "#E5ECF6",
          "polar": {
           "angularaxis": {
            "gridcolor": "white",
            "linecolor": "white",
            "ticks": ""
           },
           "bgcolor": "#E5ECF6",
           "radialaxis": {
            "gridcolor": "white",
            "linecolor": "white",
            "ticks": ""
           }
          },
          "scene": {
           "xaxis": {
            "backgroundcolor": "#E5ECF6",
            "gridcolor": "white",
            "gridwidth": 2,
            "linecolor": "white",
            "showbackground": true,
            "ticks": "",
            "zerolinecolor": "white"
           },
           "yaxis": {
            "backgroundcolor": "#E5ECF6",
            "gridcolor": "white",
            "gridwidth": 2,
            "linecolor": "white",
            "showbackground": true,
            "ticks": "",
            "zerolinecolor": "white"
           },
           "zaxis": {
            "backgroundcolor": "#E5ECF6",
            "gridcolor": "white",
            "gridwidth": 2,
            "linecolor": "white",
            "showbackground": true,
            "ticks": "",
            "zerolinecolor": "white"
           }
          },
          "shapedefaults": {
           "line": {
            "color": "#2a3f5f"
           }
          },
          "ternary": {
           "aaxis": {
            "gridcolor": "white",
            "linecolor": "white",
            "ticks": ""
           },
           "baxis": {
            "gridcolor": "white",
            "linecolor": "white",
            "ticks": ""
           },
           "bgcolor": "#E5ECF6",
           "caxis": {
            "gridcolor": "white",
            "linecolor": "white",
            "ticks": ""
           }
          },
          "title": {
           "x": 0.05
          },
          "xaxis": {
           "automargin": true,
           "gridcolor": "white",
           "linecolor": "white",
           "ticks": "",
           "title": {
            "standoff": 15
           },
           "zerolinecolor": "white",
           "zerolinewidth": 2
          },
          "yaxis": {
           "automargin": true,
           "gridcolor": "white",
           "linecolor": "white",
           "ticks": "",
           "title": {
            "standoff": 15
           },
           "zerolinecolor": "white",
           "zerolinewidth": 2
          }
         }
        },
        "title": {
         "font": {
          "color": "#4D5663"
         }
        },
        "xaxis": {
         "gridcolor": "#E1E5ED",
         "showgrid": true,
         "tickfont": {
          "color": "#4D5663"
         },
         "title": {
          "font": {
           "color": "#4D5663"
          },
          "text": ""
         },
         "zerolinecolor": "#E1E5ED"
        },
        "yaxis": {
         "gridcolor": "#E1E5ED",
         "showgrid": true,
         "tickfont": {
          "color": "#4D5663"
         },
         "title": {
          "font": {
           "color": "#4D5663"
          },
          "text": ""
         },
         "zerolinecolor": "#E1E5ED"
        }
       }
      },
      "text/html": [
       "<div>                            <div id=\"e3b2ef95-1c5a-455a-adfd-8867c41c3795\" class=\"plotly-graph-div\" style=\"height:525px; width:100%;\"></div>            <script type=\"text/javascript\">                require([\"plotly\"], function(Plotly) {                    window.PLOTLYENV=window.PLOTLYENV || {};\n",
       "                    window.PLOTLYENV.BASE_URL='https://plot.ly';                                    if (document.getElementById(\"e3b2ef95-1c5a-455a-adfd-8867c41c3795\")) {                    Plotly.newPlot(                        \"e3b2ef95-1c5a-455a-adfd-8867c41c3795\",                        [{\"marker\": {\"color\": [\"rgb(255, 153, 51)\", \"rgb(55, 128, 191)\", \"rgb(50, 171, 96)\", \"rgb(128, 0, 128)\", \"rgb(219, 64, 82)\", \"rgb(0, 128, 128)\", \"rgb(255, 255, 51)\", \"rgb(128, 128, 0)\", \"rgb(251, 128, 114)\", \"rgb(128, 177, 211)\"], \"line\": {\"width\": 1.3}, \"size\": [80, 54, 31, 13, 73, 73, 54, 72, 60, 69, 80, 39, 83, 58, 36, 58, 62, 63, 58, 51, 55, 95, 51, 45, 76, 21, 79, 77, 76, 42, 56, 73, 48, 16, 71, 40, 12, 73, 36, 63, 53, 54, 40, 55, 35, 56, 71, 46, 58, 51, 57, 72, 73, 87, 67, 81, 42, 53, 54, 68, 56, 57, 59, 112, 56, 54, 48, 65, 76, 63, 89, 48, 44, 65, 42, 43, 91, 38, 55, 55, 25, 32, 49, 60, 72, 82, 54, 52, 64, 75, 71, 41, 52, 37, 42, 39, 68, 42, 54, 85], \"symbol\": \"circle\"}, \"mode\": \"markers\", \"text\": \"\", \"type\": \"scatter\", \"x\": [-1.2376533429297487, 0.5210312381862134, -1.0251899876913395, 0.45381839892015724, 2.5579020873643423, -2.311096877009032, 1.0848519410157036, 0.14420890327050329, 0.8761771802727409, -0.5599756647759724, 0.8404008962563776, 0.9360487734843175, -1.2159463914906068, 0.4323468127108094, 1.4875276747986366, -1.8104483053725908, 0.7422040304205689, 2.2293211252216603, 0.15632546876214123, 0.4081041805918467, 0.024748436909957674, -0.727628179660839, -0.3139827530211364, 1.7415908205376824, 1.113900769384104, -1.7478092023943117, 0.8140754057060445, 1.1184203301949367, 0.11643679130544002, 0.2413981464536677, -1.8981945923166192, 0.7814782558065474, 0.12346431470248988, -0.5888166641853814, 0.5638242182369565, -0.04966892567279881, -0.8730779045718278, 0.9937635926043222, -0.3111311960754491, -1.2704479991052302, 0.6145906380641518, -2.1080663744544688, 1.162745468298509, -0.40269202904722307, 0.9816818315776701, 1.2766727602932417, -1.1441699855454301, -1.4095882123449281, 1.3445230473814531, 0.983685841697918, -0.4764813243223706, 0.34186207479032177, -1.3617951618631923, -0.5731448087586377, 1.6229372931953945, -1.8760222194164973, 0.2696419215276941, 1.4759084603076527, 1.2932437655688576, 0.14905939922683087, 1.1274399726091413, 1.6653660922881228, 0.9404296495750097, 1.1505947887788583, -1.7013903166322464, -0.3128888538704009, -2.143472785599862, -0.5117941385029973, 0.9973449715984799, -1.28127634682668, 0.5008584141197462, -0.3438551379470671, -1.496632229824434, -1.0196525699126524, 1.788124743162996, -1.0822473860519988, 0.9805588328233438, 2.23743047144731, 0.2129752042080661, 0.6876725100251737, 0.7340280290562036, -0.44115399131713307, -0.6322101548325217, 0.8240049645002243, -0.0012853927734924836, 0.44660590623353075, -0.3231659858707658, -0.33411455762785336, 0.353841423946161, -0.022911915151177333, 0.5704806182719827, 1.9789498254742628, -1.1043229788804343, 1.2443321962668799, 0.4777611949867243, -0.7944342954051479, 1.3535937388032435, -0.5031726594973573, -0.041696531493813985, 0.9618825324128459], \"y\": [-0.5729984879969171, 0.5909561009580857, -0.6479381979401543, 0.5068431621784943, 0.21022581680114724, -2.035720176553049, -0.48728930433915413, -0.5100542298446442, 1.0746855013944174, -0.03425512643487298, -1.1034087514016049, -0.942789188319332, -0.09798209414877965, -0.75471906104679, 0.5695846791296407, 0.18144063049261203, 0.6755433055426926, 1.6908113005091172, -0.037085297150455485, 0.5093238182228775, 0.4309374328017403, 1.0603891419114981, 0.9600849278946542, 0.41138880181158965, 0.3542988098231076, 0.3793117072240972, -0.32429385709622316, -0.3720488190049271, 0.28700601889218225, -0.4814804689597724, 0.32292724413314056, 1.3750481693772498, 0.375806837908601, 1.0204153020741686, 0.5372488436715573, 0.1630362622470754, -0.37128401061293204, 0.18189386623342524, 1.5443816284277438, -0.5700477904708945, 1.7413818905636158, -1.197416653079403, 0.25236922063720735, -0.8937094378007724, 2.7781482520757224, -0.08022663678328085, 1.2403860792115906, -0.013828930370441302, -0.9348967567711488, -2.225144487840825, -1.2693652149536099, 1.8614425597359745, 0.2543178484847704, -0.9356797873206968, -1.823825627965515, -1.1714380378971925, -0.480426448575434, -0.20624266781744877, 0.339482324534446, 1.097677022740831, -0.5102593440109845, -0.20183972656712482, -0.8960494374584044, -0.5924532644882401, -0.646345965309449, 1.4286394367280775, 1.6501845360404976, 0.511791608963945, 0.4393596006137443, 0.5725738313781439, -0.664265767438522, -0.44164130103306365, 0.6372090453689565, -0.2589300158280436, 1.0894350623522444, 0.26421945331926805, -1.1179733849258793, 0.7729424625201243, -0.6198532415959194, -0.17020060359782097, 0.9341080928874868, 0.24117249940352037, -0.7005627582569318, 0.6582479238215062, -0.0716208850768693, 1.5706154364823148, -0.6497956569183799, 0.5423497355086795, 0.9370286417621064, -0.7308532701982378, 1.508055847158207, 0.9936015984705164, -1.8260543146320227, 0.4892420488884562, 0.9043459424350315, 0.8305425725610729, -1.2589823642833216, -0.7149533393533173, -1.806426117331394, -0.2447907667589656]}],                        {\"legend\": {\"bgcolor\": \"#F5F6F9\", \"font\": {\"color\": \"#4D5663\"}}, \"paper_bgcolor\": \"#F5F6F9\", \"plot_bgcolor\": \"#F5F6F9\", \"template\": {\"data\": {\"bar\": [{\"error_x\": {\"color\": \"#2a3f5f\"}, \"error_y\": {\"color\": \"#2a3f5f\"}, \"marker\": {\"line\": {\"color\": \"#E5ECF6\", \"width\": 0.5}}, \"type\": \"bar\"}], \"barpolar\": [{\"marker\": {\"line\": {\"color\": \"#E5ECF6\", \"width\": 0.5}}, \"type\": \"barpolar\"}], \"carpet\": [{\"aaxis\": {\"endlinecolor\": \"#2a3f5f\", \"gridcolor\": \"white\", \"linecolor\": \"white\", \"minorgridcolor\": \"white\", \"startlinecolor\": \"#2a3f5f\"}, \"baxis\": {\"endlinecolor\": \"#2a3f5f\", \"gridcolor\": \"white\", \"linecolor\": \"white\", \"minorgridcolor\": \"white\", \"startlinecolor\": \"#2a3f5f\"}, \"type\": \"carpet\"}], \"choropleth\": [{\"colorbar\": {\"outlinewidth\": 0, \"ticks\": \"\"}, \"type\": \"choropleth\"}], \"contour\": [{\"colorbar\": {\"outlinewidth\": 0, \"ticks\": \"\"}, \"colorscale\": [[0.0, \"#0d0887\"], [0.1111111111111111, \"#46039f\"], [0.2222222222222222, \"#7201a8\"], [0.3333333333333333, \"#9c179e\"], [0.4444444444444444, \"#bd3786\"], [0.5555555555555556, \"#d8576b\"], [0.6666666666666666, \"#ed7953\"], [0.7777777777777778, \"#fb9f3a\"], [0.8888888888888888, \"#fdca26\"], [1.0, \"#f0f921\"]], \"type\": \"contour\"}], \"contourcarpet\": [{\"colorbar\": {\"outlinewidth\": 0, \"ticks\": \"\"}, \"type\": \"contourcarpet\"}], \"heatmap\": [{\"colorbar\": {\"outlinewidth\": 0, \"ticks\": \"\"}, \"colorscale\": [[0.0, \"#0d0887\"], [0.1111111111111111, \"#46039f\"], [0.2222222222222222, \"#7201a8\"], [0.3333333333333333, \"#9c179e\"], [0.4444444444444444, \"#bd3786\"], [0.5555555555555556, \"#d8576b\"], [0.6666666666666666, \"#ed7953\"], [0.7777777777777778, \"#fb9f3a\"], [0.8888888888888888, \"#fdca26\"], [1.0, \"#f0f921\"]], \"type\": \"heatmap\"}], \"heatmapgl\": [{\"colorbar\": {\"outlinewidth\": 0, \"ticks\": \"\"}, \"colorscale\": [[0.0, \"#0d0887\"], [0.1111111111111111, \"#46039f\"], [0.2222222222222222, \"#7201a8\"], [0.3333333333333333, \"#9c179e\"], [0.4444444444444444, \"#bd3786\"], [0.5555555555555556, \"#d8576b\"], [0.6666666666666666, \"#ed7953\"], [0.7777777777777778, \"#fb9f3a\"], [0.8888888888888888, \"#fdca26\"], [1.0, \"#f0f921\"]], \"type\": \"heatmapgl\"}], \"histogram\": [{\"marker\": {\"colorbar\": {\"outlinewidth\": 0, \"ticks\": \"\"}}, \"type\": \"histogram\"}], \"histogram2d\": [{\"colorbar\": {\"outlinewidth\": 0, \"ticks\": \"\"}, \"colorscale\": [[0.0, \"#0d0887\"], [0.1111111111111111, \"#46039f\"], [0.2222222222222222, \"#7201a8\"], [0.3333333333333333, \"#9c179e\"], [0.4444444444444444, \"#bd3786\"], [0.5555555555555556, \"#d8576b\"], [0.6666666666666666, \"#ed7953\"], [0.7777777777777778, \"#fb9f3a\"], [0.8888888888888888, \"#fdca26\"], [1.0, \"#f0f921\"]], \"type\": \"histogram2d\"}], \"histogram2dcontour\": [{\"colorbar\": {\"outlinewidth\": 0, \"ticks\": \"\"}, \"colorscale\": [[0.0, \"#0d0887\"], [0.1111111111111111, \"#46039f\"], [0.2222222222222222, \"#7201a8\"], [0.3333333333333333, \"#9c179e\"], [0.4444444444444444, \"#bd3786\"], [0.5555555555555556, \"#d8576b\"], [0.6666666666666666, \"#ed7953\"], [0.7777777777777778, \"#fb9f3a\"], [0.8888888888888888, \"#fdca26\"], [1.0, \"#f0f921\"]], \"type\": \"histogram2dcontour\"}], \"mesh3d\": [{\"colorbar\": {\"outlinewidth\": 0, \"ticks\": \"\"}, \"type\": \"mesh3d\"}], \"parcoords\": [{\"line\": {\"colorbar\": {\"outlinewidth\": 0, \"ticks\": \"\"}}, \"type\": \"parcoords\"}], \"pie\": [{\"automargin\": true, \"type\": \"pie\"}], \"scatter\": [{\"marker\": {\"colorbar\": {\"outlinewidth\": 0, \"ticks\": \"\"}}, \"type\": \"scatter\"}], \"scatter3d\": [{\"line\": {\"colorbar\": {\"outlinewidth\": 0, \"ticks\": \"\"}}, \"marker\": {\"colorbar\": {\"outlinewidth\": 0, \"ticks\": \"\"}}, \"type\": \"scatter3d\"}], \"scattercarpet\": [{\"marker\": {\"colorbar\": {\"outlinewidth\": 0, \"ticks\": \"\"}}, \"type\": \"scattercarpet\"}], \"scattergeo\": [{\"marker\": {\"colorbar\": {\"outlinewidth\": 0, \"ticks\": \"\"}}, \"type\": \"scattergeo\"}], \"scattergl\": [{\"marker\": {\"colorbar\": {\"outlinewidth\": 0, \"ticks\": \"\"}}, \"type\": \"scattergl\"}], \"scattermapbox\": [{\"marker\": {\"colorbar\": {\"outlinewidth\": 0, \"ticks\": \"\"}}, \"type\": \"scattermapbox\"}], \"scatterpolar\": [{\"marker\": {\"colorbar\": {\"outlinewidth\": 0, \"ticks\": \"\"}}, \"type\": \"scatterpolar\"}], \"scatterpolargl\": [{\"marker\": {\"colorbar\": {\"outlinewidth\": 0, \"ticks\": \"\"}}, \"type\": \"scatterpolargl\"}], \"scatterternary\": [{\"marker\": {\"colorbar\": {\"outlinewidth\": 0, \"ticks\": \"\"}}, \"type\": \"scatterternary\"}], \"surface\": [{\"colorbar\": {\"outlinewidth\": 0, \"ticks\": \"\"}, \"colorscale\": [[0.0, \"#0d0887\"], [0.1111111111111111, \"#46039f\"], [0.2222222222222222, \"#7201a8\"], [0.3333333333333333, \"#9c179e\"], [0.4444444444444444, \"#bd3786\"], [0.5555555555555556, \"#d8576b\"], [0.6666666666666666, \"#ed7953\"], [0.7777777777777778, \"#fb9f3a\"], [0.8888888888888888, \"#fdca26\"], [1.0, \"#f0f921\"]], \"type\": \"surface\"}], \"table\": [{\"cells\": {\"fill\": {\"color\": \"#EBF0F8\"}, \"line\": {\"color\": \"white\"}}, \"header\": {\"fill\": {\"color\": \"#C8D4E3\"}, \"line\": {\"color\": \"white\"}}, \"type\": \"table\"}]}, \"layout\": {\"annotationdefaults\": {\"arrowcolor\": \"#2a3f5f\", \"arrowhead\": 0, \"arrowwidth\": 1}, \"autotypenumbers\": \"strict\", \"coloraxis\": {\"colorbar\": {\"outlinewidth\": 0, \"ticks\": \"\"}}, \"colorscale\": {\"diverging\": [[0, \"#8e0152\"], [0.1, \"#c51b7d\"], [0.2, \"#de77ae\"], [0.3, \"#f1b6da\"], [0.4, \"#fde0ef\"], [0.5, \"#f7f7f7\"], [0.6, \"#e6f5d0\"], [0.7, \"#b8e186\"], [0.8, \"#7fbc41\"], [0.9, \"#4d9221\"], [1, \"#276419\"]], \"sequential\": [[0.0, \"#0d0887\"], [0.1111111111111111, \"#46039f\"], [0.2222222222222222, \"#7201a8\"], [0.3333333333333333, \"#9c179e\"], [0.4444444444444444, \"#bd3786\"], [0.5555555555555556, \"#d8576b\"], [0.6666666666666666, \"#ed7953\"], [0.7777777777777778, \"#fb9f3a\"], [0.8888888888888888, \"#fdca26\"], [1.0, \"#f0f921\"]], \"sequentialminus\": [[0.0, \"#0d0887\"], [0.1111111111111111, \"#46039f\"], [0.2222222222222222, \"#7201a8\"], [0.3333333333333333, \"#9c179e\"], [0.4444444444444444, \"#bd3786\"], [0.5555555555555556, \"#d8576b\"], [0.6666666666666666, \"#ed7953\"], [0.7777777777777778, \"#fb9f3a\"], [0.8888888888888888, \"#fdca26\"], [1.0, \"#f0f921\"]]}, \"colorway\": [\"#636efa\", \"#EF553B\", \"#00cc96\", \"#ab63fa\", \"#FFA15A\", \"#19d3f3\", \"#FF6692\", \"#B6E880\", \"#FF97FF\", \"#FECB52\"], \"font\": {\"color\": \"#2a3f5f\"}, \"geo\": {\"bgcolor\": \"white\", \"lakecolor\": \"white\", \"landcolor\": \"#E5ECF6\", \"showlakes\": true, \"showland\": true, \"subunitcolor\": \"white\"}, \"hoverlabel\": {\"align\": \"left\"}, \"hovermode\": \"closest\", \"mapbox\": {\"style\": \"light\"}, \"paper_bgcolor\": \"white\", \"plot_bgcolor\": \"#E5ECF6\", \"polar\": {\"angularaxis\": {\"gridcolor\": \"white\", \"linecolor\": \"white\", \"ticks\": \"\"}, \"bgcolor\": \"#E5ECF6\", \"radialaxis\": {\"gridcolor\": \"white\", \"linecolor\": \"white\", \"ticks\": \"\"}}, \"scene\": {\"xaxis\": {\"backgroundcolor\": \"#E5ECF6\", \"gridcolor\": \"white\", \"gridwidth\": 2, \"linecolor\": \"white\", \"showbackground\": true, \"ticks\": \"\", \"zerolinecolor\": \"white\"}, \"yaxis\": {\"backgroundcolor\": \"#E5ECF6\", \"gridcolor\": \"white\", \"gridwidth\": 2, \"linecolor\": \"white\", \"showbackground\": true, \"ticks\": \"\", \"zerolinecolor\": \"white\"}, \"zaxis\": {\"backgroundcolor\": \"#E5ECF6\", \"gridcolor\": \"white\", \"gridwidth\": 2, \"linecolor\": \"white\", \"showbackground\": true, \"ticks\": \"\", \"zerolinecolor\": \"white\"}}, \"shapedefaults\": {\"line\": {\"color\": \"#2a3f5f\"}}, \"ternary\": {\"aaxis\": {\"gridcolor\": \"white\", \"linecolor\": \"white\", \"ticks\": \"\"}, \"baxis\": {\"gridcolor\": \"white\", \"linecolor\": \"white\", \"ticks\": \"\"}, \"bgcolor\": \"#E5ECF6\", \"caxis\": {\"gridcolor\": \"white\", \"linecolor\": \"white\", \"ticks\": \"\"}}, \"title\": {\"x\": 0.05}, \"xaxis\": {\"automargin\": true, \"gridcolor\": \"white\", \"linecolor\": \"white\", \"ticks\": \"\", \"title\": {\"standoff\": 15}, \"zerolinecolor\": \"white\", \"zerolinewidth\": 2}, \"yaxis\": {\"automargin\": true, \"gridcolor\": \"white\", \"linecolor\": \"white\", \"ticks\": \"\", \"title\": {\"standoff\": 15}, \"zerolinecolor\": \"white\", \"zerolinewidth\": 2}}}, \"title\": {\"font\": {\"color\": \"#4D5663\"}}, \"xaxis\": {\"gridcolor\": \"#E1E5ED\", \"showgrid\": true, \"tickfont\": {\"color\": \"#4D5663\"}, \"title\": {\"font\": {\"color\": \"#4D5663\"}, \"text\": \"\"}, \"zerolinecolor\": \"#E1E5ED\"}, \"yaxis\": {\"gridcolor\": \"#E1E5ED\", \"showgrid\": true, \"tickfont\": {\"color\": \"#4D5663\"}, \"title\": {\"font\": {\"color\": \"#4D5663\"}, \"text\": \"\"}, \"zerolinecolor\": \"#E1E5ED\"}},                        {\"showLink\": true, \"linkText\": \"Export to plot.ly\", \"plotlyServerURL\": \"https://plot.ly\", \"responsive\": true}                    ).then(function(){\n",
       "                            \n",
       "var gd = document.getElementById('e3b2ef95-1c5a-455a-adfd-8867c41c3795');\n",
       "var x = new MutationObserver(function (mutations, observer) {{\n",
       "        var display = window.getComputedStyle(gd).display;\n",
       "        if (!display || display === 'none') {{\n",
       "            console.log([gd, 'removed!']);\n",
       "            Plotly.purge(gd);\n",
       "            observer.disconnect();\n",
       "        }}\n",
       "}});\n",
       "\n",
       "// Listen for the removal of the full notebook cells\n",
       "var notebookContainer = gd.closest('#notebook-container');\n",
       "if (notebookContainer) {{\n",
       "    x.observe(notebookContainer, {childList: true});\n",
       "}}\n",
       "\n",
       "// Listen for the clearing of the current output cell\n",
       "var outputEl = gd.closest('.output');\n",
       "if (outputEl) {{\n",
       "    x.observe(outputEl, {childList: true});\n",
       "}}\n",
       "\n",
       "                        })                };                });            </script>        </div>"
      ]
     },
     "metadata": {},
     "output_type": "display_data"
    }
   ],
   "source": [
    "df.iplot(kind='bubble',x='A',y='B',size='C')"
   ]
  },
  {
   "cell_type": "code",
   "execution_count": 44,
   "metadata": {},
   "outputs": [
    {
     "data": {
      "application/vnd.plotly.v1+json": {
       "config": {
        "linkText": "Export to plot.ly",
        "plotlyServerURL": "https://plot.ly",
        "showLink": true
       },
       "data": [
        {
         "histfunc": "count",
         "histnorm": "",
         "marker": {
          "color": "rgba(255, 153, 51, 1.0)",
          "line": {
           "color": "#4D5663",
           "width": 1.3
          }
         },
         "name": "A",
         "nbinsx": 10,
         "opacity": 0.8,
         "orientation": "v",
         "type": "histogram",
         "x": [
          -1.2376533429297487,
          0.5210312381862134,
          -1.0251899876913395,
          0.45381839892015724,
          2.5579020873643423,
          -2.311096877009032,
          1.0848519410157036,
          0.14420890327050329,
          0.8761771802727409,
          -0.5599756647759724,
          0.8404008962563776,
          0.9360487734843175,
          -1.2159463914906068,
          0.4323468127108094,
          1.4875276747986366,
          -1.8104483053725908,
          0.7422040304205689,
          2.2293211252216603,
          0.15632546876214123,
          0.4081041805918467,
          0.024748436909957674,
          -0.727628179660839,
          -0.3139827530211364,
          1.7415908205376824,
          1.113900769384104,
          -1.7478092023943117,
          0.8140754057060445,
          1.1184203301949367,
          0.11643679130544002,
          0.2413981464536677,
          -1.8981945923166192,
          0.7814782558065474,
          0.12346431470248988,
          -0.5888166641853814,
          0.5638242182369565,
          -0.04966892567279881,
          -0.8730779045718278,
          0.9937635926043222,
          -0.3111311960754491,
          -1.2704479991052302,
          0.6145906380641518,
          -2.1080663744544688,
          1.162745468298509,
          -0.40269202904722307,
          0.9816818315776701,
          1.2766727602932417,
          -1.1441699855454301,
          -1.4095882123449281,
          1.3445230473814531,
          0.983685841697918,
          -0.4764813243223706,
          0.34186207479032177,
          -1.3617951618631923,
          -0.5731448087586377,
          1.6229372931953945,
          -1.8760222194164973,
          0.2696419215276941,
          1.4759084603076527,
          1.2932437655688576,
          0.14905939922683087,
          1.1274399726091413,
          1.6653660922881228,
          0.9404296495750097,
          1.1505947887788583,
          -1.7013903166322464,
          -0.3128888538704009,
          -2.143472785599862,
          -0.5117941385029973,
          0.9973449715984799,
          -1.28127634682668,
          0.5008584141197462,
          -0.3438551379470671,
          -1.496632229824434,
          -1.0196525699126524,
          1.788124743162996,
          -1.0822473860519988,
          0.9805588328233438,
          2.23743047144731,
          0.2129752042080661,
          0.6876725100251737,
          0.7340280290562036,
          -0.44115399131713307,
          -0.6322101548325217,
          0.8240049645002243,
          -0.0012853927734924836,
          0.44660590623353075,
          -0.3231659858707658,
          -0.33411455762785336,
          0.353841423946161,
          -0.022911915151177333,
          0.5704806182719827,
          1.9789498254742628,
          -1.1043229788804343,
          1.2443321962668799,
          0.4777611949867243,
          -0.7944342954051479,
          1.3535937388032435,
          -0.5031726594973573,
          -0.041696531493813985,
          0.9618825324128459
         ],
         "xaxis": "x",
         "yaxis": "y"
        },
        {
         "line": {
          "color": "rgba(128, 128, 128, 1.0)",
          "dash": "solid",
          "shape": "linear",
          "width": 1.3
         },
         "marker": {
          "size": 2,
          "symbol": "circle"
         },
         "mode": "markers",
         "name": "A",
         "text": "",
         "type": "scatter",
         "x": [
          -0.5729984879969171,
          0.5909561009580857,
          -0.6479381979401543,
          0.5068431621784943,
          0.21022581680114724,
          -2.035720176553049,
          -0.48728930433915413,
          -0.5100542298446442,
          1.0746855013944174,
          -0.03425512643487298,
          -1.1034087514016049,
          -0.942789188319332,
          -0.09798209414877965,
          -0.75471906104679,
          0.5695846791296407,
          0.18144063049261203,
          0.6755433055426926,
          1.6908113005091172,
          -0.037085297150455485,
          0.5093238182228775,
          0.4309374328017403,
          1.0603891419114981,
          0.9600849278946542,
          0.41138880181158965,
          0.3542988098231076,
          0.3793117072240972,
          -0.32429385709622316,
          -0.3720488190049271,
          0.28700601889218225,
          -0.4814804689597724,
          0.32292724413314056,
          1.3750481693772498,
          0.375806837908601,
          1.0204153020741686,
          0.5372488436715573,
          0.1630362622470754,
          -0.37128401061293204,
          0.18189386623342524,
          1.5443816284277438,
          -0.5700477904708945,
          1.7413818905636158,
          -1.197416653079403,
          0.25236922063720735,
          -0.8937094378007724,
          2.7781482520757224,
          -0.08022663678328085,
          1.2403860792115906,
          -0.013828930370441302,
          -0.9348967567711488,
          -2.225144487840825,
          -1.2693652149536099,
          1.8614425597359745,
          0.2543178484847704,
          -0.9356797873206968,
          -1.823825627965515,
          -1.1714380378971925,
          -0.480426448575434,
          -0.20624266781744877,
          0.339482324534446,
          1.097677022740831,
          -0.5102593440109845,
          -0.20183972656712482,
          -0.8960494374584044,
          -0.5924532644882401,
          -0.646345965309449,
          1.4286394367280775,
          1.6501845360404976,
          0.511791608963945,
          0.4393596006137443,
          0.5725738313781439,
          -0.664265767438522,
          -0.44164130103306365,
          0.6372090453689565,
          -0.2589300158280436,
          1.0894350623522444,
          0.26421945331926805,
          -1.1179733849258793,
          0.7729424625201243,
          -0.6198532415959194,
          -0.17020060359782097,
          0.9341080928874868,
          0.24117249940352037,
          -0.7005627582569318,
          0.6582479238215062,
          -0.0716208850768693,
          1.5706154364823148,
          -0.6497956569183799,
          0.5423497355086795,
          0.9370286417621064,
          -0.7308532701982378,
          1.508055847158207,
          0.9936015984705164,
          -1.8260543146320227,
          0.4892420488884562,
          0.9043459424350315,
          0.8305425725610729,
          -1.2589823642833216,
          -0.7149533393533173,
          -1.806426117331394,
          -0.2447907667589656
         ],
         "xaxis": "x2",
         "y": [
          -1.2376533429297487,
          0.5210312381862134,
          -1.0251899876913395,
          0.45381839892015724,
          2.5579020873643423,
          -2.311096877009032,
          1.0848519410157036,
          0.14420890327050329,
          0.8761771802727409,
          -0.5599756647759724,
          0.8404008962563776,
          0.9360487734843175,
          -1.2159463914906068,
          0.4323468127108094,
          1.4875276747986366,
          -1.8104483053725908,
          0.7422040304205689,
          2.2293211252216603,
          0.15632546876214123,
          0.4081041805918467,
          0.024748436909957674,
          -0.727628179660839,
          -0.3139827530211364,
          1.7415908205376824,
          1.113900769384104,
          -1.7478092023943117,
          0.8140754057060445,
          1.1184203301949367,
          0.11643679130544002,
          0.2413981464536677,
          -1.8981945923166192,
          0.7814782558065474,
          0.12346431470248988,
          -0.5888166641853814,
          0.5638242182369565,
          -0.04966892567279881,
          -0.8730779045718278,
          0.9937635926043222,
          -0.3111311960754491,
          -1.2704479991052302,
          0.6145906380641518,
          -2.1080663744544688,
          1.162745468298509,
          -0.40269202904722307,
          0.9816818315776701,
          1.2766727602932417,
          -1.1441699855454301,
          -1.4095882123449281,
          1.3445230473814531,
          0.983685841697918,
          -0.4764813243223706,
          0.34186207479032177,
          -1.3617951618631923,
          -0.5731448087586377,
          1.6229372931953945,
          -1.8760222194164973,
          0.2696419215276941,
          1.4759084603076527,
          1.2932437655688576,
          0.14905939922683087,
          1.1274399726091413,
          1.6653660922881228,
          0.9404296495750097,
          1.1505947887788583,
          -1.7013903166322464,
          -0.3128888538704009,
          -2.143472785599862,
          -0.5117941385029973,
          0.9973449715984799,
          -1.28127634682668,
          0.5008584141197462,
          -0.3438551379470671,
          -1.496632229824434,
          -1.0196525699126524,
          1.788124743162996,
          -1.0822473860519988,
          0.9805588328233438,
          2.23743047144731,
          0.2129752042080661,
          0.6876725100251737,
          0.7340280290562036,
          -0.44115399131713307,
          -0.6322101548325217,
          0.8240049645002243,
          -0.0012853927734924836,
          0.44660590623353075,
          -0.3231659858707658,
          -0.33411455762785336,
          0.353841423946161,
          -0.022911915151177333,
          0.5704806182719827,
          1.9789498254742628,
          -1.1043229788804343,
          1.2443321962668799,
          0.4777611949867243,
          -0.7944342954051479,
          1.3535937388032435,
          -0.5031726594973573,
          -0.041696531493813985,
          0.9618825324128459
         ],
         "yaxis": "y2"
        },
        {
         "line": {
          "color": "rgba(128, 128, 128, 1.0)",
          "dash": "solid",
          "shape": "linear",
          "width": 1.3
         },
         "marker": {
          "size": 2,
          "symbol": "circle"
         },
         "mode": "markers",
         "name": "A",
         "text": "",
         "type": "scatter",
         "x": [
          1.4805592905566027,
          0.0066543752263027965,
          -1.3286028101500782,
          -2.3545755391924437,
          1.0310993600795264,
          1.032122832624549,
          -0.043810011026179915,
          0.9744256797617555,
          0.3456701049094342,
          0.8423521574656975,
          1.433220309184025,
          -0.8980879999871899,
          1.6147623452853943,
          0.21919544300404417,
          -1.0559302345773947,
          0.18354579636522608,
          0.4299599738630787,
          0.4715327089955329,
          0.22433403322092066,
          -0.1701929738564229,
          0.014445856319818946,
          2.330175451886577,
          -0.21609523736867256,
          -0.5204245761177559,
          1.2082347022559903,
          -1.9195601523736994,
          1.3945880077314747,
          1.3081201387075758,
          1.2234110953628672,
          -0.6835661797158156,
          0.0665570043084234,
          1.0391744555533386,
          -0.3358626496463016,
          -2.185520038306416,
          0.9697458944052152,
          -0.8256122474871528,
          -2.4315010329769726,
          1.0364397277397897,
          -1.0601026987022133,
          0.47461708144820974,
          -0.07149729774693611,
          -0.03623067332832536,
          -0.7925689358905943,
          0.05446988307968215,
          -1.1232572898508344,
          0.1025333397910067,
          0.9380580646398775,
          -0.5008529310749313,
          0.22070963370902066,
          -0.17260854167125553,
          0.14513281589032356,
          1.0009115797078916,
          1.0767085963140584,
          1.8619219678301797,
          0.6927059967250869,
          1.5260330868510448,
          -0.7159896247720254,
          -0.05972059734144692,
          -0.034738381460860064,
          0.769509319574557,
          0.09664500047496385,
          0.17691284017859255,
          0.2913380396549778,
          3.2442405594833392,
          0.09229706541266704,
          -0.03546257696022987,
          -0.34938427700628666,
          0.6033569176275102,
          1.2475798627255554,
          0.5001313031532152,
          1.9895642597593513,
          -0.33807292400636046,
          -0.5605564204639819,
          0.6281556155426765,
          -0.7184976978868656,
          -0.650976788040386,
          2.0877308714443354,
          -0.9259708427825195,
          0.04333748186656094,
          0.01199626365732882,
          -1.6807498936986958,
          -1.2465891925629309,
          -0.32007399184732765,
          0.308979007976214,
          1.0172825217514485,
          1.5472109178965658,
          -0.01970792241666245,
          -0.15925885259453754,
          0.5227382852124725,
          1.1706056583762108,
          0.9581916124363626,
          -0.7522895783907171,
          -0.11208433456448406,
          -0.9643018419154822,
          -0.718757066862075,
          -0.8660784391536188,
          0.7486710459601194,
          -0.6770755304839471,
          -0.0398451971157505,
          1.7658834584065866
         ],
         "xaxis": "x3",
         "y": [
          -1.2376533429297487,
          0.5210312381862134,
          -1.0251899876913395,
          0.45381839892015724,
          2.5579020873643423,
          -2.311096877009032,
          1.0848519410157036,
          0.14420890327050329,
          0.8761771802727409,
          -0.5599756647759724,
          0.8404008962563776,
          0.9360487734843175,
          -1.2159463914906068,
          0.4323468127108094,
          1.4875276747986366,
          -1.8104483053725908,
          0.7422040304205689,
          2.2293211252216603,
          0.15632546876214123,
          0.4081041805918467,
          0.024748436909957674,
          -0.727628179660839,
          -0.3139827530211364,
          1.7415908205376824,
          1.113900769384104,
          -1.7478092023943117,
          0.8140754057060445,
          1.1184203301949367,
          0.11643679130544002,
          0.2413981464536677,
          -1.8981945923166192,
          0.7814782558065474,
          0.12346431470248988,
          -0.5888166641853814,
          0.5638242182369565,
          -0.04966892567279881,
          -0.8730779045718278,
          0.9937635926043222,
          -0.3111311960754491,
          -1.2704479991052302,
          0.6145906380641518,
          -2.1080663744544688,
          1.162745468298509,
          -0.40269202904722307,
          0.9816818315776701,
          1.2766727602932417,
          -1.1441699855454301,
          -1.4095882123449281,
          1.3445230473814531,
          0.983685841697918,
          -0.4764813243223706,
          0.34186207479032177,
          -1.3617951618631923,
          -0.5731448087586377,
          1.6229372931953945,
          -1.8760222194164973,
          0.2696419215276941,
          1.4759084603076527,
          1.2932437655688576,
          0.14905939922683087,
          1.1274399726091413,
          1.6653660922881228,
          0.9404296495750097,
          1.1505947887788583,
          -1.7013903166322464,
          -0.3128888538704009,
          -2.143472785599862,
          -0.5117941385029973,
          0.9973449715984799,
          -1.28127634682668,
          0.5008584141197462,
          -0.3438551379470671,
          -1.496632229824434,
          -1.0196525699126524,
          1.788124743162996,
          -1.0822473860519988,
          0.9805588328233438,
          2.23743047144731,
          0.2129752042080661,
          0.6876725100251737,
          0.7340280290562036,
          -0.44115399131713307,
          -0.6322101548325217,
          0.8240049645002243,
          -0.0012853927734924836,
          0.44660590623353075,
          -0.3231659858707658,
          -0.33411455762785336,
          0.353841423946161,
          -0.022911915151177333,
          0.5704806182719827,
          1.9789498254742628,
          -1.1043229788804343,
          1.2443321962668799,
          0.4777611949867243,
          -0.7944342954051479,
          1.3535937388032435,
          -0.5031726594973573,
          -0.041696531493813985,
          0.9618825324128459
         ],
         "yaxis": "y3"
        },
        {
         "line": {
          "color": "rgba(128, 128, 128, 1.0)",
          "dash": "solid",
          "shape": "linear",
          "width": 1.3
         },
         "marker": {
          "size": 2,
          "symbol": "circle"
         },
         "mode": "markers",
         "name": "A",
         "text": "",
         "type": "scatter",
         "x": [
          -0.7465190246535679,
          -0.9842265335198428,
          0.6484868519849506,
          -0.2068290986541139,
          -0.5972146382065648,
          -0.42203985994775345,
          0.4182438022494924,
          -0.5844893364713745,
          0.4008201391216312,
          -1.2290324740235792,
          -0.7077799251950053,
          1.3546704683077024,
          -0.4542137398712673,
          0.9286537367805837,
          0.7204594214362593,
          -0.11513090931528802,
          1.785898681462176,
          0.5331285314346956,
          -0.9043265619163633,
          -0.1766455542300106,
          -0.17925503814217242,
          -1.6596633547722228,
          1.151024454588053,
          0.7778673687567496,
          -0.7758665090402018,
          0.42553540404672163,
          1.031283160673017,
          0.12935088267708061,
          0.44458929024512833,
          0.670611397231192,
          0.5018091289102423,
          -1.1522671786913117,
          1.2912795022490569,
          -0.3059485059018095,
          -0.26411571159650576,
          0.6636426362009814,
          1.2140670548216517,
          -0.07319754186549282,
          -0.9165789670899518,
          0.20593572269346777,
          -0.3700842824416982,
          -0.4360073333517405,
          1.2759262305516617,
          0.5377141215864761,
          -1.9530019130496559,
          0.6101031778018651,
          -0.352198519118916,
          -0.697576285979983,
          0.26770708925037157,
          1.2409937264220636,
          0.41258996970772266,
          0.13388343725704457,
          2.455249490594848,
          -0.7482717412451291,
          2.494950245753326,
          0.1240787234584336,
          -0.9643620517005349,
          -0.23815168028082584,
          -0.0775435767394758,
          1.0150283212803681,
          0.8206876352623158,
          -1.0894916682681155,
          0.15579283324393012,
          1.904954493351993,
          0.16824797197649377,
          -1.1832948156302867,
          -0.29249838944876794,
          0.8297143690850972,
          0.11096598579727883,
          0.06953128204261044,
          -0.023653735031282968,
          0.50616814038998,
          1.367504719973664,
          -0.38606360951124746,
          -1.0568525447619446,
          0.9544403682877086,
          -1.6497546741891913,
          1.7750201106488424,
          1.341970593068722,
          0.26076573393855995,
          0.30792210881631815,
          0.7994971461282097,
          -0.40058434870564696,
          0.4041167201647333,
          1.0017137870891137,
          0.07594057552376524,
          0.28385027272614305,
          0.3463476939117346,
          -0.2875052370385254,
          -0.9940447548383856,
          0.5148861206683616,
          0.20468896487394017,
          -0.08817635809947569,
          0.2896472737276851,
          0.011509376050969236,
          -0.3334735283356169,
          -1.0690549773155893,
          -0.6348985590538168,
          0.5815282458816182,
          -0.3538459049139967
         ],
         "xaxis": "x4",
         "y": [
          -1.2376533429297487,
          0.5210312381862134,
          -1.0251899876913395,
          0.45381839892015724,
          2.5579020873643423,
          -2.311096877009032,
          1.0848519410157036,
          0.14420890327050329,
          0.8761771802727409,
          -0.5599756647759724,
          0.8404008962563776,
          0.9360487734843175,
          -1.2159463914906068,
          0.4323468127108094,
          1.4875276747986366,
          -1.8104483053725908,
          0.7422040304205689,
          2.2293211252216603,
          0.15632546876214123,
          0.4081041805918467,
          0.024748436909957674,
          -0.727628179660839,
          -0.3139827530211364,
          1.7415908205376824,
          1.113900769384104,
          -1.7478092023943117,
          0.8140754057060445,
          1.1184203301949367,
          0.11643679130544002,
          0.2413981464536677,
          -1.8981945923166192,
          0.7814782558065474,
          0.12346431470248988,
          -0.5888166641853814,
          0.5638242182369565,
          -0.04966892567279881,
          -0.8730779045718278,
          0.9937635926043222,
          -0.3111311960754491,
          -1.2704479991052302,
          0.6145906380641518,
          -2.1080663744544688,
          1.162745468298509,
          -0.40269202904722307,
          0.9816818315776701,
          1.2766727602932417,
          -1.1441699855454301,
          -1.4095882123449281,
          1.3445230473814531,
          0.983685841697918,
          -0.4764813243223706,
          0.34186207479032177,
          -1.3617951618631923,
          -0.5731448087586377,
          1.6229372931953945,
          -1.8760222194164973,
          0.2696419215276941,
          1.4759084603076527,
          1.2932437655688576,
          0.14905939922683087,
          1.1274399726091413,
          1.6653660922881228,
          0.9404296495750097,
          1.1505947887788583,
          -1.7013903166322464,
          -0.3128888538704009,
          -2.143472785599862,
          -0.5117941385029973,
          0.9973449715984799,
          -1.28127634682668,
          0.5008584141197462,
          -0.3438551379470671,
          -1.496632229824434,
          -1.0196525699126524,
          1.788124743162996,
          -1.0822473860519988,
          0.9805588328233438,
          2.23743047144731,
          0.2129752042080661,
          0.6876725100251737,
          0.7340280290562036,
          -0.44115399131713307,
          -0.6322101548325217,
          0.8240049645002243,
          -0.0012853927734924836,
          0.44660590623353075,
          -0.3231659858707658,
          -0.33411455762785336,
          0.353841423946161,
          -0.022911915151177333,
          0.5704806182719827,
          1.9789498254742628,
          -1.1043229788804343,
          1.2443321962668799,
          0.4777611949867243,
          -0.7944342954051479,
          1.3535937388032435,
          -0.5031726594973573,
          -0.041696531493813985,
          0.9618825324128459
         ],
         "yaxis": "y4"
        },
        {
         "line": {
          "color": "rgba(128, 128, 128, 1.0)",
          "dash": "solid",
          "shape": "linear",
          "width": 1.3
         },
         "marker": {
          "size": 2,
          "symbol": "circle"
         },
         "mode": "markers",
         "name": "B",
         "text": "",
         "type": "scatter",
         "x": [
          -1.2376533429297487,
          0.5210312381862134,
          -1.0251899876913395,
          0.45381839892015724,
          2.5579020873643423,
          -2.311096877009032,
          1.0848519410157036,
          0.14420890327050329,
          0.8761771802727409,
          -0.5599756647759724,
          0.8404008962563776,
          0.9360487734843175,
          -1.2159463914906068,
          0.4323468127108094,
          1.4875276747986366,
          -1.8104483053725908,
          0.7422040304205689,
          2.2293211252216603,
          0.15632546876214123,
          0.4081041805918467,
          0.024748436909957674,
          -0.727628179660839,
          -0.3139827530211364,
          1.7415908205376824,
          1.113900769384104,
          -1.7478092023943117,
          0.8140754057060445,
          1.1184203301949367,
          0.11643679130544002,
          0.2413981464536677,
          -1.8981945923166192,
          0.7814782558065474,
          0.12346431470248988,
          -0.5888166641853814,
          0.5638242182369565,
          -0.04966892567279881,
          -0.8730779045718278,
          0.9937635926043222,
          -0.3111311960754491,
          -1.2704479991052302,
          0.6145906380641518,
          -2.1080663744544688,
          1.162745468298509,
          -0.40269202904722307,
          0.9816818315776701,
          1.2766727602932417,
          -1.1441699855454301,
          -1.4095882123449281,
          1.3445230473814531,
          0.983685841697918,
          -0.4764813243223706,
          0.34186207479032177,
          -1.3617951618631923,
          -0.5731448087586377,
          1.6229372931953945,
          -1.8760222194164973,
          0.2696419215276941,
          1.4759084603076527,
          1.2932437655688576,
          0.14905939922683087,
          1.1274399726091413,
          1.6653660922881228,
          0.9404296495750097,
          1.1505947887788583,
          -1.7013903166322464,
          -0.3128888538704009,
          -2.143472785599862,
          -0.5117941385029973,
          0.9973449715984799,
          -1.28127634682668,
          0.5008584141197462,
          -0.3438551379470671,
          -1.496632229824434,
          -1.0196525699126524,
          1.788124743162996,
          -1.0822473860519988,
          0.9805588328233438,
          2.23743047144731,
          0.2129752042080661,
          0.6876725100251737,
          0.7340280290562036,
          -0.44115399131713307,
          -0.6322101548325217,
          0.8240049645002243,
          -0.0012853927734924836,
          0.44660590623353075,
          -0.3231659858707658,
          -0.33411455762785336,
          0.353841423946161,
          -0.022911915151177333,
          0.5704806182719827,
          1.9789498254742628,
          -1.1043229788804343,
          1.2443321962668799,
          0.4777611949867243,
          -0.7944342954051479,
          1.3535937388032435,
          -0.5031726594973573,
          -0.041696531493813985,
          0.9618825324128459
         ],
         "xaxis": "x5",
         "y": [
          -0.5729984879969171,
          0.5909561009580857,
          -0.6479381979401543,
          0.5068431621784943,
          0.21022581680114724,
          -2.035720176553049,
          -0.48728930433915413,
          -0.5100542298446442,
          1.0746855013944174,
          -0.03425512643487298,
          -1.1034087514016049,
          -0.942789188319332,
          -0.09798209414877965,
          -0.75471906104679,
          0.5695846791296407,
          0.18144063049261203,
          0.6755433055426926,
          1.6908113005091172,
          -0.037085297150455485,
          0.5093238182228775,
          0.4309374328017403,
          1.0603891419114981,
          0.9600849278946542,
          0.41138880181158965,
          0.3542988098231076,
          0.3793117072240972,
          -0.32429385709622316,
          -0.3720488190049271,
          0.28700601889218225,
          -0.4814804689597724,
          0.32292724413314056,
          1.3750481693772498,
          0.375806837908601,
          1.0204153020741686,
          0.5372488436715573,
          0.1630362622470754,
          -0.37128401061293204,
          0.18189386623342524,
          1.5443816284277438,
          -0.5700477904708945,
          1.7413818905636158,
          -1.197416653079403,
          0.25236922063720735,
          -0.8937094378007724,
          2.7781482520757224,
          -0.08022663678328085,
          1.2403860792115906,
          -0.013828930370441302,
          -0.9348967567711488,
          -2.225144487840825,
          -1.2693652149536099,
          1.8614425597359745,
          0.2543178484847704,
          -0.9356797873206968,
          -1.823825627965515,
          -1.1714380378971925,
          -0.480426448575434,
          -0.20624266781744877,
          0.339482324534446,
          1.097677022740831,
          -0.5102593440109845,
          -0.20183972656712482,
          -0.8960494374584044,
          -0.5924532644882401,
          -0.646345965309449,
          1.4286394367280775,
          1.6501845360404976,
          0.511791608963945,
          0.4393596006137443,
          0.5725738313781439,
          -0.664265767438522,
          -0.44164130103306365,
          0.6372090453689565,
          -0.2589300158280436,
          1.0894350623522444,
          0.26421945331926805,
          -1.1179733849258793,
          0.7729424625201243,
          -0.6198532415959194,
          -0.17020060359782097,
          0.9341080928874868,
          0.24117249940352037,
          -0.7005627582569318,
          0.6582479238215062,
          -0.0716208850768693,
          1.5706154364823148,
          -0.6497956569183799,
          0.5423497355086795,
          0.9370286417621064,
          -0.7308532701982378,
          1.508055847158207,
          0.9936015984705164,
          -1.8260543146320227,
          0.4892420488884562,
          0.9043459424350315,
          0.8305425725610729,
          -1.2589823642833216,
          -0.7149533393533173,
          -1.806426117331394,
          -0.2447907667589656
         ],
         "yaxis": "y5"
        },
        {
         "histfunc": "count",
         "histnorm": "",
         "marker": {
          "color": "rgba(55, 128, 191, 1.0)",
          "line": {
           "color": "#4D5663",
           "width": 1.3
          }
         },
         "name": "B",
         "nbinsx": 10,
         "opacity": 0.8,
         "orientation": "v",
         "type": "histogram",
         "x": [
          -0.5729984879969171,
          0.5909561009580857,
          -0.6479381979401543,
          0.5068431621784943,
          0.21022581680114724,
          -2.035720176553049,
          -0.48728930433915413,
          -0.5100542298446442,
          1.0746855013944174,
          -0.03425512643487298,
          -1.1034087514016049,
          -0.942789188319332,
          -0.09798209414877965,
          -0.75471906104679,
          0.5695846791296407,
          0.18144063049261203,
          0.6755433055426926,
          1.6908113005091172,
          -0.037085297150455485,
          0.5093238182228775,
          0.4309374328017403,
          1.0603891419114981,
          0.9600849278946542,
          0.41138880181158965,
          0.3542988098231076,
          0.3793117072240972,
          -0.32429385709622316,
          -0.3720488190049271,
          0.28700601889218225,
          -0.4814804689597724,
          0.32292724413314056,
          1.3750481693772498,
          0.375806837908601,
          1.0204153020741686,
          0.5372488436715573,
          0.1630362622470754,
          -0.37128401061293204,
          0.18189386623342524,
          1.5443816284277438,
          -0.5700477904708945,
          1.7413818905636158,
          -1.197416653079403,
          0.25236922063720735,
          -0.8937094378007724,
          2.7781482520757224,
          -0.08022663678328085,
          1.2403860792115906,
          -0.013828930370441302,
          -0.9348967567711488,
          -2.225144487840825,
          -1.2693652149536099,
          1.8614425597359745,
          0.2543178484847704,
          -0.9356797873206968,
          -1.823825627965515,
          -1.1714380378971925,
          -0.480426448575434,
          -0.20624266781744877,
          0.339482324534446,
          1.097677022740831,
          -0.5102593440109845,
          -0.20183972656712482,
          -0.8960494374584044,
          -0.5924532644882401,
          -0.646345965309449,
          1.4286394367280775,
          1.6501845360404976,
          0.511791608963945,
          0.4393596006137443,
          0.5725738313781439,
          -0.664265767438522,
          -0.44164130103306365,
          0.6372090453689565,
          -0.2589300158280436,
          1.0894350623522444,
          0.26421945331926805,
          -1.1179733849258793,
          0.7729424625201243,
          -0.6198532415959194,
          -0.17020060359782097,
          0.9341080928874868,
          0.24117249940352037,
          -0.7005627582569318,
          0.6582479238215062,
          -0.0716208850768693,
          1.5706154364823148,
          -0.6497956569183799,
          0.5423497355086795,
          0.9370286417621064,
          -0.7308532701982378,
          1.508055847158207,
          0.9936015984705164,
          -1.8260543146320227,
          0.4892420488884562,
          0.9043459424350315,
          0.8305425725610729,
          -1.2589823642833216,
          -0.7149533393533173,
          -1.806426117331394,
          -0.2447907667589656
         ],
         "xaxis": "x6",
         "yaxis": "y6"
        },
        {
         "line": {
          "color": "rgba(128, 128, 128, 1.0)",
          "dash": "solid",
          "shape": "linear",
          "width": 1.3
         },
         "marker": {
          "size": 2,
          "symbol": "circle"
         },
         "mode": "markers",
         "name": "B",
         "text": "",
         "type": "scatter",
         "x": [
          1.4805592905566027,
          0.0066543752263027965,
          -1.3286028101500782,
          -2.3545755391924437,
          1.0310993600795264,
          1.032122832624549,
          -0.043810011026179915,
          0.9744256797617555,
          0.3456701049094342,
          0.8423521574656975,
          1.433220309184025,
          -0.8980879999871899,
          1.6147623452853943,
          0.21919544300404417,
          -1.0559302345773947,
          0.18354579636522608,
          0.4299599738630787,
          0.4715327089955329,
          0.22433403322092066,
          -0.1701929738564229,
          0.014445856319818946,
          2.330175451886577,
          -0.21609523736867256,
          -0.5204245761177559,
          1.2082347022559903,
          -1.9195601523736994,
          1.3945880077314747,
          1.3081201387075758,
          1.2234110953628672,
          -0.6835661797158156,
          0.0665570043084234,
          1.0391744555533386,
          -0.3358626496463016,
          -2.185520038306416,
          0.9697458944052152,
          -0.8256122474871528,
          -2.4315010329769726,
          1.0364397277397897,
          -1.0601026987022133,
          0.47461708144820974,
          -0.07149729774693611,
          -0.03623067332832536,
          -0.7925689358905943,
          0.05446988307968215,
          -1.1232572898508344,
          0.1025333397910067,
          0.9380580646398775,
          -0.5008529310749313,
          0.22070963370902066,
          -0.17260854167125553,
          0.14513281589032356,
          1.0009115797078916,
          1.0767085963140584,
          1.8619219678301797,
          0.6927059967250869,
          1.5260330868510448,
          -0.7159896247720254,
          -0.05972059734144692,
          -0.034738381460860064,
          0.769509319574557,
          0.09664500047496385,
          0.17691284017859255,
          0.2913380396549778,
          3.2442405594833392,
          0.09229706541266704,
          -0.03546257696022987,
          -0.34938427700628666,
          0.6033569176275102,
          1.2475798627255554,
          0.5001313031532152,
          1.9895642597593513,
          -0.33807292400636046,
          -0.5605564204639819,
          0.6281556155426765,
          -0.7184976978868656,
          -0.650976788040386,
          2.0877308714443354,
          -0.9259708427825195,
          0.04333748186656094,
          0.01199626365732882,
          -1.6807498936986958,
          -1.2465891925629309,
          -0.32007399184732765,
          0.308979007976214,
          1.0172825217514485,
          1.5472109178965658,
          -0.01970792241666245,
          -0.15925885259453754,
          0.5227382852124725,
          1.1706056583762108,
          0.9581916124363626,
          -0.7522895783907171,
          -0.11208433456448406,
          -0.9643018419154822,
          -0.718757066862075,
          -0.8660784391536188,
          0.7486710459601194,
          -0.6770755304839471,
          -0.0398451971157505,
          1.7658834584065866
         ],
         "xaxis": "x7",
         "y": [
          -0.5729984879969171,
          0.5909561009580857,
          -0.6479381979401543,
          0.5068431621784943,
          0.21022581680114724,
          -2.035720176553049,
          -0.48728930433915413,
          -0.5100542298446442,
          1.0746855013944174,
          -0.03425512643487298,
          -1.1034087514016049,
          -0.942789188319332,
          -0.09798209414877965,
          -0.75471906104679,
          0.5695846791296407,
          0.18144063049261203,
          0.6755433055426926,
          1.6908113005091172,
          -0.037085297150455485,
          0.5093238182228775,
          0.4309374328017403,
          1.0603891419114981,
          0.9600849278946542,
          0.41138880181158965,
          0.3542988098231076,
          0.3793117072240972,
          -0.32429385709622316,
          -0.3720488190049271,
          0.28700601889218225,
          -0.4814804689597724,
          0.32292724413314056,
          1.3750481693772498,
          0.375806837908601,
          1.0204153020741686,
          0.5372488436715573,
          0.1630362622470754,
          -0.37128401061293204,
          0.18189386623342524,
          1.5443816284277438,
          -0.5700477904708945,
          1.7413818905636158,
          -1.197416653079403,
          0.25236922063720735,
          -0.8937094378007724,
          2.7781482520757224,
          -0.08022663678328085,
          1.2403860792115906,
          -0.013828930370441302,
          -0.9348967567711488,
          -2.225144487840825,
          -1.2693652149536099,
          1.8614425597359745,
          0.2543178484847704,
          -0.9356797873206968,
          -1.823825627965515,
          -1.1714380378971925,
          -0.480426448575434,
          -0.20624266781744877,
          0.339482324534446,
          1.097677022740831,
          -0.5102593440109845,
          -0.20183972656712482,
          -0.8960494374584044,
          -0.5924532644882401,
          -0.646345965309449,
          1.4286394367280775,
          1.6501845360404976,
          0.511791608963945,
          0.4393596006137443,
          0.5725738313781439,
          -0.664265767438522,
          -0.44164130103306365,
          0.6372090453689565,
          -0.2589300158280436,
          1.0894350623522444,
          0.26421945331926805,
          -1.1179733849258793,
          0.7729424625201243,
          -0.6198532415959194,
          -0.17020060359782097,
          0.9341080928874868,
          0.24117249940352037,
          -0.7005627582569318,
          0.6582479238215062,
          -0.0716208850768693,
          1.5706154364823148,
          -0.6497956569183799,
          0.5423497355086795,
          0.9370286417621064,
          -0.7308532701982378,
          1.508055847158207,
          0.9936015984705164,
          -1.8260543146320227,
          0.4892420488884562,
          0.9043459424350315,
          0.8305425725610729,
          -1.2589823642833216,
          -0.7149533393533173,
          -1.806426117331394,
          -0.2447907667589656
         ],
         "yaxis": "y7"
        },
        {
         "line": {
          "color": "rgba(128, 128, 128, 1.0)",
          "dash": "solid",
          "shape": "linear",
          "width": 1.3
         },
         "marker": {
          "size": 2,
          "symbol": "circle"
         },
         "mode": "markers",
         "name": "B",
         "text": "",
         "type": "scatter",
         "x": [
          -0.7465190246535679,
          -0.9842265335198428,
          0.6484868519849506,
          -0.2068290986541139,
          -0.5972146382065648,
          -0.42203985994775345,
          0.4182438022494924,
          -0.5844893364713745,
          0.4008201391216312,
          -1.2290324740235792,
          -0.7077799251950053,
          1.3546704683077024,
          -0.4542137398712673,
          0.9286537367805837,
          0.7204594214362593,
          -0.11513090931528802,
          1.785898681462176,
          0.5331285314346956,
          -0.9043265619163633,
          -0.1766455542300106,
          -0.17925503814217242,
          -1.6596633547722228,
          1.151024454588053,
          0.7778673687567496,
          -0.7758665090402018,
          0.42553540404672163,
          1.031283160673017,
          0.12935088267708061,
          0.44458929024512833,
          0.670611397231192,
          0.5018091289102423,
          -1.1522671786913117,
          1.2912795022490569,
          -0.3059485059018095,
          -0.26411571159650576,
          0.6636426362009814,
          1.2140670548216517,
          -0.07319754186549282,
          -0.9165789670899518,
          0.20593572269346777,
          -0.3700842824416982,
          -0.4360073333517405,
          1.2759262305516617,
          0.5377141215864761,
          -1.9530019130496559,
          0.6101031778018651,
          -0.352198519118916,
          -0.697576285979983,
          0.26770708925037157,
          1.2409937264220636,
          0.41258996970772266,
          0.13388343725704457,
          2.455249490594848,
          -0.7482717412451291,
          2.494950245753326,
          0.1240787234584336,
          -0.9643620517005349,
          -0.23815168028082584,
          -0.0775435767394758,
          1.0150283212803681,
          0.8206876352623158,
          -1.0894916682681155,
          0.15579283324393012,
          1.904954493351993,
          0.16824797197649377,
          -1.1832948156302867,
          -0.29249838944876794,
          0.8297143690850972,
          0.11096598579727883,
          0.06953128204261044,
          -0.023653735031282968,
          0.50616814038998,
          1.367504719973664,
          -0.38606360951124746,
          -1.0568525447619446,
          0.9544403682877086,
          -1.6497546741891913,
          1.7750201106488424,
          1.341970593068722,
          0.26076573393855995,
          0.30792210881631815,
          0.7994971461282097,
          -0.40058434870564696,
          0.4041167201647333,
          1.0017137870891137,
          0.07594057552376524,
          0.28385027272614305,
          0.3463476939117346,
          -0.2875052370385254,
          -0.9940447548383856,
          0.5148861206683616,
          0.20468896487394017,
          -0.08817635809947569,
          0.2896472737276851,
          0.011509376050969236,
          -0.3334735283356169,
          -1.0690549773155893,
          -0.6348985590538168,
          0.5815282458816182,
          -0.3538459049139967
         ],
         "xaxis": "x8",
         "y": [
          -0.5729984879969171,
          0.5909561009580857,
          -0.6479381979401543,
          0.5068431621784943,
          0.21022581680114724,
          -2.035720176553049,
          -0.48728930433915413,
          -0.5100542298446442,
          1.0746855013944174,
          -0.03425512643487298,
          -1.1034087514016049,
          -0.942789188319332,
          -0.09798209414877965,
          -0.75471906104679,
          0.5695846791296407,
          0.18144063049261203,
          0.6755433055426926,
          1.6908113005091172,
          -0.037085297150455485,
          0.5093238182228775,
          0.4309374328017403,
          1.0603891419114981,
          0.9600849278946542,
          0.41138880181158965,
          0.3542988098231076,
          0.3793117072240972,
          -0.32429385709622316,
          -0.3720488190049271,
          0.28700601889218225,
          -0.4814804689597724,
          0.32292724413314056,
          1.3750481693772498,
          0.375806837908601,
          1.0204153020741686,
          0.5372488436715573,
          0.1630362622470754,
          -0.37128401061293204,
          0.18189386623342524,
          1.5443816284277438,
          -0.5700477904708945,
          1.7413818905636158,
          -1.197416653079403,
          0.25236922063720735,
          -0.8937094378007724,
          2.7781482520757224,
          -0.08022663678328085,
          1.2403860792115906,
          -0.013828930370441302,
          -0.9348967567711488,
          -2.225144487840825,
          -1.2693652149536099,
          1.8614425597359745,
          0.2543178484847704,
          -0.9356797873206968,
          -1.823825627965515,
          -1.1714380378971925,
          -0.480426448575434,
          -0.20624266781744877,
          0.339482324534446,
          1.097677022740831,
          -0.5102593440109845,
          -0.20183972656712482,
          -0.8960494374584044,
          -0.5924532644882401,
          -0.646345965309449,
          1.4286394367280775,
          1.6501845360404976,
          0.511791608963945,
          0.4393596006137443,
          0.5725738313781439,
          -0.664265767438522,
          -0.44164130103306365,
          0.6372090453689565,
          -0.2589300158280436,
          1.0894350623522444,
          0.26421945331926805,
          -1.1179733849258793,
          0.7729424625201243,
          -0.6198532415959194,
          -0.17020060359782097,
          0.9341080928874868,
          0.24117249940352037,
          -0.7005627582569318,
          0.6582479238215062,
          -0.0716208850768693,
          1.5706154364823148,
          -0.6497956569183799,
          0.5423497355086795,
          0.9370286417621064,
          -0.7308532701982378,
          1.508055847158207,
          0.9936015984705164,
          -1.8260543146320227,
          0.4892420488884562,
          0.9043459424350315,
          0.8305425725610729,
          -1.2589823642833216,
          -0.7149533393533173,
          -1.806426117331394,
          -0.2447907667589656
         ],
         "yaxis": "y8"
        },
        {
         "line": {
          "color": "rgba(128, 128, 128, 1.0)",
          "dash": "solid",
          "shape": "linear",
          "width": 1.3
         },
         "marker": {
          "size": 2,
          "symbol": "circle"
         },
         "mode": "markers",
         "name": "C",
         "text": "",
         "type": "scatter",
         "x": [
          -1.2376533429297487,
          0.5210312381862134,
          -1.0251899876913395,
          0.45381839892015724,
          2.5579020873643423,
          -2.311096877009032,
          1.0848519410157036,
          0.14420890327050329,
          0.8761771802727409,
          -0.5599756647759724,
          0.8404008962563776,
          0.9360487734843175,
          -1.2159463914906068,
          0.4323468127108094,
          1.4875276747986366,
          -1.8104483053725908,
          0.7422040304205689,
          2.2293211252216603,
          0.15632546876214123,
          0.4081041805918467,
          0.024748436909957674,
          -0.727628179660839,
          -0.3139827530211364,
          1.7415908205376824,
          1.113900769384104,
          -1.7478092023943117,
          0.8140754057060445,
          1.1184203301949367,
          0.11643679130544002,
          0.2413981464536677,
          -1.8981945923166192,
          0.7814782558065474,
          0.12346431470248988,
          -0.5888166641853814,
          0.5638242182369565,
          -0.04966892567279881,
          -0.8730779045718278,
          0.9937635926043222,
          -0.3111311960754491,
          -1.2704479991052302,
          0.6145906380641518,
          -2.1080663744544688,
          1.162745468298509,
          -0.40269202904722307,
          0.9816818315776701,
          1.2766727602932417,
          -1.1441699855454301,
          -1.4095882123449281,
          1.3445230473814531,
          0.983685841697918,
          -0.4764813243223706,
          0.34186207479032177,
          -1.3617951618631923,
          -0.5731448087586377,
          1.6229372931953945,
          -1.8760222194164973,
          0.2696419215276941,
          1.4759084603076527,
          1.2932437655688576,
          0.14905939922683087,
          1.1274399726091413,
          1.6653660922881228,
          0.9404296495750097,
          1.1505947887788583,
          -1.7013903166322464,
          -0.3128888538704009,
          -2.143472785599862,
          -0.5117941385029973,
          0.9973449715984799,
          -1.28127634682668,
          0.5008584141197462,
          -0.3438551379470671,
          -1.496632229824434,
          -1.0196525699126524,
          1.788124743162996,
          -1.0822473860519988,
          0.9805588328233438,
          2.23743047144731,
          0.2129752042080661,
          0.6876725100251737,
          0.7340280290562036,
          -0.44115399131713307,
          -0.6322101548325217,
          0.8240049645002243,
          -0.0012853927734924836,
          0.44660590623353075,
          -0.3231659858707658,
          -0.33411455762785336,
          0.353841423946161,
          -0.022911915151177333,
          0.5704806182719827,
          1.9789498254742628,
          -1.1043229788804343,
          1.2443321962668799,
          0.4777611949867243,
          -0.7944342954051479,
          1.3535937388032435,
          -0.5031726594973573,
          -0.041696531493813985,
          0.9618825324128459
         ],
         "xaxis": "x9",
         "y": [
          1.4805592905566027,
          0.0066543752263027965,
          -1.3286028101500782,
          -2.3545755391924437,
          1.0310993600795264,
          1.032122832624549,
          -0.043810011026179915,
          0.9744256797617555,
          0.3456701049094342,
          0.8423521574656975,
          1.433220309184025,
          -0.8980879999871899,
          1.6147623452853943,
          0.21919544300404417,
          -1.0559302345773947,
          0.18354579636522608,
          0.4299599738630787,
          0.4715327089955329,
          0.22433403322092066,
          -0.1701929738564229,
          0.014445856319818946,
          2.330175451886577,
          -0.21609523736867256,
          -0.5204245761177559,
          1.2082347022559903,
          -1.9195601523736994,
          1.3945880077314747,
          1.3081201387075758,
          1.2234110953628672,
          -0.6835661797158156,
          0.0665570043084234,
          1.0391744555533386,
          -0.3358626496463016,
          -2.185520038306416,
          0.9697458944052152,
          -0.8256122474871528,
          -2.4315010329769726,
          1.0364397277397897,
          -1.0601026987022133,
          0.47461708144820974,
          -0.07149729774693611,
          -0.03623067332832536,
          -0.7925689358905943,
          0.05446988307968215,
          -1.1232572898508344,
          0.1025333397910067,
          0.9380580646398775,
          -0.5008529310749313,
          0.22070963370902066,
          -0.17260854167125553,
          0.14513281589032356,
          1.0009115797078916,
          1.0767085963140584,
          1.8619219678301797,
          0.6927059967250869,
          1.5260330868510448,
          -0.7159896247720254,
          -0.05972059734144692,
          -0.034738381460860064,
          0.769509319574557,
          0.09664500047496385,
          0.17691284017859255,
          0.2913380396549778,
          3.2442405594833392,
          0.09229706541266704,
          -0.03546257696022987,
          -0.34938427700628666,
          0.6033569176275102,
          1.2475798627255554,
          0.5001313031532152,
          1.9895642597593513,
          -0.33807292400636046,
          -0.5605564204639819,
          0.6281556155426765,
          -0.7184976978868656,
          -0.650976788040386,
          2.0877308714443354,
          -0.9259708427825195,
          0.04333748186656094,
          0.01199626365732882,
          -1.6807498936986958,
          -1.2465891925629309,
          -0.32007399184732765,
          0.308979007976214,
          1.0172825217514485,
          1.5472109178965658,
          -0.01970792241666245,
          -0.15925885259453754,
          0.5227382852124725,
          1.1706056583762108,
          0.9581916124363626,
          -0.7522895783907171,
          -0.11208433456448406,
          -0.9643018419154822,
          -0.718757066862075,
          -0.8660784391536188,
          0.7486710459601194,
          -0.6770755304839471,
          -0.0398451971157505,
          1.7658834584065866
         ],
         "yaxis": "y9"
        },
        {
         "line": {
          "color": "rgba(128, 128, 128, 1.0)",
          "dash": "solid",
          "shape": "linear",
          "width": 1.3
         },
         "marker": {
          "size": 2,
          "symbol": "circle"
         },
         "mode": "markers",
         "name": "C",
         "text": "",
         "type": "scatter",
         "x": [
          -0.5729984879969171,
          0.5909561009580857,
          -0.6479381979401543,
          0.5068431621784943,
          0.21022581680114724,
          -2.035720176553049,
          -0.48728930433915413,
          -0.5100542298446442,
          1.0746855013944174,
          -0.03425512643487298,
          -1.1034087514016049,
          -0.942789188319332,
          -0.09798209414877965,
          -0.75471906104679,
          0.5695846791296407,
          0.18144063049261203,
          0.6755433055426926,
          1.6908113005091172,
          -0.037085297150455485,
          0.5093238182228775,
          0.4309374328017403,
          1.0603891419114981,
          0.9600849278946542,
          0.41138880181158965,
          0.3542988098231076,
          0.3793117072240972,
          -0.32429385709622316,
          -0.3720488190049271,
          0.28700601889218225,
          -0.4814804689597724,
          0.32292724413314056,
          1.3750481693772498,
          0.375806837908601,
          1.0204153020741686,
          0.5372488436715573,
          0.1630362622470754,
          -0.37128401061293204,
          0.18189386623342524,
          1.5443816284277438,
          -0.5700477904708945,
          1.7413818905636158,
          -1.197416653079403,
          0.25236922063720735,
          -0.8937094378007724,
          2.7781482520757224,
          -0.08022663678328085,
          1.2403860792115906,
          -0.013828930370441302,
          -0.9348967567711488,
          -2.225144487840825,
          -1.2693652149536099,
          1.8614425597359745,
          0.2543178484847704,
          -0.9356797873206968,
          -1.823825627965515,
          -1.1714380378971925,
          -0.480426448575434,
          -0.20624266781744877,
          0.339482324534446,
          1.097677022740831,
          -0.5102593440109845,
          -0.20183972656712482,
          -0.8960494374584044,
          -0.5924532644882401,
          -0.646345965309449,
          1.4286394367280775,
          1.6501845360404976,
          0.511791608963945,
          0.4393596006137443,
          0.5725738313781439,
          -0.664265767438522,
          -0.44164130103306365,
          0.6372090453689565,
          -0.2589300158280436,
          1.0894350623522444,
          0.26421945331926805,
          -1.1179733849258793,
          0.7729424625201243,
          -0.6198532415959194,
          -0.17020060359782097,
          0.9341080928874868,
          0.24117249940352037,
          -0.7005627582569318,
          0.6582479238215062,
          -0.0716208850768693,
          1.5706154364823148,
          -0.6497956569183799,
          0.5423497355086795,
          0.9370286417621064,
          -0.7308532701982378,
          1.508055847158207,
          0.9936015984705164,
          -1.8260543146320227,
          0.4892420488884562,
          0.9043459424350315,
          0.8305425725610729,
          -1.2589823642833216,
          -0.7149533393533173,
          -1.806426117331394,
          -0.2447907667589656
         ],
         "xaxis": "x10",
         "y": [
          1.4805592905566027,
          0.0066543752263027965,
          -1.3286028101500782,
          -2.3545755391924437,
          1.0310993600795264,
          1.032122832624549,
          -0.043810011026179915,
          0.9744256797617555,
          0.3456701049094342,
          0.8423521574656975,
          1.433220309184025,
          -0.8980879999871899,
          1.6147623452853943,
          0.21919544300404417,
          -1.0559302345773947,
          0.18354579636522608,
          0.4299599738630787,
          0.4715327089955329,
          0.22433403322092066,
          -0.1701929738564229,
          0.014445856319818946,
          2.330175451886577,
          -0.21609523736867256,
          -0.5204245761177559,
          1.2082347022559903,
          -1.9195601523736994,
          1.3945880077314747,
          1.3081201387075758,
          1.2234110953628672,
          -0.6835661797158156,
          0.0665570043084234,
          1.0391744555533386,
          -0.3358626496463016,
          -2.185520038306416,
          0.9697458944052152,
          -0.8256122474871528,
          -2.4315010329769726,
          1.0364397277397897,
          -1.0601026987022133,
          0.47461708144820974,
          -0.07149729774693611,
          -0.03623067332832536,
          -0.7925689358905943,
          0.05446988307968215,
          -1.1232572898508344,
          0.1025333397910067,
          0.9380580646398775,
          -0.5008529310749313,
          0.22070963370902066,
          -0.17260854167125553,
          0.14513281589032356,
          1.0009115797078916,
          1.0767085963140584,
          1.8619219678301797,
          0.6927059967250869,
          1.5260330868510448,
          -0.7159896247720254,
          -0.05972059734144692,
          -0.034738381460860064,
          0.769509319574557,
          0.09664500047496385,
          0.17691284017859255,
          0.2913380396549778,
          3.2442405594833392,
          0.09229706541266704,
          -0.03546257696022987,
          -0.34938427700628666,
          0.6033569176275102,
          1.2475798627255554,
          0.5001313031532152,
          1.9895642597593513,
          -0.33807292400636046,
          -0.5605564204639819,
          0.6281556155426765,
          -0.7184976978868656,
          -0.650976788040386,
          2.0877308714443354,
          -0.9259708427825195,
          0.04333748186656094,
          0.01199626365732882,
          -1.6807498936986958,
          -1.2465891925629309,
          -0.32007399184732765,
          0.308979007976214,
          1.0172825217514485,
          1.5472109178965658,
          -0.01970792241666245,
          -0.15925885259453754,
          0.5227382852124725,
          1.1706056583762108,
          0.9581916124363626,
          -0.7522895783907171,
          -0.11208433456448406,
          -0.9643018419154822,
          -0.718757066862075,
          -0.8660784391536188,
          0.7486710459601194,
          -0.6770755304839471,
          -0.0398451971157505,
          1.7658834584065866
         ],
         "yaxis": "y10"
        },
        {
         "histfunc": "count",
         "histnorm": "",
         "marker": {
          "color": "rgba(50, 171, 96, 1.0)",
          "line": {
           "color": "#4D5663",
           "width": 1.3
          }
         },
         "name": "C",
         "nbinsx": 10,
         "opacity": 0.8,
         "orientation": "v",
         "type": "histogram",
         "x": [
          1.4805592905566027,
          0.0066543752263027965,
          -1.3286028101500782,
          -2.3545755391924437,
          1.0310993600795264,
          1.032122832624549,
          -0.043810011026179915,
          0.9744256797617555,
          0.3456701049094342,
          0.8423521574656975,
          1.433220309184025,
          -0.8980879999871899,
          1.6147623452853943,
          0.21919544300404417,
          -1.0559302345773947,
          0.18354579636522608,
          0.4299599738630787,
          0.4715327089955329,
          0.22433403322092066,
          -0.1701929738564229,
          0.014445856319818946,
          2.330175451886577,
          -0.21609523736867256,
          -0.5204245761177559,
          1.2082347022559903,
          -1.9195601523736994,
          1.3945880077314747,
          1.3081201387075758,
          1.2234110953628672,
          -0.6835661797158156,
          0.0665570043084234,
          1.0391744555533386,
          -0.3358626496463016,
          -2.185520038306416,
          0.9697458944052152,
          -0.8256122474871528,
          -2.4315010329769726,
          1.0364397277397897,
          -1.0601026987022133,
          0.47461708144820974,
          -0.07149729774693611,
          -0.03623067332832536,
          -0.7925689358905943,
          0.05446988307968215,
          -1.1232572898508344,
          0.1025333397910067,
          0.9380580646398775,
          -0.5008529310749313,
          0.22070963370902066,
          -0.17260854167125553,
          0.14513281589032356,
          1.0009115797078916,
          1.0767085963140584,
          1.8619219678301797,
          0.6927059967250869,
          1.5260330868510448,
          -0.7159896247720254,
          -0.05972059734144692,
          -0.034738381460860064,
          0.769509319574557,
          0.09664500047496385,
          0.17691284017859255,
          0.2913380396549778,
          3.2442405594833392,
          0.09229706541266704,
          -0.03546257696022987,
          -0.34938427700628666,
          0.6033569176275102,
          1.2475798627255554,
          0.5001313031532152,
          1.9895642597593513,
          -0.33807292400636046,
          -0.5605564204639819,
          0.6281556155426765,
          -0.7184976978868656,
          -0.650976788040386,
          2.0877308714443354,
          -0.9259708427825195,
          0.04333748186656094,
          0.01199626365732882,
          -1.6807498936986958,
          -1.2465891925629309,
          -0.32007399184732765,
          0.308979007976214,
          1.0172825217514485,
          1.5472109178965658,
          -0.01970792241666245,
          -0.15925885259453754,
          0.5227382852124725,
          1.1706056583762108,
          0.9581916124363626,
          -0.7522895783907171,
          -0.11208433456448406,
          -0.9643018419154822,
          -0.718757066862075,
          -0.8660784391536188,
          0.7486710459601194,
          -0.6770755304839471,
          -0.0398451971157505,
          1.7658834584065866
         ],
         "xaxis": "x11",
         "yaxis": "y11"
        },
        {
         "line": {
          "color": "rgba(128, 128, 128, 1.0)",
          "dash": "solid",
          "shape": "linear",
          "width": 1.3
         },
         "marker": {
          "size": 2,
          "symbol": "circle"
         },
         "mode": "markers",
         "name": "C",
         "text": "",
         "type": "scatter",
         "x": [
          -0.7465190246535679,
          -0.9842265335198428,
          0.6484868519849506,
          -0.2068290986541139,
          -0.5972146382065648,
          -0.42203985994775345,
          0.4182438022494924,
          -0.5844893364713745,
          0.4008201391216312,
          -1.2290324740235792,
          -0.7077799251950053,
          1.3546704683077024,
          -0.4542137398712673,
          0.9286537367805837,
          0.7204594214362593,
          -0.11513090931528802,
          1.785898681462176,
          0.5331285314346956,
          -0.9043265619163633,
          -0.1766455542300106,
          -0.17925503814217242,
          -1.6596633547722228,
          1.151024454588053,
          0.7778673687567496,
          -0.7758665090402018,
          0.42553540404672163,
          1.031283160673017,
          0.12935088267708061,
          0.44458929024512833,
          0.670611397231192,
          0.5018091289102423,
          -1.1522671786913117,
          1.2912795022490569,
          -0.3059485059018095,
          -0.26411571159650576,
          0.6636426362009814,
          1.2140670548216517,
          -0.07319754186549282,
          -0.9165789670899518,
          0.20593572269346777,
          -0.3700842824416982,
          -0.4360073333517405,
          1.2759262305516617,
          0.5377141215864761,
          -1.9530019130496559,
          0.6101031778018651,
          -0.352198519118916,
          -0.697576285979983,
          0.26770708925037157,
          1.2409937264220636,
          0.41258996970772266,
          0.13388343725704457,
          2.455249490594848,
          -0.7482717412451291,
          2.494950245753326,
          0.1240787234584336,
          -0.9643620517005349,
          -0.23815168028082584,
          -0.0775435767394758,
          1.0150283212803681,
          0.8206876352623158,
          -1.0894916682681155,
          0.15579283324393012,
          1.904954493351993,
          0.16824797197649377,
          -1.1832948156302867,
          -0.29249838944876794,
          0.8297143690850972,
          0.11096598579727883,
          0.06953128204261044,
          -0.023653735031282968,
          0.50616814038998,
          1.367504719973664,
          -0.38606360951124746,
          -1.0568525447619446,
          0.9544403682877086,
          -1.6497546741891913,
          1.7750201106488424,
          1.341970593068722,
          0.26076573393855995,
          0.30792210881631815,
          0.7994971461282097,
          -0.40058434870564696,
          0.4041167201647333,
          1.0017137870891137,
          0.07594057552376524,
          0.28385027272614305,
          0.3463476939117346,
          -0.2875052370385254,
          -0.9940447548383856,
          0.5148861206683616,
          0.20468896487394017,
          -0.08817635809947569,
          0.2896472737276851,
          0.011509376050969236,
          -0.3334735283356169,
          -1.0690549773155893,
          -0.6348985590538168,
          0.5815282458816182,
          -0.3538459049139967
         ],
         "xaxis": "x12",
         "y": [
          1.4805592905566027,
          0.0066543752263027965,
          -1.3286028101500782,
          -2.3545755391924437,
          1.0310993600795264,
          1.032122832624549,
          -0.043810011026179915,
          0.9744256797617555,
          0.3456701049094342,
          0.8423521574656975,
          1.433220309184025,
          -0.8980879999871899,
          1.6147623452853943,
          0.21919544300404417,
          -1.0559302345773947,
          0.18354579636522608,
          0.4299599738630787,
          0.4715327089955329,
          0.22433403322092066,
          -0.1701929738564229,
          0.014445856319818946,
          2.330175451886577,
          -0.21609523736867256,
          -0.5204245761177559,
          1.2082347022559903,
          -1.9195601523736994,
          1.3945880077314747,
          1.3081201387075758,
          1.2234110953628672,
          -0.6835661797158156,
          0.0665570043084234,
          1.0391744555533386,
          -0.3358626496463016,
          -2.185520038306416,
          0.9697458944052152,
          -0.8256122474871528,
          -2.4315010329769726,
          1.0364397277397897,
          -1.0601026987022133,
          0.47461708144820974,
          -0.07149729774693611,
          -0.03623067332832536,
          -0.7925689358905943,
          0.05446988307968215,
          -1.1232572898508344,
          0.1025333397910067,
          0.9380580646398775,
          -0.5008529310749313,
          0.22070963370902066,
          -0.17260854167125553,
          0.14513281589032356,
          1.0009115797078916,
          1.0767085963140584,
          1.8619219678301797,
          0.6927059967250869,
          1.5260330868510448,
          -0.7159896247720254,
          -0.05972059734144692,
          -0.034738381460860064,
          0.769509319574557,
          0.09664500047496385,
          0.17691284017859255,
          0.2913380396549778,
          3.2442405594833392,
          0.09229706541266704,
          -0.03546257696022987,
          -0.34938427700628666,
          0.6033569176275102,
          1.2475798627255554,
          0.5001313031532152,
          1.9895642597593513,
          -0.33807292400636046,
          -0.5605564204639819,
          0.6281556155426765,
          -0.7184976978868656,
          -0.650976788040386,
          2.0877308714443354,
          -0.9259708427825195,
          0.04333748186656094,
          0.01199626365732882,
          -1.6807498936986958,
          -1.2465891925629309,
          -0.32007399184732765,
          0.308979007976214,
          1.0172825217514485,
          1.5472109178965658,
          -0.01970792241666245,
          -0.15925885259453754,
          0.5227382852124725,
          1.1706056583762108,
          0.9581916124363626,
          -0.7522895783907171,
          -0.11208433456448406,
          -0.9643018419154822,
          -0.718757066862075,
          -0.8660784391536188,
          0.7486710459601194,
          -0.6770755304839471,
          -0.0398451971157505,
          1.7658834584065866
         ],
         "yaxis": "y12"
        },
        {
         "line": {
          "color": "rgba(128, 128, 128, 1.0)",
          "dash": "solid",
          "shape": "linear",
          "width": 1.3
         },
         "marker": {
          "size": 2,
          "symbol": "circle"
         },
         "mode": "markers",
         "name": "D",
         "text": "",
         "type": "scatter",
         "x": [
          -1.2376533429297487,
          0.5210312381862134,
          -1.0251899876913395,
          0.45381839892015724,
          2.5579020873643423,
          -2.311096877009032,
          1.0848519410157036,
          0.14420890327050329,
          0.8761771802727409,
          -0.5599756647759724,
          0.8404008962563776,
          0.9360487734843175,
          -1.2159463914906068,
          0.4323468127108094,
          1.4875276747986366,
          -1.8104483053725908,
          0.7422040304205689,
          2.2293211252216603,
          0.15632546876214123,
          0.4081041805918467,
          0.024748436909957674,
          -0.727628179660839,
          -0.3139827530211364,
          1.7415908205376824,
          1.113900769384104,
          -1.7478092023943117,
          0.8140754057060445,
          1.1184203301949367,
          0.11643679130544002,
          0.2413981464536677,
          -1.8981945923166192,
          0.7814782558065474,
          0.12346431470248988,
          -0.5888166641853814,
          0.5638242182369565,
          -0.04966892567279881,
          -0.8730779045718278,
          0.9937635926043222,
          -0.3111311960754491,
          -1.2704479991052302,
          0.6145906380641518,
          -2.1080663744544688,
          1.162745468298509,
          -0.40269202904722307,
          0.9816818315776701,
          1.2766727602932417,
          -1.1441699855454301,
          -1.4095882123449281,
          1.3445230473814531,
          0.983685841697918,
          -0.4764813243223706,
          0.34186207479032177,
          -1.3617951618631923,
          -0.5731448087586377,
          1.6229372931953945,
          -1.8760222194164973,
          0.2696419215276941,
          1.4759084603076527,
          1.2932437655688576,
          0.14905939922683087,
          1.1274399726091413,
          1.6653660922881228,
          0.9404296495750097,
          1.1505947887788583,
          -1.7013903166322464,
          -0.3128888538704009,
          -2.143472785599862,
          -0.5117941385029973,
          0.9973449715984799,
          -1.28127634682668,
          0.5008584141197462,
          -0.3438551379470671,
          -1.496632229824434,
          -1.0196525699126524,
          1.788124743162996,
          -1.0822473860519988,
          0.9805588328233438,
          2.23743047144731,
          0.2129752042080661,
          0.6876725100251737,
          0.7340280290562036,
          -0.44115399131713307,
          -0.6322101548325217,
          0.8240049645002243,
          -0.0012853927734924836,
          0.44660590623353075,
          -0.3231659858707658,
          -0.33411455762785336,
          0.353841423946161,
          -0.022911915151177333,
          0.5704806182719827,
          1.9789498254742628,
          -1.1043229788804343,
          1.2443321962668799,
          0.4777611949867243,
          -0.7944342954051479,
          1.3535937388032435,
          -0.5031726594973573,
          -0.041696531493813985,
          0.9618825324128459
         ],
         "xaxis": "x13",
         "y": [
          -0.7465190246535679,
          -0.9842265335198428,
          0.6484868519849506,
          -0.2068290986541139,
          -0.5972146382065648,
          -0.42203985994775345,
          0.4182438022494924,
          -0.5844893364713745,
          0.4008201391216312,
          -1.2290324740235792,
          -0.7077799251950053,
          1.3546704683077024,
          -0.4542137398712673,
          0.9286537367805837,
          0.7204594214362593,
          -0.11513090931528802,
          1.785898681462176,
          0.5331285314346956,
          -0.9043265619163633,
          -0.1766455542300106,
          -0.17925503814217242,
          -1.6596633547722228,
          1.151024454588053,
          0.7778673687567496,
          -0.7758665090402018,
          0.42553540404672163,
          1.031283160673017,
          0.12935088267708061,
          0.44458929024512833,
          0.670611397231192,
          0.5018091289102423,
          -1.1522671786913117,
          1.2912795022490569,
          -0.3059485059018095,
          -0.26411571159650576,
          0.6636426362009814,
          1.2140670548216517,
          -0.07319754186549282,
          -0.9165789670899518,
          0.20593572269346777,
          -0.3700842824416982,
          -0.4360073333517405,
          1.2759262305516617,
          0.5377141215864761,
          -1.9530019130496559,
          0.6101031778018651,
          -0.352198519118916,
          -0.697576285979983,
          0.26770708925037157,
          1.2409937264220636,
          0.41258996970772266,
          0.13388343725704457,
          2.455249490594848,
          -0.7482717412451291,
          2.494950245753326,
          0.1240787234584336,
          -0.9643620517005349,
          -0.23815168028082584,
          -0.0775435767394758,
          1.0150283212803681,
          0.8206876352623158,
          -1.0894916682681155,
          0.15579283324393012,
          1.904954493351993,
          0.16824797197649377,
          -1.1832948156302867,
          -0.29249838944876794,
          0.8297143690850972,
          0.11096598579727883,
          0.06953128204261044,
          -0.023653735031282968,
          0.50616814038998,
          1.367504719973664,
          -0.38606360951124746,
          -1.0568525447619446,
          0.9544403682877086,
          -1.6497546741891913,
          1.7750201106488424,
          1.341970593068722,
          0.26076573393855995,
          0.30792210881631815,
          0.7994971461282097,
          -0.40058434870564696,
          0.4041167201647333,
          1.0017137870891137,
          0.07594057552376524,
          0.28385027272614305,
          0.3463476939117346,
          -0.2875052370385254,
          -0.9940447548383856,
          0.5148861206683616,
          0.20468896487394017,
          -0.08817635809947569,
          0.2896472737276851,
          0.011509376050969236,
          -0.3334735283356169,
          -1.0690549773155893,
          -0.6348985590538168,
          0.5815282458816182,
          -0.3538459049139967
         ],
         "yaxis": "y13"
        },
        {
         "line": {
          "color": "rgba(128, 128, 128, 1.0)",
          "dash": "solid",
          "shape": "linear",
          "width": 1.3
         },
         "marker": {
          "size": 2,
          "symbol": "circle"
         },
         "mode": "markers",
         "name": "D",
         "text": "",
         "type": "scatter",
         "x": [
          -0.5729984879969171,
          0.5909561009580857,
          -0.6479381979401543,
          0.5068431621784943,
          0.21022581680114724,
          -2.035720176553049,
          -0.48728930433915413,
          -0.5100542298446442,
          1.0746855013944174,
          -0.03425512643487298,
          -1.1034087514016049,
          -0.942789188319332,
          -0.09798209414877965,
          -0.75471906104679,
          0.5695846791296407,
          0.18144063049261203,
          0.6755433055426926,
          1.6908113005091172,
          -0.037085297150455485,
          0.5093238182228775,
          0.4309374328017403,
          1.0603891419114981,
          0.9600849278946542,
          0.41138880181158965,
          0.3542988098231076,
          0.3793117072240972,
          -0.32429385709622316,
          -0.3720488190049271,
          0.28700601889218225,
          -0.4814804689597724,
          0.32292724413314056,
          1.3750481693772498,
          0.375806837908601,
          1.0204153020741686,
          0.5372488436715573,
          0.1630362622470754,
          -0.37128401061293204,
          0.18189386623342524,
          1.5443816284277438,
          -0.5700477904708945,
          1.7413818905636158,
          -1.197416653079403,
          0.25236922063720735,
          -0.8937094378007724,
          2.7781482520757224,
          -0.08022663678328085,
          1.2403860792115906,
          -0.013828930370441302,
          -0.9348967567711488,
          -2.225144487840825,
          -1.2693652149536099,
          1.8614425597359745,
          0.2543178484847704,
          -0.9356797873206968,
          -1.823825627965515,
          -1.1714380378971925,
          -0.480426448575434,
          -0.20624266781744877,
          0.339482324534446,
          1.097677022740831,
          -0.5102593440109845,
          -0.20183972656712482,
          -0.8960494374584044,
          -0.5924532644882401,
          -0.646345965309449,
          1.4286394367280775,
          1.6501845360404976,
          0.511791608963945,
          0.4393596006137443,
          0.5725738313781439,
          -0.664265767438522,
          -0.44164130103306365,
          0.6372090453689565,
          -0.2589300158280436,
          1.0894350623522444,
          0.26421945331926805,
          -1.1179733849258793,
          0.7729424625201243,
          -0.6198532415959194,
          -0.17020060359782097,
          0.9341080928874868,
          0.24117249940352037,
          -0.7005627582569318,
          0.6582479238215062,
          -0.0716208850768693,
          1.5706154364823148,
          -0.6497956569183799,
          0.5423497355086795,
          0.9370286417621064,
          -0.7308532701982378,
          1.508055847158207,
          0.9936015984705164,
          -1.8260543146320227,
          0.4892420488884562,
          0.9043459424350315,
          0.8305425725610729,
          -1.2589823642833216,
          -0.7149533393533173,
          -1.806426117331394,
          -0.2447907667589656
         ],
         "xaxis": "x14",
         "y": [
          -0.7465190246535679,
          -0.9842265335198428,
          0.6484868519849506,
          -0.2068290986541139,
          -0.5972146382065648,
          -0.42203985994775345,
          0.4182438022494924,
          -0.5844893364713745,
          0.4008201391216312,
          -1.2290324740235792,
          -0.7077799251950053,
          1.3546704683077024,
          -0.4542137398712673,
          0.9286537367805837,
          0.7204594214362593,
          -0.11513090931528802,
          1.785898681462176,
          0.5331285314346956,
          -0.9043265619163633,
          -0.1766455542300106,
          -0.17925503814217242,
          -1.6596633547722228,
          1.151024454588053,
          0.7778673687567496,
          -0.7758665090402018,
          0.42553540404672163,
          1.031283160673017,
          0.12935088267708061,
          0.44458929024512833,
          0.670611397231192,
          0.5018091289102423,
          -1.1522671786913117,
          1.2912795022490569,
          -0.3059485059018095,
          -0.26411571159650576,
          0.6636426362009814,
          1.2140670548216517,
          -0.07319754186549282,
          -0.9165789670899518,
          0.20593572269346777,
          -0.3700842824416982,
          -0.4360073333517405,
          1.2759262305516617,
          0.5377141215864761,
          -1.9530019130496559,
          0.6101031778018651,
          -0.352198519118916,
          -0.697576285979983,
          0.26770708925037157,
          1.2409937264220636,
          0.41258996970772266,
          0.13388343725704457,
          2.455249490594848,
          -0.7482717412451291,
          2.494950245753326,
          0.1240787234584336,
          -0.9643620517005349,
          -0.23815168028082584,
          -0.0775435767394758,
          1.0150283212803681,
          0.8206876352623158,
          -1.0894916682681155,
          0.15579283324393012,
          1.904954493351993,
          0.16824797197649377,
          -1.1832948156302867,
          -0.29249838944876794,
          0.8297143690850972,
          0.11096598579727883,
          0.06953128204261044,
          -0.023653735031282968,
          0.50616814038998,
          1.367504719973664,
          -0.38606360951124746,
          -1.0568525447619446,
          0.9544403682877086,
          -1.6497546741891913,
          1.7750201106488424,
          1.341970593068722,
          0.26076573393855995,
          0.30792210881631815,
          0.7994971461282097,
          -0.40058434870564696,
          0.4041167201647333,
          1.0017137870891137,
          0.07594057552376524,
          0.28385027272614305,
          0.3463476939117346,
          -0.2875052370385254,
          -0.9940447548383856,
          0.5148861206683616,
          0.20468896487394017,
          -0.08817635809947569,
          0.2896472737276851,
          0.011509376050969236,
          -0.3334735283356169,
          -1.0690549773155893,
          -0.6348985590538168,
          0.5815282458816182,
          -0.3538459049139967
         ],
         "yaxis": "y14"
        },
        {
         "line": {
          "color": "rgba(128, 128, 128, 1.0)",
          "dash": "solid",
          "shape": "linear",
          "width": 1.3
         },
         "marker": {
          "size": 2,
          "symbol": "circle"
         },
         "mode": "markers",
         "name": "D",
         "text": "",
         "type": "scatter",
         "x": [
          1.4805592905566027,
          0.0066543752263027965,
          -1.3286028101500782,
          -2.3545755391924437,
          1.0310993600795264,
          1.032122832624549,
          -0.043810011026179915,
          0.9744256797617555,
          0.3456701049094342,
          0.8423521574656975,
          1.433220309184025,
          -0.8980879999871899,
          1.6147623452853943,
          0.21919544300404417,
          -1.0559302345773947,
          0.18354579636522608,
          0.4299599738630787,
          0.4715327089955329,
          0.22433403322092066,
          -0.1701929738564229,
          0.014445856319818946,
          2.330175451886577,
          -0.21609523736867256,
          -0.5204245761177559,
          1.2082347022559903,
          -1.9195601523736994,
          1.3945880077314747,
          1.3081201387075758,
          1.2234110953628672,
          -0.6835661797158156,
          0.0665570043084234,
          1.0391744555533386,
          -0.3358626496463016,
          -2.185520038306416,
          0.9697458944052152,
          -0.8256122474871528,
          -2.4315010329769726,
          1.0364397277397897,
          -1.0601026987022133,
          0.47461708144820974,
          -0.07149729774693611,
          -0.03623067332832536,
          -0.7925689358905943,
          0.05446988307968215,
          -1.1232572898508344,
          0.1025333397910067,
          0.9380580646398775,
          -0.5008529310749313,
          0.22070963370902066,
          -0.17260854167125553,
          0.14513281589032356,
          1.0009115797078916,
          1.0767085963140584,
          1.8619219678301797,
          0.6927059967250869,
          1.5260330868510448,
          -0.7159896247720254,
          -0.05972059734144692,
          -0.034738381460860064,
          0.769509319574557,
          0.09664500047496385,
          0.17691284017859255,
          0.2913380396549778,
          3.2442405594833392,
          0.09229706541266704,
          -0.03546257696022987,
          -0.34938427700628666,
          0.6033569176275102,
          1.2475798627255554,
          0.5001313031532152,
          1.9895642597593513,
          -0.33807292400636046,
          -0.5605564204639819,
          0.6281556155426765,
          -0.7184976978868656,
          -0.650976788040386,
          2.0877308714443354,
          -0.9259708427825195,
          0.04333748186656094,
          0.01199626365732882,
          -1.6807498936986958,
          -1.2465891925629309,
          -0.32007399184732765,
          0.308979007976214,
          1.0172825217514485,
          1.5472109178965658,
          -0.01970792241666245,
          -0.15925885259453754,
          0.5227382852124725,
          1.1706056583762108,
          0.9581916124363626,
          -0.7522895783907171,
          -0.11208433456448406,
          -0.9643018419154822,
          -0.718757066862075,
          -0.8660784391536188,
          0.7486710459601194,
          -0.6770755304839471,
          -0.0398451971157505,
          1.7658834584065866
         ],
         "xaxis": "x15",
         "y": [
          -0.7465190246535679,
          -0.9842265335198428,
          0.6484868519849506,
          -0.2068290986541139,
          -0.5972146382065648,
          -0.42203985994775345,
          0.4182438022494924,
          -0.5844893364713745,
          0.4008201391216312,
          -1.2290324740235792,
          -0.7077799251950053,
          1.3546704683077024,
          -0.4542137398712673,
          0.9286537367805837,
          0.7204594214362593,
          -0.11513090931528802,
          1.785898681462176,
          0.5331285314346956,
          -0.9043265619163633,
          -0.1766455542300106,
          -0.17925503814217242,
          -1.6596633547722228,
          1.151024454588053,
          0.7778673687567496,
          -0.7758665090402018,
          0.42553540404672163,
          1.031283160673017,
          0.12935088267708061,
          0.44458929024512833,
          0.670611397231192,
          0.5018091289102423,
          -1.1522671786913117,
          1.2912795022490569,
          -0.3059485059018095,
          -0.26411571159650576,
          0.6636426362009814,
          1.2140670548216517,
          -0.07319754186549282,
          -0.9165789670899518,
          0.20593572269346777,
          -0.3700842824416982,
          -0.4360073333517405,
          1.2759262305516617,
          0.5377141215864761,
          -1.9530019130496559,
          0.6101031778018651,
          -0.352198519118916,
          -0.697576285979983,
          0.26770708925037157,
          1.2409937264220636,
          0.41258996970772266,
          0.13388343725704457,
          2.455249490594848,
          -0.7482717412451291,
          2.494950245753326,
          0.1240787234584336,
          -0.9643620517005349,
          -0.23815168028082584,
          -0.0775435767394758,
          1.0150283212803681,
          0.8206876352623158,
          -1.0894916682681155,
          0.15579283324393012,
          1.904954493351993,
          0.16824797197649377,
          -1.1832948156302867,
          -0.29249838944876794,
          0.8297143690850972,
          0.11096598579727883,
          0.06953128204261044,
          -0.023653735031282968,
          0.50616814038998,
          1.367504719973664,
          -0.38606360951124746,
          -1.0568525447619446,
          0.9544403682877086,
          -1.6497546741891913,
          1.7750201106488424,
          1.341970593068722,
          0.26076573393855995,
          0.30792210881631815,
          0.7994971461282097,
          -0.40058434870564696,
          0.4041167201647333,
          1.0017137870891137,
          0.07594057552376524,
          0.28385027272614305,
          0.3463476939117346,
          -0.2875052370385254,
          -0.9940447548383856,
          0.5148861206683616,
          0.20468896487394017,
          -0.08817635809947569,
          0.2896472737276851,
          0.011509376050969236,
          -0.3334735283356169,
          -1.0690549773155893,
          -0.6348985590538168,
          0.5815282458816182,
          -0.3538459049139967
         ],
         "yaxis": "y15"
        },
        {
         "histfunc": "count",
         "histnorm": "",
         "marker": {
          "color": "rgba(128, 0, 128, 1.0)",
          "line": {
           "color": "#4D5663",
           "width": 1.3
          }
         },
         "name": "D",
         "nbinsx": 10,
         "opacity": 0.8,
         "orientation": "v",
         "type": "histogram",
         "x": [
          -0.7465190246535679,
          -0.9842265335198428,
          0.6484868519849506,
          -0.2068290986541139,
          -0.5972146382065648,
          -0.42203985994775345,
          0.4182438022494924,
          -0.5844893364713745,
          0.4008201391216312,
          -1.2290324740235792,
          -0.7077799251950053,
          1.3546704683077024,
          -0.4542137398712673,
          0.9286537367805837,
          0.7204594214362593,
          -0.11513090931528802,
          1.785898681462176,
          0.5331285314346956,
          -0.9043265619163633,
          -0.1766455542300106,
          -0.17925503814217242,
          -1.6596633547722228,
          1.151024454588053,
          0.7778673687567496,
          -0.7758665090402018,
          0.42553540404672163,
          1.031283160673017,
          0.12935088267708061,
          0.44458929024512833,
          0.670611397231192,
          0.5018091289102423,
          -1.1522671786913117,
          1.2912795022490569,
          -0.3059485059018095,
          -0.26411571159650576,
          0.6636426362009814,
          1.2140670548216517,
          -0.07319754186549282,
          -0.9165789670899518,
          0.20593572269346777,
          -0.3700842824416982,
          -0.4360073333517405,
          1.2759262305516617,
          0.5377141215864761,
          -1.9530019130496559,
          0.6101031778018651,
          -0.352198519118916,
          -0.697576285979983,
          0.26770708925037157,
          1.2409937264220636,
          0.41258996970772266,
          0.13388343725704457,
          2.455249490594848,
          -0.7482717412451291,
          2.494950245753326,
          0.1240787234584336,
          -0.9643620517005349,
          -0.23815168028082584,
          -0.0775435767394758,
          1.0150283212803681,
          0.8206876352623158,
          -1.0894916682681155,
          0.15579283324393012,
          1.904954493351993,
          0.16824797197649377,
          -1.1832948156302867,
          -0.29249838944876794,
          0.8297143690850972,
          0.11096598579727883,
          0.06953128204261044,
          -0.023653735031282968,
          0.50616814038998,
          1.367504719973664,
          -0.38606360951124746,
          -1.0568525447619446,
          0.9544403682877086,
          -1.6497546741891913,
          1.7750201106488424,
          1.341970593068722,
          0.26076573393855995,
          0.30792210881631815,
          0.7994971461282097,
          -0.40058434870564696,
          0.4041167201647333,
          1.0017137870891137,
          0.07594057552376524,
          0.28385027272614305,
          0.3463476939117346,
          -0.2875052370385254,
          -0.9940447548383856,
          0.5148861206683616,
          0.20468896487394017,
          -0.08817635809947569,
          0.2896472737276851,
          0.011509376050969236,
          -0.3334735283356169,
          -1.0690549773155893,
          -0.6348985590538168,
          0.5815282458816182,
          -0.3538459049139967
         ],
         "xaxis": "x16",
         "yaxis": "y16"
        }
       ],
       "layout": {
        "bargap": 0.02,
        "legend": {
         "bgcolor": "#F5F6F9",
         "font": {
          "color": "#4D5663"
         }
        },
        "paper_bgcolor": "#F5F6F9",
        "plot_bgcolor": "#F5F6F9",
        "showlegend": false,
        "template": {
         "data": {
          "bar": [
           {
            "error_x": {
             "color": "#2a3f5f"
            },
            "error_y": {
             "color": "#2a3f5f"
            },
            "marker": {
             "line": {
              "color": "#E5ECF6",
              "width": 0.5
             }
            },
            "type": "bar"
           }
          ],
          "barpolar": [
           {
            "marker": {
             "line": {
              "color": "#E5ECF6",
              "width": 0.5
             }
            },
            "type": "barpolar"
           }
          ],
          "carpet": [
           {
            "aaxis": {
             "endlinecolor": "#2a3f5f",
             "gridcolor": "white",
             "linecolor": "white",
             "minorgridcolor": "white",
             "startlinecolor": "#2a3f5f"
            },
            "baxis": {
             "endlinecolor": "#2a3f5f",
             "gridcolor": "white",
             "linecolor": "white",
             "minorgridcolor": "white",
             "startlinecolor": "#2a3f5f"
            },
            "type": "carpet"
           }
          ],
          "choropleth": [
           {
            "colorbar": {
             "outlinewidth": 0,
             "ticks": ""
            },
            "type": "choropleth"
           }
          ],
          "contour": [
           {
            "colorbar": {
             "outlinewidth": 0,
             "ticks": ""
            },
            "colorscale": [
             [
              0,
              "#0d0887"
             ],
             [
              0.1111111111111111,
              "#46039f"
             ],
             [
              0.2222222222222222,
              "#7201a8"
             ],
             [
              0.3333333333333333,
              "#9c179e"
             ],
             [
              0.4444444444444444,
              "#bd3786"
             ],
             [
              0.5555555555555556,
              "#d8576b"
             ],
             [
              0.6666666666666666,
              "#ed7953"
             ],
             [
              0.7777777777777778,
              "#fb9f3a"
             ],
             [
              0.8888888888888888,
              "#fdca26"
             ],
             [
              1,
              "#f0f921"
             ]
            ],
            "type": "contour"
           }
          ],
          "contourcarpet": [
           {
            "colorbar": {
             "outlinewidth": 0,
             "ticks": ""
            },
            "type": "contourcarpet"
           }
          ],
          "heatmap": [
           {
            "colorbar": {
             "outlinewidth": 0,
             "ticks": ""
            },
            "colorscale": [
             [
              0,
              "#0d0887"
             ],
             [
              0.1111111111111111,
              "#46039f"
             ],
             [
              0.2222222222222222,
              "#7201a8"
             ],
             [
              0.3333333333333333,
              "#9c179e"
             ],
             [
              0.4444444444444444,
              "#bd3786"
             ],
             [
              0.5555555555555556,
              "#d8576b"
             ],
             [
              0.6666666666666666,
              "#ed7953"
             ],
             [
              0.7777777777777778,
              "#fb9f3a"
             ],
             [
              0.8888888888888888,
              "#fdca26"
             ],
             [
              1,
              "#f0f921"
             ]
            ],
            "type": "heatmap"
           }
          ],
          "heatmapgl": [
           {
            "colorbar": {
             "outlinewidth": 0,
             "ticks": ""
            },
            "colorscale": [
             [
              0,
              "#0d0887"
             ],
             [
              0.1111111111111111,
              "#46039f"
             ],
             [
              0.2222222222222222,
              "#7201a8"
             ],
             [
              0.3333333333333333,
              "#9c179e"
             ],
             [
              0.4444444444444444,
              "#bd3786"
             ],
             [
              0.5555555555555556,
              "#d8576b"
             ],
             [
              0.6666666666666666,
              "#ed7953"
             ],
             [
              0.7777777777777778,
              "#fb9f3a"
             ],
             [
              0.8888888888888888,
              "#fdca26"
             ],
             [
              1,
              "#f0f921"
             ]
            ],
            "type": "heatmapgl"
           }
          ],
          "histogram": [
           {
            "marker": {
             "colorbar": {
              "outlinewidth": 0,
              "ticks": ""
             }
            },
            "type": "histogram"
           }
          ],
          "histogram2d": [
           {
            "colorbar": {
             "outlinewidth": 0,
             "ticks": ""
            },
            "colorscale": [
             [
              0,
              "#0d0887"
             ],
             [
              0.1111111111111111,
              "#46039f"
             ],
             [
              0.2222222222222222,
              "#7201a8"
             ],
             [
              0.3333333333333333,
              "#9c179e"
             ],
             [
              0.4444444444444444,
              "#bd3786"
             ],
             [
              0.5555555555555556,
              "#d8576b"
             ],
             [
              0.6666666666666666,
              "#ed7953"
             ],
             [
              0.7777777777777778,
              "#fb9f3a"
             ],
             [
              0.8888888888888888,
              "#fdca26"
             ],
             [
              1,
              "#f0f921"
             ]
            ],
            "type": "histogram2d"
           }
          ],
          "histogram2dcontour": [
           {
            "colorbar": {
             "outlinewidth": 0,
             "ticks": ""
            },
            "colorscale": [
             [
              0,
              "#0d0887"
             ],
             [
              0.1111111111111111,
              "#46039f"
             ],
             [
              0.2222222222222222,
              "#7201a8"
             ],
             [
              0.3333333333333333,
              "#9c179e"
             ],
             [
              0.4444444444444444,
              "#bd3786"
             ],
             [
              0.5555555555555556,
              "#d8576b"
             ],
             [
              0.6666666666666666,
              "#ed7953"
             ],
             [
              0.7777777777777778,
              "#fb9f3a"
             ],
             [
              0.8888888888888888,
              "#fdca26"
             ],
             [
              1,
              "#f0f921"
             ]
            ],
            "type": "histogram2dcontour"
           }
          ],
          "mesh3d": [
           {
            "colorbar": {
             "outlinewidth": 0,
             "ticks": ""
            },
            "type": "mesh3d"
           }
          ],
          "parcoords": [
           {
            "line": {
             "colorbar": {
              "outlinewidth": 0,
              "ticks": ""
             }
            },
            "type": "parcoords"
           }
          ],
          "pie": [
           {
            "automargin": true,
            "type": "pie"
           }
          ],
          "scatter": [
           {
            "marker": {
             "colorbar": {
              "outlinewidth": 0,
              "ticks": ""
             }
            },
            "type": "scatter"
           }
          ],
          "scatter3d": [
           {
            "line": {
             "colorbar": {
              "outlinewidth": 0,
              "ticks": ""
             }
            },
            "marker": {
             "colorbar": {
              "outlinewidth": 0,
              "ticks": ""
             }
            },
            "type": "scatter3d"
           }
          ],
          "scattercarpet": [
           {
            "marker": {
             "colorbar": {
              "outlinewidth": 0,
              "ticks": ""
             }
            },
            "type": "scattercarpet"
           }
          ],
          "scattergeo": [
           {
            "marker": {
             "colorbar": {
              "outlinewidth": 0,
              "ticks": ""
             }
            },
            "type": "scattergeo"
           }
          ],
          "scattergl": [
           {
            "marker": {
             "colorbar": {
              "outlinewidth": 0,
              "ticks": ""
             }
            },
            "type": "scattergl"
           }
          ],
          "scattermapbox": [
           {
            "marker": {
             "colorbar": {
              "outlinewidth": 0,
              "ticks": ""
             }
            },
            "type": "scattermapbox"
           }
          ],
          "scatterpolar": [
           {
            "marker": {
             "colorbar": {
              "outlinewidth": 0,
              "ticks": ""
             }
            },
            "type": "scatterpolar"
           }
          ],
          "scatterpolargl": [
           {
            "marker": {
             "colorbar": {
              "outlinewidth": 0,
              "ticks": ""
             }
            },
            "type": "scatterpolargl"
           }
          ],
          "scatterternary": [
           {
            "marker": {
             "colorbar": {
              "outlinewidth": 0,
              "ticks": ""
             }
            },
            "type": "scatterternary"
           }
          ],
          "surface": [
           {
            "colorbar": {
             "outlinewidth": 0,
             "ticks": ""
            },
            "colorscale": [
             [
              0,
              "#0d0887"
             ],
             [
              0.1111111111111111,
              "#46039f"
             ],
             [
              0.2222222222222222,
              "#7201a8"
             ],
             [
              0.3333333333333333,
              "#9c179e"
             ],
             [
              0.4444444444444444,
              "#bd3786"
             ],
             [
              0.5555555555555556,
              "#d8576b"
             ],
             [
              0.6666666666666666,
              "#ed7953"
             ],
             [
              0.7777777777777778,
              "#fb9f3a"
             ],
             [
              0.8888888888888888,
              "#fdca26"
             ],
             [
              1,
              "#f0f921"
             ]
            ],
            "type": "surface"
           }
          ],
          "table": [
           {
            "cells": {
             "fill": {
              "color": "#EBF0F8"
             },
             "line": {
              "color": "white"
             }
            },
            "header": {
             "fill": {
              "color": "#C8D4E3"
             },
             "line": {
              "color": "white"
             }
            },
            "type": "table"
           }
          ]
         },
         "layout": {
          "annotationdefaults": {
           "arrowcolor": "#2a3f5f",
           "arrowhead": 0,
           "arrowwidth": 1
          },
          "autotypenumbers": "strict",
          "coloraxis": {
           "colorbar": {
            "outlinewidth": 0,
            "ticks": ""
           }
          },
          "colorscale": {
           "diverging": [
            [
             0,
             "#8e0152"
            ],
            [
             0.1,
             "#c51b7d"
            ],
            [
             0.2,
             "#de77ae"
            ],
            [
             0.3,
             "#f1b6da"
            ],
            [
             0.4,
             "#fde0ef"
            ],
            [
             0.5,
             "#f7f7f7"
            ],
            [
             0.6,
             "#e6f5d0"
            ],
            [
             0.7,
             "#b8e186"
            ],
            [
             0.8,
             "#7fbc41"
            ],
            [
             0.9,
             "#4d9221"
            ],
            [
             1,
             "#276419"
            ]
           ],
           "sequential": [
            [
             0,
             "#0d0887"
            ],
            [
             0.1111111111111111,
             "#46039f"
            ],
            [
             0.2222222222222222,
             "#7201a8"
            ],
            [
             0.3333333333333333,
             "#9c179e"
            ],
            [
             0.4444444444444444,
             "#bd3786"
            ],
            [
             0.5555555555555556,
             "#d8576b"
            ],
            [
             0.6666666666666666,
             "#ed7953"
            ],
            [
             0.7777777777777778,
             "#fb9f3a"
            ],
            [
             0.8888888888888888,
             "#fdca26"
            ],
            [
             1,
             "#f0f921"
            ]
           ],
           "sequentialminus": [
            [
             0,
             "#0d0887"
            ],
            [
             0.1111111111111111,
             "#46039f"
            ],
            [
             0.2222222222222222,
             "#7201a8"
            ],
            [
             0.3333333333333333,
             "#9c179e"
            ],
            [
             0.4444444444444444,
             "#bd3786"
            ],
            [
             0.5555555555555556,
             "#d8576b"
            ],
            [
             0.6666666666666666,
             "#ed7953"
            ],
            [
             0.7777777777777778,
             "#fb9f3a"
            ],
            [
             0.8888888888888888,
             "#fdca26"
            ],
            [
             1,
             "#f0f921"
            ]
           ]
          },
          "colorway": [
           "#636efa",
           "#EF553B",
           "#00cc96",
           "#ab63fa",
           "#FFA15A",
           "#19d3f3",
           "#FF6692",
           "#B6E880",
           "#FF97FF",
           "#FECB52"
          ],
          "font": {
           "color": "#2a3f5f"
          },
          "geo": {
           "bgcolor": "white",
           "lakecolor": "white",
           "landcolor": "#E5ECF6",
           "showlakes": true,
           "showland": true,
           "subunitcolor": "white"
          },
          "hoverlabel": {
           "align": "left"
          },
          "hovermode": "closest",
          "mapbox": {
           "style": "light"
          },
          "paper_bgcolor": "white",
          "plot_bgcolor": "#E5ECF6",
          "polar": {
           "angularaxis": {
            "gridcolor": "white",
            "linecolor": "white",
            "ticks": ""
           },
           "bgcolor": "#E5ECF6",
           "radialaxis": {
            "gridcolor": "white",
            "linecolor": "white",
            "ticks": ""
           }
          },
          "scene": {
           "xaxis": {
            "backgroundcolor": "#E5ECF6",
            "gridcolor": "white",
            "gridwidth": 2,
            "linecolor": "white",
            "showbackground": true,
            "ticks": "",
            "zerolinecolor": "white"
           },
           "yaxis": {
            "backgroundcolor": "#E5ECF6",
            "gridcolor": "white",
            "gridwidth": 2,
            "linecolor": "white",
            "showbackground": true,
            "ticks": "",
            "zerolinecolor": "white"
           },
           "zaxis": {
            "backgroundcolor": "#E5ECF6",
            "gridcolor": "white",
            "gridwidth": 2,
            "linecolor": "white",
            "showbackground": true,
            "ticks": "",
            "zerolinecolor": "white"
           }
          },
          "shapedefaults": {
           "line": {
            "color": "#2a3f5f"
           }
          },
          "ternary": {
           "aaxis": {
            "gridcolor": "white",
            "linecolor": "white",
            "ticks": ""
           },
           "baxis": {
            "gridcolor": "white",
            "linecolor": "white",
            "ticks": ""
           },
           "bgcolor": "#E5ECF6",
           "caxis": {
            "gridcolor": "white",
            "linecolor": "white",
            "ticks": ""
           }
          },
          "title": {
           "x": 0.05
          },
          "xaxis": {
           "automargin": true,
           "gridcolor": "white",
           "linecolor": "white",
           "ticks": "",
           "title": {
            "standoff": 15
           },
           "zerolinecolor": "white",
           "zerolinewidth": 2
          },
          "yaxis": {
           "automargin": true,
           "gridcolor": "white",
           "linecolor": "white",
           "ticks": "",
           "title": {
            "standoff": 15
           },
           "zerolinecolor": "white",
           "zerolinewidth": 2
          }
         }
        },
        "title": {
         "font": {
          "color": "#4D5663"
         }
        },
        "xaxis": {
         "anchor": "y",
         "domain": [
          0,
          0.2125
         ],
         "gridcolor": "#E1E5ED",
         "showgrid": false,
         "tickfont": {
          "color": "#4D5663"
         },
         "title": {
          "font": {
           "color": "#4D5663"
          },
          "text": ""
         },
         "zerolinecolor": "#E1E5ED"
        },
        "xaxis10": {
         "anchor": "y10",
         "domain": [
          0.2625,
          0.475
         ],
         "gridcolor": "#E1E5ED",
         "showgrid": false,
         "tickfont": {
          "color": "#4D5663"
         },
         "title": {
          "font": {
           "color": "#4D5663"
          },
          "text": ""
         },
         "zerolinecolor": "#E1E5ED"
        },
        "xaxis11": {
         "anchor": "y11",
         "domain": [
          0.525,
          0.7375
         ],
         "gridcolor": "#E1E5ED",
         "showgrid": false,
         "tickfont": {
          "color": "#4D5663"
         },
         "title": {
          "font": {
           "color": "#4D5663"
          },
          "text": ""
         },
         "zerolinecolor": "#E1E5ED"
        },
        "xaxis12": {
         "anchor": "y12",
         "domain": [
          0.7875,
          1
         ],
         "gridcolor": "#E1E5ED",
         "showgrid": false,
         "tickfont": {
          "color": "#4D5663"
         },
         "title": {
          "font": {
           "color": "#4D5663"
          },
          "text": ""
         },
         "zerolinecolor": "#E1E5ED"
        },
        "xaxis13": {
         "anchor": "y13",
         "domain": [
          0,
          0.2125
         ],
         "gridcolor": "#E1E5ED",
         "showgrid": false,
         "tickfont": {
          "color": "#4D5663"
         },
         "title": {
          "font": {
           "color": "#4D5663"
          },
          "text": ""
         },
         "zerolinecolor": "#E1E5ED"
        },
        "xaxis14": {
         "anchor": "y14",
         "domain": [
          0.2625,
          0.475
         ],
         "gridcolor": "#E1E5ED",
         "showgrid": false,
         "tickfont": {
          "color": "#4D5663"
         },
         "title": {
          "font": {
           "color": "#4D5663"
          },
          "text": ""
         },
         "zerolinecolor": "#E1E5ED"
        },
        "xaxis15": {
         "anchor": "y15",
         "domain": [
          0.525,
          0.7375
         ],
         "gridcolor": "#E1E5ED",
         "showgrid": false,
         "tickfont": {
          "color": "#4D5663"
         },
         "title": {
          "font": {
           "color": "#4D5663"
          },
          "text": ""
         },
         "zerolinecolor": "#E1E5ED"
        },
        "xaxis16": {
         "anchor": "y16",
         "domain": [
          0.7875,
          1
         ],
         "gridcolor": "#E1E5ED",
         "showgrid": false,
         "tickfont": {
          "color": "#4D5663"
         },
         "title": {
          "font": {
           "color": "#4D5663"
          },
          "text": ""
         },
         "zerolinecolor": "#E1E5ED"
        },
        "xaxis2": {
         "anchor": "y2",
         "domain": [
          0.2625,
          0.475
         ],
         "gridcolor": "#E1E5ED",
         "showgrid": false,
         "tickfont": {
          "color": "#4D5663"
         },
         "title": {
          "font": {
           "color": "#4D5663"
          },
          "text": ""
         },
         "zerolinecolor": "#E1E5ED"
        },
        "xaxis3": {
         "anchor": "y3",
         "domain": [
          0.525,
          0.7375
         ],
         "gridcolor": "#E1E5ED",
         "showgrid": false,
         "tickfont": {
          "color": "#4D5663"
         },
         "title": {
          "font": {
           "color": "#4D5663"
          },
          "text": ""
         },
         "zerolinecolor": "#E1E5ED"
        },
        "xaxis4": {
         "anchor": "y4",
         "domain": [
          0.7875,
          1
         ],
         "gridcolor": "#E1E5ED",
         "showgrid": false,
         "tickfont": {
          "color": "#4D5663"
         },
         "title": {
          "font": {
           "color": "#4D5663"
          },
          "text": ""
         },
         "zerolinecolor": "#E1E5ED"
        },
        "xaxis5": {
         "anchor": "y5",
         "domain": [
          0,
          0.2125
         ],
         "gridcolor": "#E1E5ED",
         "showgrid": false,
         "tickfont": {
          "color": "#4D5663"
         },
         "title": {
          "font": {
           "color": "#4D5663"
          },
          "text": ""
         },
         "zerolinecolor": "#E1E5ED"
        },
        "xaxis6": {
         "anchor": "y6",
         "domain": [
          0.2625,
          0.475
         ],
         "gridcolor": "#E1E5ED",
         "showgrid": false,
         "tickfont": {
          "color": "#4D5663"
         },
         "title": {
          "font": {
           "color": "#4D5663"
          },
          "text": ""
         },
         "zerolinecolor": "#E1E5ED"
        },
        "xaxis7": {
         "anchor": "y7",
         "domain": [
          0.525,
          0.7375
         ],
         "gridcolor": "#E1E5ED",
         "showgrid": false,
         "tickfont": {
          "color": "#4D5663"
         },
         "title": {
          "font": {
           "color": "#4D5663"
          },
          "text": ""
         },
         "zerolinecolor": "#E1E5ED"
        },
        "xaxis8": {
         "anchor": "y8",
         "domain": [
          0.7875,
          1
         ],
         "gridcolor": "#E1E5ED",
         "showgrid": false,
         "tickfont": {
          "color": "#4D5663"
         },
         "title": {
          "font": {
           "color": "#4D5663"
          },
          "text": ""
         },
         "zerolinecolor": "#E1E5ED"
        },
        "xaxis9": {
         "anchor": "y9",
         "domain": [
          0,
          0.2125
         ],
         "gridcolor": "#E1E5ED",
         "showgrid": false,
         "tickfont": {
          "color": "#4D5663"
         },
         "title": {
          "font": {
           "color": "#4D5663"
          },
          "text": ""
         },
         "zerolinecolor": "#E1E5ED"
        },
        "yaxis": {
         "anchor": "x",
         "domain": [
          0.8025,
          1
         ],
         "gridcolor": "#E1E5ED",
         "showgrid": false,
         "tickfont": {
          "color": "#4D5663"
         },
         "title": {
          "font": {
           "color": "#4D5663"
          },
          "text": ""
         },
         "zerolinecolor": "#E1E5ED"
        },
        "yaxis10": {
         "anchor": "x10",
         "domain": [
          0.2675,
          0.465
         ],
         "gridcolor": "#E1E5ED",
         "showgrid": false,
         "tickfont": {
          "color": "#4D5663"
         },
         "title": {
          "font": {
           "color": "#4D5663"
          },
          "text": ""
         },
         "zerolinecolor": "#E1E5ED"
        },
        "yaxis11": {
         "anchor": "x11",
         "domain": [
          0.2675,
          0.465
         ],
         "gridcolor": "#E1E5ED",
         "showgrid": false,
         "tickfont": {
          "color": "#4D5663"
         },
         "title": {
          "font": {
           "color": "#4D5663"
          },
          "text": ""
         },
         "zerolinecolor": "#E1E5ED"
        },
        "yaxis12": {
         "anchor": "x12",
         "domain": [
          0.2675,
          0.465
         ],
         "gridcolor": "#E1E5ED",
         "showgrid": false,
         "tickfont": {
          "color": "#4D5663"
         },
         "title": {
          "font": {
           "color": "#4D5663"
          },
          "text": ""
         },
         "zerolinecolor": "#E1E5ED"
        },
        "yaxis13": {
         "anchor": "x13",
         "domain": [
          0,
          0.1975
         ],
         "gridcolor": "#E1E5ED",
         "showgrid": false,
         "tickfont": {
          "color": "#4D5663"
         },
         "title": {
          "font": {
           "color": "#4D5663"
          },
          "text": ""
         },
         "zerolinecolor": "#E1E5ED"
        },
        "yaxis14": {
         "anchor": "x14",
         "domain": [
          0,
          0.1975
         ],
         "gridcolor": "#E1E5ED",
         "showgrid": false,
         "tickfont": {
          "color": "#4D5663"
         },
         "title": {
          "font": {
           "color": "#4D5663"
          },
          "text": ""
         },
         "zerolinecolor": "#E1E5ED"
        },
        "yaxis15": {
         "anchor": "x15",
         "domain": [
          0,
          0.1975
         ],
         "gridcolor": "#E1E5ED",
         "showgrid": false,
         "tickfont": {
          "color": "#4D5663"
         },
         "title": {
          "font": {
           "color": "#4D5663"
          },
          "text": ""
         },
         "zerolinecolor": "#E1E5ED"
        },
        "yaxis16": {
         "anchor": "x16",
         "domain": [
          0,
          0.1975
         ],
         "gridcolor": "#E1E5ED",
         "showgrid": false,
         "tickfont": {
          "color": "#4D5663"
         },
         "title": {
          "font": {
           "color": "#4D5663"
          },
          "text": ""
         },
         "zerolinecolor": "#E1E5ED"
        },
        "yaxis2": {
         "anchor": "x2",
         "domain": [
          0.8025,
          1
         ],
         "gridcolor": "#E1E5ED",
         "showgrid": false,
         "tickfont": {
          "color": "#4D5663"
         },
         "title": {
          "font": {
           "color": "#4D5663"
          },
          "text": ""
         },
         "zerolinecolor": "#E1E5ED"
        },
        "yaxis3": {
         "anchor": "x3",
         "domain": [
          0.8025,
          1
         ],
         "gridcolor": "#E1E5ED",
         "showgrid": false,
         "tickfont": {
          "color": "#4D5663"
         },
         "title": {
          "font": {
           "color": "#4D5663"
          },
          "text": ""
         },
         "zerolinecolor": "#E1E5ED"
        },
        "yaxis4": {
         "anchor": "x4",
         "domain": [
          0.8025,
          1
         ],
         "gridcolor": "#E1E5ED",
         "showgrid": false,
         "tickfont": {
          "color": "#4D5663"
         },
         "title": {
          "font": {
           "color": "#4D5663"
          },
          "text": ""
         },
         "zerolinecolor": "#E1E5ED"
        },
        "yaxis5": {
         "anchor": "x5",
         "domain": [
          0.535,
          0.7325
         ],
         "gridcolor": "#E1E5ED",
         "showgrid": false,
         "tickfont": {
          "color": "#4D5663"
         },
         "title": {
          "font": {
           "color": "#4D5663"
          },
          "text": ""
         },
         "zerolinecolor": "#E1E5ED"
        },
        "yaxis6": {
         "anchor": "x6",
         "domain": [
          0.535,
          0.7325
         ],
         "gridcolor": "#E1E5ED",
         "showgrid": false,
         "tickfont": {
          "color": "#4D5663"
         },
         "title": {
          "font": {
           "color": "#4D5663"
          },
          "text": ""
         },
         "zerolinecolor": "#E1E5ED"
        },
        "yaxis7": {
         "anchor": "x7",
         "domain": [
          0.535,
          0.7325
         ],
         "gridcolor": "#E1E5ED",
         "showgrid": false,
         "tickfont": {
          "color": "#4D5663"
         },
         "title": {
          "font": {
           "color": "#4D5663"
          },
          "text": ""
         },
         "zerolinecolor": "#E1E5ED"
        },
        "yaxis8": {
         "anchor": "x8",
         "domain": [
          0.535,
          0.7325
         ],
         "gridcolor": "#E1E5ED",
         "showgrid": false,
         "tickfont": {
          "color": "#4D5663"
         },
         "title": {
          "font": {
           "color": "#4D5663"
          },
          "text": ""
         },
         "zerolinecolor": "#E1E5ED"
        },
        "yaxis9": {
         "anchor": "x9",
         "domain": [
          0.2675,
          0.465
         ],
         "gridcolor": "#E1E5ED",
         "showgrid": false,
         "tickfont": {
          "color": "#4D5663"
         },
         "title": {
          "font": {
           "color": "#4D5663"
          },
          "text": ""
         },
         "zerolinecolor": "#E1E5ED"
        }
       }
      },
      "text/html": [
       "<div>                            <div id=\"cde195ce-c660-44a6-8cac-2f52ed72e0b6\" class=\"plotly-graph-div\" style=\"height:525px; width:100%;\"></div>            <script type=\"text/javascript\">                require([\"plotly\"], function(Plotly) {                    window.PLOTLYENV=window.PLOTLYENV || {};\n",
       "                    window.PLOTLYENV.BASE_URL='https://plot.ly';                                    if (document.getElementById(\"cde195ce-c660-44a6-8cac-2f52ed72e0b6\")) {                    Plotly.newPlot(                        \"cde195ce-c660-44a6-8cac-2f52ed72e0b6\",                        [{\"histfunc\": \"count\", \"histnorm\": \"\", \"marker\": {\"color\": \"rgba(255, 153, 51, 1.0)\", \"line\": {\"color\": \"#4D5663\", \"width\": 1.3}}, \"name\": \"A\", \"nbinsx\": 10, \"opacity\": 0.8, \"orientation\": \"v\", \"type\": \"histogram\", \"x\": [-1.2376533429297487, 0.5210312381862134, -1.0251899876913395, 0.45381839892015724, 2.5579020873643423, -2.311096877009032, 1.0848519410157036, 0.14420890327050329, 0.8761771802727409, -0.5599756647759724, 0.8404008962563776, 0.9360487734843175, -1.2159463914906068, 0.4323468127108094, 1.4875276747986366, -1.8104483053725908, 0.7422040304205689, 2.2293211252216603, 0.15632546876214123, 0.4081041805918467, 0.024748436909957674, -0.727628179660839, -0.3139827530211364, 1.7415908205376824, 1.113900769384104, -1.7478092023943117, 0.8140754057060445, 1.1184203301949367, 0.11643679130544002, 0.2413981464536677, -1.8981945923166192, 0.7814782558065474, 0.12346431470248988, -0.5888166641853814, 0.5638242182369565, -0.04966892567279881, -0.8730779045718278, 0.9937635926043222, -0.3111311960754491, -1.2704479991052302, 0.6145906380641518, -2.1080663744544688, 1.162745468298509, -0.40269202904722307, 0.9816818315776701, 1.2766727602932417, -1.1441699855454301, -1.4095882123449281, 1.3445230473814531, 0.983685841697918, -0.4764813243223706, 0.34186207479032177, -1.3617951618631923, -0.5731448087586377, 1.6229372931953945, -1.8760222194164973, 0.2696419215276941, 1.4759084603076527, 1.2932437655688576, 0.14905939922683087, 1.1274399726091413, 1.6653660922881228, 0.9404296495750097, 1.1505947887788583, -1.7013903166322464, -0.3128888538704009, -2.143472785599862, -0.5117941385029973, 0.9973449715984799, -1.28127634682668, 0.5008584141197462, -0.3438551379470671, -1.496632229824434, -1.0196525699126524, 1.788124743162996, -1.0822473860519988, 0.9805588328233438, 2.23743047144731, 0.2129752042080661, 0.6876725100251737, 0.7340280290562036, -0.44115399131713307, -0.6322101548325217, 0.8240049645002243, -0.0012853927734924836, 0.44660590623353075, -0.3231659858707658, -0.33411455762785336, 0.353841423946161, -0.022911915151177333, 0.5704806182719827, 1.9789498254742628, -1.1043229788804343, 1.2443321962668799, 0.4777611949867243, -0.7944342954051479, 1.3535937388032435, -0.5031726594973573, -0.041696531493813985, 0.9618825324128459], \"xaxis\": \"x\", \"yaxis\": \"y\"}, {\"line\": {\"color\": \"rgba(128, 128, 128, 1.0)\", \"dash\": \"solid\", \"shape\": \"linear\", \"width\": 1.3}, \"marker\": {\"size\": 2, \"symbol\": \"circle\"}, \"mode\": \"markers\", \"name\": \"A\", \"text\": \"\", \"type\": \"scatter\", \"x\": [-0.5729984879969171, 0.5909561009580857, -0.6479381979401543, 0.5068431621784943, 0.21022581680114724, -2.035720176553049, -0.48728930433915413, -0.5100542298446442, 1.0746855013944174, -0.03425512643487298, -1.1034087514016049, -0.942789188319332, -0.09798209414877965, -0.75471906104679, 0.5695846791296407, 0.18144063049261203, 0.6755433055426926, 1.6908113005091172, -0.037085297150455485, 0.5093238182228775, 0.4309374328017403, 1.0603891419114981, 0.9600849278946542, 0.41138880181158965, 0.3542988098231076, 0.3793117072240972, -0.32429385709622316, -0.3720488190049271, 0.28700601889218225, -0.4814804689597724, 0.32292724413314056, 1.3750481693772498, 0.375806837908601, 1.0204153020741686, 0.5372488436715573, 0.1630362622470754, -0.37128401061293204, 0.18189386623342524, 1.5443816284277438, -0.5700477904708945, 1.7413818905636158, -1.197416653079403, 0.25236922063720735, -0.8937094378007724, 2.7781482520757224, -0.08022663678328085, 1.2403860792115906, -0.013828930370441302, -0.9348967567711488, -2.225144487840825, -1.2693652149536099, 1.8614425597359745, 0.2543178484847704, -0.9356797873206968, -1.823825627965515, -1.1714380378971925, -0.480426448575434, -0.20624266781744877, 0.339482324534446, 1.097677022740831, -0.5102593440109845, -0.20183972656712482, -0.8960494374584044, -0.5924532644882401, -0.646345965309449, 1.4286394367280775, 1.6501845360404976, 0.511791608963945, 0.4393596006137443, 0.5725738313781439, -0.664265767438522, -0.44164130103306365, 0.6372090453689565, -0.2589300158280436, 1.0894350623522444, 0.26421945331926805, -1.1179733849258793, 0.7729424625201243, -0.6198532415959194, -0.17020060359782097, 0.9341080928874868, 0.24117249940352037, -0.7005627582569318, 0.6582479238215062, -0.0716208850768693, 1.5706154364823148, -0.6497956569183799, 0.5423497355086795, 0.9370286417621064, -0.7308532701982378, 1.508055847158207, 0.9936015984705164, -1.8260543146320227, 0.4892420488884562, 0.9043459424350315, 0.8305425725610729, -1.2589823642833216, -0.7149533393533173, -1.806426117331394, -0.2447907667589656], \"xaxis\": \"x2\", \"y\": [-1.2376533429297487, 0.5210312381862134, -1.0251899876913395, 0.45381839892015724, 2.5579020873643423, -2.311096877009032, 1.0848519410157036, 0.14420890327050329, 0.8761771802727409, -0.5599756647759724, 0.8404008962563776, 0.9360487734843175, -1.2159463914906068, 0.4323468127108094, 1.4875276747986366, -1.8104483053725908, 0.7422040304205689, 2.2293211252216603, 0.15632546876214123, 0.4081041805918467, 0.024748436909957674, -0.727628179660839, -0.3139827530211364, 1.7415908205376824, 1.113900769384104, -1.7478092023943117, 0.8140754057060445, 1.1184203301949367, 0.11643679130544002, 0.2413981464536677, -1.8981945923166192, 0.7814782558065474, 0.12346431470248988, -0.5888166641853814, 0.5638242182369565, -0.04966892567279881, -0.8730779045718278, 0.9937635926043222, -0.3111311960754491, -1.2704479991052302, 0.6145906380641518, -2.1080663744544688, 1.162745468298509, -0.40269202904722307, 0.9816818315776701, 1.2766727602932417, -1.1441699855454301, -1.4095882123449281, 1.3445230473814531, 0.983685841697918, -0.4764813243223706, 0.34186207479032177, -1.3617951618631923, -0.5731448087586377, 1.6229372931953945, -1.8760222194164973, 0.2696419215276941, 1.4759084603076527, 1.2932437655688576, 0.14905939922683087, 1.1274399726091413, 1.6653660922881228, 0.9404296495750097, 1.1505947887788583, -1.7013903166322464, -0.3128888538704009, -2.143472785599862, -0.5117941385029973, 0.9973449715984799, -1.28127634682668, 0.5008584141197462, -0.3438551379470671, -1.496632229824434, -1.0196525699126524, 1.788124743162996, -1.0822473860519988, 0.9805588328233438, 2.23743047144731, 0.2129752042080661, 0.6876725100251737, 0.7340280290562036, -0.44115399131713307, -0.6322101548325217, 0.8240049645002243, -0.0012853927734924836, 0.44660590623353075, -0.3231659858707658, -0.33411455762785336, 0.353841423946161, -0.022911915151177333, 0.5704806182719827, 1.9789498254742628, -1.1043229788804343, 1.2443321962668799, 0.4777611949867243, -0.7944342954051479, 1.3535937388032435, -0.5031726594973573, -0.041696531493813985, 0.9618825324128459], \"yaxis\": \"y2\"}, {\"line\": {\"color\": \"rgba(128, 128, 128, 1.0)\", \"dash\": \"solid\", \"shape\": \"linear\", \"width\": 1.3}, \"marker\": {\"size\": 2, \"symbol\": \"circle\"}, \"mode\": \"markers\", \"name\": \"A\", \"text\": \"\", \"type\": \"scatter\", \"x\": [1.4805592905566027, 0.0066543752263027965, -1.3286028101500782, -2.3545755391924437, 1.0310993600795264, 1.032122832624549, -0.043810011026179915, 0.9744256797617555, 0.3456701049094342, 0.8423521574656975, 1.433220309184025, -0.8980879999871899, 1.6147623452853943, 0.21919544300404417, -1.0559302345773947, 0.18354579636522608, 0.4299599738630787, 0.4715327089955329, 0.22433403322092066, -0.1701929738564229, 0.014445856319818946, 2.330175451886577, -0.21609523736867256, -0.5204245761177559, 1.2082347022559903, -1.9195601523736994, 1.3945880077314747, 1.3081201387075758, 1.2234110953628672, -0.6835661797158156, 0.0665570043084234, 1.0391744555533386, -0.3358626496463016, -2.185520038306416, 0.9697458944052152, -0.8256122474871528, -2.4315010329769726, 1.0364397277397897, -1.0601026987022133, 0.47461708144820974, -0.07149729774693611, -0.03623067332832536, -0.7925689358905943, 0.05446988307968215, -1.1232572898508344, 0.1025333397910067, 0.9380580646398775, -0.5008529310749313, 0.22070963370902066, -0.17260854167125553, 0.14513281589032356, 1.0009115797078916, 1.0767085963140584, 1.8619219678301797, 0.6927059967250869, 1.5260330868510448, -0.7159896247720254, -0.05972059734144692, -0.034738381460860064, 0.769509319574557, 0.09664500047496385, 0.17691284017859255, 0.2913380396549778, 3.2442405594833392, 0.09229706541266704, -0.03546257696022987, -0.34938427700628666, 0.6033569176275102, 1.2475798627255554, 0.5001313031532152, 1.9895642597593513, -0.33807292400636046, -0.5605564204639819, 0.6281556155426765, -0.7184976978868656, -0.650976788040386, 2.0877308714443354, -0.9259708427825195, 0.04333748186656094, 0.01199626365732882, -1.6807498936986958, -1.2465891925629309, -0.32007399184732765, 0.308979007976214, 1.0172825217514485, 1.5472109178965658, -0.01970792241666245, -0.15925885259453754, 0.5227382852124725, 1.1706056583762108, 0.9581916124363626, -0.7522895783907171, -0.11208433456448406, -0.9643018419154822, -0.718757066862075, -0.8660784391536188, 0.7486710459601194, -0.6770755304839471, -0.0398451971157505, 1.7658834584065866], \"xaxis\": \"x3\", \"y\": [-1.2376533429297487, 0.5210312381862134, -1.0251899876913395, 0.45381839892015724, 2.5579020873643423, -2.311096877009032, 1.0848519410157036, 0.14420890327050329, 0.8761771802727409, -0.5599756647759724, 0.8404008962563776, 0.9360487734843175, -1.2159463914906068, 0.4323468127108094, 1.4875276747986366, -1.8104483053725908, 0.7422040304205689, 2.2293211252216603, 0.15632546876214123, 0.4081041805918467, 0.024748436909957674, -0.727628179660839, -0.3139827530211364, 1.7415908205376824, 1.113900769384104, -1.7478092023943117, 0.8140754057060445, 1.1184203301949367, 0.11643679130544002, 0.2413981464536677, -1.8981945923166192, 0.7814782558065474, 0.12346431470248988, -0.5888166641853814, 0.5638242182369565, -0.04966892567279881, -0.8730779045718278, 0.9937635926043222, -0.3111311960754491, -1.2704479991052302, 0.6145906380641518, -2.1080663744544688, 1.162745468298509, -0.40269202904722307, 0.9816818315776701, 1.2766727602932417, -1.1441699855454301, -1.4095882123449281, 1.3445230473814531, 0.983685841697918, -0.4764813243223706, 0.34186207479032177, -1.3617951618631923, -0.5731448087586377, 1.6229372931953945, -1.8760222194164973, 0.2696419215276941, 1.4759084603076527, 1.2932437655688576, 0.14905939922683087, 1.1274399726091413, 1.6653660922881228, 0.9404296495750097, 1.1505947887788583, -1.7013903166322464, -0.3128888538704009, -2.143472785599862, -0.5117941385029973, 0.9973449715984799, -1.28127634682668, 0.5008584141197462, -0.3438551379470671, -1.496632229824434, -1.0196525699126524, 1.788124743162996, -1.0822473860519988, 0.9805588328233438, 2.23743047144731, 0.2129752042080661, 0.6876725100251737, 0.7340280290562036, -0.44115399131713307, -0.6322101548325217, 0.8240049645002243, -0.0012853927734924836, 0.44660590623353075, -0.3231659858707658, -0.33411455762785336, 0.353841423946161, -0.022911915151177333, 0.5704806182719827, 1.9789498254742628, -1.1043229788804343, 1.2443321962668799, 0.4777611949867243, -0.7944342954051479, 1.3535937388032435, -0.5031726594973573, -0.041696531493813985, 0.9618825324128459], \"yaxis\": \"y3\"}, {\"line\": {\"color\": \"rgba(128, 128, 128, 1.0)\", \"dash\": \"solid\", \"shape\": \"linear\", \"width\": 1.3}, \"marker\": {\"size\": 2, \"symbol\": \"circle\"}, \"mode\": \"markers\", \"name\": \"A\", \"text\": \"\", \"type\": \"scatter\", \"x\": [-0.7465190246535679, -0.9842265335198428, 0.6484868519849506, -0.2068290986541139, -0.5972146382065648, -0.42203985994775345, 0.4182438022494924, -0.5844893364713745, 0.4008201391216312, -1.2290324740235792, -0.7077799251950053, 1.3546704683077024, -0.4542137398712673, 0.9286537367805837, 0.7204594214362593, -0.11513090931528802, 1.785898681462176, 0.5331285314346956, -0.9043265619163633, -0.1766455542300106, -0.17925503814217242, -1.6596633547722228, 1.151024454588053, 0.7778673687567496, -0.7758665090402018, 0.42553540404672163, 1.031283160673017, 0.12935088267708061, 0.44458929024512833, 0.670611397231192, 0.5018091289102423, -1.1522671786913117, 1.2912795022490569, -0.3059485059018095, -0.26411571159650576, 0.6636426362009814, 1.2140670548216517, -0.07319754186549282, -0.9165789670899518, 0.20593572269346777, -0.3700842824416982, -0.4360073333517405, 1.2759262305516617, 0.5377141215864761, -1.9530019130496559, 0.6101031778018651, -0.352198519118916, -0.697576285979983, 0.26770708925037157, 1.2409937264220636, 0.41258996970772266, 0.13388343725704457, 2.455249490594848, -0.7482717412451291, 2.494950245753326, 0.1240787234584336, -0.9643620517005349, -0.23815168028082584, -0.0775435767394758, 1.0150283212803681, 0.8206876352623158, -1.0894916682681155, 0.15579283324393012, 1.904954493351993, 0.16824797197649377, -1.1832948156302867, -0.29249838944876794, 0.8297143690850972, 0.11096598579727883, 0.06953128204261044, -0.023653735031282968, 0.50616814038998, 1.367504719973664, -0.38606360951124746, -1.0568525447619446, 0.9544403682877086, -1.6497546741891913, 1.7750201106488424, 1.341970593068722, 0.26076573393855995, 0.30792210881631815, 0.7994971461282097, -0.40058434870564696, 0.4041167201647333, 1.0017137870891137, 0.07594057552376524, 0.28385027272614305, 0.3463476939117346, -0.2875052370385254, -0.9940447548383856, 0.5148861206683616, 0.20468896487394017, -0.08817635809947569, 0.2896472737276851, 0.011509376050969236, -0.3334735283356169, -1.0690549773155893, -0.6348985590538168, 0.5815282458816182, -0.3538459049139967], \"xaxis\": \"x4\", \"y\": [-1.2376533429297487, 0.5210312381862134, -1.0251899876913395, 0.45381839892015724, 2.5579020873643423, -2.311096877009032, 1.0848519410157036, 0.14420890327050329, 0.8761771802727409, -0.5599756647759724, 0.8404008962563776, 0.9360487734843175, -1.2159463914906068, 0.4323468127108094, 1.4875276747986366, -1.8104483053725908, 0.7422040304205689, 2.2293211252216603, 0.15632546876214123, 0.4081041805918467, 0.024748436909957674, -0.727628179660839, -0.3139827530211364, 1.7415908205376824, 1.113900769384104, -1.7478092023943117, 0.8140754057060445, 1.1184203301949367, 0.11643679130544002, 0.2413981464536677, -1.8981945923166192, 0.7814782558065474, 0.12346431470248988, -0.5888166641853814, 0.5638242182369565, -0.04966892567279881, -0.8730779045718278, 0.9937635926043222, -0.3111311960754491, -1.2704479991052302, 0.6145906380641518, -2.1080663744544688, 1.162745468298509, -0.40269202904722307, 0.9816818315776701, 1.2766727602932417, -1.1441699855454301, -1.4095882123449281, 1.3445230473814531, 0.983685841697918, -0.4764813243223706, 0.34186207479032177, -1.3617951618631923, -0.5731448087586377, 1.6229372931953945, -1.8760222194164973, 0.2696419215276941, 1.4759084603076527, 1.2932437655688576, 0.14905939922683087, 1.1274399726091413, 1.6653660922881228, 0.9404296495750097, 1.1505947887788583, -1.7013903166322464, -0.3128888538704009, -2.143472785599862, -0.5117941385029973, 0.9973449715984799, -1.28127634682668, 0.5008584141197462, -0.3438551379470671, -1.496632229824434, -1.0196525699126524, 1.788124743162996, -1.0822473860519988, 0.9805588328233438, 2.23743047144731, 0.2129752042080661, 0.6876725100251737, 0.7340280290562036, -0.44115399131713307, -0.6322101548325217, 0.8240049645002243, -0.0012853927734924836, 0.44660590623353075, -0.3231659858707658, -0.33411455762785336, 0.353841423946161, -0.022911915151177333, 0.5704806182719827, 1.9789498254742628, -1.1043229788804343, 1.2443321962668799, 0.4777611949867243, -0.7944342954051479, 1.3535937388032435, -0.5031726594973573, -0.041696531493813985, 0.9618825324128459], \"yaxis\": \"y4\"}, {\"line\": {\"color\": \"rgba(128, 128, 128, 1.0)\", \"dash\": \"solid\", \"shape\": \"linear\", \"width\": 1.3}, \"marker\": {\"size\": 2, \"symbol\": \"circle\"}, \"mode\": \"markers\", \"name\": \"B\", \"text\": \"\", \"type\": \"scatter\", \"x\": [-1.2376533429297487, 0.5210312381862134, -1.0251899876913395, 0.45381839892015724, 2.5579020873643423, -2.311096877009032, 1.0848519410157036, 0.14420890327050329, 0.8761771802727409, -0.5599756647759724, 0.8404008962563776, 0.9360487734843175, -1.2159463914906068, 0.4323468127108094, 1.4875276747986366, -1.8104483053725908, 0.7422040304205689, 2.2293211252216603, 0.15632546876214123, 0.4081041805918467, 0.024748436909957674, -0.727628179660839, -0.3139827530211364, 1.7415908205376824, 1.113900769384104, -1.7478092023943117, 0.8140754057060445, 1.1184203301949367, 0.11643679130544002, 0.2413981464536677, -1.8981945923166192, 0.7814782558065474, 0.12346431470248988, -0.5888166641853814, 0.5638242182369565, -0.04966892567279881, -0.8730779045718278, 0.9937635926043222, -0.3111311960754491, -1.2704479991052302, 0.6145906380641518, -2.1080663744544688, 1.162745468298509, -0.40269202904722307, 0.9816818315776701, 1.2766727602932417, -1.1441699855454301, -1.4095882123449281, 1.3445230473814531, 0.983685841697918, -0.4764813243223706, 0.34186207479032177, -1.3617951618631923, -0.5731448087586377, 1.6229372931953945, -1.8760222194164973, 0.2696419215276941, 1.4759084603076527, 1.2932437655688576, 0.14905939922683087, 1.1274399726091413, 1.6653660922881228, 0.9404296495750097, 1.1505947887788583, -1.7013903166322464, -0.3128888538704009, -2.143472785599862, -0.5117941385029973, 0.9973449715984799, -1.28127634682668, 0.5008584141197462, -0.3438551379470671, -1.496632229824434, -1.0196525699126524, 1.788124743162996, -1.0822473860519988, 0.9805588328233438, 2.23743047144731, 0.2129752042080661, 0.6876725100251737, 0.7340280290562036, -0.44115399131713307, -0.6322101548325217, 0.8240049645002243, -0.0012853927734924836, 0.44660590623353075, -0.3231659858707658, -0.33411455762785336, 0.353841423946161, -0.022911915151177333, 0.5704806182719827, 1.9789498254742628, -1.1043229788804343, 1.2443321962668799, 0.4777611949867243, -0.7944342954051479, 1.3535937388032435, -0.5031726594973573, -0.041696531493813985, 0.9618825324128459], \"xaxis\": \"x5\", \"y\": [-0.5729984879969171, 0.5909561009580857, -0.6479381979401543, 0.5068431621784943, 0.21022581680114724, -2.035720176553049, -0.48728930433915413, -0.5100542298446442, 1.0746855013944174, -0.03425512643487298, -1.1034087514016049, -0.942789188319332, -0.09798209414877965, -0.75471906104679, 0.5695846791296407, 0.18144063049261203, 0.6755433055426926, 1.6908113005091172, -0.037085297150455485, 0.5093238182228775, 0.4309374328017403, 1.0603891419114981, 0.9600849278946542, 0.41138880181158965, 0.3542988098231076, 0.3793117072240972, -0.32429385709622316, -0.3720488190049271, 0.28700601889218225, -0.4814804689597724, 0.32292724413314056, 1.3750481693772498, 0.375806837908601, 1.0204153020741686, 0.5372488436715573, 0.1630362622470754, -0.37128401061293204, 0.18189386623342524, 1.5443816284277438, -0.5700477904708945, 1.7413818905636158, -1.197416653079403, 0.25236922063720735, -0.8937094378007724, 2.7781482520757224, -0.08022663678328085, 1.2403860792115906, -0.013828930370441302, -0.9348967567711488, -2.225144487840825, -1.2693652149536099, 1.8614425597359745, 0.2543178484847704, -0.9356797873206968, -1.823825627965515, -1.1714380378971925, -0.480426448575434, -0.20624266781744877, 0.339482324534446, 1.097677022740831, -0.5102593440109845, -0.20183972656712482, -0.8960494374584044, -0.5924532644882401, -0.646345965309449, 1.4286394367280775, 1.6501845360404976, 0.511791608963945, 0.4393596006137443, 0.5725738313781439, -0.664265767438522, -0.44164130103306365, 0.6372090453689565, -0.2589300158280436, 1.0894350623522444, 0.26421945331926805, -1.1179733849258793, 0.7729424625201243, -0.6198532415959194, -0.17020060359782097, 0.9341080928874868, 0.24117249940352037, -0.7005627582569318, 0.6582479238215062, -0.0716208850768693, 1.5706154364823148, -0.6497956569183799, 0.5423497355086795, 0.9370286417621064, -0.7308532701982378, 1.508055847158207, 0.9936015984705164, -1.8260543146320227, 0.4892420488884562, 0.9043459424350315, 0.8305425725610729, -1.2589823642833216, -0.7149533393533173, -1.806426117331394, -0.2447907667589656], \"yaxis\": \"y5\"}, {\"histfunc\": \"count\", \"histnorm\": \"\", \"marker\": {\"color\": \"rgba(55, 128, 191, 1.0)\", \"line\": {\"color\": \"#4D5663\", \"width\": 1.3}}, \"name\": \"B\", \"nbinsx\": 10, \"opacity\": 0.8, \"orientation\": \"v\", \"type\": \"histogram\", \"x\": [-0.5729984879969171, 0.5909561009580857, -0.6479381979401543, 0.5068431621784943, 0.21022581680114724, -2.035720176553049, -0.48728930433915413, -0.5100542298446442, 1.0746855013944174, -0.03425512643487298, -1.1034087514016049, -0.942789188319332, -0.09798209414877965, -0.75471906104679, 0.5695846791296407, 0.18144063049261203, 0.6755433055426926, 1.6908113005091172, -0.037085297150455485, 0.5093238182228775, 0.4309374328017403, 1.0603891419114981, 0.9600849278946542, 0.41138880181158965, 0.3542988098231076, 0.3793117072240972, -0.32429385709622316, -0.3720488190049271, 0.28700601889218225, -0.4814804689597724, 0.32292724413314056, 1.3750481693772498, 0.375806837908601, 1.0204153020741686, 0.5372488436715573, 0.1630362622470754, -0.37128401061293204, 0.18189386623342524, 1.5443816284277438, -0.5700477904708945, 1.7413818905636158, -1.197416653079403, 0.25236922063720735, -0.8937094378007724, 2.7781482520757224, -0.08022663678328085, 1.2403860792115906, -0.013828930370441302, -0.9348967567711488, -2.225144487840825, -1.2693652149536099, 1.8614425597359745, 0.2543178484847704, -0.9356797873206968, -1.823825627965515, -1.1714380378971925, -0.480426448575434, -0.20624266781744877, 0.339482324534446, 1.097677022740831, -0.5102593440109845, -0.20183972656712482, -0.8960494374584044, -0.5924532644882401, -0.646345965309449, 1.4286394367280775, 1.6501845360404976, 0.511791608963945, 0.4393596006137443, 0.5725738313781439, -0.664265767438522, -0.44164130103306365, 0.6372090453689565, -0.2589300158280436, 1.0894350623522444, 0.26421945331926805, -1.1179733849258793, 0.7729424625201243, -0.6198532415959194, -0.17020060359782097, 0.9341080928874868, 0.24117249940352037, -0.7005627582569318, 0.6582479238215062, -0.0716208850768693, 1.5706154364823148, -0.6497956569183799, 0.5423497355086795, 0.9370286417621064, -0.7308532701982378, 1.508055847158207, 0.9936015984705164, -1.8260543146320227, 0.4892420488884562, 0.9043459424350315, 0.8305425725610729, -1.2589823642833216, -0.7149533393533173, -1.806426117331394, -0.2447907667589656], \"xaxis\": \"x6\", \"yaxis\": \"y6\"}, {\"line\": {\"color\": \"rgba(128, 128, 128, 1.0)\", \"dash\": \"solid\", \"shape\": \"linear\", \"width\": 1.3}, \"marker\": {\"size\": 2, \"symbol\": \"circle\"}, \"mode\": \"markers\", \"name\": \"B\", \"text\": \"\", \"type\": \"scatter\", \"x\": [1.4805592905566027, 0.0066543752263027965, -1.3286028101500782, -2.3545755391924437, 1.0310993600795264, 1.032122832624549, -0.043810011026179915, 0.9744256797617555, 0.3456701049094342, 0.8423521574656975, 1.433220309184025, -0.8980879999871899, 1.6147623452853943, 0.21919544300404417, -1.0559302345773947, 0.18354579636522608, 0.4299599738630787, 0.4715327089955329, 0.22433403322092066, -0.1701929738564229, 0.014445856319818946, 2.330175451886577, -0.21609523736867256, -0.5204245761177559, 1.2082347022559903, -1.9195601523736994, 1.3945880077314747, 1.3081201387075758, 1.2234110953628672, -0.6835661797158156, 0.0665570043084234, 1.0391744555533386, -0.3358626496463016, -2.185520038306416, 0.9697458944052152, -0.8256122474871528, -2.4315010329769726, 1.0364397277397897, -1.0601026987022133, 0.47461708144820974, -0.07149729774693611, -0.03623067332832536, -0.7925689358905943, 0.05446988307968215, -1.1232572898508344, 0.1025333397910067, 0.9380580646398775, -0.5008529310749313, 0.22070963370902066, -0.17260854167125553, 0.14513281589032356, 1.0009115797078916, 1.0767085963140584, 1.8619219678301797, 0.6927059967250869, 1.5260330868510448, -0.7159896247720254, -0.05972059734144692, -0.034738381460860064, 0.769509319574557, 0.09664500047496385, 0.17691284017859255, 0.2913380396549778, 3.2442405594833392, 0.09229706541266704, -0.03546257696022987, -0.34938427700628666, 0.6033569176275102, 1.2475798627255554, 0.5001313031532152, 1.9895642597593513, -0.33807292400636046, -0.5605564204639819, 0.6281556155426765, -0.7184976978868656, -0.650976788040386, 2.0877308714443354, -0.9259708427825195, 0.04333748186656094, 0.01199626365732882, -1.6807498936986958, -1.2465891925629309, -0.32007399184732765, 0.308979007976214, 1.0172825217514485, 1.5472109178965658, -0.01970792241666245, -0.15925885259453754, 0.5227382852124725, 1.1706056583762108, 0.9581916124363626, -0.7522895783907171, -0.11208433456448406, -0.9643018419154822, -0.718757066862075, -0.8660784391536188, 0.7486710459601194, -0.6770755304839471, -0.0398451971157505, 1.7658834584065866], \"xaxis\": \"x7\", \"y\": [-0.5729984879969171, 0.5909561009580857, -0.6479381979401543, 0.5068431621784943, 0.21022581680114724, -2.035720176553049, -0.48728930433915413, -0.5100542298446442, 1.0746855013944174, -0.03425512643487298, -1.1034087514016049, -0.942789188319332, -0.09798209414877965, -0.75471906104679, 0.5695846791296407, 0.18144063049261203, 0.6755433055426926, 1.6908113005091172, -0.037085297150455485, 0.5093238182228775, 0.4309374328017403, 1.0603891419114981, 0.9600849278946542, 0.41138880181158965, 0.3542988098231076, 0.3793117072240972, -0.32429385709622316, -0.3720488190049271, 0.28700601889218225, -0.4814804689597724, 0.32292724413314056, 1.3750481693772498, 0.375806837908601, 1.0204153020741686, 0.5372488436715573, 0.1630362622470754, -0.37128401061293204, 0.18189386623342524, 1.5443816284277438, -0.5700477904708945, 1.7413818905636158, -1.197416653079403, 0.25236922063720735, -0.8937094378007724, 2.7781482520757224, -0.08022663678328085, 1.2403860792115906, -0.013828930370441302, -0.9348967567711488, -2.225144487840825, -1.2693652149536099, 1.8614425597359745, 0.2543178484847704, -0.9356797873206968, -1.823825627965515, -1.1714380378971925, -0.480426448575434, -0.20624266781744877, 0.339482324534446, 1.097677022740831, -0.5102593440109845, -0.20183972656712482, -0.8960494374584044, -0.5924532644882401, -0.646345965309449, 1.4286394367280775, 1.6501845360404976, 0.511791608963945, 0.4393596006137443, 0.5725738313781439, -0.664265767438522, -0.44164130103306365, 0.6372090453689565, -0.2589300158280436, 1.0894350623522444, 0.26421945331926805, -1.1179733849258793, 0.7729424625201243, -0.6198532415959194, -0.17020060359782097, 0.9341080928874868, 0.24117249940352037, -0.7005627582569318, 0.6582479238215062, -0.0716208850768693, 1.5706154364823148, -0.6497956569183799, 0.5423497355086795, 0.9370286417621064, -0.7308532701982378, 1.508055847158207, 0.9936015984705164, -1.8260543146320227, 0.4892420488884562, 0.9043459424350315, 0.8305425725610729, -1.2589823642833216, -0.7149533393533173, -1.806426117331394, -0.2447907667589656], \"yaxis\": \"y7\"}, {\"line\": {\"color\": \"rgba(128, 128, 128, 1.0)\", \"dash\": \"solid\", \"shape\": \"linear\", \"width\": 1.3}, \"marker\": {\"size\": 2, \"symbol\": \"circle\"}, \"mode\": \"markers\", \"name\": \"B\", \"text\": \"\", \"type\": \"scatter\", \"x\": [-0.7465190246535679, -0.9842265335198428, 0.6484868519849506, -0.2068290986541139, -0.5972146382065648, -0.42203985994775345, 0.4182438022494924, -0.5844893364713745, 0.4008201391216312, -1.2290324740235792, -0.7077799251950053, 1.3546704683077024, -0.4542137398712673, 0.9286537367805837, 0.7204594214362593, -0.11513090931528802, 1.785898681462176, 0.5331285314346956, -0.9043265619163633, -0.1766455542300106, -0.17925503814217242, -1.6596633547722228, 1.151024454588053, 0.7778673687567496, -0.7758665090402018, 0.42553540404672163, 1.031283160673017, 0.12935088267708061, 0.44458929024512833, 0.670611397231192, 0.5018091289102423, -1.1522671786913117, 1.2912795022490569, -0.3059485059018095, -0.26411571159650576, 0.6636426362009814, 1.2140670548216517, -0.07319754186549282, -0.9165789670899518, 0.20593572269346777, -0.3700842824416982, -0.4360073333517405, 1.2759262305516617, 0.5377141215864761, -1.9530019130496559, 0.6101031778018651, -0.352198519118916, -0.697576285979983, 0.26770708925037157, 1.2409937264220636, 0.41258996970772266, 0.13388343725704457, 2.455249490594848, -0.7482717412451291, 2.494950245753326, 0.1240787234584336, -0.9643620517005349, -0.23815168028082584, -0.0775435767394758, 1.0150283212803681, 0.8206876352623158, -1.0894916682681155, 0.15579283324393012, 1.904954493351993, 0.16824797197649377, -1.1832948156302867, -0.29249838944876794, 0.8297143690850972, 0.11096598579727883, 0.06953128204261044, -0.023653735031282968, 0.50616814038998, 1.367504719973664, -0.38606360951124746, -1.0568525447619446, 0.9544403682877086, -1.6497546741891913, 1.7750201106488424, 1.341970593068722, 0.26076573393855995, 0.30792210881631815, 0.7994971461282097, -0.40058434870564696, 0.4041167201647333, 1.0017137870891137, 0.07594057552376524, 0.28385027272614305, 0.3463476939117346, -0.2875052370385254, -0.9940447548383856, 0.5148861206683616, 0.20468896487394017, -0.08817635809947569, 0.2896472737276851, 0.011509376050969236, -0.3334735283356169, -1.0690549773155893, -0.6348985590538168, 0.5815282458816182, -0.3538459049139967], \"xaxis\": \"x8\", \"y\": [-0.5729984879969171, 0.5909561009580857, -0.6479381979401543, 0.5068431621784943, 0.21022581680114724, -2.035720176553049, -0.48728930433915413, -0.5100542298446442, 1.0746855013944174, -0.03425512643487298, -1.1034087514016049, -0.942789188319332, -0.09798209414877965, -0.75471906104679, 0.5695846791296407, 0.18144063049261203, 0.6755433055426926, 1.6908113005091172, -0.037085297150455485, 0.5093238182228775, 0.4309374328017403, 1.0603891419114981, 0.9600849278946542, 0.41138880181158965, 0.3542988098231076, 0.3793117072240972, -0.32429385709622316, -0.3720488190049271, 0.28700601889218225, -0.4814804689597724, 0.32292724413314056, 1.3750481693772498, 0.375806837908601, 1.0204153020741686, 0.5372488436715573, 0.1630362622470754, -0.37128401061293204, 0.18189386623342524, 1.5443816284277438, -0.5700477904708945, 1.7413818905636158, -1.197416653079403, 0.25236922063720735, -0.8937094378007724, 2.7781482520757224, -0.08022663678328085, 1.2403860792115906, -0.013828930370441302, -0.9348967567711488, -2.225144487840825, -1.2693652149536099, 1.8614425597359745, 0.2543178484847704, -0.9356797873206968, -1.823825627965515, -1.1714380378971925, -0.480426448575434, -0.20624266781744877, 0.339482324534446, 1.097677022740831, -0.5102593440109845, -0.20183972656712482, -0.8960494374584044, -0.5924532644882401, -0.646345965309449, 1.4286394367280775, 1.6501845360404976, 0.511791608963945, 0.4393596006137443, 0.5725738313781439, -0.664265767438522, -0.44164130103306365, 0.6372090453689565, -0.2589300158280436, 1.0894350623522444, 0.26421945331926805, -1.1179733849258793, 0.7729424625201243, -0.6198532415959194, -0.17020060359782097, 0.9341080928874868, 0.24117249940352037, -0.7005627582569318, 0.6582479238215062, -0.0716208850768693, 1.5706154364823148, -0.6497956569183799, 0.5423497355086795, 0.9370286417621064, -0.7308532701982378, 1.508055847158207, 0.9936015984705164, -1.8260543146320227, 0.4892420488884562, 0.9043459424350315, 0.8305425725610729, -1.2589823642833216, -0.7149533393533173, -1.806426117331394, -0.2447907667589656], \"yaxis\": \"y8\"}, {\"line\": {\"color\": \"rgba(128, 128, 128, 1.0)\", \"dash\": \"solid\", \"shape\": \"linear\", \"width\": 1.3}, \"marker\": {\"size\": 2, \"symbol\": \"circle\"}, \"mode\": \"markers\", \"name\": \"C\", \"text\": \"\", \"type\": \"scatter\", \"x\": [-1.2376533429297487, 0.5210312381862134, -1.0251899876913395, 0.45381839892015724, 2.5579020873643423, -2.311096877009032, 1.0848519410157036, 0.14420890327050329, 0.8761771802727409, -0.5599756647759724, 0.8404008962563776, 0.9360487734843175, -1.2159463914906068, 0.4323468127108094, 1.4875276747986366, -1.8104483053725908, 0.7422040304205689, 2.2293211252216603, 0.15632546876214123, 0.4081041805918467, 0.024748436909957674, -0.727628179660839, -0.3139827530211364, 1.7415908205376824, 1.113900769384104, -1.7478092023943117, 0.8140754057060445, 1.1184203301949367, 0.11643679130544002, 0.2413981464536677, -1.8981945923166192, 0.7814782558065474, 0.12346431470248988, -0.5888166641853814, 0.5638242182369565, -0.04966892567279881, -0.8730779045718278, 0.9937635926043222, -0.3111311960754491, -1.2704479991052302, 0.6145906380641518, -2.1080663744544688, 1.162745468298509, -0.40269202904722307, 0.9816818315776701, 1.2766727602932417, -1.1441699855454301, -1.4095882123449281, 1.3445230473814531, 0.983685841697918, -0.4764813243223706, 0.34186207479032177, -1.3617951618631923, -0.5731448087586377, 1.6229372931953945, -1.8760222194164973, 0.2696419215276941, 1.4759084603076527, 1.2932437655688576, 0.14905939922683087, 1.1274399726091413, 1.6653660922881228, 0.9404296495750097, 1.1505947887788583, -1.7013903166322464, -0.3128888538704009, -2.143472785599862, -0.5117941385029973, 0.9973449715984799, -1.28127634682668, 0.5008584141197462, -0.3438551379470671, -1.496632229824434, -1.0196525699126524, 1.788124743162996, -1.0822473860519988, 0.9805588328233438, 2.23743047144731, 0.2129752042080661, 0.6876725100251737, 0.7340280290562036, -0.44115399131713307, -0.6322101548325217, 0.8240049645002243, -0.0012853927734924836, 0.44660590623353075, -0.3231659858707658, -0.33411455762785336, 0.353841423946161, -0.022911915151177333, 0.5704806182719827, 1.9789498254742628, -1.1043229788804343, 1.2443321962668799, 0.4777611949867243, -0.7944342954051479, 1.3535937388032435, -0.5031726594973573, -0.041696531493813985, 0.9618825324128459], \"xaxis\": \"x9\", \"y\": [1.4805592905566027, 0.0066543752263027965, -1.3286028101500782, -2.3545755391924437, 1.0310993600795264, 1.032122832624549, -0.043810011026179915, 0.9744256797617555, 0.3456701049094342, 0.8423521574656975, 1.433220309184025, -0.8980879999871899, 1.6147623452853943, 0.21919544300404417, -1.0559302345773947, 0.18354579636522608, 0.4299599738630787, 0.4715327089955329, 0.22433403322092066, -0.1701929738564229, 0.014445856319818946, 2.330175451886577, -0.21609523736867256, -0.5204245761177559, 1.2082347022559903, -1.9195601523736994, 1.3945880077314747, 1.3081201387075758, 1.2234110953628672, -0.6835661797158156, 0.0665570043084234, 1.0391744555533386, -0.3358626496463016, -2.185520038306416, 0.9697458944052152, -0.8256122474871528, -2.4315010329769726, 1.0364397277397897, -1.0601026987022133, 0.47461708144820974, -0.07149729774693611, -0.03623067332832536, -0.7925689358905943, 0.05446988307968215, -1.1232572898508344, 0.1025333397910067, 0.9380580646398775, -0.5008529310749313, 0.22070963370902066, -0.17260854167125553, 0.14513281589032356, 1.0009115797078916, 1.0767085963140584, 1.8619219678301797, 0.6927059967250869, 1.5260330868510448, -0.7159896247720254, -0.05972059734144692, -0.034738381460860064, 0.769509319574557, 0.09664500047496385, 0.17691284017859255, 0.2913380396549778, 3.2442405594833392, 0.09229706541266704, -0.03546257696022987, -0.34938427700628666, 0.6033569176275102, 1.2475798627255554, 0.5001313031532152, 1.9895642597593513, -0.33807292400636046, -0.5605564204639819, 0.6281556155426765, -0.7184976978868656, -0.650976788040386, 2.0877308714443354, -0.9259708427825195, 0.04333748186656094, 0.01199626365732882, -1.6807498936986958, -1.2465891925629309, -0.32007399184732765, 0.308979007976214, 1.0172825217514485, 1.5472109178965658, -0.01970792241666245, -0.15925885259453754, 0.5227382852124725, 1.1706056583762108, 0.9581916124363626, -0.7522895783907171, -0.11208433456448406, -0.9643018419154822, -0.718757066862075, -0.8660784391536188, 0.7486710459601194, -0.6770755304839471, -0.0398451971157505, 1.7658834584065866], \"yaxis\": \"y9\"}, {\"line\": {\"color\": \"rgba(128, 128, 128, 1.0)\", \"dash\": \"solid\", \"shape\": \"linear\", \"width\": 1.3}, \"marker\": {\"size\": 2, \"symbol\": \"circle\"}, \"mode\": \"markers\", \"name\": \"C\", \"text\": \"\", \"type\": \"scatter\", \"x\": [-0.5729984879969171, 0.5909561009580857, -0.6479381979401543, 0.5068431621784943, 0.21022581680114724, -2.035720176553049, -0.48728930433915413, -0.5100542298446442, 1.0746855013944174, -0.03425512643487298, -1.1034087514016049, -0.942789188319332, -0.09798209414877965, -0.75471906104679, 0.5695846791296407, 0.18144063049261203, 0.6755433055426926, 1.6908113005091172, -0.037085297150455485, 0.5093238182228775, 0.4309374328017403, 1.0603891419114981, 0.9600849278946542, 0.41138880181158965, 0.3542988098231076, 0.3793117072240972, -0.32429385709622316, -0.3720488190049271, 0.28700601889218225, -0.4814804689597724, 0.32292724413314056, 1.3750481693772498, 0.375806837908601, 1.0204153020741686, 0.5372488436715573, 0.1630362622470754, -0.37128401061293204, 0.18189386623342524, 1.5443816284277438, -0.5700477904708945, 1.7413818905636158, -1.197416653079403, 0.25236922063720735, -0.8937094378007724, 2.7781482520757224, -0.08022663678328085, 1.2403860792115906, -0.013828930370441302, -0.9348967567711488, -2.225144487840825, -1.2693652149536099, 1.8614425597359745, 0.2543178484847704, -0.9356797873206968, -1.823825627965515, -1.1714380378971925, -0.480426448575434, -0.20624266781744877, 0.339482324534446, 1.097677022740831, -0.5102593440109845, -0.20183972656712482, -0.8960494374584044, -0.5924532644882401, -0.646345965309449, 1.4286394367280775, 1.6501845360404976, 0.511791608963945, 0.4393596006137443, 0.5725738313781439, -0.664265767438522, -0.44164130103306365, 0.6372090453689565, -0.2589300158280436, 1.0894350623522444, 0.26421945331926805, -1.1179733849258793, 0.7729424625201243, -0.6198532415959194, -0.17020060359782097, 0.9341080928874868, 0.24117249940352037, -0.7005627582569318, 0.6582479238215062, -0.0716208850768693, 1.5706154364823148, -0.6497956569183799, 0.5423497355086795, 0.9370286417621064, -0.7308532701982378, 1.508055847158207, 0.9936015984705164, -1.8260543146320227, 0.4892420488884562, 0.9043459424350315, 0.8305425725610729, -1.2589823642833216, -0.7149533393533173, -1.806426117331394, -0.2447907667589656], \"xaxis\": \"x10\", \"y\": [1.4805592905566027, 0.0066543752263027965, -1.3286028101500782, -2.3545755391924437, 1.0310993600795264, 1.032122832624549, -0.043810011026179915, 0.9744256797617555, 0.3456701049094342, 0.8423521574656975, 1.433220309184025, -0.8980879999871899, 1.6147623452853943, 0.21919544300404417, -1.0559302345773947, 0.18354579636522608, 0.4299599738630787, 0.4715327089955329, 0.22433403322092066, -0.1701929738564229, 0.014445856319818946, 2.330175451886577, -0.21609523736867256, -0.5204245761177559, 1.2082347022559903, -1.9195601523736994, 1.3945880077314747, 1.3081201387075758, 1.2234110953628672, -0.6835661797158156, 0.0665570043084234, 1.0391744555533386, -0.3358626496463016, -2.185520038306416, 0.9697458944052152, -0.8256122474871528, -2.4315010329769726, 1.0364397277397897, -1.0601026987022133, 0.47461708144820974, -0.07149729774693611, -0.03623067332832536, -0.7925689358905943, 0.05446988307968215, -1.1232572898508344, 0.1025333397910067, 0.9380580646398775, -0.5008529310749313, 0.22070963370902066, -0.17260854167125553, 0.14513281589032356, 1.0009115797078916, 1.0767085963140584, 1.8619219678301797, 0.6927059967250869, 1.5260330868510448, -0.7159896247720254, -0.05972059734144692, -0.034738381460860064, 0.769509319574557, 0.09664500047496385, 0.17691284017859255, 0.2913380396549778, 3.2442405594833392, 0.09229706541266704, -0.03546257696022987, -0.34938427700628666, 0.6033569176275102, 1.2475798627255554, 0.5001313031532152, 1.9895642597593513, -0.33807292400636046, -0.5605564204639819, 0.6281556155426765, -0.7184976978868656, -0.650976788040386, 2.0877308714443354, -0.9259708427825195, 0.04333748186656094, 0.01199626365732882, -1.6807498936986958, -1.2465891925629309, -0.32007399184732765, 0.308979007976214, 1.0172825217514485, 1.5472109178965658, -0.01970792241666245, -0.15925885259453754, 0.5227382852124725, 1.1706056583762108, 0.9581916124363626, -0.7522895783907171, -0.11208433456448406, -0.9643018419154822, -0.718757066862075, -0.8660784391536188, 0.7486710459601194, -0.6770755304839471, -0.0398451971157505, 1.7658834584065866], \"yaxis\": \"y10\"}, {\"histfunc\": \"count\", \"histnorm\": \"\", \"marker\": {\"color\": \"rgba(50, 171, 96, 1.0)\", \"line\": {\"color\": \"#4D5663\", \"width\": 1.3}}, \"name\": \"C\", \"nbinsx\": 10, \"opacity\": 0.8, \"orientation\": \"v\", \"type\": \"histogram\", \"x\": [1.4805592905566027, 0.0066543752263027965, -1.3286028101500782, -2.3545755391924437, 1.0310993600795264, 1.032122832624549, -0.043810011026179915, 0.9744256797617555, 0.3456701049094342, 0.8423521574656975, 1.433220309184025, -0.8980879999871899, 1.6147623452853943, 0.21919544300404417, -1.0559302345773947, 0.18354579636522608, 0.4299599738630787, 0.4715327089955329, 0.22433403322092066, -0.1701929738564229, 0.014445856319818946, 2.330175451886577, -0.21609523736867256, -0.5204245761177559, 1.2082347022559903, -1.9195601523736994, 1.3945880077314747, 1.3081201387075758, 1.2234110953628672, -0.6835661797158156, 0.0665570043084234, 1.0391744555533386, -0.3358626496463016, -2.185520038306416, 0.9697458944052152, -0.8256122474871528, -2.4315010329769726, 1.0364397277397897, -1.0601026987022133, 0.47461708144820974, -0.07149729774693611, -0.03623067332832536, -0.7925689358905943, 0.05446988307968215, -1.1232572898508344, 0.1025333397910067, 0.9380580646398775, -0.5008529310749313, 0.22070963370902066, -0.17260854167125553, 0.14513281589032356, 1.0009115797078916, 1.0767085963140584, 1.8619219678301797, 0.6927059967250869, 1.5260330868510448, -0.7159896247720254, -0.05972059734144692, -0.034738381460860064, 0.769509319574557, 0.09664500047496385, 0.17691284017859255, 0.2913380396549778, 3.2442405594833392, 0.09229706541266704, -0.03546257696022987, -0.34938427700628666, 0.6033569176275102, 1.2475798627255554, 0.5001313031532152, 1.9895642597593513, -0.33807292400636046, -0.5605564204639819, 0.6281556155426765, -0.7184976978868656, -0.650976788040386, 2.0877308714443354, -0.9259708427825195, 0.04333748186656094, 0.01199626365732882, -1.6807498936986958, -1.2465891925629309, -0.32007399184732765, 0.308979007976214, 1.0172825217514485, 1.5472109178965658, -0.01970792241666245, -0.15925885259453754, 0.5227382852124725, 1.1706056583762108, 0.9581916124363626, -0.7522895783907171, -0.11208433456448406, -0.9643018419154822, -0.718757066862075, -0.8660784391536188, 0.7486710459601194, -0.6770755304839471, -0.0398451971157505, 1.7658834584065866], \"xaxis\": \"x11\", \"yaxis\": \"y11\"}, {\"line\": {\"color\": \"rgba(128, 128, 128, 1.0)\", \"dash\": \"solid\", \"shape\": \"linear\", \"width\": 1.3}, \"marker\": {\"size\": 2, \"symbol\": \"circle\"}, \"mode\": \"markers\", \"name\": \"C\", \"text\": \"\", \"type\": \"scatter\", \"x\": [-0.7465190246535679, -0.9842265335198428, 0.6484868519849506, -0.2068290986541139, -0.5972146382065648, -0.42203985994775345, 0.4182438022494924, -0.5844893364713745, 0.4008201391216312, -1.2290324740235792, -0.7077799251950053, 1.3546704683077024, -0.4542137398712673, 0.9286537367805837, 0.7204594214362593, -0.11513090931528802, 1.785898681462176, 0.5331285314346956, -0.9043265619163633, -0.1766455542300106, -0.17925503814217242, -1.6596633547722228, 1.151024454588053, 0.7778673687567496, -0.7758665090402018, 0.42553540404672163, 1.031283160673017, 0.12935088267708061, 0.44458929024512833, 0.670611397231192, 0.5018091289102423, -1.1522671786913117, 1.2912795022490569, -0.3059485059018095, -0.26411571159650576, 0.6636426362009814, 1.2140670548216517, -0.07319754186549282, -0.9165789670899518, 0.20593572269346777, -0.3700842824416982, -0.4360073333517405, 1.2759262305516617, 0.5377141215864761, -1.9530019130496559, 0.6101031778018651, -0.352198519118916, -0.697576285979983, 0.26770708925037157, 1.2409937264220636, 0.41258996970772266, 0.13388343725704457, 2.455249490594848, -0.7482717412451291, 2.494950245753326, 0.1240787234584336, -0.9643620517005349, -0.23815168028082584, -0.0775435767394758, 1.0150283212803681, 0.8206876352623158, -1.0894916682681155, 0.15579283324393012, 1.904954493351993, 0.16824797197649377, -1.1832948156302867, -0.29249838944876794, 0.8297143690850972, 0.11096598579727883, 0.06953128204261044, -0.023653735031282968, 0.50616814038998, 1.367504719973664, -0.38606360951124746, -1.0568525447619446, 0.9544403682877086, -1.6497546741891913, 1.7750201106488424, 1.341970593068722, 0.26076573393855995, 0.30792210881631815, 0.7994971461282097, -0.40058434870564696, 0.4041167201647333, 1.0017137870891137, 0.07594057552376524, 0.28385027272614305, 0.3463476939117346, -0.2875052370385254, -0.9940447548383856, 0.5148861206683616, 0.20468896487394017, -0.08817635809947569, 0.2896472737276851, 0.011509376050969236, -0.3334735283356169, -1.0690549773155893, -0.6348985590538168, 0.5815282458816182, -0.3538459049139967], \"xaxis\": \"x12\", \"y\": [1.4805592905566027, 0.0066543752263027965, -1.3286028101500782, -2.3545755391924437, 1.0310993600795264, 1.032122832624549, -0.043810011026179915, 0.9744256797617555, 0.3456701049094342, 0.8423521574656975, 1.433220309184025, -0.8980879999871899, 1.6147623452853943, 0.21919544300404417, -1.0559302345773947, 0.18354579636522608, 0.4299599738630787, 0.4715327089955329, 0.22433403322092066, -0.1701929738564229, 0.014445856319818946, 2.330175451886577, -0.21609523736867256, -0.5204245761177559, 1.2082347022559903, -1.9195601523736994, 1.3945880077314747, 1.3081201387075758, 1.2234110953628672, -0.6835661797158156, 0.0665570043084234, 1.0391744555533386, -0.3358626496463016, -2.185520038306416, 0.9697458944052152, -0.8256122474871528, -2.4315010329769726, 1.0364397277397897, -1.0601026987022133, 0.47461708144820974, -0.07149729774693611, -0.03623067332832536, -0.7925689358905943, 0.05446988307968215, -1.1232572898508344, 0.1025333397910067, 0.9380580646398775, -0.5008529310749313, 0.22070963370902066, -0.17260854167125553, 0.14513281589032356, 1.0009115797078916, 1.0767085963140584, 1.8619219678301797, 0.6927059967250869, 1.5260330868510448, -0.7159896247720254, -0.05972059734144692, -0.034738381460860064, 0.769509319574557, 0.09664500047496385, 0.17691284017859255, 0.2913380396549778, 3.2442405594833392, 0.09229706541266704, -0.03546257696022987, -0.34938427700628666, 0.6033569176275102, 1.2475798627255554, 0.5001313031532152, 1.9895642597593513, -0.33807292400636046, -0.5605564204639819, 0.6281556155426765, -0.7184976978868656, -0.650976788040386, 2.0877308714443354, -0.9259708427825195, 0.04333748186656094, 0.01199626365732882, -1.6807498936986958, -1.2465891925629309, -0.32007399184732765, 0.308979007976214, 1.0172825217514485, 1.5472109178965658, -0.01970792241666245, -0.15925885259453754, 0.5227382852124725, 1.1706056583762108, 0.9581916124363626, -0.7522895783907171, -0.11208433456448406, -0.9643018419154822, -0.718757066862075, -0.8660784391536188, 0.7486710459601194, -0.6770755304839471, -0.0398451971157505, 1.7658834584065866], \"yaxis\": \"y12\"}, {\"line\": {\"color\": \"rgba(128, 128, 128, 1.0)\", \"dash\": \"solid\", \"shape\": \"linear\", \"width\": 1.3}, \"marker\": {\"size\": 2, \"symbol\": \"circle\"}, \"mode\": \"markers\", \"name\": \"D\", \"text\": \"\", \"type\": \"scatter\", \"x\": [-1.2376533429297487, 0.5210312381862134, -1.0251899876913395, 0.45381839892015724, 2.5579020873643423, -2.311096877009032, 1.0848519410157036, 0.14420890327050329, 0.8761771802727409, -0.5599756647759724, 0.8404008962563776, 0.9360487734843175, -1.2159463914906068, 0.4323468127108094, 1.4875276747986366, -1.8104483053725908, 0.7422040304205689, 2.2293211252216603, 0.15632546876214123, 0.4081041805918467, 0.024748436909957674, -0.727628179660839, -0.3139827530211364, 1.7415908205376824, 1.113900769384104, -1.7478092023943117, 0.8140754057060445, 1.1184203301949367, 0.11643679130544002, 0.2413981464536677, -1.8981945923166192, 0.7814782558065474, 0.12346431470248988, -0.5888166641853814, 0.5638242182369565, -0.04966892567279881, -0.8730779045718278, 0.9937635926043222, -0.3111311960754491, -1.2704479991052302, 0.6145906380641518, -2.1080663744544688, 1.162745468298509, -0.40269202904722307, 0.9816818315776701, 1.2766727602932417, -1.1441699855454301, -1.4095882123449281, 1.3445230473814531, 0.983685841697918, -0.4764813243223706, 0.34186207479032177, -1.3617951618631923, -0.5731448087586377, 1.6229372931953945, -1.8760222194164973, 0.2696419215276941, 1.4759084603076527, 1.2932437655688576, 0.14905939922683087, 1.1274399726091413, 1.6653660922881228, 0.9404296495750097, 1.1505947887788583, -1.7013903166322464, -0.3128888538704009, -2.143472785599862, -0.5117941385029973, 0.9973449715984799, -1.28127634682668, 0.5008584141197462, -0.3438551379470671, -1.496632229824434, -1.0196525699126524, 1.788124743162996, -1.0822473860519988, 0.9805588328233438, 2.23743047144731, 0.2129752042080661, 0.6876725100251737, 0.7340280290562036, -0.44115399131713307, -0.6322101548325217, 0.8240049645002243, -0.0012853927734924836, 0.44660590623353075, -0.3231659858707658, -0.33411455762785336, 0.353841423946161, -0.022911915151177333, 0.5704806182719827, 1.9789498254742628, -1.1043229788804343, 1.2443321962668799, 0.4777611949867243, -0.7944342954051479, 1.3535937388032435, -0.5031726594973573, -0.041696531493813985, 0.9618825324128459], \"xaxis\": \"x13\", \"y\": [-0.7465190246535679, -0.9842265335198428, 0.6484868519849506, -0.2068290986541139, -0.5972146382065648, -0.42203985994775345, 0.4182438022494924, -0.5844893364713745, 0.4008201391216312, -1.2290324740235792, -0.7077799251950053, 1.3546704683077024, -0.4542137398712673, 0.9286537367805837, 0.7204594214362593, -0.11513090931528802, 1.785898681462176, 0.5331285314346956, -0.9043265619163633, -0.1766455542300106, -0.17925503814217242, -1.6596633547722228, 1.151024454588053, 0.7778673687567496, -0.7758665090402018, 0.42553540404672163, 1.031283160673017, 0.12935088267708061, 0.44458929024512833, 0.670611397231192, 0.5018091289102423, -1.1522671786913117, 1.2912795022490569, -0.3059485059018095, -0.26411571159650576, 0.6636426362009814, 1.2140670548216517, -0.07319754186549282, -0.9165789670899518, 0.20593572269346777, -0.3700842824416982, -0.4360073333517405, 1.2759262305516617, 0.5377141215864761, -1.9530019130496559, 0.6101031778018651, -0.352198519118916, -0.697576285979983, 0.26770708925037157, 1.2409937264220636, 0.41258996970772266, 0.13388343725704457, 2.455249490594848, -0.7482717412451291, 2.494950245753326, 0.1240787234584336, -0.9643620517005349, -0.23815168028082584, -0.0775435767394758, 1.0150283212803681, 0.8206876352623158, -1.0894916682681155, 0.15579283324393012, 1.904954493351993, 0.16824797197649377, -1.1832948156302867, -0.29249838944876794, 0.8297143690850972, 0.11096598579727883, 0.06953128204261044, -0.023653735031282968, 0.50616814038998, 1.367504719973664, -0.38606360951124746, -1.0568525447619446, 0.9544403682877086, -1.6497546741891913, 1.7750201106488424, 1.341970593068722, 0.26076573393855995, 0.30792210881631815, 0.7994971461282097, -0.40058434870564696, 0.4041167201647333, 1.0017137870891137, 0.07594057552376524, 0.28385027272614305, 0.3463476939117346, -0.2875052370385254, -0.9940447548383856, 0.5148861206683616, 0.20468896487394017, -0.08817635809947569, 0.2896472737276851, 0.011509376050969236, -0.3334735283356169, -1.0690549773155893, -0.6348985590538168, 0.5815282458816182, -0.3538459049139967], \"yaxis\": \"y13\"}, {\"line\": {\"color\": \"rgba(128, 128, 128, 1.0)\", \"dash\": \"solid\", \"shape\": \"linear\", \"width\": 1.3}, \"marker\": {\"size\": 2, \"symbol\": \"circle\"}, \"mode\": \"markers\", \"name\": \"D\", \"text\": \"\", \"type\": \"scatter\", \"x\": [-0.5729984879969171, 0.5909561009580857, -0.6479381979401543, 0.5068431621784943, 0.21022581680114724, -2.035720176553049, -0.48728930433915413, -0.5100542298446442, 1.0746855013944174, -0.03425512643487298, -1.1034087514016049, -0.942789188319332, -0.09798209414877965, -0.75471906104679, 0.5695846791296407, 0.18144063049261203, 0.6755433055426926, 1.6908113005091172, -0.037085297150455485, 0.5093238182228775, 0.4309374328017403, 1.0603891419114981, 0.9600849278946542, 0.41138880181158965, 0.3542988098231076, 0.3793117072240972, -0.32429385709622316, -0.3720488190049271, 0.28700601889218225, -0.4814804689597724, 0.32292724413314056, 1.3750481693772498, 0.375806837908601, 1.0204153020741686, 0.5372488436715573, 0.1630362622470754, -0.37128401061293204, 0.18189386623342524, 1.5443816284277438, -0.5700477904708945, 1.7413818905636158, -1.197416653079403, 0.25236922063720735, -0.8937094378007724, 2.7781482520757224, -0.08022663678328085, 1.2403860792115906, -0.013828930370441302, -0.9348967567711488, -2.225144487840825, -1.2693652149536099, 1.8614425597359745, 0.2543178484847704, -0.9356797873206968, -1.823825627965515, -1.1714380378971925, -0.480426448575434, -0.20624266781744877, 0.339482324534446, 1.097677022740831, -0.5102593440109845, -0.20183972656712482, -0.8960494374584044, -0.5924532644882401, -0.646345965309449, 1.4286394367280775, 1.6501845360404976, 0.511791608963945, 0.4393596006137443, 0.5725738313781439, -0.664265767438522, -0.44164130103306365, 0.6372090453689565, -0.2589300158280436, 1.0894350623522444, 0.26421945331926805, -1.1179733849258793, 0.7729424625201243, -0.6198532415959194, -0.17020060359782097, 0.9341080928874868, 0.24117249940352037, -0.7005627582569318, 0.6582479238215062, -0.0716208850768693, 1.5706154364823148, -0.6497956569183799, 0.5423497355086795, 0.9370286417621064, -0.7308532701982378, 1.508055847158207, 0.9936015984705164, -1.8260543146320227, 0.4892420488884562, 0.9043459424350315, 0.8305425725610729, -1.2589823642833216, -0.7149533393533173, -1.806426117331394, -0.2447907667589656], \"xaxis\": \"x14\", \"y\": [-0.7465190246535679, -0.9842265335198428, 0.6484868519849506, -0.2068290986541139, -0.5972146382065648, -0.42203985994775345, 0.4182438022494924, -0.5844893364713745, 0.4008201391216312, -1.2290324740235792, -0.7077799251950053, 1.3546704683077024, -0.4542137398712673, 0.9286537367805837, 0.7204594214362593, -0.11513090931528802, 1.785898681462176, 0.5331285314346956, -0.9043265619163633, -0.1766455542300106, -0.17925503814217242, -1.6596633547722228, 1.151024454588053, 0.7778673687567496, -0.7758665090402018, 0.42553540404672163, 1.031283160673017, 0.12935088267708061, 0.44458929024512833, 0.670611397231192, 0.5018091289102423, -1.1522671786913117, 1.2912795022490569, -0.3059485059018095, -0.26411571159650576, 0.6636426362009814, 1.2140670548216517, -0.07319754186549282, -0.9165789670899518, 0.20593572269346777, -0.3700842824416982, -0.4360073333517405, 1.2759262305516617, 0.5377141215864761, -1.9530019130496559, 0.6101031778018651, -0.352198519118916, -0.697576285979983, 0.26770708925037157, 1.2409937264220636, 0.41258996970772266, 0.13388343725704457, 2.455249490594848, -0.7482717412451291, 2.494950245753326, 0.1240787234584336, -0.9643620517005349, -0.23815168028082584, -0.0775435767394758, 1.0150283212803681, 0.8206876352623158, -1.0894916682681155, 0.15579283324393012, 1.904954493351993, 0.16824797197649377, -1.1832948156302867, -0.29249838944876794, 0.8297143690850972, 0.11096598579727883, 0.06953128204261044, -0.023653735031282968, 0.50616814038998, 1.367504719973664, -0.38606360951124746, -1.0568525447619446, 0.9544403682877086, -1.6497546741891913, 1.7750201106488424, 1.341970593068722, 0.26076573393855995, 0.30792210881631815, 0.7994971461282097, -0.40058434870564696, 0.4041167201647333, 1.0017137870891137, 0.07594057552376524, 0.28385027272614305, 0.3463476939117346, -0.2875052370385254, -0.9940447548383856, 0.5148861206683616, 0.20468896487394017, -0.08817635809947569, 0.2896472737276851, 0.011509376050969236, -0.3334735283356169, -1.0690549773155893, -0.6348985590538168, 0.5815282458816182, -0.3538459049139967], \"yaxis\": \"y14\"}, {\"line\": {\"color\": \"rgba(128, 128, 128, 1.0)\", \"dash\": \"solid\", \"shape\": \"linear\", \"width\": 1.3}, \"marker\": {\"size\": 2, \"symbol\": \"circle\"}, \"mode\": \"markers\", \"name\": \"D\", \"text\": \"\", \"type\": \"scatter\", \"x\": [1.4805592905566027, 0.0066543752263027965, -1.3286028101500782, -2.3545755391924437, 1.0310993600795264, 1.032122832624549, -0.043810011026179915, 0.9744256797617555, 0.3456701049094342, 0.8423521574656975, 1.433220309184025, -0.8980879999871899, 1.6147623452853943, 0.21919544300404417, -1.0559302345773947, 0.18354579636522608, 0.4299599738630787, 0.4715327089955329, 0.22433403322092066, -0.1701929738564229, 0.014445856319818946, 2.330175451886577, -0.21609523736867256, -0.5204245761177559, 1.2082347022559903, -1.9195601523736994, 1.3945880077314747, 1.3081201387075758, 1.2234110953628672, -0.6835661797158156, 0.0665570043084234, 1.0391744555533386, -0.3358626496463016, -2.185520038306416, 0.9697458944052152, -0.8256122474871528, -2.4315010329769726, 1.0364397277397897, -1.0601026987022133, 0.47461708144820974, -0.07149729774693611, -0.03623067332832536, -0.7925689358905943, 0.05446988307968215, -1.1232572898508344, 0.1025333397910067, 0.9380580646398775, -0.5008529310749313, 0.22070963370902066, -0.17260854167125553, 0.14513281589032356, 1.0009115797078916, 1.0767085963140584, 1.8619219678301797, 0.6927059967250869, 1.5260330868510448, -0.7159896247720254, -0.05972059734144692, -0.034738381460860064, 0.769509319574557, 0.09664500047496385, 0.17691284017859255, 0.2913380396549778, 3.2442405594833392, 0.09229706541266704, -0.03546257696022987, -0.34938427700628666, 0.6033569176275102, 1.2475798627255554, 0.5001313031532152, 1.9895642597593513, -0.33807292400636046, -0.5605564204639819, 0.6281556155426765, -0.7184976978868656, -0.650976788040386, 2.0877308714443354, -0.9259708427825195, 0.04333748186656094, 0.01199626365732882, -1.6807498936986958, -1.2465891925629309, -0.32007399184732765, 0.308979007976214, 1.0172825217514485, 1.5472109178965658, -0.01970792241666245, -0.15925885259453754, 0.5227382852124725, 1.1706056583762108, 0.9581916124363626, -0.7522895783907171, -0.11208433456448406, -0.9643018419154822, -0.718757066862075, -0.8660784391536188, 0.7486710459601194, -0.6770755304839471, -0.0398451971157505, 1.7658834584065866], \"xaxis\": \"x15\", \"y\": [-0.7465190246535679, -0.9842265335198428, 0.6484868519849506, -0.2068290986541139, -0.5972146382065648, -0.42203985994775345, 0.4182438022494924, -0.5844893364713745, 0.4008201391216312, -1.2290324740235792, -0.7077799251950053, 1.3546704683077024, -0.4542137398712673, 0.9286537367805837, 0.7204594214362593, -0.11513090931528802, 1.785898681462176, 0.5331285314346956, -0.9043265619163633, -0.1766455542300106, -0.17925503814217242, -1.6596633547722228, 1.151024454588053, 0.7778673687567496, -0.7758665090402018, 0.42553540404672163, 1.031283160673017, 0.12935088267708061, 0.44458929024512833, 0.670611397231192, 0.5018091289102423, -1.1522671786913117, 1.2912795022490569, -0.3059485059018095, -0.26411571159650576, 0.6636426362009814, 1.2140670548216517, -0.07319754186549282, -0.9165789670899518, 0.20593572269346777, -0.3700842824416982, -0.4360073333517405, 1.2759262305516617, 0.5377141215864761, -1.9530019130496559, 0.6101031778018651, -0.352198519118916, -0.697576285979983, 0.26770708925037157, 1.2409937264220636, 0.41258996970772266, 0.13388343725704457, 2.455249490594848, -0.7482717412451291, 2.494950245753326, 0.1240787234584336, -0.9643620517005349, -0.23815168028082584, -0.0775435767394758, 1.0150283212803681, 0.8206876352623158, -1.0894916682681155, 0.15579283324393012, 1.904954493351993, 0.16824797197649377, -1.1832948156302867, -0.29249838944876794, 0.8297143690850972, 0.11096598579727883, 0.06953128204261044, -0.023653735031282968, 0.50616814038998, 1.367504719973664, -0.38606360951124746, -1.0568525447619446, 0.9544403682877086, -1.6497546741891913, 1.7750201106488424, 1.341970593068722, 0.26076573393855995, 0.30792210881631815, 0.7994971461282097, -0.40058434870564696, 0.4041167201647333, 1.0017137870891137, 0.07594057552376524, 0.28385027272614305, 0.3463476939117346, -0.2875052370385254, -0.9940447548383856, 0.5148861206683616, 0.20468896487394017, -0.08817635809947569, 0.2896472737276851, 0.011509376050969236, -0.3334735283356169, -1.0690549773155893, -0.6348985590538168, 0.5815282458816182, -0.3538459049139967], \"yaxis\": \"y15\"}, {\"histfunc\": \"count\", \"histnorm\": \"\", \"marker\": {\"color\": \"rgba(128, 0, 128, 1.0)\", \"line\": {\"color\": \"#4D5663\", \"width\": 1.3}}, \"name\": \"D\", \"nbinsx\": 10, \"opacity\": 0.8, \"orientation\": \"v\", \"type\": \"histogram\", \"x\": [-0.7465190246535679, -0.9842265335198428, 0.6484868519849506, -0.2068290986541139, -0.5972146382065648, -0.42203985994775345, 0.4182438022494924, -0.5844893364713745, 0.4008201391216312, -1.2290324740235792, -0.7077799251950053, 1.3546704683077024, -0.4542137398712673, 0.9286537367805837, 0.7204594214362593, -0.11513090931528802, 1.785898681462176, 0.5331285314346956, -0.9043265619163633, -0.1766455542300106, -0.17925503814217242, -1.6596633547722228, 1.151024454588053, 0.7778673687567496, -0.7758665090402018, 0.42553540404672163, 1.031283160673017, 0.12935088267708061, 0.44458929024512833, 0.670611397231192, 0.5018091289102423, -1.1522671786913117, 1.2912795022490569, -0.3059485059018095, -0.26411571159650576, 0.6636426362009814, 1.2140670548216517, -0.07319754186549282, -0.9165789670899518, 0.20593572269346777, -0.3700842824416982, -0.4360073333517405, 1.2759262305516617, 0.5377141215864761, -1.9530019130496559, 0.6101031778018651, -0.352198519118916, -0.697576285979983, 0.26770708925037157, 1.2409937264220636, 0.41258996970772266, 0.13388343725704457, 2.455249490594848, -0.7482717412451291, 2.494950245753326, 0.1240787234584336, -0.9643620517005349, -0.23815168028082584, -0.0775435767394758, 1.0150283212803681, 0.8206876352623158, -1.0894916682681155, 0.15579283324393012, 1.904954493351993, 0.16824797197649377, -1.1832948156302867, -0.29249838944876794, 0.8297143690850972, 0.11096598579727883, 0.06953128204261044, -0.023653735031282968, 0.50616814038998, 1.367504719973664, -0.38606360951124746, -1.0568525447619446, 0.9544403682877086, -1.6497546741891913, 1.7750201106488424, 1.341970593068722, 0.26076573393855995, 0.30792210881631815, 0.7994971461282097, -0.40058434870564696, 0.4041167201647333, 1.0017137870891137, 0.07594057552376524, 0.28385027272614305, 0.3463476939117346, -0.2875052370385254, -0.9940447548383856, 0.5148861206683616, 0.20468896487394017, -0.08817635809947569, 0.2896472737276851, 0.011509376050969236, -0.3334735283356169, -1.0690549773155893, -0.6348985590538168, 0.5815282458816182, -0.3538459049139967], \"xaxis\": \"x16\", \"yaxis\": \"y16\"}],                        {\"bargap\": 0.02, \"legend\": {\"bgcolor\": \"#F5F6F9\", \"font\": {\"color\": \"#4D5663\"}}, \"paper_bgcolor\": \"#F5F6F9\", \"plot_bgcolor\": \"#F5F6F9\", \"showlegend\": false, \"template\": {\"data\": {\"bar\": [{\"error_x\": {\"color\": \"#2a3f5f\"}, \"error_y\": {\"color\": \"#2a3f5f\"}, \"marker\": {\"line\": {\"color\": \"#E5ECF6\", \"width\": 0.5}}, \"type\": \"bar\"}], \"barpolar\": [{\"marker\": {\"line\": {\"color\": \"#E5ECF6\", \"width\": 0.5}}, \"type\": \"barpolar\"}], \"carpet\": [{\"aaxis\": {\"endlinecolor\": \"#2a3f5f\", \"gridcolor\": \"white\", \"linecolor\": \"white\", \"minorgridcolor\": \"white\", \"startlinecolor\": \"#2a3f5f\"}, \"baxis\": {\"endlinecolor\": \"#2a3f5f\", \"gridcolor\": \"white\", \"linecolor\": \"white\", \"minorgridcolor\": \"white\", \"startlinecolor\": \"#2a3f5f\"}, \"type\": \"carpet\"}], \"choropleth\": [{\"colorbar\": {\"outlinewidth\": 0, \"ticks\": \"\"}, \"type\": \"choropleth\"}], \"contour\": [{\"colorbar\": {\"outlinewidth\": 0, \"ticks\": \"\"}, \"colorscale\": [[0.0, \"#0d0887\"], [0.1111111111111111, \"#46039f\"], [0.2222222222222222, \"#7201a8\"], [0.3333333333333333, \"#9c179e\"], [0.4444444444444444, \"#bd3786\"], [0.5555555555555556, \"#d8576b\"], [0.6666666666666666, \"#ed7953\"], [0.7777777777777778, \"#fb9f3a\"], [0.8888888888888888, \"#fdca26\"], [1.0, \"#f0f921\"]], \"type\": \"contour\"}], \"contourcarpet\": [{\"colorbar\": {\"outlinewidth\": 0, \"ticks\": \"\"}, \"type\": \"contourcarpet\"}], \"heatmap\": [{\"colorbar\": {\"outlinewidth\": 0, \"ticks\": \"\"}, \"colorscale\": [[0.0, \"#0d0887\"], [0.1111111111111111, \"#46039f\"], [0.2222222222222222, \"#7201a8\"], [0.3333333333333333, \"#9c179e\"], [0.4444444444444444, \"#bd3786\"], [0.5555555555555556, \"#d8576b\"], [0.6666666666666666, \"#ed7953\"], [0.7777777777777778, \"#fb9f3a\"], [0.8888888888888888, \"#fdca26\"], [1.0, \"#f0f921\"]], \"type\": \"heatmap\"}], \"heatmapgl\": [{\"colorbar\": {\"outlinewidth\": 0, \"ticks\": \"\"}, \"colorscale\": [[0.0, \"#0d0887\"], [0.1111111111111111, \"#46039f\"], [0.2222222222222222, \"#7201a8\"], [0.3333333333333333, \"#9c179e\"], [0.4444444444444444, \"#bd3786\"], [0.5555555555555556, \"#d8576b\"], [0.6666666666666666, \"#ed7953\"], [0.7777777777777778, \"#fb9f3a\"], [0.8888888888888888, \"#fdca26\"], [1.0, \"#f0f921\"]], \"type\": \"heatmapgl\"}], \"histogram\": [{\"marker\": {\"colorbar\": {\"outlinewidth\": 0, \"ticks\": \"\"}}, \"type\": \"histogram\"}], \"histogram2d\": [{\"colorbar\": {\"outlinewidth\": 0, \"ticks\": \"\"}, \"colorscale\": [[0.0, \"#0d0887\"], [0.1111111111111111, \"#46039f\"], [0.2222222222222222, \"#7201a8\"], [0.3333333333333333, \"#9c179e\"], [0.4444444444444444, \"#bd3786\"], [0.5555555555555556, \"#d8576b\"], [0.6666666666666666, \"#ed7953\"], [0.7777777777777778, \"#fb9f3a\"], [0.8888888888888888, \"#fdca26\"], [1.0, \"#f0f921\"]], \"type\": \"histogram2d\"}], \"histogram2dcontour\": [{\"colorbar\": {\"outlinewidth\": 0, \"ticks\": \"\"}, \"colorscale\": [[0.0, \"#0d0887\"], [0.1111111111111111, \"#46039f\"], [0.2222222222222222, \"#7201a8\"], [0.3333333333333333, \"#9c179e\"], [0.4444444444444444, \"#bd3786\"], [0.5555555555555556, \"#d8576b\"], [0.6666666666666666, \"#ed7953\"], [0.7777777777777778, \"#fb9f3a\"], [0.8888888888888888, \"#fdca26\"], [1.0, \"#f0f921\"]], \"type\": \"histogram2dcontour\"}], \"mesh3d\": [{\"colorbar\": {\"outlinewidth\": 0, \"ticks\": \"\"}, \"type\": \"mesh3d\"}], \"parcoords\": [{\"line\": {\"colorbar\": {\"outlinewidth\": 0, \"ticks\": \"\"}}, \"type\": \"parcoords\"}], \"pie\": [{\"automargin\": true, \"type\": \"pie\"}], \"scatter\": [{\"marker\": {\"colorbar\": {\"outlinewidth\": 0, \"ticks\": \"\"}}, \"type\": \"scatter\"}], \"scatter3d\": [{\"line\": {\"colorbar\": {\"outlinewidth\": 0, \"ticks\": \"\"}}, \"marker\": {\"colorbar\": {\"outlinewidth\": 0, \"ticks\": \"\"}}, \"type\": \"scatter3d\"}], \"scattercarpet\": [{\"marker\": {\"colorbar\": {\"outlinewidth\": 0, \"ticks\": \"\"}}, \"type\": \"scattercarpet\"}], \"scattergeo\": [{\"marker\": {\"colorbar\": {\"outlinewidth\": 0, \"ticks\": \"\"}}, \"type\": \"scattergeo\"}], \"scattergl\": [{\"marker\": {\"colorbar\": {\"outlinewidth\": 0, \"ticks\": \"\"}}, \"type\": \"scattergl\"}], \"scattermapbox\": [{\"marker\": {\"colorbar\": {\"outlinewidth\": 0, \"ticks\": \"\"}}, \"type\": \"scattermapbox\"}], \"scatterpolar\": [{\"marker\": {\"colorbar\": {\"outlinewidth\": 0, \"ticks\": \"\"}}, \"type\": \"scatterpolar\"}], \"scatterpolargl\": [{\"marker\": {\"colorbar\": {\"outlinewidth\": 0, \"ticks\": \"\"}}, \"type\": \"scatterpolargl\"}], \"scatterternary\": [{\"marker\": {\"colorbar\": {\"outlinewidth\": 0, \"ticks\": \"\"}}, \"type\": \"scatterternary\"}], \"surface\": [{\"colorbar\": {\"outlinewidth\": 0, \"ticks\": \"\"}, \"colorscale\": [[0.0, \"#0d0887\"], [0.1111111111111111, \"#46039f\"], [0.2222222222222222, \"#7201a8\"], [0.3333333333333333, \"#9c179e\"], [0.4444444444444444, \"#bd3786\"], [0.5555555555555556, \"#d8576b\"], [0.6666666666666666, \"#ed7953\"], [0.7777777777777778, \"#fb9f3a\"], [0.8888888888888888, \"#fdca26\"], [1.0, \"#f0f921\"]], \"type\": \"surface\"}], \"table\": [{\"cells\": {\"fill\": {\"color\": \"#EBF0F8\"}, \"line\": {\"color\": \"white\"}}, \"header\": {\"fill\": {\"color\": \"#C8D4E3\"}, \"line\": {\"color\": \"white\"}}, \"type\": \"table\"}]}, \"layout\": {\"annotationdefaults\": {\"arrowcolor\": \"#2a3f5f\", \"arrowhead\": 0, \"arrowwidth\": 1}, \"autotypenumbers\": \"strict\", \"coloraxis\": {\"colorbar\": {\"outlinewidth\": 0, \"ticks\": \"\"}}, \"colorscale\": {\"diverging\": [[0, \"#8e0152\"], [0.1, \"#c51b7d\"], [0.2, \"#de77ae\"], [0.3, \"#f1b6da\"], [0.4, \"#fde0ef\"], [0.5, \"#f7f7f7\"], [0.6, \"#e6f5d0\"], [0.7, \"#b8e186\"], [0.8, \"#7fbc41\"], [0.9, \"#4d9221\"], [1, \"#276419\"]], \"sequential\": [[0.0, \"#0d0887\"], [0.1111111111111111, \"#46039f\"], [0.2222222222222222, \"#7201a8\"], [0.3333333333333333, \"#9c179e\"], [0.4444444444444444, \"#bd3786\"], [0.5555555555555556, \"#d8576b\"], [0.6666666666666666, \"#ed7953\"], [0.7777777777777778, \"#fb9f3a\"], [0.8888888888888888, \"#fdca26\"], [1.0, \"#f0f921\"]], \"sequentialminus\": [[0.0, \"#0d0887\"], [0.1111111111111111, \"#46039f\"], [0.2222222222222222, \"#7201a8\"], [0.3333333333333333, \"#9c179e\"], [0.4444444444444444, \"#bd3786\"], [0.5555555555555556, \"#d8576b\"], [0.6666666666666666, \"#ed7953\"], [0.7777777777777778, \"#fb9f3a\"], [0.8888888888888888, \"#fdca26\"], [1.0, \"#f0f921\"]]}, \"colorway\": [\"#636efa\", \"#EF553B\", \"#00cc96\", \"#ab63fa\", \"#FFA15A\", \"#19d3f3\", \"#FF6692\", \"#B6E880\", \"#FF97FF\", \"#FECB52\"], \"font\": {\"color\": \"#2a3f5f\"}, \"geo\": {\"bgcolor\": \"white\", \"lakecolor\": \"white\", \"landcolor\": \"#E5ECF6\", \"showlakes\": true, \"showland\": true, \"subunitcolor\": \"white\"}, \"hoverlabel\": {\"align\": \"left\"}, \"hovermode\": \"closest\", \"mapbox\": {\"style\": \"light\"}, \"paper_bgcolor\": \"white\", \"plot_bgcolor\": \"#E5ECF6\", \"polar\": {\"angularaxis\": {\"gridcolor\": \"white\", \"linecolor\": \"white\", \"ticks\": \"\"}, \"bgcolor\": \"#E5ECF6\", \"radialaxis\": {\"gridcolor\": \"white\", \"linecolor\": \"white\", \"ticks\": \"\"}}, \"scene\": {\"xaxis\": {\"backgroundcolor\": \"#E5ECF6\", \"gridcolor\": \"white\", \"gridwidth\": 2, \"linecolor\": \"white\", \"showbackground\": true, \"ticks\": \"\", \"zerolinecolor\": \"white\"}, \"yaxis\": {\"backgroundcolor\": \"#E5ECF6\", \"gridcolor\": \"white\", \"gridwidth\": 2, \"linecolor\": \"white\", \"showbackground\": true, \"ticks\": \"\", \"zerolinecolor\": \"white\"}, \"zaxis\": {\"backgroundcolor\": \"#E5ECF6\", \"gridcolor\": \"white\", \"gridwidth\": 2, \"linecolor\": \"white\", \"showbackground\": true, \"ticks\": \"\", \"zerolinecolor\": \"white\"}}, \"shapedefaults\": {\"line\": {\"color\": \"#2a3f5f\"}}, \"ternary\": {\"aaxis\": {\"gridcolor\": \"white\", \"linecolor\": \"white\", \"ticks\": \"\"}, \"baxis\": {\"gridcolor\": \"white\", \"linecolor\": \"white\", \"ticks\": \"\"}, \"bgcolor\": \"#E5ECF6\", \"caxis\": {\"gridcolor\": \"white\", \"linecolor\": \"white\", \"ticks\": \"\"}}, \"title\": {\"x\": 0.05}, \"xaxis\": {\"automargin\": true, \"gridcolor\": \"white\", \"linecolor\": \"white\", \"ticks\": \"\", \"title\": {\"standoff\": 15}, \"zerolinecolor\": \"white\", \"zerolinewidth\": 2}, \"yaxis\": {\"automargin\": true, \"gridcolor\": \"white\", \"linecolor\": \"white\", \"ticks\": \"\", \"title\": {\"standoff\": 15}, \"zerolinecolor\": \"white\", \"zerolinewidth\": 2}}}, \"title\": {\"font\": {\"color\": \"#4D5663\"}}, \"xaxis\": {\"anchor\": \"y\", \"domain\": [0.0, 0.2125], \"gridcolor\": \"#E1E5ED\", \"showgrid\": false, \"tickfont\": {\"color\": \"#4D5663\"}, \"title\": {\"font\": {\"color\": \"#4D5663\"}, \"text\": \"\"}, \"zerolinecolor\": \"#E1E5ED\"}, \"xaxis10\": {\"anchor\": \"y10\", \"domain\": [0.2625, 0.475], \"gridcolor\": \"#E1E5ED\", \"showgrid\": false, \"tickfont\": {\"color\": \"#4D5663\"}, \"title\": {\"font\": {\"color\": \"#4D5663\"}, \"text\": \"\"}, \"zerolinecolor\": \"#E1E5ED\"}, \"xaxis11\": {\"anchor\": \"y11\", \"domain\": [0.525, 0.7375], \"gridcolor\": \"#E1E5ED\", \"showgrid\": false, \"tickfont\": {\"color\": \"#4D5663\"}, \"title\": {\"font\": {\"color\": \"#4D5663\"}, \"text\": \"\"}, \"zerolinecolor\": \"#E1E5ED\"}, \"xaxis12\": {\"anchor\": \"y12\", \"domain\": [0.7875, 1.0], \"gridcolor\": \"#E1E5ED\", \"showgrid\": false, \"tickfont\": {\"color\": \"#4D5663\"}, \"title\": {\"font\": {\"color\": \"#4D5663\"}, \"text\": \"\"}, \"zerolinecolor\": \"#E1E5ED\"}, \"xaxis13\": {\"anchor\": \"y13\", \"domain\": [0.0, 0.2125], \"gridcolor\": \"#E1E5ED\", \"showgrid\": false, \"tickfont\": {\"color\": \"#4D5663\"}, \"title\": {\"font\": {\"color\": \"#4D5663\"}, \"text\": \"\"}, \"zerolinecolor\": \"#E1E5ED\"}, \"xaxis14\": {\"anchor\": \"y14\", \"domain\": [0.2625, 0.475], \"gridcolor\": \"#E1E5ED\", \"showgrid\": false, \"tickfont\": {\"color\": \"#4D5663\"}, \"title\": {\"font\": {\"color\": \"#4D5663\"}, \"text\": \"\"}, \"zerolinecolor\": \"#E1E5ED\"}, \"xaxis15\": {\"anchor\": \"y15\", \"domain\": [0.525, 0.7375], \"gridcolor\": \"#E1E5ED\", \"showgrid\": false, \"tickfont\": {\"color\": \"#4D5663\"}, \"title\": {\"font\": {\"color\": \"#4D5663\"}, \"text\": \"\"}, \"zerolinecolor\": \"#E1E5ED\"}, \"xaxis16\": {\"anchor\": \"y16\", \"domain\": [0.7875, 1.0], \"gridcolor\": \"#E1E5ED\", \"showgrid\": false, \"tickfont\": {\"color\": \"#4D5663\"}, \"title\": {\"font\": {\"color\": \"#4D5663\"}, \"text\": \"\"}, \"zerolinecolor\": \"#E1E5ED\"}, \"xaxis2\": {\"anchor\": \"y2\", \"domain\": [0.2625, 0.475], \"gridcolor\": \"#E1E5ED\", \"showgrid\": false, \"tickfont\": {\"color\": \"#4D5663\"}, \"title\": {\"font\": {\"color\": \"#4D5663\"}, \"text\": \"\"}, \"zerolinecolor\": \"#E1E5ED\"}, \"xaxis3\": {\"anchor\": \"y3\", \"domain\": [0.525, 0.7375], \"gridcolor\": \"#E1E5ED\", \"showgrid\": false, \"tickfont\": {\"color\": \"#4D5663\"}, \"title\": {\"font\": {\"color\": \"#4D5663\"}, \"text\": \"\"}, \"zerolinecolor\": \"#E1E5ED\"}, \"xaxis4\": {\"anchor\": \"y4\", \"domain\": [0.7875, 1.0], \"gridcolor\": \"#E1E5ED\", \"showgrid\": false, \"tickfont\": {\"color\": \"#4D5663\"}, \"title\": {\"font\": {\"color\": \"#4D5663\"}, \"text\": \"\"}, \"zerolinecolor\": \"#E1E5ED\"}, \"xaxis5\": {\"anchor\": \"y5\", \"domain\": [0.0, 0.2125], \"gridcolor\": \"#E1E5ED\", \"showgrid\": false, \"tickfont\": {\"color\": \"#4D5663\"}, \"title\": {\"font\": {\"color\": \"#4D5663\"}, \"text\": \"\"}, \"zerolinecolor\": \"#E1E5ED\"}, \"xaxis6\": {\"anchor\": \"y6\", \"domain\": [0.2625, 0.475], \"gridcolor\": \"#E1E5ED\", \"showgrid\": false, \"tickfont\": {\"color\": \"#4D5663\"}, \"title\": {\"font\": {\"color\": \"#4D5663\"}, \"text\": \"\"}, \"zerolinecolor\": \"#E1E5ED\"}, \"xaxis7\": {\"anchor\": \"y7\", \"domain\": [0.525, 0.7375], \"gridcolor\": \"#E1E5ED\", \"showgrid\": false, \"tickfont\": {\"color\": \"#4D5663\"}, \"title\": {\"font\": {\"color\": \"#4D5663\"}, \"text\": \"\"}, \"zerolinecolor\": \"#E1E5ED\"}, \"xaxis8\": {\"anchor\": \"y8\", \"domain\": [0.7875, 1.0], \"gridcolor\": \"#E1E5ED\", \"showgrid\": false, \"tickfont\": {\"color\": \"#4D5663\"}, \"title\": {\"font\": {\"color\": \"#4D5663\"}, \"text\": \"\"}, \"zerolinecolor\": \"#E1E5ED\"}, \"xaxis9\": {\"anchor\": \"y9\", \"domain\": [0.0, 0.2125], \"gridcolor\": \"#E1E5ED\", \"showgrid\": false, \"tickfont\": {\"color\": \"#4D5663\"}, \"title\": {\"font\": {\"color\": \"#4D5663\"}, \"text\": \"\"}, \"zerolinecolor\": \"#E1E5ED\"}, \"yaxis\": {\"anchor\": \"x\", \"domain\": [0.8025, 1.0], \"gridcolor\": \"#E1E5ED\", \"showgrid\": false, \"tickfont\": {\"color\": \"#4D5663\"}, \"title\": {\"font\": {\"color\": \"#4D5663\"}, \"text\": \"\"}, \"zerolinecolor\": \"#E1E5ED\"}, \"yaxis10\": {\"anchor\": \"x10\", \"domain\": [0.2675, 0.465], \"gridcolor\": \"#E1E5ED\", \"showgrid\": false, \"tickfont\": {\"color\": \"#4D5663\"}, \"title\": {\"font\": {\"color\": \"#4D5663\"}, \"text\": \"\"}, \"zerolinecolor\": \"#E1E5ED\"}, \"yaxis11\": {\"anchor\": \"x11\", \"domain\": [0.2675, 0.465], \"gridcolor\": \"#E1E5ED\", \"showgrid\": false, \"tickfont\": {\"color\": \"#4D5663\"}, \"title\": {\"font\": {\"color\": \"#4D5663\"}, \"text\": \"\"}, \"zerolinecolor\": \"#E1E5ED\"}, \"yaxis12\": {\"anchor\": \"x12\", \"domain\": [0.2675, 0.465], \"gridcolor\": \"#E1E5ED\", \"showgrid\": false, \"tickfont\": {\"color\": \"#4D5663\"}, \"title\": {\"font\": {\"color\": \"#4D5663\"}, \"text\": \"\"}, \"zerolinecolor\": \"#E1E5ED\"}, \"yaxis13\": {\"anchor\": \"x13\", \"domain\": [0.0, 0.1975], \"gridcolor\": \"#E1E5ED\", \"showgrid\": false, \"tickfont\": {\"color\": \"#4D5663\"}, \"title\": {\"font\": {\"color\": \"#4D5663\"}, \"text\": \"\"}, \"zerolinecolor\": \"#E1E5ED\"}, \"yaxis14\": {\"anchor\": \"x14\", \"domain\": [0.0, 0.1975], \"gridcolor\": \"#E1E5ED\", \"showgrid\": false, \"tickfont\": {\"color\": \"#4D5663\"}, \"title\": {\"font\": {\"color\": \"#4D5663\"}, \"text\": \"\"}, \"zerolinecolor\": \"#E1E5ED\"}, \"yaxis15\": {\"anchor\": \"x15\", \"domain\": [0.0, 0.1975], \"gridcolor\": \"#E1E5ED\", \"showgrid\": false, \"tickfont\": {\"color\": \"#4D5663\"}, \"title\": {\"font\": {\"color\": \"#4D5663\"}, \"text\": \"\"}, \"zerolinecolor\": \"#E1E5ED\"}, \"yaxis16\": {\"anchor\": \"x16\", \"domain\": [0.0, 0.1975], \"gridcolor\": \"#E1E5ED\", \"showgrid\": false, \"tickfont\": {\"color\": \"#4D5663\"}, \"title\": {\"font\": {\"color\": \"#4D5663\"}, \"text\": \"\"}, \"zerolinecolor\": \"#E1E5ED\"}, \"yaxis2\": {\"anchor\": \"x2\", \"domain\": [0.8025, 1.0], \"gridcolor\": \"#E1E5ED\", \"showgrid\": false, \"tickfont\": {\"color\": \"#4D5663\"}, \"title\": {\"font\": {\"color\": \"#4D5663\"}, \"text\": \"\"}, \"zerolinecolor\": \"#E1E5ED\"}, \"yaxis3\": {\"anchor\": \"x3\", \"domain\": [0.8025, 1.0], \"gridcolor\": \"#E1E5ED\", \"showgrid\": false, \"tickfont\": {\"color\": \"#4D5663\"}, \"title\": {\"font\": {\"color\": \"#4D5663\"}, \"text\": \"\"}, \"zerolinecolor\": \"#E1E5ED\"}, \"yaxis4\": {\"anchor\": \"x4\", \"domain\": [0.8025, 1.0], \"gridcolor\": \"#E1E5ED\", \"showgrid\": false, \"tickfont\": {\"color\": \"#4D5663\"}, \"title\": {\"font\": {\"color\": \"#4D5663\"}, \"text\": \"\"}, \"zerolinecolor\": \"#E1E5ED\"}, \"yaxis5\": {\"anchor\": \"x5\", \"domain\": [0.535, 0.7325], \"gridcolor\": \"#E1E5ED\", \"showgrid\": false, \"tickfont\": {\"color\": \"#4D5663\"}, \"title\": {\"font\": {\"color\": \"#4D5663\"}, \"text\": \"\"}, \"zerolinecolor\": \"#E1E5ED\"}, \"yaxis6\": {\"anchor\": \"x6\", \"domain\": [0.535, 0.7325], \"gridcolor\": \"#E1E5ED\", \"showgrid\": false, \"tickfont\": {\"color\": \"#4D5663\"}, \"title\": {\"font\": {\"color\": \"#4D5663\"}, \"text\": \"\"}, \"zerolinecolor\": \"#E1E5ED\"}, \"yaxis7\": {\"anchor\": \"x7\", \"domain\": [0.535, 0.7325], \"gridcolor\": \"#E1E5ED\", \"showgrid\": false, \"tickfont\": {\"color\": \"#4D5663\"}, \"title\": {\"font\": {\"color\": \"#4D5663\"}, \"text\": \"\"}, \"zerolinecolor\": \"#E1E5ED\"}, \"yaxis8\": {\"anchor\": \"x8\", \"domain\": [0.535, 0.7325], \"gridcolor\": \"#E1E5ED\", \"showgrid\": false, \"tickfont\": {\"color\": \"#4D5663\"}, \"title\": {\"font\": {\"color\": \"#4D5663\"}, \"text\": \"\"}, \"zerolinecolor\": \"#E1E5ED\"}, \"yaxis9\": {\"anchor\": \"x9\", \"domain\": [0.2675, 0.465], \"gridcolor\": \"#E1E5ED\", \"showgrid\": false, \"tickfont\": {\"color\": \"#4D5663\"}, \"title\": {\"font\": {\"color\": \"#4D5663\"}, \"text\": \"\"}, \"zerolinecolor\": \"#E1E5ED\"}},                        {\"showLink\": true, \"linkText\": \"Export to plot.ly\", \"plotlyServerURL\": \"https://plot.ly\", \"responsive\": true}                    ).then(function(){\n",
       "                            \n",
       "var gd = document.getElementById('cde195ce-c660-44a6-8cac-2f52ed72e0b6');\n",
       "var x = new MutationObserver(function (mutations, observer) {{\n",
       "        var display = window.getComputedStyle(gd).display;\n",
       "        if (!display || display === 'none') {{\n",
       "            console.log([gd, 'removed!']);\n",
       "            Plotly.purge(gd);\n",
       "            observer.disconnect();\n",
       "        }}\n",
       "}});\n",
       "\n",
       "// Listen for the removal of the full notebook cells\n",
       "var notebookContainer = gd.closest('#notebook-container');\n",
       "if (notebookContainer) {{\n",
       "    x.observe(notebookContainer, {childList: true});\n",
       "}}\n",
       "\n",
       "// Listen for the clearing of the current output cell\n",
       "var outputEl = gd.closest('.output');\n",
       "if (outputEl) {{\n",
       "    x.observe(outputEl, {childList: true});\n",
       "}}\n",
       "\n",
       "                        })                };                });            </script>        </div>"
      ]
     },
     "metadata": {},
     "output_type": "display_data"
    }
   ],
   "source": [
    "df.scatter_matrix()"
   ]
  },
  {
   "cell_type": "code",
   "execution_count": null,
   "metadata": {},
   "outputs": [],
   "source": []
  }
 ],
 "metadata": {
  "kernelspec": {
   "display_name": "Python 3",
   "language": "python",
   "name": "python3"
  },
  "language_info": {
   "codemirror_mode": {
    "name": "ipython",
    "version": 3
   },
   "file_extension": ".py",
   "mimetype": "text/x-python",
   "name": "python",
   "nbconvert_exporter": "python",
   "pygments_lexer": "ipython3",
   "version": "3.6.5"
  }
 },
 "nbformat": 4,
 "nbformat_minor": 2
}
